{
 "cells": [
  {
   "cell_type": "markdown",
   "metadata": {},
   "source": [
    "## リウェイティング"
   ]
  },
  {
   "cell_type": "code",
   "execution_count": 22,
   "metadata": {},
   "outputs": [],
   "source": [
    "import numpy as np\n",
    "import scipy.stats as stats\n",
    "import matplotlib.pyplot as plt\n",
    "import matplotlib.ticker as ptick\n",
    "from IPython.core.pylabtools import figsize\n",
    "import math\n",
    "\n",
    "plt.style.use('ggplot')"
   ]
  },
  {
   "cell_type": "code",
   "execution_count": 23,
   "metadata": {},
   "outputs": [
    {
     "name": "stdout",
     "output_type": "stream",
     "text": [
      "10 \t 10\n"
     ]
    },
    {
     "data": {
      "image/png": "[encoded data removed]",
      "text/plain": [
       "<matplotlib.figure.Figure at 0x2b7254032b0>"
      ]
     },
     "metadata": {},
     "output_type": "display_data"
    }
   ],
   "source": [
    "data_file = 'TAP_artificial_data_De=1.5_ka=20_kd=5_sigma=5e-6_1-10^4ms.dat'\n",
    "data_points = 10\n",
    "epsilon = 1.0\n",
    "length = 35.0\n",
    "\n",
    "def p_n(n):\n",
    "    return (n+0.5)*np.pi\n",
    "\n",
    "def r_plus(p_n, k_a, k_d):\n",
    "    return ( -(p_n**2 + k_a + k_d)+np.sqrt((p_n**2 + k_a + k_d)**2 - 4*(p_n**2)*k_d) )/2.0\n",
    "\n",
    "def r_minus(p_n, k_a, k_d):\n",
    "    return ( -(p_n**2 + k_a + k_d)-np.sqrt((p_n**2 + k_a + k_d)**2 - 4*(p_n**2)*k_d) )/2.0\n",
    "\n",
    "def A_n(p_n, r_plus, r_minus, k_a):\n",
    "    return (r_plus + (p_n**2) + k_a)/(r_plus - r_minus)\n",
    "\n",
    "def Flow(diffusivity, k_a, k_d, epsilon, length, time):\n",
    "    dimensionless_time = time * diffusivity/(epsilon*length**2)\n",
    "    r_flow = np.zeros(len(time))\n",
    "    for n in range(100):\n",
    "        pn = p_n(n); r_p = r_plus(p_n=pn, k_a=k_a, k_d=k_d); r_m = r_minus(p_n=pn, k_a=k_a, k_d=k_d)\n",
    "        A = A_n(p_n=pn, r_plus=r_p, r_minus=r_m, k_a=k_a)\n",
    "        r_flow += np.power(-1.0,n)*(2.0*n+1.0)*( A*np.exp(r_m*dimensionless_time)+(1.0-A)*np.exp(r_p*dimensionless_time) )\n",
    "    r_flow *= np.pi\n",
    "    r_flow *= diffusivity/(epsilon*np.power(length, 2))\n",
    "\n",
    "    return r_flow\n",
    "\n",
    "dimensional_time = np.zeros(data_points)\n",
    "dimensional_exit_flow = np.zeros(data_points)\n",
    "i = 0\n",
    "j = 0\n",
    "for line in open(data_file, \"r\"):\n",
    "    if i%(10000/data_points)==0:\n",
    "        data = line.split(\"\\t\")\n",
    "        dimensional_time[j] = data[0]\n",
    "        dimensional_exit_flow[j] = data[1]\n",
    "        j += 1\n",
    "    else:\n",
    "        pass\n",
    "    i += 1\n",
    "\n",
    "print(len(dimensional_time), \"\\t\", len(dimensional_exit_flow))\n",
    "\n",
    "fig = plt.figure()\n",
    "ax = fig.add_subplot(111)\n",
    "ax.plot(dimensional_time, dimensional_exit_flow)\n",
    "\n",
    "ax.set_xlabel('Dimensional Time[ms]')\n",
    "ax.set_ylabel('Dimensional Exit Flow[1/ms]')\n",
    "\n",
    "plt.show()"
   ]
  },
  {
   "cell_type": "code",
   "execution_count": 24,
   "metadata": {},
   "outputs": [],
   "source": [
    "def file_output_one(file, T, model):\n",
    "    \n",
    "    diffusivity_0 = np.zeros([model.shape[0], T])\n",
    "    diffusivity_1 = np.zeros([model.shape[0], T])\n",
    "    k_a = np.zeros([model.shape[0], T])\n",
    "    k_d = np.zeros([model.shape[0], T])\n",
    "    sigma_0 = np.zeros([model.shape[0], T])\n",
    "    E = np.zeros([model.shape[0], T])\n",
    "\n",
    "    dlogp = np.zeros([model.shape[0], T])\n",
    "    \n",
    "    pick = np.zeros([model.shape[0], 5])\n",
    "    update = np.zeros([model.shape[0], 5])\n",
    "    exchange_rate = np.zeros(model.shape[0]-1)\n",
    "    \n",
    "    l = 0; m = 0; t = 0; m_ = 0\n",
    "    for line in open(file, \"r\"):\n",
    "        data = line.split(\"\\t\")\n",
    "        try :\n",
    "            tmp = float(data[0])\n",
    "            if 3<=l<=model.shape[0]+2:\n",
    "                for i in range(5):\n",
    "                    pick[m_, i] = float(data[i])\n",
    "                m_ += 1\n",
    "            elif (model.shape[0]+5)<=l<=(2*model.shape[0]+4):\n",
    "                for i in range(5):\n",
    "                    update[m_, i] = float(data[i])\n",
    "                m_ += 1\n",
    "            elif l==(2*model.shape[0]+7):\n",
    "                for i in range(model.shape[0]-1):\n",
    "                    exchange_rate[i] = float(data[i])\n",
    "            else:\n",
    "                diffusivity_0[m, t] = data[0]\n",
    "                diffusivity_1[m, t] = data[1]\n",
    "                k_a[m, t] = data[2]\n",
    "                k_d[m, t] = data[3]\n",
    "                sigma_0[m, t] = data[4]\n",
    "                E[m, t] = data[5]\n",
    "                dlogp[m, t] = data[6]\n",
    "                t += 1\n",
    "        except :\n",
    "            pass\n",
    "        else :\n",
    "            if t==T:\n",
    "                m += 1\n",
    "                t = 0\n",
    "            if m_==model.shape[0]:\n",
    "                m_ = 0\n",
    "        finally :\n",
    "            l += 1\n",
    "            \n",
    "    return diffusivity_0, diffusivity_1, k_a, k_d, sigma_0, E, dlogp, pick, update, exchange_rate"
   ]
  },
  {
   "cell_type": "code",
   "execution_count": 25,
   "metadata": {},
   "outputs": [],
   "source": [
    "def file_output_two(file, T, model):\n",
    "    \n",
    "    diffusivity_0 = np.zeros([model.shape[0], T])\n",
    "    diffusivity_1 = np.zeros([model.shape[0], T])\n",
    "    k_a = np.zeros([model.shape[0], T])\n",
    "    k_d = np.zeros([model.shape[0], T])\n",
    "    sigma_0 = np.zeros([model.shape[0], T])\n",
    "    E = np.zeros([model.shape[0], T])\n",
    "\n",
    "    dlogp = np.zeros([model.shape[0], T])\n",
    "    \n",
    "    pick = np.zeros([model.shape[0], 5])\n",
    "    update = np.zeros([model.shape[0], 5])\n",
    "    exchange_rate = np.zeros(model.shape[0]-1)\n",
    "    \n",
    "    l = 0; m = 0; t = 0; m_ = 0\n",
    "    for line in open(file, \"r\"):\n",
    "        data = line.split(\"\\t\")\n",
    "        try :\n",
    "            tmp = float(data[0])\n",
    "            if 4<=l<=model.shape[0]+3:\n",
    "                for i in range(5):\n",
    "                    pick[m_, i] = float(data[i])\n",
    "                m_ += 1\n",
    "            elif (model.shape[0]+6)<=l<=(2*model.shape[0]+5):\n",
    "                for i in range(5):\n",
    "                    update[m_, i] = float(data[i])\n",
    "                m_ += 1\n",
    "            elif l==(2*model.shape[0]+8):\n",
    "                for i in range(model.shape[0]-1):\n",
    "                    exchange_rate[i] = float(data[i])\n",
    "            else:\n",
    "                diffusivity_0[m, t] = data[0]\n",
    "                diffusivity_1[m, t] = data[1]\n",
    "                k_a[m, t] = data[2]\n",
    "                k_d[m, t] = data[3]\n",
    "                sigma_0[m, t] = data[4]\n",
    "                E[m, t] = data[5]\n",
    "                dlogp[m, t] = data[6]\n",
    "                t += 1\n",
    "        except :\n",
    "            pass\n",
    "        else :\n",
    "            if t==T:\n",
    "                m += 1\n",
    "                t = 0\n",
    "            if m_==model.shape[0]:\n",
    "                m_ = 0\n",
    "        finally :\n",
    "            l += 1\n",
    "            \n",
    "    return diffusivity_0, diffusivity_1, k_a, k_d, sigma_0, E, dlogp, pick, update, exchange_rate"
   ]
  },
  {
   "cell_type": "code",
   "execution_count": 26,
   "metadata": {},
   "outputs": [],
   "source": [
    "def energy(model, diffusivity_0, diffusivity_1, k_a, k_d, std,\n",
    "           epsilon=epsilon, length=length, \n",
    "           time=dimensional_time, artificial_flow=dimensional_exit_flow):\n",
    "    \n",
    "    Energy = np.square(artificial_flow - ((1.-model)*Flow(diffusivity=diffusivity_0,\n",
    "                                                     k_a=0., k_d=0.,\n",
    "                                                     epsilon=epsilon, length=length, \n",
    "                                                     time=time) + \\\n",
    "                                          model*Flow(diffusivity=diffusivity_1,\n",
    "                                                     k_a=k_a, k_d=k_d, \n",
    "                                                     epsilon=epsilon, length=length, \n",
    "                                                     time=time))\n",
    "                      ).sum()\n",
    "    \n",
    "    Energy *= 1./(2.*std**2)\n",
    "    Energy += (time.shape[0]/2.) * np.log(2.*np.pi*std**2) \n",
    "    \n",
    "    return Energy\n",
    "\n",
    "\n",
    "def dlog_p(model, diffusivity_0, diffusivity_1, k_a, k_d, \n",
    "           std, time=dimensional_time, artificial_flow=dimensional_exit_flow, \n",
    "           epsilon=epsilon, length=length):\n",
    "    \n",
    "    dlogp = -1./(std**2) \\\n",
    "            *(\n",
    "                 (Flow(diffusivity=diffusivity_0, k_a=0, k_d=0, time=time, epsilon=epsilon, length=length) \\\n",
    "                  - Flow(diffusivity=diffusivity_1, k_a=k_a, k_d=k_d, time=time, epsilon=epsilon, length=length)) \\\n",
    "                 *(artificial_flow - (1-model)*Flow(diffusivity=diffusivity_0,\n",
    "                                                    k_a=0, k_d=0,\n",
    "                                                    time=time, epsilon=epsilon, length=length) \\\n",
    "                   - model*Flow(diffusivity=diffusivity_1, \n",
    "                                k_a=k_a, k_d=k_d, \n",
    "                                time=time, epsilon=epsilon, length=length)\\\n",
    "                   )\n",
    "              ).sum()\n",
    "           \n",
    "    return dlogp"
   ]
  },
  {
   "cell_type": "code",
   "execution_count": 39,
   "metadata": {},
   "outputs": [
    {
     "name": "stdout",
     "output_type": "stream",
     "text": [
      "[ 1.          0.5         0.33333333  0.25        0.2       ]\n",
      "[ 0.   0.1  0.2  0.3  0.4  0.5  0.6  0.7  0.8  0.9  1. ]\n"
     ]
    }
   ],
   "source": [
    "read_file_pass = '\\\\Users\\\\anbaigashi\\\\Desktop\\\\ABC\\\\2019\\\\March\\\\'\n",
    "\n",
    "time = 204800\n",
    "time_n = 204800\n",
    "Temp = np.array([1, 2, 3, 4, 5], dtype=float)\n",
    "beta = 1/Temp\n",
    "print(beta)\n",
    "model = 0.1*np.arange(0, 11, dtype=float)\n",
    "print(model)"
   ]
  },
  {
   "cell_type": "code",
   "execution_count": 40,
   "metadata": {},
   "outputs": [],
   "source": [
    "de0_one_T20 = ['zero', 'one', 'two', 'three', 'four']\n",
    "de1_one_T20 = ['zero', 'one', 'two', 'three', 'four']\n",
    "ka_one_T20 = ['zero', 'one', 'two', 'three', 'four']\n",
    "kd_one_T20 = ['zero', 'one', 'two', 'three', 'four']\n",
    "sigma_one_T20 = ['zero', 'one', 'two', 'three', 'four']\n",
    "energy_one_T20 = ['zero', 'one', 'two', 'three', 'four']\n",
    "dlogp_one_T20 = ['zero', 'one', 'two', 'three', 'four']\n",
    "pick_one_T20 = ['zero', 'one', 'two', 'three', 'four']\n",
    "update_one_T20 = ['zero', 'one', 'two', 'three', 'four']\n",
    "exchange_one_T20 = ['zero', 'one', 'two', 'three', 'four']"
   ]
  },
  {
   "cell_type": "code",
   "execution_count": 41,
   "metadata": {},
   "outputs": [],
   "source": [
    "for i in range(5):\n",
    "    r_file = read_file_pass + 'EM_TAP-sigma_koukannashi_datapoints=10_T=204800mcs_Temp=20.0_model=0.0-1.0_replica=11_koushinhaba-m1p1m1e-5p1e-5_TAP_artificial_data_De=1.5_ka=20_kd=5_sigma=5e-6_1-10^4ms.dat_{}.dat'.format(i)\n",
    "    de0_one_T20[i], de1_one_T20[i], ka_one_T20[i], kd_one_T20[i], sigma_one_T20[i], energy_one_T20[i], dlogp_one_T20[i],\\\n",
    "    pick_one_T20[i], update_one_T20[i], exchange_one_T20[i] = file_output_one(r_file, time, model)"
   ]
  },
  {
   "cell_type": "code",
   "execution_count": 43,
   "metadata": {},
   "outputs": [],
   "source": [
    "def fig_dE(start, dlogp):\n",
    "    fig = plt.figure(figsize=(8, 6))\n",
    "    ax = fig.add_subplot(111)\n",
    "\n",
    "    end = 2*start\n",
    "\n",
    "    dlogp_m = np.zeros(11, dtype=float)\n",
    "    dlogp_s = np.zeros(11, dtype=float)\n",
    "\n",
    "    for i in range(11):\n",
    "        bar_A_i = np.zeros(5, dtype=float)\n",
    "        for j in range(5):\n",
    "            bar_A_i[j] = dlogp[j][i][start:end].mean()\n",
    "        dlogp_m[i] = bar_A_i.mean()\n",
    "\n",
    "        sig = 0.\n",
    "        for j in range(5):\n",
    "            sig += (bar_A_i[j]-dlogp_m[i])**2\n",
    "        sig /= (bar_A_i.shape[0]-1)\n",
    "        sig = np.sqrt(sig)\n",
    "        sig /= np.sqrt(bar_A_i.shape[0])\n",
    "        dlogp_s[i] = sig\n",
    "\n",
    "\n",
    "    ax.errorbar(0.1*np.arange(11, dtype=float), dlogp_m, yerr=dlogp_s, fmt='o', color='red')\n",
    "    ax.set_xlabel('$M$')\n",
    "    ax.set_ylabel('$<-dE/dM>$')\n",
    "\n",
    "    #plt.savefig('teireikai_20190220_BayesFactorPath1.png')\n",
    "\n",
    "    plt.show()\n",
    "    \n",
    "    return dlogp_m, dlogp_s"
   ]
  },
  {
   "cell_type": "code",
   "execution_count": 44,
   "metadata": {},
   "outputs": [
    {
     "data": {
      "image/png": "[encoded data removed]",
      "text/plain": [
       "<matplotlib.figure.Figure at 0x2b73af2eac8>"
      ]
     },
     "metadata": {},
     "output_type": "display_data"
    }
   ],
   "source": [
    "dlogp_m_T20, dlogp_s_T20 = fig_dE(102400, dlogp_one_T20)"
   ]
  },
  {
   "cell_type": "code",
   "execution_count": 45,
   "metadata": {},
   "outputs": [
    {
     "data": {
      "image/png": "[encoded data removed]",
      "text/plain": [
       "<matplotlib.figure.Figure at 0x2b73af99080>"
      ]
     },
     "metadata": {},
     "output_type": "display_data"
    }
   ],
   "source": [
    "fig = plt.figure(figsize=(8, 6))\n",
    "ax = fig.add_subplot(111)\n",
    "\n",
    "start = 204000\n",
    "end = 204800\n",
    "\n",
    "ax.scatter(model[5], dlogp_one_T20[0][5, start:end].mean(), color='red')\n",
    "ax.set_xlabel('$M$')\n",
    "ax.set_ylabel('$<-dE/dM>$')\n",
    "\n",
    "#plt.savefig('teireikai_20190220_BayesFactorPath1.png')\n",
    "\n",
    "plt.show()"
   ]
  },
  {
   "cell_type": "code",
   "execution_count": 50,
   "metadata": {},
   "outputs": [],
   "source": [
    "suitei = np.array([0.49, 0.5, 0.51])\n",
    "energy_mprime = np.zeros([suitei.shape[0], 800])\n",
    "dE_mprime = np.zeros([suitei.shape[0], 800])\n",
    "\n",
    "for i in range(suitei.shape[0]):\n",
    "    for j in range(800):\n",
    "        energy_mprime[i, j] = energy(suitei[i], de0_one_T20[0][5, 204000+j], de1_one_T20[0][5, 204000+j], \n",
    "                                     ka_one_T20[0][5, 204000+j], kd_one_T20[0][5, 204000+j],\n",
    "                                     sigma_one_T20[0][5, 204000+j])\n",
    "        dE_mprime[i, j] = dlog_p(suitei[i], de0_one_T20[0][5, 204000+j], de1_one_T20[0][5, 204000+j], \n",
    "                                 ka_one_T20[0][5, 204000+j], kd_one_T20[0][5, 204000+j],\n",
    "                                 sigma_one_T20[0][5, 204000+j])"
   ]
  },
  {
   "cell_type": "code",
   "execution_count": 53,
   "metadata": {},
   "outputs": [
    {
     "name": "stdout",
     "output_type": "stream",
     "text": [
      "[-61.54763416 -61.54755924 -61.54761596 -61.54768253 -61.58154777\n",
      " -61.58154776 -61.68133059 -61.58916699 -61.49719548 -61.49742685]\n",
      "[-61.54763416 -61.54755924 -61.54761596 -61.54768253 -61.58154777\n",
      " -61.58154776 -61.68133059 -61.58916699 -61.49719548 -61.49742685]\n",
      "[ 0.  0.  0.  0.  0.  0.  0.  0.  0.  0.]\n"
     ]
    }
   ],
   "source": [
    "print(energy_one_T20[0][5, 204790:])\n",
    "print(energy_mprime[1, 790:])\n",
    "\n",
    "print(energy_one_T20[0][5, 204790:]-energy_mprime[1, 790:])"
   ]
  },
  {
   "cell_type": "code",
   "execution_count": 47,
   "metadata": {},
   "outputs": [],
   "source": [
    "# shitei = 102395\n",
    "# for i in range(11):\n",
    "#     print(energy_one_T20[0][i, shitei])\n",
    "#     for m in range(11):\n",
    "#         ener = energy(model[m], de0_one_T20[0][i, shitei], de1_one_T20[0][i, shitei], ka_one_T20[0][i, shitei], \n",
    "#                 kd_one_T20[0][i, shitei], sigma_one_T20[0][i, shitei])\n",
    "#         if energy_one_T20[0][i, shitei] == ener:\n",
    "#             print(model[m], ener)\n",
    "#     print('\\n')\n",
    "    \n",
    "#print(energy(0.1, 4.6435207183075295, 216.8025710585665, 81.6485746147184, 1.535008192152066, 0.0010479321584274614))"
   ]
  },
  {
   "cell_type": "code",
   "execution_count": 48,
   "metadata": {},
   "outputs": [],
   "source": [
    "# print(dlog_p(1, 126.31, 17.52, 14.30, 71.97, 7.08e-5))"
   ]
  },
  {
   "cell_type": "code",
   "execution_count": 49,
   "metadata": {},
   "outputs": [],
   "source": [
    "# shitei = 102395\n",
    "# for i in range(11):\n",
    "#     print(dlogp_one_T20[0][i, shitei])\n",
    "#     for m in range(11):\n",
    "#         dener = dlog_p(model[m], de0_one_T20[0][i, shitei], de1_one_T20[0][i, shitei], ka_one_T20[0][i, shitei], \n",
    "#                        kd_one_T20[0][i, shitei], sigma_one_T20[0][i, shitei])\n",
    "#         if dlogp_one_T20[0][i, shitei]==dener:\n",
    "#             print(model[m], dener)\n",
    "\n",
    "#     print('\\n')"
   ]
  },
  {
   "cell_type": "code",
   "execution_count": 54,
   "metadata": {},
   "outputs": [],
   "source": [
    "bunbo = np.zeros([suitei.shape[0], 800])\n",
    "bunshi = np.zeros([suitei.shape[0], 800])\n",
    "\n",
    "for i in range(suitei.shape[0]):\n",
    "    for j in range(800):\n",
    "        bunbo[i, j] = np.exp(-energy_mprime[i, j]+energy_one_T20[0][5, 204000+j])\n",
    "        bunshi[i, j] = np.exp(-energy_mprime[i, j]+energy_one_T20[0][5, 204000+j])*dE_mprime[i, j]"
   ]
  },
  {
   "cell_type": "code",
   "execution_count": 57,
   "metadata": {},
   "outputs": [
    {
     "name": "stdout",
     "output_type": "stream",
     "text": [
      "[ 0.  0.  0.  0.  0.  0.  0.  0.  0.  0.]\n"
     ]
    }
   ],
   "source": [
    "print(-energy_mprime[1, 790:]+energy_one_T20[0][5, 204790:])"
   ]
  },
  {
   "cell_type": "code",
   "execution_count": 59,
   "metadata": {},
   "outputs": [
    {
     "name": "stdout",
     "output_type": "stream",
     "text": [
      "[[ 0.99999913  0.99999916  1.00000116 ...,  1.00000302  1.00000296\n",
      "   1.00000758]\n",
      " [ 1.          1.          1.         ...,  1.          1.          1.        ]\n",
      " [ 1.00000087  1.00000084  0.99999884 ...,  0.99999698  0.99999704\n",
      "   0.99999242]]\n"
     ]
    }
   ],
   "source": [
    "print(bunbo)"
   ]
  },
  {
   "cell_type": "code",
   "execution_count": 60,
   "metadata": {},
   "outputs": [
    {
     "name": "stdout",
     "output_type": "stream",
     "text": [
      "[[  8.65228702e-05   8.43214755e-05  -1.16096947e-04 ...,  -3.01830963e-04\n",
      "   -2.96181018e-04  -7.58167863e-04]\n",
      " [  8.65216821e-05   8.43203140e-05  -1.16098329e-04 ...,  -3.01837394e-04\n",
      "   -2.96187346e-04  -7.58198486e-04]\n",
      " [  8.65204939e-05   8.43191524e-05  -1.16099712e-04 ...,  -3.01843825e-04\n",
      "   -2.96193673e-04  -7.58229108e-04]]\n"
     ]
    }
   ],
   "source": [
    "print(bunshi)"
   ]
  },
  {
   "cell_type": "code",
   "execution_count": 62,
   "metadata": {},
   "outputs": [
    {
     "name": "stdout",
     "output_type": "stream",
     "text": [
      "1.00001060996\n",
      "1.0\n",
      "0.999989360087\n"
     ]
    },
    {
     "data": {
      "image/png": "[encoded data removed]",
      "text/plain": [
       "<matplotlib.figure.Figure at 0x2b7253fbbe0>"
      ]
     },
     "metadata": {},
     "output_type": "display_data"
    }
   ],
   "source": [
    "fig = plt.figure(figsize=(8, 6))\n",
    "ax = fig.add_subplot(111)\n",
    "cycle = plt.rcParams['axes.prop_cycle'].by_key()['color']\n",
    "\n",
    "#ax.scatter(model[5], dlogp_one_T20[0][5, start:end].mean(), color='red')\n",
    "for i in range(suitei.shape[0]):\n",
    "    ax.scatter(suitei[i], bunbo[i, ].mean(), color=cycle[1])\n",
    "    print(bunbo[i, ].mean())\n",
    "    \n",
    "ax.set_xlabel('$M$')\n",
    "ax.set_ylabel('$<-dE/dM>$')\n",
    "\n",
    "#plt.savefig('teireikai_20190220_BayesFactorPath1.png')\n",
    "\n",
    "plt.show()"
   ]
  },
  {
   "cell_type": "code",
   "execution_count": 64,
   "metadata": {},
   "outputs": [
    {
     "name": "stdout",
     "output_type": "stream",
     "text": [
      "-0.00105948567515\n",
      "-0.00106249421872\n",
      "-0.00106549914588\n"
     ]
    },
    {
     "data": {
      "image/png": "[encoded data removed]",
      "text/plain": [
       "<matplotlib.figure.Figure at 0x2b71130bba8>"
      ]
     },
     "metadata": {},
     "output_type": "display_data"
    }
   ],
   "source": [
    "fig = plt.figure(figsize=(8, 6))\n",
    "ax = fig.add_subplot(111)\n",
    "cycle = plt.rcParams['axes.prop_cycle'].by_key()['color']\n",
    "\n",
    "start = 204000\n",
    "end = 204800\n",
    "\n",
    "#ax.scatter(model[5], dlogp_one_T20[0][5, start:end].mean(), color='red')\n",
    "for i in range(suitei.shape[0]):\n",
    "    ax.scatter(suitei[i], bunshi[i, ].mean()/bunbo[i, ].mean(), color=cycle[1])\n",
    "    print(bunshi[i, ].mean()/bunbo[i, ].mean())\n",
    "    \n",
    "ax.set_xlabel('$M$')\n",
    "ax.set_ylabel('$<-dE/dM>$')\n",
    "\n",
    "#plt.savefig('teireikai_20190220_BayesFactorPath1.png')\n",
    "\n",
    "plt.show()"
   ]
  },
  {
   "cell_type": "code",
   "execution_count": 72,
   "metadata": {},
   "outputs": [
    {
     "data": {
      "image/png": "[encoded data removed]",
      "text/plain": [
       "<matplotlib.figure.Figure at 0x2b73afa15c0>"
      ]
     },
     "metadata": {},
     "output_type": "display_data"
    }
   ],
   "source": [
    "fig = plt.figure(figsize=(8, 6))\n",
    "ax = fig.add_subplot(111)\n",
    "\n",
    "start = 100000\n",
    "end = 102400\n",
    "\n",
    "ax.scatter(model[5], dlogp_one_T20[0][5, start:end].mean(), color='red')\n",
    "ax.scatter(model[6], dlogp_one_T20[0][6, start:end].mean(), color='red')\n",
    "ax.set_xlabel('$M$')\n",
    "ax.set_ylabel('$<-dE/dM>$')\n",
    "\n",
    "#plt.savefig('teireikai_20190220_BayesFactorPath1.png')\n",
    "\n",
    "plt.show()"
   ]
  },
  {
   "cell_type": "code",
   "execution_count": 108,
   "metadata": {},
   "outputs": [
    {
     "name": "stdout",
     "output_type": "stream",
     "text": [
      "0\n",
      "1\n",
      "2\n",
      "3\n",
      "4\n",
      "5\n",
      "Wall time: 5min 19s\n"
     ]
    }
   ],
   "source": [
    "%%time\n",
    "\n",
    "start = 2400\n",
    "\n",
    "suitei_5 = np.array([0.5, 0.51, 0.52, 0.53, 0.54, 0.55])\n",
    "suitei_6 = np.array([0.55, 0.56, 0.57, 0.58, 0.59, 0.6])\n",
    "energy_mprime_5 = np.zeros([suitei_5.shape[0], start])\n",
    "dE_mprime_5 = np.zeros([suitei_5.shape[0], start])\n",
    "energy_mprime_6 = np.zeros([suitei_6.shape[0], start])\n",
    "dE_mprime_6 = np.zeros([suitei_6.shape[0], start])\n",
    "\n",
    "for i in range(suitei_5.shape[0]):\n",
    "    for j in range(start):\n",
    "        energy_mprime_5[i, j] = energy(suitei_5[i], de0_one_T20[0][5, 202400+j], de1_one_T20[0][5, 202400+j], \n",
    "                                     ka_one_T20[0][5, 202400+j], kd_one_T20[0][5, 202400+j],\n",
    "                                     sigma_one_T20[0][5, 202400+j])\n",
    "        dE_mprime_5[i, j] = dlog_p(suitei_5[i], de0_one_T20[0][5, 202400+j], de1_one_T20[0][5, 202400+j], \n",
    "                                 ka_one_T20[0][5, 202400+j], kd_one_T20[0][5, 202400+j],\n",
    "                                 sigma_one_T20[0][5, 202400+j])\n",
    "        \n",
    "        energy_mprime_6[i, j] = energy(suitei_6[i], de0_one_T20[0][6, 202400+j], de1_one_T20[0][6, 202400+j], \n",
    "                                     ka_one_T20[0][6, 202400+j], kd_one_T20[0][6, 202400+j],\n",
    "                                     sigma_one_T20[0][6, 202400+j])\n",
    "        dE_mprime_6[i, j] = dlog_p(suitei_6[i], de0_one_T20[0][6, 202400+j], de1_one_T20[0][6, 202400+j], \n",
    "                                 ka_one_T20[0][6, 202400+j], kd_one_T20[0][6, 202400+j],\n",
    "                                 sigma_one_T20[0][6, 202400+j])\n",
    "    print(i)"
   ]
  },
  {
   "cell_type": "code",
   "execution_count": 109,
   "metadata": {},
   "outputs": [],
   "source": [
    "bunbo_5 = np.zeros([suitei_5.shape[0], start])\n",
    "bunshi_5 = np.zeros([suitei_5.shape[0], start])\n",
    "bunbo_6 = np.zeros([suitei_6.shape[0], start])\n",
    "bunshi_6 = np.zeros([suitei_6.shape[0], start])\n",
    "\n",
    "\n",
    "for i in range(suitei_5.shape[0]):\n",
    "    for j in range(start):\n",
    "        bunbo_5[i, j] = np.exp(-energy_mprime_5[i, j]+energy_one_T20[0][5, 202400+j])\n",
    "        bunshi_5[i, j] = np.exp(-energy_mprime_5[i, j]+energy_one_T20[0][5, 202400+j])*dE_mprime_5[i, j]\n",
    "        \n",
    "        bunbo_6[i, j] = np.exp(-energy_mprime_6[i, j]+energy_one_T20[0][6, 202400+j])\n",
    "        bunshi_6[i, j] = np.exp(-energy_mprime_6[i, j]+energy_one_T20[0][6, 202400+j])*dE_mprime_6[i, j]"
   ]
  },
  {
   "cell_type": "code",
   "execution_count": 110,
   "metadata": {},
   "outputs": [
    {
     "name": "stdout",
     "output_type": "stream",
     "text": [
      "[  8.19954478e-06   8.07473640e-06   3.80656391e-06 ...,  -3.01837394e-04\n",
      "  -2.96187346e-04  -7.58198486e-04]\n",
      "[  8.19954478e-06   8.07473640e-06   3.80656391e-06 ...,  -3.01837394e-04\n",
      "  -2.96187346e-04  -7.58198486e-04]\n",
      "[ -1.69406589e-21  -3.38813179e-21   8.47032947e-22 ...,   0.00000000e+00\n",
      "   0.00000000e+00   0.00000000e+00]\n"
     ]
    }
   ],
   "source": [
    "print(dlogp_one_T20[0][5, 202400:204800])\n",
    "print(bunshi_5[0])\n",
    "\n",
    "print(dlogp_one_T20[0][5, 202400:204800]-bunshi_5[0])"
   ]
  },
  {
   "cell_type": "code",
   "execution_count": 119,
   "metadata": {},
   "outputs": [
    {
     "name": "stdout",
     "output_type": "stream",
     "text": [
      "[-12.81532944 -12.83424796 -12.87434093 ...,  -5.73182557  -6.0978496\n",
      "  -6.07077418]\n",
      "[-12.81532944 -12.83424796 -12.87434093 ...,  -5.73182557  -6.0978496\n",
      "  -6.07077418]\n",
      "[ -3.55271368e-15  -3.55271368e-15  -3.55271368e-15 ...,   3.90798505e-14\n",
      "   0.00000000e+00  -8.88178420e-16]\n",
      "[ 1.  1.  1. ...,  1.  1.  1.]\n"
     ]
    }
   ],
   "source": [
    "print(dlogp_one_T20[0][6, 202400:204800])\n",
    "print(bunshi_6[5])\n",
    "\n",
    "print(dlogp_one_T20[0][6, 202400:204800]-bunshi_6[5])\n",
    "print(bunbo_6[5])"
   ]
  },
  {
   "cell_type": "code",
   "execution_count": 120,
   "metadata": {},
   "outputs": [
    {
     "data": {
      "image/png": "[encoded data removed]",
      "text/plain": [
       "<matplotlib.figure.Figure at 0x2b7254c7978>"
      ]
     },
     "metadata": {},
     "output_type": "display_data"
    }
   ],
   "source": [
    "fig = plt.figure(figsize=(8, 6))\n",
    "ax = fig.add_subplot(111)\n",
    "cycle = plt.rcParams['axes.prop_cycle'].by_key()['color']\n",
    "\n",
    "start = 202400\n",
    "end = 204800\n",
    "\n",
    "ax.scatter(model[5], dlogp_one_T20[0][5, start:end].mean(), color='red', s=100)\n",
    "ax.scatter(model[6], dlogp_one_T20[0][6, start:end].mean(), color='red', s=100)\n",
    "\n",
    "#ax.scatter(model[5], dlogp_one_T20[0][5, start:end].mean(), color='red')\n",
    "for i in range(suitei_5.shape[0]):\n",
    "    ax.scatter(suitei_5[i], bunshi_5[i, ].mean()/bunbo_5[i, ].mean(), color=cycle[1])\n",
    "    ax.scatter(suitei_6[i], bunshi_6[i, ].mean()/bunbo_6[i, ].mean(), color=cycle[1])\n",
    "    \n",
    "    \n",
    "ax.set_xlabel('$M$')\n",
    "ax.set_ylabel('$<-dE/dM>$')\n",
    "\n",
    "#plt.savefig('teireikai_20190220_BayesFactorPath1.png')\n",
    "\n",
    "plt.show()"
   ]
  },
  {
   "cell_type": "code",
   "execution_count": 111,
   "metadata": {},
   "outputs": [
    {
     "name": "stdout",
     "output_type": "stream",
     "text": [
      "[[ 1.          1.          1.         ...,  1.          1.          1.        ]\n",
      " [ 1.00000008  1.00000008  1.00000004 ...,  0.99999698  0.99999704\n",
      "   0.99999242]\n",
      " [ 1.00000016  1.00000016  1.00000008 ...,  0.99999396  0.99999408\n",
      "   0.99998484]\n",
      " [ 1.00000025  1.00000024  1.00000011 ...,  0.99999094  0.99999111\n",
      "   0.99997725]\n",
      " [ 1.00000033  1.00000032  1.00000015 ...,  0.99998793  0.99998815\n",
      "   0.99996967]\n",
      " [ 1.00000041  1.0000004   1.00000019 ...,  0.99998491  0.99998519\n",
      "   0.99996209]]\n",
      "(6, 2400)\n"
     ]
    }
   ],
   "source": [
    "print(bunbo_5)\n",
    "print(bunshi_5.shape)"
   ]
  },
  {
   "cell_type": "code",
   "execution_count": 121,
   "metadata": {},
   "outputs": [
    {
     "name": "stdout",
     "output_type": "stream",
     "text": [
      "0\n",
      "1\n",
      "2\n",
      "3\n",
      "4\n",
      "5\n",
      "Wall time: 9min 56s\n"
     ]
    }
   ],
   "source": [
    "%%time\n",
    "\n",
    "start = 4800\n",
    "\n",
    "suitei_5 = np.array([0.5, 0.51, 0.52, 0.53, 0.54, 0.55])\n",
    "suitei_6 = np.array([0.55, 0.56, 0.57, 0.58, 0.59, 0.6])\n",
    "energy_mprime_5 = np.zeros([suitei_5.shape[0], start])\n",
    "dE_mprime_5 = np.zeros([suitei_5.shape[0], start])\n",
    "energy_mprime_6 = np.zeros([suitei_6.shape[0], start])\n",
    "dE_mprime_6 = np.zeros([suitei_6.shape[0], start])\n",
    "\n",
    "for i in range(suitei_5.shape[0]):\n",
    "    for j in range(start):\n",
    "        energy_mprime_5[i, j] = energy(suitei_5[i], de0_one_T20[0][5, 200000+j], de1_one_T20[0][5, 200000+j], \n",
    "                                     ka_one_T20[0][5, 200000+j], kd_one_T20[0][5, 200000+j],\n",
    "                                     sigma_one_T20[0][5, 200000+j])\n",
    "        dE_mprime_5[i, j] = dlog_p(suitei_5[i], de0_one_T20[0][5, 200000+j], de1_one_T20[0][5, 200000+j], \n",
    "                                 ka_one_T20[0][5, 200000+j], kd_one_T20[0][5, 200000+j],\n",
    "                                 sigma_one_T20[0][5, 200000+j])\n",
    "        \n",
    "        energy_mprime_6[i, j] = energy(suitei_6[i], de0_one_T20[0][6, 200000+j], de1_one_T20[0][6, 200000+j], \n",
    "                                     ka_one_T20[0][6, 200000+j], kd_one_T20[0][6, 200000+j],\n",
    "                                     sigma_one_T20[0][6, 200000+j])\n",
    "        dE_mprime_6[i, j] = dlog_p(suitei_6[i], de0_one_T20[0][6, 200000+j], de1_one_T20[0][6, 200000+j], \n",
    "                                 ka_one_T20[0][6, 200000+j], kd_one_T20[0][6, 200000+j],\n",
    "                                 sigma_one_T20[0][6, 200000+j])\n",
    "    print(i)"
   ]
  },
  {
   "cell_type": "code",
   "execution_count": 134,
   "metadata": {},
   "outputs": [],
   "source": [
    "start = 4800\n",
    "\n",
    "bunbo_5 = np.zeros([suitei_5.shape[0], start])\n",
    "bunshi_5 = np.zeros([suitei_5.shape[0], start])\n",
    "bunbo_6 = np.zeros([suitei_6.shape[0], start])\n",
    "bunshi_6 = np.zeros([suitei_6.shape[0], start])\n",
    "\n",
    "for i in range(suitei_5.shape[0]):\n",
    "    for j in range(start):\n",
    "        bunbo_5[i, j] = np.exp(-energy_mprime_5[i, j]+energy_one_T20[0][5, 200000+j])\n",
    "        bunshi_5[i, j] = np.exp(-energy_mprime_5[i, j]+energy_one_T20[0][5, 200000+j])*dE_mprime_5[i, j]\n",
    "        \n",
    "        bunbo_6[i, j] = np.exp(-energy_mprime_6[i, j]+energy_one_T20[0][6, 200000+j])\n",
    "        bunshi_6[i, j] = np.exp(-energy_mprime_6[i, j]+energy_one_T20[0][6, 200000+j])*dE_mprime_6[i, j]"
   ]
  },
  {
   "cell_type": "code",
   "execution_count": 135,
   "metadata": {},
   "outputs": [
    {
     "data": {
      "image/png": "[encoded data removed]",
      "text/plain": [
       "<matplotlib.figure.Figure at 0x2b73af720b8>"
      ]
     },
     "metadata": {},
     "output_type": "display_data"
    }
   ],
   "source": [
    "fig = plt.figure(figsize=(8, 6))\n",
    "ax = fig.add_subplot(111)\n",
    "cycle = plt.rcParams['axes.prop_cycle'].by_key()['color']\n",
    "\n",
    "start = 200000\n",
    "end = 204800\n",
    "\n",
    "ax.scatter(model[5], dlogp_one_T20[0][5, start:end].mean(), color='red', s=100)\n",
    "ax.scatter(model[6], dlogp_one_T20[0][6, start:end].mean(), color='red', s=100)\n",
    "\n",
    "#ax.scatter(model[5], dlogp_one_T20[0][5, start:end].mean(), color='red')\n",
    "for i in range(suitei_5.shape[0]):\n",
    "    ax.scatter(suitei_5[i], bunshi_5[i, ].mean()/bunbo_5[i, ].mean(), color=cycle[1])\n",
    "    ax.scatter(suitei_6[i], bunshi_6[i, ].mean()/bunbo_6[i, ].mean(), color=cycle[1])\n",
    "    \n",
    "    \n",
    "ax.set_xlabel('$M$')\n",
    "ax.set_ylabel('$<-dE/dM>$')\n",
    "\n",
    "#plt.savefig('teireikai_20190220_BayesFactorPath1.png')\n",
    "\n",
    "plt.show()"
   ]
  },
  {
   "cell_type": "code",
   "execution_count": 127,
   "metadata": {},
   "outputs": [
    {
     "name": "stdout",
     "output_type": "stream",
     "text": [
      "(11, 204800)\n",
      "(6, 4800)\n"
     ]
    }
   ],
   "source": [
    "print(energy_one_T20[0].shape)\n",
    "print(dE_mprime_5.shape)"
   ]
  },
  {
   "cell_type": "code",
   "execution_count": null,
   "metadata": {},
   "outputs": [],
   "source": []
  }
 ],
 "metadata": {
  "kernelspec": {
   "display_name": "Python 3",
   "language": "python",
   "name": "python3"
  },
  "language_info": {
   "codemirror_mode": {
    "name": "ipython",
    "version": 3
   },
   "file_extension": ".py",
   "mimetype": "text/x-python",
   "name": "python",
   "nbconvert_exporter": "python",
   "pygments_lexer": "ipython3",
   "version": "3.6.3"
  }
 },
 "nbformat": 4,
 "nbformat_minor": 2
}

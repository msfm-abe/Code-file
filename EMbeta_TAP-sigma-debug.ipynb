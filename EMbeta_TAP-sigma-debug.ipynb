{
 "cells": [
  {
   "cell_type": "code",
   "execution_count": 1,
   "metadata": {
    "collapsed": true
   },
   "outputs": [],
   "source": [
    "import numpy as np\n",
    "import scipy.stats as stats\n",
    "import matplotlib.pyplot as plt\n",
    "from IPython.core.pylabtools import figsize\n",
    "import math\n",
    "\n",
    "plt.style.use('ggplot')"
   ]
  },
  {
   "cell_type": "markdown",
   "metadata": {},
   "source": [
    "読み込みファイル，計算に使用するデータ数，モンテカルロステップ数`T`，逆温度$\\beta$(配列),モンテカルロサンプル数`sample`を指定．\n",
    "\n",
    "`epsilon` と `length` は今後の計算に必要．"
   ]
  },
  {
   "cell_type": "code",
   "execution_count": 2,
   "metadata": {
    "collapsed": true
   },
   "outputs": [],
   "source": [
    "data_file = 'TAP_artificial_data_De=1.5_ka=20_kd=5_sigma=5e-6_1-10^4ms.dat'\n",
    "data_points = 10\n",
    "T = 10\n",
    "sample = 1\n",
    "#model = 0.1*np.arange(0, 11, 2, dtype=float)\n",
    "#model = 0.1*np.arange(0, 11, dtype=float)\n",
    "#model = 0.01*np.arange(0, 101, 5, dtype=float)\n",
    "#print(model)\n",
    "\n",
    "\n",
    "temp = np.array([1., 2., 10.])\n",
    "beta= 1/temp\n",
    "\n",
    "# true_diffusivity = 1.5\n",
    "# true_k_a = 20.0\n",
    "# true_k_d = 5.0\n",
    "# true_standard_deviation = 5e-6\n",
    "epsilon = 1.0\n",
    "length = 35.0"
   ]
  },
  {
   "cell_type": "markdown",
   "metadata": {},
   "source": [
    "## 2つのモデル\n",
    "\n",
    "$M=0$ : 拡散のみ\n",
    "\n",
    "* Dimensionless form\n",
    "\n",
    "\\begin{align}\n",
    "    &\\frac{\\partial \\bar{C}_{A}}{\\partial \\tau} = \\frac{\\partial^{2} \\bar{C}_{A}}{\\partial \\xi^{2}} \\\\\n",
    "    \\Longrightarrow\\, &\\bar{F}_{A} = \\sum_{n=0}^{\\infty}\\left(-1\\right)^{n}\\left(2n+1\\right)\\exp \\left(-\\left(n+\\frac{1}{2}\\right)^{2}\\pi^{2}\\tau\\right)\n",
    "\\end{align}\n",
    "\n",
    "$M=1$ : 拡散+吸着+脱離\n",
    "\n",
    "* Dimensionless form\n",
    "\n",
    "\\begin{align}\n",
    "    &\\frac{\\partial \\bar{C}_{A}}{\\partial \\tau} = \\frac{\\partial^{2} \\bar{C}_{A}}{\\partial \\xi^{2}}-\\bar{k}_{a}\\bar{C}_{A}+\\bar{k}_{d}\\bar{\\theta}_{A}, \\\\\n",
    "    &\\frac{\\partial \\bar{\\theta}_{A}}{\\partial \\tau} = \\bar{k}_{a}\\bar{C}_{A}-\\bar{k}_{d}\\bar{\\theta}_{A}\n",
    "\\end{align}\n",
    "\n",
    "\\begin{align}\n",
    "    \\Longrightarrow\\,&\\bar{F}_{A} = \\pi\\sum_{n=0}^{\\infty}\\left(-1\\right)^{n}\\left(2n+1\\right)\\left[A_{n}\\exp \\left(r_{-}\\tau\\right)+\\left(1-A_{n}\\right)\\exp \\left(r_{+}\\tau\\right)\\right]\n",
    "\\end{align}\n",
    "\n",
    "ただし\n",
    "\n",
    "\\begin{align}\n",
    "    &r_{\\pm} = \\frac{-\\left(p_{n}^{2}+\\bar{k}_{a}+\\bar{k}_{d}\\right)\\pm\\sqrt{\\left(p_{n}^{2}+\\bar{k}_{a}+\\bar{k}_{d}\\right)^{2}-4p_{n}^{2}\\bar{k}_{d}}}{2}, \\\\\n",
    "    &p_{n} = \\left(n+\\frac{1}{2}\\right)\\pi, \\\\\n",
    "    &A_{n} = \\frac{r_{+}+p_{n}^{2}+\\bar{k}_{a}}{r_{+}-r_{-}}\n",
    "\\end{align}\n",
    "\n",
    "dimensional form と dimensionless form の関係は\n",
    "\n",
    "\\begin{align}\n",
    "    &\\tau = \\frac{D_{eA}}{\\epsilon_{b}L^{2}}t, \\\\\n",
    "    &\\bar{F}_{A}\\left(\\xi, \\tau \\right) = \\frac{\\epsilon_{b}L^{2}}{D_{eA}}\\frac{F_{A}\\left(x, t\\right)}{N_{pA}}\n",
    "\\end{align}"
   ]
  },
  {
   "cell_type": "markdown",
   "metadata": {},
   "source": [
    "## 関数\n",
    "```python:title\n",
    "Flow(diffusivity, k_a, k_d, epsilon, length, time)\n",
    "```\n",
    "高速版\n",
    "* 入力 : $D_{e}, k_{a}, k_{d}, \\epsilon_{b}, L$ (スカラー), $t$ (numpy配列)\n",
    "* 出力 : $t$と同じ次元のDimensional flow\n",
    "\n",
    "`k_a=0, k_d=0`で $M=0$,それ以外で $M=1$ になる．"
   ]
  },
  {
   "cell_type": "code",
   "execution_count": 3,
   "metadata": {
    "collapsed": true
   },
   "outputs": [],
   "source": [
    "def p_n(n):\n",
    "    return (n+0.5)*np.pi\n",
    "\n",
    "def r_plus(p_n, k_a, k_d):\n",
    "    return ( -(p_n**2 + k_a + k_d)+np.sqrt((p_n**2 + k_a + k_d)**2 - 4*(p_n**2)*k_d) )/2.0\n",
    "\n",
    "def r_minus(p_n, k_a, k_d):\n",
    "    return ( -(p_n**2 + k_a + k_d)-np.sqrt((p_n**2 + k_a + k_d)**2 - 4*(p_n**2)*k_d) )/2.0\n",
    "\n",
    "def A_n(p_n, r_plus, r_minus, k_a):\n",
    "    return (r_plus + (p_n**2) + k_a)/(r_plus - r_minus)\n",
    "\n",
    "# def Flow(diffusivity, k_a, k_d, epsilon, length, time):\n",
    "#     dimensionless_time = time * diffusivity/(epsilon*length**2)\n",
    "    \n",
    "#     f_flow = np.zeros(time.shape[0])\n",
    "#     pn = p_n(0); r_p = r_plus(p_n=pn, k_a=k_a, k_d=k_d); r_m = r_minus(p_n=pn, k_a=k_a, k_d=k_d)\n",
    "#     A = A_n(p_n=pn, r_plus=r_p, r_minus=r_m, k_a=k_a)\n",
    "#     f_flow += np.power(-1.0, 0)*(2.0*0+1.0)*( A*np.exp(r_m*dimensionless_time)+(1.0-A)*np.exp(r_p*dimensionless_time) )\n",
    "    \n",
    "#     l_flow = np.zeros(time.shape[0])\n",
    "#     pn = p_n(1); r_p = r_plus(p_n=pn, k_a=k_a, k_d=k_d); r_m = r_minus(p_n=pn, k_a=k_a, k_d=k_d)\n",
    "#     A = A_n(p_n=pn, r_plus=r_p, r_minus=r_m, k_a=k_a)\n",
    "#     l_flow = f_flow + np.power(-1.0, 1)*(2.0*1+1.0)*( A*np.exp(r_m*dimensionless_time)+(1.0-A)*np.exp(r_p*dimensionless_time) )\n",
    "    \n",
    "#     N = np.ones(time.shape[0], dtype=int)\n",
    "\n",
    "#     for i in range(time.shape[0]):\n",
    "#         while np.abs((l_flow[i]-f_flow[i])/f_flow[i]) > 10**-5:\n",
    "#             N[i] += 1\n",
    "#             f_flow[i] = l_flow[i]\n",
    "#             pn = p_n(N[i]); r_p = r_plus(p_n=pn, k_a=k_a, k_d=k_d); r_m = r_minus(p_n=pn, k_a=k_a, k_d=k_d)\n",
    "#             A = A_n(p_n=pn, r_plus=r_p, r_minus=r_m, k_a=k_a)\n",
    "#             l_flow[i] += np.power(-1.0, N[i])*(2.0*N[i]+1.0)*( A*np.exp(r_m*dimensionless_time[i])+(1.0-A)*np.exp(r_p*dimensionless_time[i]) )\n",
    "    \n",
    "##     while np.abs((l_flow[0]-f_flow[0])/f_flow[0]) > 10**-5:\n",
    "##         for i in range(time.shape[0]):\n",
    "##             if np.abs((l_flow[i]-f_flow[i])/f_flow[i]) > 1.*10**-5:\n",
    "##                 N[i] += 1\n",
    "##                 f_flow[i] = l_flow[i]\n",
    "##                 pn = p_n(N[i]); r_p = r_plus(p_n=pn, k_a=k_a, k_d=k_d); r_m = r_minus(p_n=pn, k_a=k_a, k_d=k_d)\n",
    "##                 A = A_n(p_n=pn, r_plus=r_p, r_minus=r_m, k_a=k_a)\n",
    "##                 l_flow[i] += np.power(-1.0, N[i])*(2.0*N[i]+1.0)*( A*np.exp(r_m*dimensionless_time[i])+(1.0-A)*np.exp(r_p*dimensionless_time[i]) )\n",
    "    \n",
    "# #    print(N)\n",
    "#     l_flow *= np.pi\n",
    "#     l_flow *= diffusivity/(epsilon*np.power(length, 2))\n",
    "\n",
    "#     return l_flow\n",
    "\n",
    "def Flow(diffusivity, k_a, k_d, epsilon, length, time):\n",
    "    dimensionless_time = time * diffusivity/(epsilon*length**2)\n",
    "    r_flow = np.zeros(len(time))\n",
    "    for n in range(100):\n",
    "        pn = p_n(n); r_p = r_plus(p_n=pn, k_a=k_a, k_d=k_d); r_m = r_minus(p_n=pn, k_a=k_a, k_d=k_d)\n",
    "        A = A_n(p_n=pn, r_plus=r_p, r_minus=r_m, k_a=k_a)\n",
    "        r_flow += np.power(-1.0,n)*(2.0*n+1.0)*( A*np.exp(r_m*dimensionless_time)+(1.0-A)*np.exp(r_p*dimensionless_time) )\n",
    "    r_flow *= np.pi\n",
    "    r_flow *= diffusivity/(epsilon*np.power(length, 2))\n",
    "\n",
    "    return r_flow"
   ]
  },
  {
   "cell_type": "markdown",
   "metadata": {},
   "source": [
    "以下の `cell` でファイルからデータを読み込む．"
   ]
  },
  {
   "cell_type": "code",
   "execution_count": 4,
   "metadata": {},
   "outputs": [
    {
     "name": "stdout",
     "output_type": "stream",
     "text": [
      "10 \t 10\n"
     ]
    },
    {
     "data": {
      "image/png": "[encoded data removed]",
      "text/plain": [
       "<matplotlib.figure.Figure at 0x10b22e828>"
      ]
     },
     "metadata": {},
     "output_type": "display_data"
    }
   ],
   "source": [
    "dimensional_time = np.zeros(data_points)\n",
    "dimensional_exit_flow = np.zeros(data_points)\n",
    "i = 0\n",
    "j = 0\n",
    "for line in open(data_file, \"r\"):\n",
    "    if i%(10000/data_points)==0:\n",
    "        data = line.split(\"\\t\")\n",
    "        dimensional_time[j] = data[0]\n",
    "        dimensional_exit_flow[j] = data[1]\n",
    "        j += 1\n",
    "    else:\n",
    "        pass\n",
    "    i += 1\n",
    "\n",
    "\n",
    "print(len(dimensional_time), \"\\t\", len(dimensional_exit_flow))\n",
    "# print(dimensional_time, dimensional_exit_flow)\n",
    "\n",
    "fig = plt.figure()\n",
    "ax = fig.add_subplot(111)\n",
    "ax.plot(dimensional_time, dimensional_exit_flow)\n",
    "\n",
    "ax.set_xlabel('Dimensional Time[ms]')\n",
    "ax.set_ylabel('Dimensional Exit Flow[1/ms]')\n",
    "\n",
    "plt.show()"
   ]
  },
  {
   "cell_type": "markdown",
   "metadata": {},
   "source": [
    "## モデル依存のサンプリング\n",
    "\n",
    "\\begin{align}\n",
    "    P\\left(I_{\\mu}\\right) &= \\prod_{\\mu=1}^{T}\\left(\\sqrt{\\frac{\\alpha+\\beta}{\\pi}}\\exp\\left(-\\left(\\alpha + \\beta\\right)\\left\\{I_{\\mu}-\\frac{\\alpha I_{\\mu}^{M=0}+\\beta I_{\\mu}^{M=1}}{\\alpha + \\beta}\\right\\}^2\\right)\\right) \\\\\n",
    "    &= \\prod_{\\mu=1}^{T}\\left(\\frac{1}{\\sqrt{2\\pi\\sigma^2}}\\exp\\left(-\\frac{1}{2\\sigma^2}\\left\\{I_{\\mu}-\\left(1-M\\right)I_{\\mu}^{M=0}-MI_{\\mu}^{M=1}\\right\\}^{2} \\right) \\right) \\\\\n",
    "    &= \\left(\\frac{1}{\\sqrt{2\\pi\\sigma^2}}\\right)^{T}\\exp\\left(-E\\right) \\\\\n",
    "    &= \\exp\\left(-E^{\\prime}\\right)\n",
    "\\end{align}\n",
    "\n",
    "ただし\n",
    "\\begin{align}\n",
    "    &\\alpha = \\frac{1-M}{2\\sigma^{2}},\\, \n",
    "    \\beta = \\frac{M}{2\\sigma^{2}} \\\\\n",
    "    E &= \\frac{1}{2\\sigma^{2}}\\sum_{\\mu=1}^{T}\\left\\{I_{\\mu}-\\left(1-M \\right)I_{\\mu}^{M=0}-MI_{\\mu}^{M=1} \\right\\}^{2} \\\\\n",
    "    E^{\\prime} &= \\frac{1}{2\\sigma^{2}}\\sum_{\\mu=1}^{T}\\left\\{I_{\\mu}-\\left(1-M \\right)I_{\\mu}^{M=0}-MI_{\\mu}^{M=1} \\right\\}^{2} + \\frac{T}{2}\\ln\\left(2\\pi\\sigma^{2}\\right)\n",
    "\\end{align}\n",
    "\n",
    "$I_{\\mu}$ は $F_{A}$"
   ]
  },
  {
   "cell_type": "markdown",
   "metadata": {},
   "source": [
    "## 関数\n",
    "```python:title\n",
    "energy()\n",
    "```\n",
    "* 入力 : $M, D_{e}^{M=0}, D_{e}^{M=1}, k_{a}, k_{d}, \\sigma$ ($\\epsilon_{b}, L, t, F$ はあらかじめ指定)\n",
    "* 出力 : 上記の $E^{\\prime}$"
   ]
  },
  {
   "cell_type": "code",
   "execution_count": 5,
   "metadata": {},
   "outputs": [
    {
     "name": "stdout",
     "output_type": "stream",
     "text": [
      "-106.988904209\n"
     ]
    }
   ],
   "source": [
    "def energy(model, diffusivity_0, diffusivity_1, k_a, k_d, std,\n",
    "           epsilon=epsilon, length=length, \n",
    "           time=dimensional_time, artificial_flow=dimensional_exit_flow):\n",
    "\n",
    "    \n",
    "#    alpha = (1. - model)/(2.*std**2)\n",
    "#    beta = model/(2.*std**2)\n",
    "    \n",
    "    Energy = np.square(artificial_flow - ((1.-model)*Flow(diffusivity=diffusivity_0,\n",
    "                                                     k_a=0., k_d=0.,\n",
    "                                                     epsilon=epsilon, length=length, \n",
    "                                                     time=time) + \\\n",
    "                                          model*Flow(diffusivity=diffusivity_1,\n",
    "                                                     k_a=k_a, k_d=k_d, \n",
    "                                                     epsilon=epsilon, length=length, \n",
    "                                                     time=time))\n",
    "                      ).sum()\n",
    "    \n",
    "    Energy *= 1./(2.*std**2)\n",
    "    Energy += (time.shape[0]/2.) * np.log(2.*np.pi*std**2) \n",
    "    \n",
    "    return Energy\n",
    "        \n",
    "#    return Energy, alpha, beta\n",
    "\n",
    "#print(delta_energy(0, 1.5, 1.5, 20, 5, 5e-6, 5e-6))\n",
    "#print(delta_energy(0.5, 1.5, 1.5, 20, 5, 5e-6, 5e-6))\n",
    "print(energy(1, 1.5, 1.5, 20, 5, 5e-6))"
   ]
  },
  {
   "cell_type": "code",
   "execution_count": 6,
   "metadata": {},
   "outputs": [
    {
     "name": "stdout",
     "output_type": "stream",
     "text": [
      "-106.988904209\n"
     ]
    }
   ],
   "source": [
    "def energy_(model, diffusivity_0, diffusivity_1, k_a, k_d, std,\n",
    "           epsilon=epsilon, length=length, \n",
    "           time=dimensional_time, artificial_flow=dimensional_exit_flow):\n",
    "    \n",
    "    I_M0 = Flow(diffusivity=diffusivity_0, k_a=0, k_d=0, epsilon=epsilon, length=length, time=time)\n",
    "    I_M1 = Flow(diffusivity=diffusivity_1, k_a=k_a, k_d=k_d, epsilon=epsilon, length=length, time=time)\n",
    "#     print(I_M0, I_M0.shape[0])\n",
    "#     print(I_M1)\n",
    "    Energy_ = np.zeros(time.shape[0])\n",
    "    for i in range(time.shape[0]):\n",
    "        Energy_[i] = artificial_flow[i] - (1-model)*I_M0[i] - model*I_M1[i]\n",
    "        \n",
    "#    print(Energy_)\n",
    "\n",
    "    for i in range(time.shape[0]):\n",
    "        Energy_[i] = Energy_[i]**2\n",
    "        \n",
    "#    print(Energy_)\n",
    "\n",
    "    E_ = 0\n",
    "    for i in range(time.shape[0]):\n",
    "        E_ += Energy_[i]\n",
    "        \n",
    "    E_ /= 2.*(std**2)\n",
    "    E_ += (time.shape[0]/2)*np.log(2.*np.pi*std**2)\n",
    "    \n",
    "    return E_\n",
    "\n",
    "print(energy_(1, 1.5, 1.5, 20, 5, 5e-6))"
   ]
  },
  {
   "cell_type": "markdown",
   "metadata": {},
   "source": [
    "## 遷移確率\n",
    "\n",
    "\\begin{align}\n",
    "    r &= \\frac{\\hat{e}_{\\beta}}{e^{\\left(t\\right)}_{\\beta}} \\\\\n",
    "    &= \\frac{\\exp \\left(-\\beta {\\hat{E^{\\prime}}}\\right)}{\\exp\\left(-\\beta E^{\\prime (t)}\\right)}\\\\\n",
    "    &= \\exp\\left(-\\beta\\left({\\hat{E^{\\prime}}}-E^{\\prime (t)}\\right)\\right)\n",
    "\\end{align}"
   ]
  },
  {
   "cell_type": "markdown",
   "metadata": {},
   "source": [
    "## 関数\n",
    "```python:title\n",
    "r()\n",
    "```\n",
    "* 入力 : $\\beta, \\hat{M}, M^{\\left(t\\right)}, \\hat{D_{e}^{M=0}}, \\hat{D_{e}^{M=1}}, \\hat{k_{a}}, \\hat{k_{d}}, \\hat{\\sigma}, D_{e}^{M=0, \\left(t\\right)}, D_{e}^{M=1, \\left(t\\right)}, k_{a}^{\\left(t\\right)}, k_{d}^{\\left(t\\right)}, \\sigma^{\\left(t\\right)}$ ($\\epsilon_{b}, L, t, F_{A}$ はあらかじめ指定)\n",
    "* 出力 : 遷移確率 $r$, $\\hat{E^{\\prime}}, E^{\\prime(t)}$"
   ]
  },
  {
   "cell_type": "code",
   "execution_count": 7,
   "metadata": {},
   "outputs": [
    {
     "name": "stdout",
     "output_type": "stream",
     "text": [
      "(1.3149877878271676, 44.107517171884922, 45.476654065700714)\n"
     ]
    }
   ],
   "source": [
    "def r(beta, model_cand, model_current,\n",
    "       diffusivity_0_cand, diffusivity_1_cand, k_a_cand, k_d_cand, std_cand,\n",
    "       diffusivity_0_current, diffusivity_1_current, k_a_current, k_d_current, std_current, \n",
    "       epsilon=epsilon, length=length, \n",
    "       time=dimensional_time, artificial_flow=dimensional_exit_flow):\n",
    "    \n",
    "    E_cand = energy(model=model_cand,\n",
    "                    diffusivity_0=diffusivity_0_cand,\n",
    "                    diffusivity_1=diffusivity_1_cand,\n",
    "                    k_a=k_a_cand, k_d=k_d_cand,\n",
    "                    std=std_cand, \n",
    "                    epsilon=epsilon, length=length, \n",
    "                    time=time, artificial_flow=artificial_flow)\n",
    "    \n",
    "    E_current = energy(model=model_current, \n",
    "                       diffusivity_0=diffusivity_0_current,\n",
    "                       diffusivity_1=diffusivity_1_current,\n",
    "                       k_a=k_a_current, k_d=k_d_current,\n",
    "                       std=std_current,\n",
    "                       epsilon=epsilon, length=length, \n",
    "                       time=time, artificial_flow=artificial_flow)\n",
    "    \n",
    "    \n",
    "    exponent = -E_cand + E_current\n",
    "    \n",
    "    return np.exp(beta*exponent), E_cand, E_current\n",
    "\n",
    "# print(r(1, 1, 1, 1.5, 1.5, 20., 5., 5e-6, 1.5, 1.499, 20, 5, 5e-6))\n",
    "print(r(0.2, 0.7, 0.7, 1.48, 1.49, 19.5, 5., 4.99e-6, 1.5001, 1.499, 20.02, 5.03, 5e-6))"
   ]
  },
  {
   "cell_type": "code",
   "execution_count": 8,
   "metadata": {},
   "outputs": [
    {
     "name": "stdout",
     "output_type": "stream",
     "text": [
      "44.1075171719 45.4766540657\n"
     ]
    }
   ],
   "source": [
    "print(energy_(0.7, 1.48, 1.49, 19.5, 5., 4.99e-6), energy_(0.7, 1.5001, 1.499, 20.02, 5.03, 5e-6))"
   ]
  },
  {
   "cell_type": "markdown",
   "metadata": {},
   "source": [
    "## 交換法\n",
    "\n",
    "確率\n",
    "\n",
    "\\begin{align}\n",
    "    r^{\\prime} &= \\frac{p^{M_{l}}_{\\beta_{l}}\\left(\\hat{\\theta}_{l+1}\\right)p^{M_{l+1}}_{\\beta_{l+1}}\\left(\\hat{\\theta}_{l}\\right)}{p^{M_{l}}_{\\beta_{l}}\\left(\\hat{\\theta}_{l}\\right)p^{M_{l+1}}_{\\beta_{l+1}}\\left(\\hat{\\theta}_{l+1}\\right)} \\\\\n",
    "    &= \\exp\\left(-\\beta_{l}E^{\\prime}_{M_{l}}\\left(\\hat{\\theta}_{l+1}\\right)-\\beta_{l+1}E^{\\prime}_{M_{l+1}}\\left(\\hat{\\theta}_{l}\\right)+\\beta_{l}E^{\\prime}_{M_{l}}\\left(\\hat{\\theta}_{l}\\right)+\\beta_{l+1}E^{\\prime}_{M_{l+1}}\\left(\\hat{\\theta}_{l+1}\\right)\\right)\n",
    "\\end{align}\n",
    "\n",
    "でパラメータを交換"
   ]
  },
  {
   "cell_type": "markdown",
   "metadata": {},
   "source": [
    "## 関数\n",
    "```python;title\n",
    "r_prime()\n",
    "```\n",
    "* 入力 : $\\beta_l, \\beta_{l+1}, M_{l}, D_{e, l}^{M=0}, D_{e, l}^{M=1}, k_{a, l}, k_{d, l}, \\sigma_{l}, M_{l+1}, D_{e, l+1}^{M=0}, D_{e, l+1}^{M=1}, k_{a, l+1}, k_{d, l+1}, \\sigma_{l+1}$ ($\\epsilon_{b}, L, t, F$ はあらかじめ指定)\n",
    "* 出力 : $r^{\\prime}$"
   ]
  },
  {
   "cell_type": "code",
   "execution_count": 11,
   "metadata": {},
   "outputs": [
    {
     "name": "stdout",
     "output_type": "stream",
     "text": [
      "0.766404937781\n"
     ]
    }
   ],
   "source": [
    "def r_prime(beta_l, beta_lplus1, model_l, diffusivity0_l, diffusivity1_l, k_a_l, k_d_l, std_l, \n",
    "            model_lplus1, diffusivity0_lplus1, diffusivity1_lplus1, k_a_lplus1, k_d_lplus1, std_lplus1, \n",
    "            epsilon=epsilon, length=length, time=dimensional_time, artificial_flow=dimensional_exit_flow):\n",
    "    \n",
    "    E1 = energy(model=model_l, diffusivity_0=diffusivity0_lplus1, diffusivity_1=diffusivity1_lplus1,\n",
    "                k_a=k_a_lplus1, k_d=k_d_lplus1, std=std_lplus1,\n",
    "                epsilon=epsilon, length=length,\n",
    "                time=dimensional_time, artificial_flow=dimensional_exit_flow)\n",
    "    \n",
    "    E2 = energy(model=model_lplus1, diffusivity_0=diffusivity0_l, diffusivity_1=diffusivity1_l,\n",
    "                k_a=k_a_l, k_d=k_d_l, std=std_l,\n",
    "                epsilon=epsilon, length=length, \n",
    "                time=dimensional_time, artificial_flow=dimensional_exit_flow)\n",
    "        \n",
    "    E3 = energy(model=model_l, diffusivity_0=diffusivity0_l, diffusivity_1=diffusivity1_l,\n",
    "                k_a=k_a_l, k_d=k_d_l, std=std_l,\n",
    "                epsilon=epsilon, length=length, \n",
    "                time=dimensional_time, artificial_flow=dimensional_exit_flow)\n",
    "        \n",
    "    E4 = energy(model=model_lplus1, diffusivity_0=diffusivity0_lplus1, diffusivity_1=diffusivity1_lplus1,\n",
    "                k_a=k_a_lplus1, k_d=k_d_lplus1, std=std_lplus1,\n",
    "                epsilon=epsilon, length=length,\n",
    "                time=dimensional_time, artificial_flow=dimensional_exit_flow)\n",
    "    \n",
    "#    print(E1, E2, E3, E4)\n",
    "    \n",
    "    E = -beta_l*E1-beta_lplus1*E2+beta_l*E3+beta_lplus1*E4\n",
    "    \n",
    "#    print(E)\n",
    "    \n",
    "    return np.exp(E)\n",
    "\n",
    "print(r_prime(1, 1, 0.9, 1.5, 1.5, 20, 5, 5e-6, 1.0, 1.5, 1.49, 20, 5, 5e-6))"
   ]
  },
  {
   "cell_type": "code",
   "execution_count": 10,
   "metadata": {},
   "outputs": [
    {
     "name": "stdout",
     "output_type": "stream",
     "text": [
      "-91.5153328496 -106.988904209 -91.7190957649 -107.051185903\n",
      "-0.266044609522\n",
      "0.766404937781\n"
     ]
    }
   ],
   "source": [
    "def r_prime_(beta_l, beta_lplus1, model_l, diffusivity0_l, diffusivity1_l, k_a_l, k_d_l, std_l, \n",
    "            model_lplus1, diffusivity0_lplus1, diffusivity1_lplus1, k_a_lplus1, k_d_lplus1, std_lplus1, \n",
    "            epsilon=epsilon, length=length, time=dimensional_time, artificial_flow=dimensional_exit_flow):\n",
    "    \n",
    "#     bunsi1 = energy_(1.0, 1.5, 1.49, 20, 5, 5e-6)\n",
    "#     bunsi2 = energy_(0.9, 1.5, 1.5, 20, 5, 5e-6)\n",
    "#     bunbo1 = energy_(0.9, 1.5, 1.5, 20, 5, 5e-6)\n",
    "#     bunbo2 = energy(1.0, 1.5, 1.49, 20, 5, 5e-6)\n",
    "\n",
    "    bunsi1 = energy_(model_l, diffusivity0_lplus1, diffusivity1_lplus1, k_a_lplus1, k_d_lplus1, std_lplus1)\n",
    "    bunsi2 = energy_(model_lplus1, diffusivity0_l, diffusivity1_l, k_a_l, k_d_l, std_l)\n",
    "    bunbo1 = energy_(model_l, diffusivity0_l, diffusivity1_l, k_a_l, k_d_l, std_l)\n",
    "    bunbo2 = energy_(model_lplus1, diffusivity0_lplus1, diffusivity1_lplus1, k_a_lplus1, k_d_lplus1, std_lplus1)\n",
    "    \n",
    "    print(bunsi1, bunsi2, bunbo1, bunbo2)\n",
    "    \n",
    "    E_ = -beta_l*bunsi1 - beta_lplus1*bunsi2 + beta_l*bunbo1 + beta_lplus1*bunbo2\n",
    "    \n",
    "    print(E_)\n",
    "    \n",
    "    return np.exp(E_)\n",
    "\n",
    "print(r_prime_(1, 1, 0.9, 1.5, 1.5, 20, 5, 5e-6, 1.0, 1.5, 1.49, 20, 5, 5e-6))"
   ]
  },
  {
   "cell_type": "markdown",
   "metadata": {},
   "source": [
    "## 対数ベイズ因子の計算によるモデル選択\n",
    "\n",
    "対数ベイズ因子は\n",
    "\\begin{align}\n",
    "    \\ln\\frac{P\\left(M=1\\,|\\,{\\bf{F}}^{data}\\right)}{P\\left(M=0\\,|\\,{\\bf{F}}^{data}\\right)} = \\\n",
    "    \\int_{0}^{1}dM\\left\\langle\\frac{d\\ln P\\left({\\bf{F}}^{data}\\,|\\,\\theta, M\\right)}{dM} \\right\\rangle_{M}\n",
    "\\end{align}\n",
    "\n",
    "ただし被積分関数は\n",
    "\n",
    "\\begin{align}\n",
    "    \\left\\langle\\frac{d\\ln P\\left({\\bf{F}}^{data}\\,|\\,\\theta, M\\right)}{dM} \\right\\rangle_{M} &= -\\frac{d}{dM}E^{\\prime} \\\\\n",
    "    &= -\\frac{1}{\\sigma^{2}}\\sum_{\\mu=1}^{T}\\left(I_{\\mu}^{M=0}-I_{\\mu}^{M=1}\\right)\\left\\{I_{\\mu}^{data}-\\left(1-M\\right)I_{\\mu}^{M=0}-MI_{\\mu}^{M=1}\\right\\}\n",
    "\\end{align}\n",
    "\n",
    "と書ける。パラメータのサンプリング結果から被積分関数を数値的に求め，対数ベイズ因子を計算することによりモデル選択を行う。"
   ]
  },
  {
   "cell_type": "markdown",
   "metadata": {},
   "source": [
    "## 対数ベイズ因子の被積分関数の計算\n",
    "```python;title\n",
    "dlog_p\n",
    "```\n",
    "* input : $M, D_e^{(M=0)}, D_e^{(M=1}, k_a, k_d, \\sigma$ (全てスカラー)　\n",
    "* output : 被積分関数 dlog (スカラー)"
   ]
  },
  {
   "cell_type": "code",
   "execution_count": 11,
   "metadata": {},
   "outputs": [
    {
     "name": "stdout",
     "output_type": "stream",
     "text": [
      "-25.6943189783\n"
     ]
    }
   ],
   "source": [
    "def dlog_p(model, diffusivity_0, diffusivity_1, k_a, k_d, \n",
    "           std, time=dimensional_time, artificial_flow=dimensional_exit_flow, \n",
    "           epsilon=epsilon, length=length):\n",
    "    \n",
    "    dlogp = -1./(std**2) \\\n",
    "            *(\n",
    "                 (Flow(diffusivity=diffusivity_0, k_a=0, k_d=0, time=time, epsilon=epsilon, length=length) \\\n",
    "                  - Flow(diffusivity=diffusivity_1, k_a=k_a, k_d=k_d, time=time, epsilon=epsilon, length=length)) \\\n",
    "                 *(artificial_flow - (1-model)*Flow(diffusivity=diffusivity_0,\n",
    "                                                    k_a=0, k_d=0,\n",
    "                                                    time=time, epsilon=epsilon, length=length) \\\n",
    "                   - model*Flow(diffusivity=diffusivity_1, \n",
    "                                k_a=k_a, k_d=k_d, \n",
    "                                time=time, epsilon=epsilon, length=length)\\\n",
    "                   )\n",
    "              ).sum()\n",
    "           \n",
    "    return dlogp\n",
    "\n",
    "print(dlog_p(1, 1.49, 1.5, 20, 5, 5*10**-6))"
   ]
  },
  {
   "cell_type": "code",
   "execution_count": 18,
   "metadata": {},
   "outputs": [
    {
     "name": "stdout",
     "output_type": "stream",
     "text": [
      "-25.6943189783\n"
     ]
    }
   ],
   "source": [
    "def dlog_p_(model, diffusivity_0, diffusivity_1, k_a, k_d, \n",
    "           std, time=dimensional_time, artificial_flow=dimensional_exit_flow, \n",
    "           epsilo=epsilon, length=length):\n",
    "    dlogp = 0.\n",
    "    flow_0 = Flow(diffusivity=diffusivity_0, k_a=0, k_d=0, time=time, epsilon=epsilon, length=length)\n",
    "    flow_1 = Flow(diffusivity=diffusivity_1, k_a=k_a, k_d=k_d, time=time, epsilon=epsilon, length=length)\n",
    "    for t in range(time.shape[0]):\n",
    "        dlogp += (flow_0[t]-flow_1[t])*(artificial_flow[t]-(1-model)*flow_0[t]-model*flow_1[t])\n",
    "    dlogp *= -1./std**2\n",
    "    \n",
    "    return dlogp\n",
    "    \n",
    "print(dlog_p_(1, 1.49, 1.5, 20, 5, 5*10**-6))"
   ]
  },
  {
   "cell_type": "markdown",
   "metadata": {},
   "source": [
    "エネルギーの収束を確認したい．そのためにまず$t_0=100$とし$2t_0$mcsまで計算する．$t_0$~$2t_0$の結果からエネルギーの0次モーメントと1次モーメントを評価する．\n",
    "\n",
    "次に$2t_0$のときのパラメータ${\\bf{\\theta}}$の各値を初期値として，$4t_0$まで計算する．$2t_0$から$4t_0$までの結果(すなわち$2t_0$mcs)から再びモーメントを評価する．それを$t_0$~$2t_0$の結果と比較することで収束を確認する．\n",
    "\n",
    "次に$4t_0$のときの${\\bf{\\theta}}$の各値を初期値として，$8t_0$まで計算する．$4t_0$から$8t_0$までの結果(すなわち$4t_0$mcs)を使ってモーメントを評価する．それを今まで計算したモーメント値と比較することで収束を確かめる．\n",
    "\n",
    "以後，0次モーメントと1次モーメントが収束するまで同様の操作を帰納的に行う．以下のコードはそのためのアルゴリズムである．"
   ]
  },
  {
   "cell_type": "markdown",
   "metadata": {},
   "source": [
    "## 交換法のアルゴリズム\n",
    "\n",
    "```python;title\n",
    "exchange_monte_calro()\n",
    "```\n",
    "* 入力 : モンテカルロステップ数，逆温度$\\beta$，モデルパラメータ$M$, 各パラメータ$\\theta$の初期値配列($\\beta, M$は配列)\n",
    "* 出力 : $D_e^{(M=0)}, D_e^{(M=1)}, k_a, k_d, \\sigma, E^{\\prime}, dlogp$　((`model.shape[0]`, $T$)の2次元配列), pick, update, exchange_rate"
   ]
  },
  {
   "cell_type": "markdown",
   "metadata": {},
   "source": [
    "## アルゴリズムの変更点（2019年1月23日）\n",
    "\n",
    "* `np.random.permutation`を使って交換順序をばらばらにした。\n",
    "* MCMCの初期値を関数の引数から与えられるようにした⇒これによりMCMCを途中から走らせられることが可能になった。\n",
    "* 計算した交換確率と乱数をみて${\\bf{\\theta}}$が交換しているか否か確認"
   ]
  },
  {
   "cell_type": "code",
   "execution_count": 12,
   "metadata": {
    "collapsed": true
   },
   "outputs": [],
   "source": [
    "# def exchange_monte_calro(monte_calro_step, beta, model, idiffusivity_0, idiffusivity_1,\n",
    "#                          epsilon=epsilon, length=length,\n",
    "#                          time=dimensional_time, artificial_flow=dimensional_exit_flow):\n",
    "    \n",
    "#     diffusivity_0 = np.zeros([2*beta.shape[0], monte_calro_step])\n",
    "#     diffusivity_1 = np.zeros([2*beta.shape[0], monte_calro_step])\n",
    "#     Energy = np.zeros([2*beta.shape[0], monte_calro_step])\n",
    "#     pick = np.zeros([2*beta.shape[0], 5]); update = np.zeros([2*beta.shape[0], 5])\n",
    "#     exchange_count = np.zeros(2*beta.shape[0]-1)\n",
    "    \n",
    "#     \"\"\"initialize parameters\"\"\"\n",
    "    \n",
    "#     for i in range(2*beta.shape[0]):\n",
    "#         diffusivity_0[i, 0] = idiffusivity_0[i]; diffusivity_1[i, 0] = idiffusivity_1[i]\n",
    "#         if i < beta.shape[0]:\n",
    "#             Energy[i, 0] = energy(0, diffusivity_0[i, 0], diffusivity_1[i, 0], 20., 5., 5e-6)\n",
    "#         else:\n",
    "#             Energy[i, 0] = energy(1, diffusivity_0[i, 0], diffusivity_1[i, 0], 20., 5., 5e-6)\n",
    "# #    print(diffusivity_0, diffusivity_1)\n",
    "    \n",
    "#     t = 1\n",
    "\n",
    "#     while t < monte_calro_step:\n",
    "#         \"\"\"update parameters\"\"\"\n",
    "#         for b in range(2*beta.shape[0]):\n",
    "#             diffusivity_0[b, t] = diffusivity_0[b, t-1]; diffusivity_1[b, t] = diffusivity_1[b, t-1]\n",
    "#             Energy[b, t] = Energy[b, t-1]\n",
    "            \n",
    "#             choice = np.random.randint(0, 2); pick[b, choice] += 1\n",
    "#             if choice == 0:\n",
    "#                 diffusivity_0[b, t] += stats.uniform.rvs(loc=-1e-1, scale=2e-1)\n",
    "#             elif choice == 1:\n",
    "#                 diffusivity_1[b, t] += stats.uniform.rvs(loc=-1e-1, scale=2e-1)\n",
    "\n",
    "#             if b+1 <= beta.shape[0]:\n",
    "#                 model = 0\n",
    "#                 inv_temp = beta[b]\n",
    "#             else:\n",
    "#                 model = 1\n",
    "#                 inv_temp = beta[2*beta.shape[0]-1-b]\n",
    "            \n",
    "            \n",
    "# #            print('model=',model, 'beta=', inv_temp)\n",
    "#             transition_prob, e_cand, e_current = r(inv_temp, model, model,\n",
    "#                                                    diffusivity_0[b, t], diffusivity_1[b, t],\n",
    "#                                                    20., 5., 5e-6,\n",
    "#                                                    diffusivity_0[b, t-1], diffusivity_1[b, t-1],\n",
    "#                                                    20., 5., 5e-6)\n",
    "            \n",
    "#             if np.array([1.0, transition_prob]).min() > stats.uniform.rvs():\n",
    "#                 Energy[b, t] = e_cand\n",
    "#                 update[b, choice] += 1\n",
    "#             else:\n",
    "#                 diffusivity_0[b, t] = diffusivity_0[b, t-1]; diffusivity_1[b, t] = diffusivity_1[b, t-1]\n",
    "                \n",
    "# #        print('Energy=', Energy)\n",
    "        \n",
    "#         y = np.random.permutation(2*beta.shape[0]-1)\n",
    "# #        print(y)\n",
    "        \n",
    "#         \"\"\"exchange parameters\"\"\"\n",
    "#         for b in y:\n",
    "#             if b < beta.shape[0]-1:\n",
    "#                 beta_l, beta_lplus1 = beta[b], beta[b+1]\n",
    "#                 model_l, model_lplus1 = 0., 0.\n",
    "#             elif b == beta.shape[0]-1:\n",
    "#                 beta_l, beta_lplus1 = beta[b], beta[b]\n",
    "#                 model_l, model_lplus1 = 0., 1.0\n",
    "#             elif b > beta.shape[0]-1:\n",
    "#                 beta_l, beta_lplus1 = beta[2*beta.shape[0]-1-b], beta[2*beta.shape[0]-1-b-1]\n",
    "#                 model_l, model_lplus1 = 1.0, 1.0\n",
    "                \n",
    "# #            print('model_l=', model_l,'model_l+1=', model_lplus1,'beta_l=', beta_l, 'beta_l+1=', beta_lplus1)\n",
    "            \n",
    "#             exchange_prob = r_prime(beta_l, beta_lplus1,\n",
    "#                                     model_l, diffusivity_0[b, t], diffusivity_1[b, t],\n",
    "#                                     20., 5., 5e-6, \n",
    "#                                     model_lplus1, diffusivity_0[b+1, t], diffusivity_1[b+1, t],\n",
    "#                                     20., 5., 5e-6)\n",
    "            \n",
    "#             #print(exchange_prob)\n",
    "            \n",
    "#             if np.array([1.0, exchange_prob]).min() > stats.uniform.rvs():\n",
    "#                 diffusivity_0[b, t], diffusivity_0[b+1, t] = diffusivity_0[b+1, t], diffusivity_0[b, t]\n",
    "#                 diffusivity_1[b, t], diffusivity_1[b+1, t] = diffusivity_1[b+1, t], diffusivity_1[b, t]\n",
    "#                 Energy[b, t], Energy[b+1, t] = Energy[b+1, t], Energy[b, t]\n",
    "#                 exchange_count[b] += 1\n",
    "                \n",
    "# #                print('Exchange:, Energy=', Energy)\n",
    " \n",
    "#         t += 1\n",
    "                \n",
    "#     return diffusivity_0, diffusivity_1, Energy, pick, update, exchange_count"
   ]
  },
  {
   "cell_type": "code",
   "execution_count": 12,
   "metadata": {
    "collapsed": true
   },
   "outputs": [],
   "source": [
    "def exchange_monte_calro(monte_calro_step, beta, model, idiffusivity_0, idiffusivity_1, \n",
    "                         ik_a, ik_d, isigma,\n",
    "                         epsilon=epsilon, length=length, \n",
    "                         time=dimensional_time, artificial_flow=dimensional_exit_flow):\n",
    "    \n",
    "    diffusivity_0 = np.zeros([2*beta.shape[0], monte_calro_step])\n",
    "    diffusivity_1 = np.zeros([2*beta.shape[0], monte_calro_step])\n",
    "    k_a = np.zeros([2*beta.shape[0], monte_calro_step])\n",
    "    k_d = np.zeros([2*beta.shape[0], monte_calro_step])\n",
    "    sigma = np.zeros([2*beta.shape[0], monte_calro_step])\n",
    "    Energy = np.zeros([2*beta.shape[0], monte_calro_step])\n",
    "    pick = np.zeros([2*beta.shape[0], 5]); update = np.zeros([2*beta.shape[0], 5])\n",
    "    exchange_count = np.zeros(2*beta.shape[0]-1)\n",
    "    \n",
    "    \"\"\"initialize parameters\"\"\"\n",
    "    \n",
    "    for i in range(2*beta.shape[0]):\n",
    "        diffusivity_0[i, 0] = idiffusivity_0[i]; diffusivity_1[i, 0] = idiffusivity_1[i]\n",
    "        k_a[i, 0] = ik_a[i]; k_d[i, 0] = ik_d[i]; sigma[i, 0] = isigma[i]\n",
    "        if i < beta.shape[0]:\n",
    "            Energy[i, 0] = energy(0, diffusivity_0[i, 0], diffusivity_1[i, 0], k_a[i, 0], k_d[i, 0], sigma[i, 0])\n",
    "        else:\n",
    "            Energy[i, 0] = energy(1, diffusivity_0[i, 0], diffusivity_1[i, 0], k_a[i, 0], k_d[i, 0], sigma[i, 0])\n",
    "    \n",
    "    t = 1\n",
    "\n",
    "    while t < monte_calro_step:\n",
    "        \"\"\"update parameters\"\"\"\n",
    "        for b in range(2*beta.shape[0]):\n",
    "            diffusivity_0[b, t] = diffusivity_0[b, t-1]; diffusivity_1[b, t] = diffusivity_1[b, t-1]\n",
    "            k_a[b, t] = k_a[b, t-1]; k_d[b, t] = k_d[b, t-1]; sigma[b, t] = sigma[b, t-1]\n",
    "            Energy[b, t] = Energy[b, t-1]\n",
    "            \n",
    "            choice = np.random.randint(0, 5); pick[b, choice] += 1\n",
    "            if choice == 0:\n",
    "                diffusivity_0[b, t] += stats.uniform.rvs(loc=-1e-1, scale=2e-1)\n",
    "            elif choice == 1:\n",
    "                diffusivity_1[b, t] += stats.uniform.rvs(loc=-1e-1, scale=2e-1)\n",
    "            elif choice == 2:\n",
    "                k_a[b, t] += stats.uniform.rvs(loc=-1e-1, scale=2e-1)\n",
    "            elif choice == 3:\n",
    "                k_d[b, t] += stats.uniform.rvs(loc=-1e-1, scale=2e-1)\n",
    "            elif choice == 4:\n",
    "                sigma[b, t] += stats.uniform.rvs(loc=-1e-6, scale=2e-6)\n",
    "            \n",
    "            if b+1 <= beta.shape[0]:\n",
    "                model = 0\n",
    "                inv_temp = beta[b]\n",
    "            else:\n",
    "                model = 1\n",
    "                inv_temp = beta[2*beta.shape[0]-1-b]\n",
    "            \n",
    "            \n",
    "#            print('model=',model, 'beta=', inv_temp)\n",
    "            transition_prob, e_cand, e_current = r(inv_temp, model, model,\n",
    "                                                   diffusivity_0[b, t], diffusivity_1[b, t],\n",
    "                                                   k_a[b, t], k_d[b, t], sigma[b, t],\n",
    "                                                   diffusivity_0[b, t-1], diffusivity_1[b, t-1],\n",
    "                                                   k_a[b, t-1], k_d[b, t-1], sigma[b, t-1])\n",
    "            \n",
    "            if np.array([1.0, transition_prob]).min() > stats.uniform.rvs():\n",
    "                Energy[b, t] = e_cand\n",
    "                update[b, choice] += 1\n",
    "            else:\n",
    "                diffusivity_0[b, t] = diffusivity_0[b, t-1]; diffusivity_1[b, t] = diffusivity_1[b, t-1]\n",
    "                k_a[b, t] = k_a[b, t-1]; k_d[b, t] = k_d[b, t-1]; sigma[b, t] = sigma[b, t-1]\n",
    "        \n",
    " #       print('Energy=', Energy)\n",
    "        \n",
    "        \"\"\"exchange parameters\"\"\"\n",
    "        y = np.random.permutation(2*beta.shape[0]-1)\n",
    "  #      print(y)\n",
    "        \n",
    "        for b in y:\n",
    "            if b < beta.shape[0]-1:\n",
    "                beta_l, beta_lplus1 = beta[b], beta[b+1]\n",
    "                model_l, model_lplus1 = 0., 0.\n",
    "            elif b == beta.shape[0]-1:\n",
    "                beta_l, beta_lplus1 = beta[b], beta[b]\n",
    "                model_l, model_lplus1 = 0., 1.0\n",
    "            elif b > beta.shape[0]-1:\n",
    "                beta_l, beta_lplus1 = beta[2*beta.shape[0]-1-b], beta[2*beta.shape[0]-1-b-1]\n",
    "                model_l, model_lplus1 = 1.0, 1.0\n",
    "                \n",
    "#            print('model_l=', model_l,'model_l+1=', model_lplus1, 'beta_l=', beta_l, 'beta_l+1', beta_lplus1)\n",
    "            \n",
    "            exchange_prob = r_prime(beta_l, beta_lplus1,\n",
    "                                    model_l, diffusivity_0[b, t], diffusivity_1[b, t],\n",
    "                                    k_a[b, t], k_d[b, t], sigma[b, t], \n",
    "                                    model_lplus1, diffusivity_0[b+1, t], diffusivity_1[b+1, t],\n",
    "                                    k_a[b+1, t], k_d[b+1, t], sigma[b+1, t])\n",
    "        \n",
    "#            print('exchagne_prob=', exchange_prob)\n",
    "            \n",
    "            ransu = stats.uniform.rvs()\n",
    "#            print('ransu=', ransu)\n",
    "            \n",
    "            if np.array([1.0, exchange_prob]).min() > ransu:#stats.uniform.rvs():\n",
    "                diffusivity_0[b, t], diffusivity_0[b+1, t] = diffusivity_0[b+1, t], diffusivity_0[b, t]\n",
    "                diffusivity_1[b, t], diffusivity_1[b+1, t] = diffusivity_1[b+1, t], diffusivity_1[b, t]\n",
    "                k_a[b, t], k_a[b+1, t] = k_a[b+1, t], k_a[b, t]; k_d[b, t], k_d[b+1, t] = k_d[b+1, t], k_d[b, t]\n",
    "                sigma[b, t], sigma[b+1, t] = sigma[b+1, t], sigma[b, t]\n",
    "                Energy[b, t], Energy[b+1, t] = Energy[b+1, t], Energy[b, t]\n",
    "                exchange_count[b] += 1\n",
    "                \n",
    "#                print('Exchange:, Energy=', Energy)\n",
    "#                print('\\n')\n",
    " \n",
    "        t += 1\n",
    "                \n",
    "    return diffusivity_0, diffusivity_1, k_a, k_d, sigma, Energy, pick, update, exchange_count"
   ]
  },
  {
   "cell_type": "code",
   "execution_count": 15,
   "metadata": {},
   "outputs": [
    {
     "name": "stdout",
     "output_type": "stream",
     "text": [
      "Wall time: 198 ms\n"
     ]
    },
    {
     "name": "stderr",
     "output_type": "stream",
     "text": [
      "C:\\Users\\anbaigashi\\Anaconda3\\lib\\site-packages\\ipykernel_launcher.py:26: RuntimeWarning: overflow encountered in exp\n"
     ]
    }
   ],
   "source": [
    "%%time\n",
    "\n",
    "id0 = np.full(2*beta.shape[0], 5, dtype=float)\n",
    "id1 = np.full(2*beta.shape[0], 5, dtype=float)\n",
    "ika = np.full(2*beta.shape[0], 10, dtype=float)\n",
    "ikd = np.full(2*beta.shape[0], 10, dtype=float)\n",
    "isig = np.full(2*beta.shape[0], 2e-6, dtype=float)\n",
    "\n",
    "mcs = 5\n",
    "\n",
    "d0, d1, ka, kd, s, e, pick, update, exchange_count = exchange_monte_calro(mcs, beta, [0, 1], id0, id1, ika, ikd, isig)"
   ]
  },
  {
   "cell_type": "code",
   "execution_count": 13,
   "metadata": {},
   "outputs": [
    {
     "name": "stderr",
     "output_type": "stream",
     "text": [
      "C:\\Users\\anbaigashi\\Anaconda3\\lib\\site-packages\\ipykernel_launcher.py:26: RuntimeWarning: overflow encountered in exp\n"
     ]
    },
    {
     "name": "stdout",
     "output_type": "stream",
     "text": [
      "Wall time: 5.35 s\n"
     ]
    }
   ],
   "source": [
    "%%time\n",
    "\n",
    "temp = np.array([1, 2])\n",
    "beta = 1./temp\n",
    "#print(beta)\n",
    "\n",
    "mcs =200\n",
    "id0 = np.full(2*beta.shape[0], 5, dtype=float)\n",
    "id1 = np.full(2*beta.shape[0], 5, dtype=float)\n",
    "ika = np.full(2*beta.shape[0], 10, dtype=float)\n",
    "ikd = np.full(2*beta.shape[0], 10, dtype=float)\n",
    "isig = np.full(2*beta.shape[0], 2e-6, dtype=float)\n",
    "\n",
    "d0, d1, ka, kd, s, e, pick, update, exchange_count = exchange_monte_calro(mcs, beta, [0, 1], id0, id1, ika, ikd, isig)"
   ]
  },
  {
   "cell_type": "code",
   "execution_count": 13,
   "metadata": {},
   "outputs": [
    {
     "name": "stderr",
     "output_type": "stream",
     "text": [
      "C:\\Users\\anbaigashi\\Anaconda3\\lib\\site-packages\\ipykernel_launcher.py:26: RuntimeWarning: overflow encountered in exp\n",
      "C:\\Users\\anbaigashi\\Anaconda3\\lib\\site-packages\\ipykernel_launcher.py:31: RuntimeWarning: overflow encountered in exp\n",
      "C:\\Users\\anbaigashi\\Anaconda3\\lib\\site-packages\\ipykernel_launcher.py:57: RuntimeWarning: overflow encountered in exp\n",
      "C:\\Users\\anbaigashi\\Anaconda3\\lib\\site-packages\\ipykernel_launcher.py:57: RuntimeWarning: invalid value encountered in add\n",
      "C:\\Users\\anbaigashi\\Anaconda3\\lib\\site-packages\\ipykernel_launcher.py:57: RuntimeWarning: overflow encountered in multiply\n",
      "C:\\Users\\anbaigashi\\Anaconda3\\lib\\site-packages\\ipykernel_launcher.py:16: RuntimeWarning: overflow encountered in square\n",
      "  app.launch_new_instance()\n"
     ]
    },
    {
     "name": "stdout",
     "output_type": "stream",
     "text": [
      "Wall time: 24min 39s\n"
     ]
    }
   ],
   "source": [
    "%%time\n",
    "\n",
    "temp = np.array([1, 100])\n",
    "beta = 1./temp\n",
    "\n",
    "mcs = 25600\n",
    "id0 = np.full(2*beta.shape[0], 5, dtype=float)\n",
    "id1 = np.full(2*beta.shape[0], 5, dtype=float)\n",
    "ika = np.full(2*beta.shape[0], 10, dtype=float)\n",
    "ikd = np.full(2*beta.shape[0], 10, dtype=float)\n",
    "isig = np.full(2*beta.shape[0], 2e-6, dtype=float)\n",
    "\n",
    "d0_1, d1_1, ka_1, kd_1, s_1, e_1, pick_1, update_1, exchange_count_1 = exchange_monte_calro(mcs, beta, [0, 1], id0, id1, ika, ikd, isig)"
   ]
  },
  {
   "cell_type": "code",
   "execution_count": 14,
   "metadata": {},
   "outputs": [
    {
     "name": "stderr",
     "output_type": "stream",
     "text": [
      "C:\\Users\\anbaigashi\\Anaconda3\\lib\\site-packages\\ipykernel_launcher.py:31: RuntimeWarning: overflow encountered in exp\n",
      "C:\\Users\\anbaigashi\\Anaconda3\\lib\\site-packages\\ipykernel_launcher.py:26: RuntimeWarning: overflow encountered in exp\n"
     ]
    },
    {
     "name": "stdout",
     "output_type": "stream",
     "text": [
      "Wall time: 26min 25s\n"
     ]
    }
   ],
   "source": [
    "%%time\n",
    "\n",
    "#mcs =51200\n",
    "id0 = np.full(2*beta.shape[0], 5, dtype=float)\n",
    "id1 = np.full(2*beta.shape[0], 5, dtype=float)\n",
    "ika = np.full(2*beta.shape[0], 10, dtype=float)\n",
    "ikd = np.full(2*beta.shape[0], 10, dtype=float)\n",
    "isig = np.full(2*beta.shape[0], 2e-6, dtype=float)\n",
    "\n",
    "d0_2, d1_2, ka_2, kd_2, s_2, e_2, pick_2, update_2, exchange_count_2 = exchange_monte_calro(mcs, beta, [0, 1], id0, id1, ika, ikd, isig)"
   ]
  },
  {
   "cell_type": "code",
   "execution_count": 15,
   "metadata": {},
   "outputs": [
    {
     "name": "stderr",
     "output_type": "stream",
     "text": [
      "C:\\Users\\anbaigashi\\Anaconda3\\lib\\site-packages\\ipykernel_launcher.py:31: RuntimeWarning: overflow encountered in exp\n",
      "C:\\Users\\anbaigashi\\Anaconda3\\lib\\site-packages\\ipykernel_launcher.py:26: RuntimeWarning: overflow encountered in exp\n",
      "C:\\Users\\anbaigashi\\Anaconda3\\lib\\site-packages\\ipykernel_launcher.py:57: RuntimeWarning: overflow encountered in exp\n",
      "C:\\Users\\anbaigashi\\Anaconda3\\lib\\site-packages\\ipykernel_launcher.py:57: RuntimeWarning: invalid value encountered in add\n",
      "C:\\Users\\anbaigashi\\Anaconda3\\lib\\site-packages\\ipykernel_launcher.py:57: RuntimeWarning: overflow encountered in multiply\n"
     ]
    },
    {
     "name": "stdout",
     "output_type": "stream",
     "text": [
      "Wall time: 25min 43s\n"
     ]
    }
   ],
   "source": [
    "%%time\n",
    "\n",
    "#mcs =51200\n",
    "id0 = np.full(2*beta.shape[0], 5, dtype=float)\n",
    "id1 = np.full(2*beta.shape[0], 5, dtype=float)\n",
    "ika = np.full(2*beta.shape[0], 10, dtype=float)\n",
    "ikd = np.full(2*beta.shape[0], 10, dtype=float)\n",
    "isig = np.full(2*beta.shape[0], 2e-6, dtype=float)\n",
    "\n",
    "d0_3, d1_3, ka_3, kd_3, s_3, e_3, pick_3, update_3, exchange_count_3 = exchange_monte_calro(mcs, beta, [0, 1], id0, id1, ika, ikd, isig)"
   ]
  },
  {
   "cell_type": "code",
   "execution_count": 16,
   "metadata": {},
   "outputs": [
    {
     "name": "stderr",
     "output_type": "stream",
     "text": [
      "C:\\Users\\anbaigashi\\Anaconda3\\lib\\site-packages\\ipykernel_launcher.py:31: RuntimeWarning: overflow encountered in exp\n",
      "C:\\Users\\anbaigashi\\Anaconda3\\lib\\site-packages\\ipykernel_launcher.py:26: RuntimeWarning: overflow encountered in exp\n",
      "C:\\Users\\anbaigashi\\Anaconda3\\lib\\site-packages\\ipykernel_launcher.py:57: RuntimeWarning: overflow encountered in exp\n",
      "C:\\Users\\anbaigashi\\Anaconda3\\lib\\site-packages\\ipykernel_launcher.py:57: RuntimeWarning: invalid value encountered in add\n",
      "C:\\Users\\anbaigashi\\Anaconda3\\lib\\site-packages\\ipykernel_launcher.py:57: RuntimeWarning: overflow encountered in multiply\n",
      "C:\\Users\\anbaigashi\\Anaconda3\\lib\\site-packages\\ipykernel_launcher.py:12: RuntimeWarning: invalid value encountered in multiply\n",
      "  if sys.path[0] == '':\n",
      "C:\\Users\\anbaigashi\\Anaconda3\\lib\\site-packages\\ipykernel_launcher.py:16: RuntimeWarning: overflow encountered in square\n",
      "  app.launch_new_instance()\n",
      "C:\\Users\\anbaigashi\\Anaconda3\\lib\\site-packages\\ipykernel_launcher.py:58: RuntimeWarning: overflow encountered in multiply\n"
     ]
    },
    {
     "name": "stdout",
     "output_type": "stream",
     "text": [
      "Wall time: 25min 44s\n"
     ]
    }
   ],
   "source": [
    "%%time\n",
    "\n",
    "#mcs =51200\n",
    "id0 = np.full(2*beta.shape[0], 5, dtype=float)\n",
    "id1 = np.full(2*beta.shape[0], 5, dtype=float)\n",
    "ika = np.full(2*beta.shape[0], 10, dtype=float)\n",
    "ikd = np.full(2*beta.shape[0], 10, dtype=float)\n",
    "isig = np.full(2*beta.shape[0], 2e-6, dtype=float)\n",
    "\n",
    "d0_4, d1_4, ka_4, kd_4, s_4, e_4, pick_4, update_4, exchange_count_4 = exchange_monte_calro(mcs, beta, [0, 1], id0, id1, ika, ikd, isig)"
   ]
  },
  {
   "cell_type": "code",
   "execution_count": 17,
   "metadata": {},
   "outputs": [
    {
     "name": "stderr",
     "output_type": "stream",
     "text": [
      "C:\\Users\\anbaigashi\\Anaconda3\\lib\\site-packages\\ipykernel_launcher.py:31: RuntimeWarning: overflow encountered in exp\n",
      "C:\\Users\\anbaigashi\\Anaconda3\\lib\\site-packages\\ipykernel_launcher.py:26: RuntimeWarning: overflow encountered in exp\n",
      "C:\\Users\\anbaigashi\\Anaconda3\\lib\\site-packages\\ipykernel_launcher.py:57: RuntimeWarning: overflow encountered in exp\n",
      "C:\\Users\\anbaigashi\\Anaconda3\\lib\\site-packages\\ipykernel_launcher.py:57: RuntimeWarning: invalid value encountered in add\n",
      "C:\\Users\\anbaigashi\\Anaconda3\\lib\\site-packages\\ipykernel_launcher.py:57: RuntimeWarning: overflow encountered in multiply\n",
      "C:\\Users\\anbaigashi\\Anaconda3\\lib\\site-packages\\ipykernel_launcher.py:16: RuntimeWarning: overflow encountered in square\n",
      "  app.launch_new_instance()\n"
     ]
    },
    {
     "name": "stdout",
     "output_type": "stream",
     "text": [
      "Wall time: 25min 58s\n"
     ]
    }
   ],
   "source": [
    "%%time\n",
    "\n",
    "#mcs =51200\n",
    "id0 = np.full(2*beta.shape[0], 5, dtype=float)\n",
    "id1 = np.full(2*beta.shape[0], 5, dtype=float)\n",
    "ika = np.full(2*beta.shape[0], 10, dtype=float)\n",
    "ikd = np.full(2*beta.shape[0], 10, dtype=float)\n",
    "isig = np.full(2*beta.shape[0], 2e-6, dtype=float)\n",
    "\n",
    "d0_5, d1_5, ka_5, kd_5, s_5, e_5, pick_5, update_5, exchange_count_5 = exchange_monte_calro(mcs, beta, [0, 1], id0, id1, ika, ikd, isig)"
   ]
  },
  {
   "cell_type": "code",
   "execution_count": 18,
   "metadata": {},
   "outputs": [
    {
     "name": "stdout",
     "output_type": "stream",
     "text": [
      "[ 0.  0.  0.  0.  0.  0.  0.  0.]\n",
      "200 400\n",
      "400 800\n",
      "800 1600\n",
      "1600 3200\n",
      "3200 6400\n",
      "6400 12800\n",
      "12800 25600\n",
      "25600 51200\n",
      "[ 594.64224366   21.8994429   -73.29357565  -85.24728646  -90.73742056\n",
      "  -90.60274528  -94.10987905 -105.42914783]\n"
     ]
    }
   ],
   "source": [
    "Energy1 = np.zeros(8, dtype=float)\n",
    "print(Energy1)\n",
    "\n",
    "t0 = 100\n",
    "start = t0\n",
    "end = 2*t0\n",
    "\n",
    "for i in range(Energy1.shape[0]):\n",
    "    Energy1[i] = e_1[3, start:end].mean(axis=0)\n",
    "    start = end\n",
    "    end = 2*end\n",
    "    print(start, end)\n",
    "    \n",
    "print(Energy1)"
   ]
  },
  {
   "cell_type": "code",
   "execution_count": 21,
   "metadata": {},
   "outputs": [
    {
     "name": "stdout",
     "output_type": "stream",
     "text": [
      "[ 592.95212085   89.99570414  -63.18043925  -89.26971938  -97.14468148\n",
      " -104.87735549 -105.9095712  -105.62049689]\n",
      "[ 717.53252789  119.85135181  -63.24449412  -85.40420207  -92.69771494\n",
      "  -90.22109712 -103.36836554 -105.40710766]\n",
      "[ 733.49166906  214.25250418  -39.93540757  -81.02125586  -90.99876753\n",
      " -102.99633831 -105.94042965 -105.76426968]\n",
      "[ 444.02302575   55.0958704   -59.37099078  -91.39053411  -99.23344351\n",
      " -104.22354155 -104.16940089 -103.47245487]\n",
      "[ 616.52831744  100.21897469  -59.80498147  -86.46659957  -94.1624056\n",
      "  -98.58421555 -102.69952927 -105.13869539]\n"
     ]
    }
   ],
   "source": [
    "Energy2 = np.zeros(8, dtype=float)\n",
    "Energy3 = np.zeros(8, dtype=float)\n",
    "Energy4 = np.zeros(8, dtype=float)\n",
    "Energy5 = np.zeros(8, dtype=float)\n",
    "\n",
    "t0 = 100\n",
    "start = t0\n",
    "end = 2*t0\n",
    "\n",
    "for i in range(Energy2.shape[0]):\n",
    "    Energy2[i] = e_2[3, start:end].mean(axis=0)\n",
    "    Energy3[i] = e_3[3, start:end].mean(axis=0)\n",
    "    Energy4[i] = e_4[3, start:end].mean(axis=0)\n",
    "    Energy5[i] = e_5[3, start:end].mean(axis=0)\n",
    "    start = end\n",
    "    end = 2*end\n",
    "\n",
    "print(Energy2); print(Energy3); print(Energy4); print(Energy5)\n",
    "\n",
    "Energy = np.zeros(8, dtype=float)\n",
    "for i in range(Energy.shape[0]):\n",
    "    Energy[i] = Energy1[i] + Energy2[i] + Energy3[i] + Energy4[i] + Energy5[i]\n",
    "    Energy[i] /= 5\n",
    "    \n",
    "print(Energy)"
   ]
  },
  {
   "cell_type": "code",
   "execution_count": 22,
   "metadata": {},
   "outputs": [],
   "source": [
    "Energy_ = np.array([809.04190869, 74.0530032, -62.51794663, -87.44353551, -92.07133577, \n",
    "                  -99.35550161, -104.7222272, -105.21915275])\n",
    "Energy_stand_dev_ = np.array([4.28675465e+02, 4.95078023e+01, 4.00782509e+00, 3.32210889e+00, \n",
    "                            3.08010633e+00, 3.96591504e+00, 8.55431734e-01, 3.54658151e-01])\n",
    "\n",
    "Sigma_ = np.array([9.51312461e-06, 1.73167833e-05, 2.86057430e-05, 3.77823640e-05, \n",
    "                 3.73274993e-05, 1.86322145e-05, 7.70005524e-06, 7.14703462e-06])\n",
    "Sigma_stand_dev_ = np.array([1.40238576e-06, 2.29656867e-06, 1.59883621e-06, 4.78970854e-06, \n",
    "                           9.26879005e-06, 8.62661164e-06, 1.01978839e-06, 2.08628583e-07])"
   ]
  },
  {
   "cell_type": "code",
   "execution_count": 4,
   "metadata": {
    "collapsed": true
   },
   "outputs": [],
   "source": [
    "Energy_non = np.array([576.91296064, 48.29297415, -66.92908721, -90.35940867, -99.80092947, -104.98868439, -105.54913588, \n",
    "                      -105.09786441, -105.22423269])\n",
    "Energy_stand_dev_non = np.array([300.81145938, 48.07590203, 7.85706244, 4.89160079, 3.67279007, 1.43856314, 0.5725806, \n",
    "                                0.63224629, 0.57167949])\n",
    "\n",
    "Sigma_non = np.array([9.83829791e-06, 1.75379598e-05, 2.78869927e-05, 3.18268096e-05, 1.98046051e-05, 8.28888638e-06, 6.82844408e-06, \n",
    "                     7.63783728e-06, 7.31906284e-06])\n",
    "Sigma_stand_dev_non = np.array([1.59547696e-06, 2.01924842e-06, 2.75467250e-06, 5.69468718e-06, 7.33070042e-06, 2.33769097e-06, \n",
    "                               4.80185834e-07, 9.33027217e-07, 7.02368657e-07])"
   ]
  },
  {
   "cell_type": "code",
   "execution_count": 23,
   "metadata": {},
   "outputs": [
    {
     "name": "stdout",
     "output_type": "stream",
     "text": [
      "[ 116.91363167   73.59285791   12.24902497    4.01153938    3.82406335\n",
      "    7.49196324    4.92944621    0.94289993]\n"
     ]
    }
   ],
   "source": [
    "Energy_variance = np.zeros(8, dtype=float)\n",
    "Energy_stand_dev = np.zeros(8, dtype=float)\n",
    "\n",
    "for i in range(Energy_variance.shape[0]):\n",
    "    Energy_variance[i] = (Energy1[i] - Energy[i])**2 + (Energy2[i] - Energy[i])**2 + (Energy3[i] - Energy[i])**2 + \\\n",
    "                    (Energy4[i] - Energy[i])**2 + (Energy5[i] - Energy[i])**2\n",
    "    Energy_variance[i] /= 4.\n",
    "    \n",
    "Energy_stand_dev = np.sqrt(Energy_variance)\n",
    "print(Energy_stand_dev)"
   ]
  },
  {
   "cell_type": "code",
   "execution_count": 28,
   "metadata": {},
   "outputs": [
    {
     "data": {
      "image/png": "[encoded data removed]",
      "text/plain": [
       "<matplotlib.figure.Figure at 0x1971ed98908>"
      ]
     },
     "metadata": {},
     "output_type": "display_data"
    }
   ],
   "source": [
    "fig = plt.figure(figsize=(7, 6))\n",
    "ax = fig.add_subplot(111)\n",
    "\n",
    "ax.errorbar(np.array([100, 200, 400, 800, 1600, 3200, 6400, 12800]), Energy, yerr=Energy_stand_dev, fmt='o')\n",
    "\n",
    "ax.set_xlabel('Time')\n",
    "ax.set_ylabel('$<E>$')\n",
    "\n",
    "ax.set_xscale('log')\n",
    "\n",
    "plt.legend(loc='upper left')\n",
    "\n",
    "#plt.savefig('teireikai_20190206fig1_beta=1-M=1.png')\n",
    "\n",
    "plt.show()"
   ]
  },
  {
   "cell_type": "code",
   "execution_count": 29,
   "metadata": {},
   "outputs": [
    {
     "data": {
      "image/png": "[encoded data removed]",
      "text/plain": [
       "<matplotlib.figure.Figure at 0x197210ea2b0>"
      ]
     },
     "metadata": {},
     "output_type": "display_data"
    }
   ],
   "source": [
    "fig = plt.figure(figsize=(7, 6))\n",
    "ax = fig.add_subplot(111)\n",
    "\n",
    "ax.errorbar(np.array([100, 200, 400, 800, 1600, 3200, 6400, 12800]), Energy, yerr=Energy_stand_dev, fmt='o')\n",
    "\n",
    "ax.set_xlabel('Time')\n",
    "ax.set_ylabel('$<E>$')\n",
    "\n",
    "#ax.set_xlim(3000, 256800)\n",
    "ax.set_ylim(-110, -100)\n",
    "\n",
    "ax.set_xscale('log')\n",
    "\n",
    "plt.legend(loc='upper left')\n",
    "\n",
    "#plt.savefig('teireikai_20190206fig1.2_beta=1-M=1.png')\n",
    "\n",
    "plt.show()"
   ]
  },
  {
   "cell_type": "code",
   "execution_count": 34,
   "metadata": {},
   "outputs": [
    {
     "name": "stdout",
     "output_type": "stream",
     "text": [
      "[  9.91606499e-06   1.68856715e-05   2.93237897e-05   3.60463751e-05\n",
      "   2.75587207e-05   1.62283952e-05   7.89533805e-06   7.15289164e-06]\n"
     ]
    }
   ],
   "source": [
    "sigma1 = np.zeros(8, dtype=float)\n",
    "sigma2 = np.zeros(8, dtype=float)\n",
    "sigma3 = np.zeros(8, dtype=float)\n",
    "sigma4 = np.zeros(8, dtype=float)\n",
    "sigma5 = np.zeros(8, dtype=float)\n",
    "\n",
    "t0 = 100\n",
    "start = t0\n",
    "end = 2*t0\n",
    "\n",
    "for i in range(sigma1.shape[0]):\n",
    "    sigma1[i] = s_2[3, start:end].mean(axis=0)\n",
    "    sigma2[i] = s_2[3, start:end].mean(axis=0)\n",
    "    sigma3[i] = s_3[3, start:end].mean(axis=0)\n",
    "    sigma4[i] = s_4[3, start:end].mean(axis=0)\n",
    "    sigma5[i] = s_5[3, start:end].mean(axis=0)\n",
    "    start = end\n",
    "    end = 2*end\n",
    "\n",
    "Sigma = np.zeros(8, dtype=float)\n",
    "for i in range(Energy.shape[0]):\n",
    "    Sigma[i] = sigma1[i] + sigma2[i] + sigma3[i] + sigma4[i] + sigma5[i]\n",
    "    Sigma[i] /= 5\n",
    "    \n",
    "print(Sigma)"
   ]
  },
  {
   "cell_type": "code",
   "execution_count": 35,
   "metadata": {},
   "outputs": [
    {
     "name": "stdout",
     "output_type": "stream",
     "text": [
      "[  7.58268896e-07   1.64494339e-06   2.00757748e-06   4.00689428e-06\n",
      "   8.37395187e-06   1.64412434e-05   2.45544306e-06   1.14632682e-06]\n"
     ]
    }
   ],
   "source": [
    "Sigma_variance = np.zeros(8, dtype=float)\n",
    "Sigma_stand_dev = np.zeros(8, dtype=float)\n",
    "\n",
    "for i in range(Sigma_variance.shape[0]):\n",
    "    Sigma_variance[i] = (sigma1[i] - Sigma[i])**2 + (sigma2[i] - Sigma[i])**2 + (sigma3[i] - Sigma[i])**2 + \\\n",
    "                    (sigma4[i] - Sigma[i])**2 + (sigma5[i] - Sigma[i])**2\n",
    "    Sigma_variance[i] /= 4.\n",
    "    \n",
    "Sigma_stand_dev = np.sqrt(Sigma_variance)\n",
    "print(Sigma_stand_dev)"
   ]
  },
  {
   "cell_type": "code",
   "execution_count": 34,
   "metadata": {},
   "outputs": [
    {
     "data": {
      "image/png": "[encoded data removed]",
      "text/plain": [
       "<matplotlib.figure.Figure at 0x1971ee104a8>"
      ]
     },
     "metadata": {},
     "output_type": "display_data"
    }
   ],
   "source": [
    "fig = plt.figure(figsize=(7, 6))\n",
    "ax = fig.add_subplot(111)\n",
    "\n",
    "ax.errorbar(np.array([100, 200, 400, 800, 1600, 3200, 6400, 12800]), Sigma, yerr=Sigma_stand_dev, fmt='o')\n",
    "\n",
    "ax.set_xlabel('Time')\n",
    "ax.set_ylabel('$<\\sigma>$')\n",
    "\n",
    "ax.set_xscale('log')\n",
    "\n",
    "plt.legend(loc='upper left')\n",
    "\n",
    "#plt.savefig('teireikai_20190206fig2_beta=1-M=1.png')\n",
    "\n",
    "plt.show()"
   ]
  },
  {
   "cell_type": "code",
   "execution_count": 35,
   "metadata": {},
   "outputs": [
    {
     "data": {
      "image/png": "[encoded data removed]",
      "text/plain": [
       "<matplotlib.figure.Figure at 0x1971edb6f60>"
      ]
     },
     "metadata": {},
     "output_type": "display_data"
    }
   ],
   "source": [
    "fig = plt.figure(figsize=(7, 6))\n",
    "ax = fig.add_subplot(111)\n",
    "\n",
    "ax.errorbar(np.array([100, 200, 400, 800, 1600, 3200, 6400, 12800]), Sigma, yerr=Sigma_stand_dev, fmt='o')\n",
    "\n",
    "ax.set_xlabel('Time')\n",
    "ax.set_ylabel('$<\\sigma>$')\n",
    "\n",
    "#ax.set_xlim(3000, 256800)\n",
    "ax.set_ylim(5e-6, 1e-5)\n",
    "\n",
    "ax.set_xscale('log')\n",
    "\n",
    "plt.legend(loc='upper left')\n",
    "\n",
    "#plt.savefig('teireikai_20190206fig2.2_beta=1-M=1.png')\n",
    "\n",
    "plt.show()"
   ]
  },
  {
   "cell_type": "code",
   "execution_count": 29,
   "metadata": {},
   "outputs": [
    {
     "data": {
      "image/png": "[encoded data removed]",
      "text/plain": [
       "<matplotlib.figure.Figure at 0x237c1677518>"
      ]
     },
     "metadata": {},
     "output_type": "display_data"
    }
   ],
   "source": [
    "fig = plt.figure(figsize=(7, 6))\n",
    "ax = fig.add_subplot(111)\n",
    "\n",
    "ax.errorbar(np.array([100, 200, 400, 800, 1600, 3200, 6400, 12800]), Energy, yerr=Energy_stand_dev/np.sqrt(5.), fmt='o', label='koukanari')\n",
    "ax.errorbar(np.array([100, 200, 400, 800, 1600, 3200, 6400, 12800]), Energy_, yerr=Energy_stand_dev_/np.sqrt(5.), fmt='o', label='koukannashi')\n",
    "\n",
    "\n",
    "ax.set_xlabel('Time')\n",
    "ax.set_ylabel('$<E>$')\n",
    "\n",
    "ax.set_xscale('log')\n",
    "\n",
    "plt.legend(loc='upper right')\n",
    "\n",
    "#plt.savefig('teireikai_20190206fig5.1_beta=1-M=1.png')\n",
    "\n",
    "plt.show()"
   ]
  },
  {
   "cell_type": "code",
   "execution_count": 40,
   "metadata": {},
   "outputs": [
    {
     "data": {
      "image/png": "[encoded data removed]",
      "text/plain": [
       "<matplotlib.figure.Figure at 0x237c2786ac8>"
      ]
     },
     "metadata": {},
     "output_type": "display_data"
    }
   ],
   "source": [
    "fig = plt.figure(figsize=(7, 6))\n",
    "ax = fig.add_subplot(111)\n",
    "\n",
    "ax.errorbar(np.array([100, 200, 400, 800, 1600, 3200, 6400, 12800]), Energy, yerr=Energy_stand_dev/np.sqrt(5), fmt='o', label='koukanari')\n",
    "ax.errorbar(np.array([100, 200, 400, 800, 1600, 3200, 6400, 12800]), Energy_, yerr=Energy_stand_dev_/np.sqrt(5), fmt='o', label='koukannashi')\n",
    "\n",
    "ax.set_xlabel('Time')\n",
    "ax.set_ylabel('$<E>$')\n",
    "\n",
    "#ax.set_xlim(3000, 256800)\n",
    "ax.set_ylim(-110, -90)\n",
    "\n",
    "ax.set_xscale('log')\n",
    "\n",
    "plt.legend(loc='upper left')\n",
    "\n",
    "#plt.savefig('teireikai_20190206fig5.2_beta=1-M=1.png')\n",
    "\n",
    "plt.show()"
   ]
  },
  {
   "cell_type": "code",
   "execution_count": 36,
   "metadata": {},
   "outputs": [
    {
     "data": {
      "image/png": "[encoded data removed]",
      "text/plain": [
       "<matplotlib.figure.Figure at 0x237c13f4fd0>"
      ]
     },
     "metadata": {},
     "output_type": "display_data"
    }
   ],
   "source": [
    "fig = plt.figure(figsize=(7, 6))\n",
    "ax = fig.add_subplot(111)\n",
    "\n",
    "ax.errorbar(np.array([100, 200, 400, 800, 1600, 3200, 6400, 12800]), Sigma, yerr=Sigma_stand_dev/np.sqrt(5.), fmt='o', label='koukanari')\n",
    "ax.errorbar(np.array([100, 200, 400, 800, 1600, 3200, 6400, 12800]), Sigma_, yerr=Sigma_stand_dev_/np.sqrt(5.), fmt='o', label='koukannashi')\n",
    "\n",
    "ax.set_xlabel('Time')\n",
    "ax.set_ylabel('$<\\sigma>$')\n",
    "\n",
    "ax.set_xscale('log')\n",
    "\n",
    "plt.legend(loc='upper left')\n",
    "\n",
    "#plt.savefig('teireikai_20190206fig6.1_beta=1-M=1.png')\n",
    "\n",
    "plt.show()"
   ]
  },
  {
   "cell_type": "code",
   "execution_count": 39,
   "metadata": {},
   "outputs": [
    {
     "data": {
      "image/png": "[encoded data removed]",
      "text/plain": [
       "<matplotlib.figure.Figure at 0x237bed2fac8>"
      ]
     },
     "metadata": {},
     "output_type": "display_data"
    }
   ],
   "source": [
    "fig = plt.figure(figsize=(7, 6))\n",
    "ax = fig.add_subplot(111)\n",
    "\n",
    "ax.errorbar(np.array([100, 200, 400, 800, 1600, 3200, 6400, 12800]), Sigma, yerr=Sigma_stand_dev/np.sqrt(5.), fmt='o', label='koukanari')\n",
    "ax.errorbar(np.array([100, 200, 400, 800, 1600, 3200, 6400, 12800]), Sigma_, yerr=Sigma_stand_dev_/np.sqrt(5.), fmt='o', label='koukannashi')\n",
    "\n",
    "ax.set_xlabel('Time')\n",
    "ax.set_ylabel('$<\\sigma>$')\n",
    "\n",
    "#ax.set_xlim(3000, 256800)\n",
    "ax.set_ylim(5e-6, 1e-5)\n",
    "\n",
    "ax.set_xscale('log')\n",
    "\n",
    "plt.legend(loc='upper left')\n",
    "\n",
    "#plt.savefig('teireikai_20190206fig6.2_beta=1-M=1.png')\n",
    "\n",
    "plt.show()"
   ]
  },
  {
   "cell_type": "code",
   "execution_count": 43,
   "metadata": {
    "collapsed": true
   },
   "outputs": [
    {
     "name": "stdout",
     "output_type": "stream",
     "text": [
      "[    54.  22013.      0.]\n",
      "[  7.00000000e+00   2.26610000e+04   7.00000000e+00]\n",
      "[  6.00000000e+00   1.87640000e+04   1.40000000e+01]\n",
      "[  4.00000000e+00   2.28040000e+04   3.00000000e+00]\n",
      "[  4.35000000e+02   2.33450000e+04   3.00000000e+00]\n"
     ]
    }
   ],
   "source": [
    "print(exchange_count_1)\n",
    "print(exchange_count_2)\n",
    "print(exchange_count_3)\n",
    "print(exchange_count_4)\n",
    "print(exchange_count_5)"
   ]
  },
  {
   "cell_type": "code",
   "execution_count": null,
   "metadata": {
    "collapsed": true
   },
   "outputs": [],
   "source": []
  },
  {
   "cell_type": "code",
   "execution_count": 24,
   "metadata": {},
   "outputs": [
    {
     "name": "stdout",
     "output_type": "stream",
     "text": [
      "[ 0.  0.  0.  0.  0.  0.  0.  0.  0.]\n",
      "200 400\n",
      "400 800\n",
      "800 1600\n",
      "1600 3200\n",
      "3200 6400\n",
      "6400 12800\n",
      "12800 25600\n",
      "25600 51200\n",
      "51200 102400\n",
      "[ 313.1405299     2.39482342  -74.50234687  -93.47152674 -103.12898561\n",
      " -105.34045418 -105.89349115 -105.65174193 -105.27817451]\n"
     ]
    }
   ],
   "source": [
    "Energy1 = np.zeros(9, dtype=float)\n",
    "print(Energy1)\n",
    "\n",
    "t0 = 100\n",
    "start = t0\n",
    "end = 2*t0\n",
    "\n",
    "for i in range(Energy1.shape[0]):\n",
    "    Energy1[i] = e_1[3, start:end].mean(axis=0)\n",
    "    start = end\n",
    "    end = 2*end\n",
    "    print(start, end)\n",
    "    \n",
    "print(Energy1)"
   ]
  },
  {
   "cell_type": "code",
   "execution_count": 26,
   "metadata": {},
   "outputs": [
    {
     "name": "stdout",
     "output_type": "stream",
     "text": [
      "[ 673.39948586   91.4540484   -55.20887048  -83.64962031  -98.16793454\n",
      " -105.11413863 -105.83332247 -104.95538379 -104.40828313]\n",
      "[ 465.07174897   43.18160355  -70.93850823  -87.00748157  -94.12736922\n",
      " -102.51126302 -105.57865882 -104.19270464 -105.5784766 ]\n",
      "[ 376.18241027    1.13527486  -71.24821191  -92.15780838 -102.02619201\n",
      " -106.00226468 -104.55127788 -104.93814692 -104.96445419]\n",
      "[ 1056.77062822   103.29912054   -62.74749858   -95.51060636  -101.55416598\n",
      "  -105.97530143  -105.88892907  -105.75134477  -105.89177501]\n",
      "[ 576.91296064   48.29297415  -66.92908721  -90.35940867  -99.80092947\n",
      " -104.98868439 -105.54913588 -105.09786441 -105.22423269]\n"
     ]
    }
   ],
   "source": [
    "Energy2 = np.zeros(9, dtype=float)\n",
    "Energy3 = np.zeros(9, dtype=float)\n",
    "Energy4 = np.zeros(9, dtype=float)\n",
    "Energy5 = np.zeros(9, dtype=float)\n",
    "\n",
    "t0 = 100\n",
    "start = t0\n",
    "end = 2*t0\n",
    "\n",
    "for i in range(Energy2.shape[0]):\n",
    "    Energy2[i] = e_2[3, start:end].mean(axis=0)\n",
    "    Energy3[i] = e_3[3, start:end].mean(axis=0)\n",
    "    Energy4[i] = e_4[3, start:end].mean(axis=0)\n",
    "    Energy5[i] = e_5[3, start:end].mean(axis=0)\n",
    "    start = end\n",
    "    end = 2*end\n",
    "\n",
    "print(Energy2); print(Energy3); print(Energy4); print(Energy5)\n",
    "\n",
    "Energy = np.zeros(9, dtype=float)\n",
    "for i in range(Energy.shape[0]):\n",
    "    Energy[i] = Energy1[i] + Energy2[i] + Energy3[i] + Energy4[i] + Energy5[i]\n",
    "    Energy[i] /= 5\n",
    "    \n",
    "print(Energy)"
   ]
  },
  {
   "cell_type": "code",
   "execution_count": 35,
   "metadata": {},
   "outputs": [
    {
     "name": "stdout",
     "output_type": "stream",
     "text": [
      "[ 300.81145938   48.07590203    7.85706244    4.89160079    3.67279007\n",
      "    1.43856314    0.5725806     0.63224629    0.57167949]\n"
     ]
    }
   ],
   "source": [
    "Energy_variance = np.zeros(9, dtype=float)\n",
    "Energy_stand_dev = np.zeros(9, dtype=float)\n",
    "\n",
    "for i in range(variance.shape[0]):\n",
    "    Energy_variance[i] = (Energy1[i] - Energy[i])**2 + (Energy2[i] - Energy[i])**2 + (Energy3[i] - Energy[i])**2 + \\\n",
    "                    (Energy4[i] - Energy[i])**2 + (Energy5[i] - Energy[i])**2\n",
    "    Energy_variance[i] /= 4.\n",
    "    \n",
    "Energy_stand_dev = np.sqrt(Energy_variance)\n",
    "print(Energy_stand_dev)"
   ]
  },
  {
   "cell_type": "code",
   "execution_count": 55,
   "metadata": {},
   "outputs": [
    {
     "data": {
      "image/png": "[encoded data removed]",
      "text/plain": [
       "<matplotlib.figure.Figure at 0x2372caf8828>"
      ]
     },
     "metadata": {},
     "output_type": "display_data"
    }
   ],
   "source": [
    "fig = plt.figure(figsize=(7, 6))\n",
    "ax = fig.add_subplot(111)\n",
    "\n",
    "ax.errorbar(np.array([100, 200, 400, 800, 1600, 3200, 6400, 12800, 25600]), Energy, yerr=Energy_stand_dev, fmt='o')\n",
    "\n",
    "ax.set_xlabel('Time')\n",
    "ax.set_ylabel('$<E>$')\n",
    "\n",
    "ax.set_xscale('log')\n",
    "\n",
    "plt.legend(loc='upper left')\n",
    "\n",
    "#plt.savefig('teireikai_20190206fig1_beta=1-M=1.png')\n",
    "\n",
    "plt.show()"
   ]
  },
  {
   "cell_type": "code",
   "execution_count": 56,
   "metadata": {},
   "outputs": [
    {
     "data": {
      "image/png": "[encoded data removed]",
      "text/plain": [
       "<matplotlib.figure.Figure at 0x2372c9dcba8>"
      ]
     },
     "metadata": {},
     "output_type": "display_data"
    }
   ],
   "source": [
    "fig = plt.figure(figsize=(7, 6))\n",
    "ax = fig.add_subplot(111)\n",
    "\n",
    "ax.errorbar(np.array([100, 200, 400, 800, 1600, 3200, 6400, 12800, 25600]), Energy, yerr=Energy_stand_dev, fmt='o')\n",
    "\n",
    "ax.set_xlabel('Time')\n",
    "ax.set_ylabel('$<E>$')\n",
    "\n",
    "#ax.set_xlim(3000, 256800)\n",
    "ax.set_ylim(-110, -100)\n",
    "\n",
    "ax.set_xscale('log')\n",
    "\n",
    "plt.legend(loc='upper left')\n",
    "\n",
    "#plt.savefig('teireikai_20190206fig1.2_beta=1-M=1.png')\n",
    "\n",
    "plt.show()"
   ]
  },
  {
   "cell_type": "code",
   "execution_count": 38,
   "metadata": {},
   "outputs": [
    {
     "name": "stdout",
     "output_type": "stream",
     "text": [
      "[  9.83829791e-06   1.75379598e-05   2.78869927e-05   3.18268096e-05\n",
      "   1.98046051e-05   8.28888638e-06   6.82844408e-06   7.63783728e-06\n",
      "   7.31906284e-06]\n"
     ]
    }
   ],
   "source": [
    "sigma1 = np.zeros(9, dtype=float)\n",
    "sigma2 = np.zeros(9, dtype=float)\n",
    "sigma3 = np.zeros(9, dtype=float)\n",
    "sigma4 = np.zeros(9, dtype=float)\n",
    "sigma5 = np.zeros(9, dtype=float)\n",
    "\n",
    "t0 = 100\n",
    "start = t0\n",
    "end = 2*t0\n",
    "\n",
    "for i in range(sigma1.shape[0]):\n",
    "    sigma1[i] = s_2[3, start:end].mean(axis=0)\n",
    "    sigma2[i] = s_2[3, start:end].mean(axis=0)\n",
    "    sigma3[i] = s_3[3, start:end].mean(axis=0)\n",
    "    sigma4[i] = s_4[3, start:end].mean(axis=0)\n",
    "    sigma5[i] = s_5[3, start:end].mean(axis=0)\n",
    "    start = end\n",
    "    end = 2*end\n",
    "\n",
    "Sigma = np.zeros(9, dtype=float)\n",
    "for i in range(Energy.shape[0]):\n",
    "    Sigma[i] = sigma1[i] + sigma2[i] + sigma3[i] + sigma4[i] + sigma5[i]\n",
    "    Sigma[i] /= 5\n",
    "    \n",
    "print(Sigma)"
   ]
  },
  {
   "cell_type": "code",
   "execution_count": 40,
   "metadata": {},
   "outputs": [
    {
     "name": "stdout",
     "output_type": "stream",
     "text": [
      "[  1.59547696e-06   2.01924842e-06   2.75467250e-06   5.69468718e-06\n",
      "   7.33070042e-06   2.33769097e-06   4.80185834e-07   9.33027217e-07\n",
      "   7.02368657e-07]\n"
     ]
    }
   ],
   "source": [
    "Sigma_variance = np.zeros(9, dtype=float)\n",
    "Sigma_stand_dev = np.zeros(9, dtype=float)\n",
    "\n",
    "for i in range(Sigma_variance.shape[0]):\n",
    "    Sigma_variance[i] = (sigma1[i] - Sigma[i])**2 + (sigma2[i] - Sigma[i])**2 + (sigma3[i] - Sigma[i])**2 + \\\n",
    "                    (sigma4[i] - Sigma[i])**2 + (sigma5[i] - Sigma[i])**2\n",
    "    Sigma_variance[i] /= 4.\n",
    "    \n",
    "Sigma_stand_dev = np.sqrt(Sigma_variance)\n",
    "print(Sigma_stand_dev)"
   ]
  },
  {
   "cell_type": "code",
   "execution_count": 57,
   "metadata": {},
   "outputs": [
    {
     "data": {
      "image/png": "[encoded data removed]",
      "text/plain": [
       "<matplotlib.figure.Figure at 0x2372c8b10f0>"
      ]
     },
     "metadata": {},
     "output_type": "display_data"
    }
   ],
   "source": [
    "fig = plt.figure(figsize=(7, 6))\n",
    "ax = fig.add_subplot(111)\n",
    "\n",
    "ax.errorbar(np.array([100, 200, 400, 800, 1600, 3200, 6400, 12800, 25600]), Sigma, yerr=Sigma_stand_dev, fmt='o')\n",
    "\n",
    "ax.set_xlabel('Time')\n",
    "ax.set_ylabel('$<\\sigma>$')\n",
    "\n",
    "ax.set_xscale('log')\n",
    "\n",
    "plt.legend(loc='upper left')\n",
    "\n",
    "#plt.savefig('teireikai_20190206fig2_beta=1-M=1.png')\n",
    "\n",
    "plt.show()"
   ]
  },
  {
   "cell_type": "code",
   "execution_count": 58,
   "metadata": {},
   "outputs": [
    {
     "data": {
      "image/png": "[encoded data removed]",
      "text/plain": [
       "<matplotlib.figure.Figure at 0x2372c891710>"
      ]
     },
     "metadata": {},
     "output_type": "display_data"
    }
   ],
   "source": [
    "fig = plt.figure(figsize=(7, 6))\n",
    "ax = fig.add_subplot(111)\n",
    "\n",
    "ax.errorbar(np.array([100, 200, 400, 800, 1600, 3200, 6400, 12800, 25600]), Sigma, yerr=Sigma_stand_dev, fmt='o')\n",
    "\n",
    "ax.set_xlabel('Time')\n",
    "ax.set_ylabel('$<\\sigma>$')\n",
    "\n",
    "#ax.set_xlim(3000, 256800)\n",
    "ax.set_ylim(5e-6, 1e-5)\n",
    "\n",
    "ax.set_xscale('log')\n",
    "\n",
    "plt.legend(loc='upper left')\n",
    "\n",
    "#plt.savefig('teireikai_20190206fig2.2_beta=1-M=1.png')\n",
    "\n",
    "plt.show()"
   ]
  },
  {
   "cell_type": "code",
   "execution_count": null,
   "metadata": {
    "collapsed": true
   },
   "outputs": [],
   "source": []
  },
  {
   "cell_type": "code",
   "execution_count": 47,
   "metadata": {},
   "outputs": [
    {
     "name": "stdout",
     "output_type": "stream",
     "text": [
      "[ 722.36453526   90.15519926  -59.09477536  -81.11186105  -90.39276607\n",
      "  -94.58109909  -97.50000671 -101.38646558 -103.30193642]\n"
     ]
    }
   ],
   "source": [
    "Energy1_T2 = np.zeros(9, dtype=float)\n",
    "Energy2_T2 = np.zeros(9, dtype=float)\n",
    "Energy3_T2 = np.zeros(9, dtype=float)\n",
    "Energy4_T2 = np.zeros(9, dtype=float)\n",
    "Energy5_T2 = np.zeros(9, dtype=float)\n",
    "\n",
    "t0 = 100\n",
    "start = t0\n",
    "end = 2*t0\n",
    "\n",
    "for i in range(Energy1_T2.shape[0]):\n",
    "    Energy1_T2[i] = e_1[2, start:end].mean(axis=0)\n",
    "    Energy2_T2[i] = e_2[2, start:end].mean(axis=0)\n",
    "    Energy3_T2[i] = e_3[2, start:end].mean(axis=0)\n",
    "    Energy4_T2[i] = e_4[2, start:end].mean(axis=0)\n",
    "    Energy5_T2[i] = e_5[2, start:end].mean(axis=0)\n",
    "    start = end\n",
    "    end = 2*end\n",
    "\n",
    "#print(Energy2); print(Energy3); print(Energy4); print(Energy5)\n",
    "\n",
    "Energy_T2 = np.zeros(9, dtype=float)\n",
    "for i in range(Energy_T2.shape[0]):\n",
    "    Energy_T2[i] = Energy1_T2[i] + Energy2_T2[i] + Energy3_T2[i] + Energy4_T2[i] + Energy5_T2[i]\n",
    "    Energy_T2[i] /= 5\n",
    "    \n",
    "print(Energy_T2)"
   ]
  },
  {
   "cell_type": "code",
   "execution_count": 48,
   "metadata": {},
   "outputs": [
    {
     "name": "stdout",
     "output_type": "stream",
     "text": [
      "[ 252.74497684   60.31943888    5.81116802    4.81605118    6.66154934\n",
      "    7.53120549    7.17841975    4.17840432    1.08557446]\n"
     ]
    }
   ],
   "source": [
    "Energy_T2_variance = np.zeros(9, dtype=float)\n",
    "Energy_T2_stand_dev = np.zeros(9, dtype=float)\n",
    "\n",
    "for i in range(Energy_T2_variance.shape[0]):\n",
    "    Energy_T2_variance[i] = (Energy1_T2[i] - Energy_T2[i])**2 + (Energy2_T2[i] - Energy_T2[i])**2\\\n",
    "                    + (Energy3_T2[i] - Energy_T2[i])**2 + \\\n",
    "                    (Energy4_T2[i] - Energy_T2[i])**2 + (Energy5_T2[i] - Energy_T2[i])**2\n",
    "    Energy_T2_variance[i] /= 4.\n",
    "    \n",
    "Energy_T2_stand_dev = np.sqrt(Energy_T2_variance)\n",
    "print(Energy_T2_stand_dev)"
   ]
  },
  {
   "cell_type": "code",
   "execution_count": 59,
   "metadata": {},
   "outputs": [
    {
     "data": {
      "image/png": "[encoded data removed]",
      "text/plain": [
       "<matplotlib.figure.Figure at 0x2372ca28978>"
      ]
     },
     "metadata": {},
     "output_type": "display_data"
    }
   ],
   "source": [
    "fig = plt.figure(figsize=(7, 6))\n",
    "ax = fig.add_subplot(111)\n",
    "\n",
    "ax.errorbar(np.array([100, 200, 400, 800, 1600, 3200, 6400, 12800, 25600]), Energy_T2, yerr=Energy_T2_stand_dev, fmt='o')\n",
    "\n",
    "ax.set_xlabel('Time')\n",
    "ax.set_ylabel('$<E>$')\n",
    "\n",
    "ax.set_xscale('log')\n",
    "\n",
    "plt.legend(loc='upper left')\n",
    "\n",
    "#plt.savefig('teireikai_20190206fig3_beta=2-M=1.png')\n",
    "\n",
    "plt.show()"
   ]
  },
  {
   "cell_type": "code",
   "execution_count": 60,
   "metadata": {},
   "outputs": [
    {
     "data": {
      "image/png": "[encoded data removed]",
      "text/plain": [
       "<matplotlib.figure.Figure at 0x2372b70f7f0>"
      ]
     },
     "metadata": {},
     "output_type": "display_data"
    }
   ],
   "source": [
    "fig = plt.figure(figsize=(7, 6))\n",
    "ax = fig.add_subplot(111)\n",
    "\n",
    "ax.errorbar(np.array([100, 200, 400, 800, 1600, 3200, 6400, 12800, 25600]), Energy_T2, yerr=Energy_T2_stand_dev, fmt='o')\n",
    "\n",
    "ax.set_xlabel('Time')\n",
    "ax.set_ylabel('$<E>$')\n",
    "\n",
    "#ax.set_xlim(3000, 256800)\n",
    "ax.set_ylim(-106, -95)\n",
    "\n",
    "ax.set_xscale('log')\n",
    "\n",
    "plt.legend(loc='upper left')\n",
    "\n",
    "#plt.savefig('teireikai_20190206fig3.2_beta=2-M=1.png')\n",
    "\n",
    "plt.show()"
   ]
  },
  {
   "cell_type": "code",
   "execution_count": 61,
   "metadata": {},
   "outputs": [
    {
     "data": {
      "image/png": "[encoded data removed]",
      "text/plain": [
       "<matplotlib.figure.Figure at 0x2372c804c50>"
      ]
     },
     "metadata": {},
     "output_type": "display_data"
    }
   ],
   "source": [
    "fig = plt.figure(figsize=(7, 6))\n",
    "ax = fig.add_subplot(111)\n",
    "\n",
    "# ax.errorbar(np.array([1600, 3200, 6400, 12800, 25600]), energy_ave[2, 4:], yerr=energy_std[2, 4:], fmt='o', label='koukannashi,  M=1, beta=2')\n",
    "# ax.errorbar(np.array([1600, 3200, 6400, 12800, 25600]), energy_ave_e[2, 4:], yerr=energy_std_e[2, 4:], fmt='o', label='koukanari,  M=1, beta=2')\n",
    "\n",
    "colorlist = ['r', 'b']\n",
    "markerlist = ['o', 's', 'p', '*', 'D', 'v', '^', '8', '+']\n",
    "monteCarlo = np.array([100, 200, 400, 800, 1600, 3200, 6400, 12800, 25600])\n",
    "\n",
    "for i in range(Energy.shape[0]):\n",
    "    ax.errorbar(np.array([1]), Energy[i], yerr=Energy_stand_dev[i], fmt='o', \n",
    "               marker=markerlist[i], color=colorlist[0], label='{}'.format(monteCarlo[i]))\n",
    "    ax.errorbar(np.array([2]), Energy_T2[i], yerr=Energy_T2_stand_dev[i], fmt='o', \n",
    "               marker=markerlist[i], color=colorlist[1])\n",
    "\n",
    "ax.set_xlabel('$Temperature$')\n",
    "ax.set_ylabel('$<E>$')\n",
    "ax.set_title('koukannashi')\n",
    "ax.set_ylim(-110, -50)\n",
    "\n",
    "#ax.set_xscale('log')\n",
    "\n",
    "plt.legend(loc='upper center')\n",
    "\n",
    "#plt.savefig('teireikai_20190206fig4_M=1.png')\n",
    "\n",
    "plt.show()"
   ]
  },
  {
   "cell_type": "code",
   "execution_count": 62,
   "metadata": {},
   "outputs": [
    {
     "data": {
      "image/png": "[encoded data removed]",
      "text/plain": [
       "<matplotlib.figure.Figure at 0x2372cac49e8>"
      ]
     },
     "metadata": {},
     "output_type": "display_data"
    }
   ],
   "source": [
    "fig = plt.figure(figsize=(7, 6))\n",
    "ax = fig.add_subplot(111)\n",
    "\n",
    "# ax.errorbar(np.array([1600, 3200, 6400, 12800, 25600]), energy_ave[2, 4:], yerr=energy_std[2, 4:], fmt='o', label='koukannashi,  M=1, beta=2')\n",
    "# ax.errorbar(np.array([1600, 3200, 6400, 12800, 25600]), energy_ave_e[2, 4:], yerr=energy_std_e[2, 4:], fmt='o', label='koukanari,  M=1, beta=2')\n",
    "\n",
    "colorlist = ['r', 'b']\n",
    "markerlist = ['o', 's', 'p', '*', 'D', 'v', '^', '8', '+']\n",
    "monteCarlo = np.array([100, 200, 400, 800, 1600, 3200, 6400, 12800, 25600])\n",
    "\n",
    "for i in range(Energy.shape[0]):\n",
    "    ax.errorbar(np.array([1]), Energy[i], yerr=Energy_stand_dev[i], fmt='o', \n",
    "               marker=markerlist[i], color=colorlist[0], label='{}'.format(monteCarlo[i]))\n",
    "    ax.errorbar(np.array([2]), Energy_T2[i], yerr=Energy_T2_stand_dev[i], fmt='o', \n",
    "               marker=markerlist[i], color=colorlist[1])\n",
    "\n",
    "ax.set_xlabel('$Temperature$')\n",
    "ax.set_ylabel('$<E>$')\n",
    "ax.set_title('koukannari')\n",
    "ax.set_ylim(-107, -102)\n",
    "\n",
    "#ax.set_xscale('log')\n",
    "\n",
    "plt.legend(loc='upper center')\n",
    "\n",
    "plt.savefig('teireikai_20190206fig4.2_M=1.png')\n",
    "\n",
    "plt.show()"
   ]
  },
  {
   "cell_type": "code",
   "execution_count": null,
   "metadata": {
    "collapsed": true
   },
   "outputs": [],
   "source": []
  },
  {
   "cell_type": "code",
   "execution_count": null,
   "metadata": {
    "collapsed": true
   },
   "outputs": [],
   "source": []
  },
  {
   "cell_type": "code",
   "execution_count": null,
   "metadata": {
    "collapsed": true
   },
   "outputs": [],
   "source": []
  },
  {
   "cell_type": "code",
   "execution_count": null,
   "metadata": {
    "collapsed": true
   },
   "outputs": [],
   "source": []
  },
  {
   "cell_type": "code",
   "execution_count": 15,
   "metadata": {},
   "outputs": [
    {
     "name": "stdout",
     "output_type": "stream",
     "text": [
      "[ 1118.73503293  1665.15676121   599.43531738  3437.79181895]\n",
      "[  46.66536649  107.39399017   21.23217488  317.24473146]\n"
     ]
    }
   ],
   "source": [
    "print(e[:, 100:].mean(axis=1))\n",
    "print(e[:, 100:].std(axis=1)/np.sqrt(100))"
   ]
  },
  {
   "cell_type": "code",
   "execution_count": 16,
   "metadata": {},
   "outputs": [
    {
     "name": "stdout",
     "output_type": "stream",
     "text": [
      "Wall time: 6.33 s\n"
     ]
    }
   ],
   "source": [
    "%%time\n",
    "\n",
    "mcs = 200\n",
    "\n",
    "d02, d12, ka2, kd2, s2, e2, pick2, update2, exchange_count2 = exchange_monte_calro(mcs, beta, [0, 1], d0[:, -1], d1[:, -1],\n",
    "                                                                                  ka[:, -1], kd[:, -1], s[:, -1])"
   ]
  },
  {
   "cell_type": "code",
   "execution_count": 17,
   "metadata": {},
   "outputs": [
    {
     "name": "stdout",
     "output_type": "stream",
     "text": [
      "298.255131871\n",
      "12.6430780593\n"
     ]
    }
   ],
   "source": [
    "print(e2[:, :].mean(axis=1)[0])\n",
    "print(e2[:, :].std(axis=1)[0]/np.sqrt(200))"
   ]
  },
  {
   "cell_type": "code",
   "execution_count": 18,
   "metadata": {},
   "outputs": [
    {
     "data": {
      "image/png": "[encoded data removed]",
      "text/plain": [
       "<matplotlib.figure.Figure at 0x1f08c682fd0>"
      ]
     },
     "metadata": {},
     "output_type": "display_data"
    }
   ],
   "source": [
    "fig = plt.figure(figsize=(7, 6))\n",
    "ax = fig.add_subplot(111)\n",
    "\n",
    "ax.errorbar(100, e[:, 100:].mean(axis=1)[0], e[:, 100:].std(axis=1)[0]/np.sqrt(100))\n",
    "ax.errorbar(200, e2[:, ].mean(axis=1)[0], e2[:, ].std(axis=1)[0]/np.sqrt(200))\n",
    "\n",
    "ax.set_xlabel('Time')\n",
    "ax.set_ylabel('$<E>$')\n",
    "\n",
    "plt.legend(loc='upper left')\n",
    "\n",
    "plt.show()"
   ]
  },
  {
   "cell_type": "code",
   "execution_count": 19,
   "metadata": {},
   "outputs": [
    {
     "name": "stdout",
     "output_type": "stream",
     "text": [
      "(4, 400)\n"
     ]
    }
   ],
   "source": [
    "D0 = np.concatenate([d0, d02], axis=1)\n",
    "D1 = np.concatenate([d1, d12], axis=1)\n",
    "Ka = np.concatenate([ka, ka2], axis=1)\n",
    "Kd = np.concatenate([kd, kd2], axis=1)\n",
    "Sigma = np.concatenate([s, s2], axis=1)\n",
    "Energy = np.concatenate([e, e2], axis=1)\n",
    "\n",
    "print(Energy.shape)"
   ]
  },
  {
   "cell_type": "code",
   "execution_count": 20,
   "metadata": {},
   "outputs": [
    {
     "name": "stdout",
     "output_type": "stream",
     "text": [
      "Wall time: 13.7 s\n"
     ]
    }
   ],
   "source": [
    "%%time\n",
    "\n",
    "mcs = 400\n",
    "\n",
    "d0, d1, ka, kd, s, e, pick, update, exchange_count = exchange_monte_calro(mcs, beta, [0, 1], D0[:, -1], D1[:, -1],\n",
    "                                                                                  Ka[:, -1], Kd[:, -1], Sigma[:, -1])"
   ]
  },
  {
   "cell_type": "code",
   "execution_count": 21,
   "metadata": {},
   "outputs": [
    {
     "name": "stdout",
     "output_type": "stream",
     "text": [
      "(4, 800)\n"
     ]
    }
   ],
   "source": [
    "D0 = np.concatenate([D0, d0], axis=1)\n",
    "D1 = np.concatenate([D1, d1], axis=1)\n",
    "Ka = np.concatenate([Ka, ka], axis=1)\n",
    "Kd = np.concatenate([Kd, kd], axis=1)\n",
    "Sigma = np.concatenate([Sigma, s], axis=1)\n",
    "Energy = np.concatenate([Energy, e], axis=1)\n",
    "\n",
    "print(Energy.shape)"
   ]
  },
  {
   "cell_type": "code",
   "execution_count": 22,
   "metadata": {},
   "outputs": [
    {
     "name": "stdout",
     "output_type": "stream",
     "text": [
      "200 400\n",
      "400 800\n",
      "800 1600\n"
     ]
    }
   ],
   "source": [
    "energy_ave = np.zeros(3)\n",
    "energy_std = np.zeros(3)\n",
    "\n",
    "t0 = 100\n",
    "start = t0\n",
    "end = 2*t0\n",
    "\n",
    "for i in range(energy_ave.shape[0]):\n",
    "    energy_ave[i] = Energy[:, start:end].mean(axis=0)[0]\n",
    "    energy_std[i] = Energy[:, start:end].std(axis=0)[0]/np.sqrt(start)\n",
    "    start = end\n",
    "    end = 2*end\n",
    "    print(start, end)"
   ]
  },
  {
   "cell_type": "code",
   "execution_count": 23,
   "metadata": {},
   "outputs": [
    {
     "data": {
      "image/png": "[encoded data removed]",
      "text/plain": [
       "<matplotlib.figure.Figure at 0x1f08c6946a0>"
      ]
     },
     "metadata": {},
     "output_type": "display_data"
    }
   ],
   "source": [
    "fig = plt.figure(figsize=(7, 6))\n",
    "ax = fig.add_subplot(111)\n",
    "\n",
    "ax.errorbar(np.array([100, 200, 400]), energy_ave, yerr=energy_std, fmt='o')\n",
    "\n",
    "ax.set_xlabel('Time')\n",
    "ax.set_ylabel('$<E>$')\n",
    "\n",
    "plt.legend(loc='upper left')\n",
    "\n",
    "plt.show()"
   ]
  },
  {
   "cell_type": "code",
   "execution_count": 24,
   "metadata": {},
   "outputs": [
    {
     "name": "stdout",
     "output_type": "stream",
     "text": [
      "Wall time: 24.5 s\n"
     ]
    }
   ],
   "source": [
    "%%time\n",
    "\n",
    "mcs = 800\n",
    "\n",
    "d0, d1, ka, kd, s, e, pick, update, exchange_count = exchange_monte_calro(mcs, beta, [0, 1], D0[:, -1], D1[:, -1],\n",
    "                                                                                  Ka[:, -1], Kd[:, -1], Sigma[:, -1])"
   ]
  },
  {
   "cell_type": "code",
   "execution_count": 25,
   "metadata": {},
   "outputs": [
    {
     "name": "stdout",
     "output_type": "stream",
     "text": [
      "(4, 1600)\n"
     ]
    }
   ],
   "source": [
    "D0 = np.concatenate([D0, d0], axis=1)\n",
    "D1 = np.concatenate([D1, d1], axis=1)\n",
    "Ka = np.concatenate([Ka, ka], axis=1)\n",
    "Kd = np.concatenate([Kd, kd], axis=1)\n",
    "Sigma = np.concatenate([Sigma, s], axis=1)\n",
    "Energy = np.concatenate([Energy, e], axis=1)\n",
    "\n",
    "print(Energy.shape)"
   ]
  },
  {
   "cell_type": "code",
   "execution_count": 26,
   "metadata": {},
   "outputs": [
    {
     "name": "stdout",
     "output_type": "stream",
     "text": [
      "200 400\n",
      "400 800\n",
      "800 1600\n",
      "1600 3200\n"
     ]
    }
   ],
   "source": [
    "energy_ave = np.zeros(4)\n",
    "energy_std = np.zeros(4)\n",
    "\n",
    "t0 = 100\n",
    "start = t0\n",
    "end = 2*t0\n",
    "\n",
    "for i in range(energy_ave.shape[0]):\n",
    "    energy_ave[i] = Energy[:, start:end].mean(axis=0)[0]\n",
    "    energy_std[i] = Energy[:, start:end].std(axis=0)[0]/np.sqrt(start)\n",
    "    start = end\n",
    "    end = 2*end\n",
    "    print(start, end)"
   ]
  },
  {
   "cell_type": "code",
   "execution_count": 27,
   "metadata": {},
   "outputs": [
    {
     "data": {
      "image/png": "[encoded data removed]",
      "text/plain": [
       "<matplotlib.figure.Figure at 0x1f08d9a0d68>"
      ]
     },
     "metadata": {},
     "output_type": "display_data"
    }
   ],
   "source": [
    "fig = plt.figure(figsize=(7, 6))\n",
    "ax = fig.add_subplot(111)\n",
    "\n",
    "ax.errorbar(np.array([100, 200, 400, 800]), energy_ave, yerr=energy_std, fmt='o')\n",
    "\n",
    "ax.set_xlabel('Time')\n",
    "ax.set_ylabel('$<E>$')\n",
    "\n",
    "plt.legend(loc='upper left')\n",
    "\n",
    "plt.show()"
   ]
  },
  {
   "cell_type": "code",
   "execution_count": 28,
   "metadata": {},
   "outputs": [
    {
     "name": "stdout",
     "output_type": "stream",
     "text": [
      "Wall time: 45.8 s\n"
     ]
    }
   ],
   "source": [
    "%%time\n",
    "\n",
    "mcs = 1600\n",
    "\n",
    "d0, d1, ka, kd, s, e, pick, update, exchange_count = exchange_monte_calro(mcs, beta, [0, 1], D0[:, -1], D1[:, -1],\n",
    "                                                                                  Ka[:, -1], Kd[:, -1], Sigma[:, -1])"
   ]
  },
  {
   "cell_type": "code",
   "execution_count": 29,
   "metadata": {},
   "outputs": [
    {
     "name": "stdout",
     "output_type": "stream",
     "text": [
      "(4, 3200)\n"
     ]
    }
   ],
   "source": [
    "D0 = np.concatenate([D0, d0], axis=1)\n",
    "D1 = np.concatenate([D1, d1], axis=1)\n",
    "Ka = np.concatenate([Ka, ka], axis=1)\n",
    "Kd = np.concatenate([Kd, kd], axis=1)\n",
    "Sigma = np.concatenate([Sigma, s], axis=1)\n",
    "Energy = np.concatenate([Energy, e], axis=1)\n",
    "\n",
    "print(Energy.shape)"
   ]
  },
  {
   "cell_type": "code",
   "execution_count": 30,
   "metadata": {},
   "outputs": [
    {
     "name": "stdout",
     "output_type": "stream",
     "text": [
      "200 400\n",
      "400 800\n",
      "800 1600\n",
      "1600 3200\n",
      "3200 6400\n"
     ]
    }
   ],
   "source": [
    "energy_ave = np.zeros(5)\n",
    "energy_std = np.zeros(5)\n",
    "\n",
    "t0 = 100\n",
    "start = t0\n",
    "end = 2*t0\n",
    "\n",
    "for i in range(energy_ave.shape[0]):\n",
    "    energy_ave[i] = Energy[:, start:end].mean(axis=0)[0]\n",
    "    energy_std[i] = Energy[:, start:end].std(axis=0)[0]/np.sqrt(start)\n",
    "    start = end\n",
    "    end = 2*end\n",
    "    print(start, end)"
   ]
  },
  {
   "cell_type": "code",
   "execution_count": 31,
   "metadata": {},
   "outputs": [
    {
     "data": {
      "image/png": "[encoded data removed]",
      "text/plain": [
       "<matplotlib.figure.Figure at 0x1f08da290b8>"
      ]
     },
     "metadata": {},
     "output_type": "display_data"
    }
   ],
   "source": [
    "fig = plt.figure(figsize=(7, 6))\n",
    "ax = fig.add_subplot(111)\n",
    "\n",
    "ax.errorbar(np.array([100, 200, 400, 800, 1600]), energy_ave, yerr=energy_std, fmt='o')\n",
    "\n",
    "ax.set_xlabel('Time')\n",
    "ax.set_ylabel('$<E>$')\n",
    "\n",
    "plt.legend(loc='upper left')\n",
    "\n",
    "plt.show()"
   ]
  },
  {
   "cell_type": "code",
   "execution_count": 32,
   "metadata": {},
   "outputs": [
    {
     "name": "stdout",
     "output_type": "stream",
     "text": [
      "Wall time: 1min 25s\n"
     ]
    }
   ],
   "source": [
    "%%time\n",
    "\n",
    "mcs = 3200\n",
    "\n",
    "d0, d1, ka, kd, s, e, pick, update, exchange_count = exchange_monte_calro(mcs, beta, [0, 1], D0[:, -1], D1[:, -1],\n",
    "                                                                                  Ka[:, -1], Kd[:, -1], Sigma[:, -1])"
   ]
  },
  {
   "cell_type": "code",
   "execution_count": 33,
   "metadata": {},
   "outputs": [
    {
     "name": "stdout",
     "output_type": "stream",
     "text": [
      "(4, 6400)\n"
     ]
    }
   ],
   "source": [
    "D0 = np.concatenate([D0, d0], axis=1)\n",
    "D1 = np.concatenate([D1, d1], axis=1)\n",
    "Ka = np.concatenate([Ka, ka], axis=1)\n",
    "Kd = np.concatenate([Kd, kd], axis=1)\n",
    "Sigma = np.concatenate([Sigma, s], axis=1)\n",
    "Energy = np.concatenate([Energy, e], axis=1)\n",
    "\n",
    "print(Energy.shape)"
   ]
  },
  {
   "cell_type": "code",
   "execution_count": 34,
   "metadata": {},
   "outputs": [
    {
     "name": "stdout",
     "output_type": "stream",
     "text": [
      "200 400\n",
      "400 800\n",
      "800 1600\n",
      "1600 3200\n",
      "3200 6400\n",
      "6400 12800\n"
     ]
    }
   ],
   "source": [
    "energy_ave = np.zeros(6)\n",
    "energy_std = np.zeros(6)\n",
    "\n",
    "t0 = 100\n",
    "start = t0\n",
    "end = 2*t0\n",
    "\n",
    "for i in range(energy_ave.shape[0]):\n",
    "    energy_ave[i] = Energy[:, start:end].mean(axis=0)[0]\n",
    "    energy_std[i] = Energy[:, start:end].std(axis=0)[0]/np.sqrt(start)\n",
    "    start = end\n",
    "    end = 2*end\n",
    "    print(start, end)"
   ]
  },
  {
   "cell_type": "code",
   "execution_count": 35,
   "metadata": {},
   "outputs": [
    {
     "data": {
      "image/png": "[encoded data removed]",
      "text/plain": [
       "<matplotlib.figure.Figure at 0x1f08da960f0>"
      ]
     },
     "metadata": {},
     "output_type": "display_data"
    }
   ],
   "source": [
    "fig = plt.figure(figsize=(7, 6))\n",
    "ax = fig.add_subplot(111)\n",
    "\n",
    "ax.errorbar(np.array([100, 200, 400, 800, 1600, 3200]), energy_ave, yerr=energy_std, fmt='o')\n",
    "\n",
    "ax.set_xlabel('Time')\n",
    "ax.set_ylabel('$<E>$')\n",
    "\n",
    "ax.set_xscale('log')\n",
    "\n",
    "plt.legend(loc='upper left')\n",
    "\n",
    "plt.show()"
   ]
  },
  {
   "cell_type": "code",
   "execution_count": 36,
   "metadata": {},
   "outputs": [
    {
     "data": {
      "image/png": "[encoded data removed]",
      "text/plain": [
       "<matplotlib.figure.Figure at 0x1f08da29748>"
      ]
     },
     "metadata": {},
     "output_type": "display_data"
    }
   ],
   "source": [
    "fig = plt.figure(figsize=(7, 6))\n",
    "ax = fig.add_subplot(111)\n",
    "\n",
    "ax.errorbar(np.array([800, 1600, 3200]), energy_ave[3:], yerr=energy_std[3:], fmt='o')\n",
    "\n",
    "ax.set_xlabel('Time')\n",
    "ax.set_ylabel('$<E>$')\n",
    "\n",
    "ax.set_xscale('log')\n",
    "\n",
    "plt.legend(loc='upper left')\n",
    "\n",
    "plt.show()"
   ]
  },
  {
   "cell_type": "code",
   "execution_count": 37,
   "metadata": {},
   "outputs": [
    {
     "name": "stdout",
     "output_type": "stream",
     "text": [
      "Wall time: 2min 59s\n"
     ]
    }
   ],
   "source": [
    "%%time\n",
    "\n",
    "mcs = 6400\n",
    "\n",
    "d0, d1, ka, kd, s, e, pick, update, exchange_count = exchange_monte_calro(mcs, beta, [0, 1], D0[:, -1], D1[:, -1],\n",
    "                                                                                  Ka[:, -1], Kd[:, -1], Sigma[:, -1])"
   ]
  },
  {
   "cell_type": "code",
   "execution_count": 38,
   "metadata": {},
   "outputs": [
    {
     "name": "stdout",
     "output_type": "stream",
     "text": [
      "(4, 12800)\n"
     ]
    }
   ],
   "source": [
    "D0 = np.concatenate([D0, d0], axis=1)\n",
    "D1 = np.concatenate([D1, d1], axis=1)\n",
    "Ka = np.concatenate([Ka, ka], axis=1)\n",
    "Kd = np.concatenate([Kd, kd], axis=1)\n",
    "Sigma = np.concatenate([Sigma, s], axis=1)\n",
    "Energy = np.concatenate([Energy, e], axis=1)\n",
    "\n",
    "print(Energy.shape)"
   ]
  },
  {
   "cell_type": "code",
   "execution_count": 39,
   "metadata": {},
   "outputs": [
    {
     "name": "stdout",
     "output_type": "stream",
     "text": [
      "200 400\n",
      "400 800\n",
      "800 1600\n",
      "1600 3200\n",
      "3200 6400\n",
      "6400 12800\n",
      "12800 25600\n"
     ]
    }
   ],
   "source": [
    "energy_ave = np.zeros(7)\n",
    "energy_std = np.zeros(7)\n",
    "\n",
    "t0 = 100\n",
    "start = t0\n",
    "end = 2*t0\n",
    "\n",
    "for i in range(energy_ave.shape[0]):\n",
    "    energy_ave[i] = Energy[:, start:end].mean(axis=0)[0]\n",
    "    energy_std[i] = Energy[:, start:end].std(axis=0)[0]/np.sqrt(start)\n",
    "    start = end\n",
    "    end = 2*end\n",
    "    print(start, end)"
   ]
  },
  {
   "cell_type": "code",
   "execution_count": 40,
   "metadata": {},
   "outputs": [
    {
     "data": {
      "image/png": "[encoded data removed]",
      "text/plain": [
       "<matplotlib.figure.Figure at 0x1f08c6d18d0>"
      ]
     },
     "metadata": {},
     "output_type": "display_data"
    }
   ],
   "source": [
    "fig = plt.figure(figsize=(7, 6))\n",
    "ax = fig.add_subplot(111)\n",
    "\n",
    "ax.errorbar(np.array([100, 200, 400, 800, 1600, 3200, 6400]), energy_ave, yerr=energy_std, fmt='o')\n",
    "\n",
    "ax.set_xlabel('Time')\n",
    "ax.set_ylabel('$<E>$')\n",
    "\n",
    "ax.set_xscale('log')\n",
    "\n",
    "plt.legend(loc='upper left')\n",
    "\n",
    "plt.show()"
   ]
  },
  {
   "cell_type": "code",
   "execution_count": 41,
   "metadata": {},
   "outputs": [
    {
     "data": {
      "image/png": "[encoded data removed]",
      "text/plain": [
       "<matplotlib.figure.Figure at 0x1f08c5b15f8>"
      ]
     },
     "metadata": {},
     "output_type": "display_data"
    }
   ],
   "source": [
    "fig = plt.figure(figsize=(7, 6))\n",
    "ax = fig.add_subplot(111)\n",
    "\n",
    "ax.errorbar(np.array([800, 1600, 3200, 6400]), energy_ave[3:], yerr=energy_std[3:], fmt='o')\n",
    "\n",
    "ax.set_xlabel('Time')\n",
    "ax.set_ylabel('$<E>$')\n",
    "\n",
    "ax.set_xscale('log')\n",
    "\n",
    "plt.legend(loc='upper left')\n",
    "\n",
    "plt.show()"
   ]
  },
  {
   "cell_type": "code",
   "execution_count": 42,
   "metadata": {},
   "outputs": [
    {
     "name": "stderr",
     "output_type": "stream",
     "text": [
      "C:\\Users\\anbaigashi\\Anaconda3\\lib\\site-packages\\ipykernel_launcher.py:57: RuntimeWarning: overflow encountered in exp\n",
      "C:\\Users\\anbaigashi\\Anaconda3\\lib\\site-packages\\ipykernel_launcher.py:57: RuntimeWarning: invalid value encountered in add\n",
      "C:\\Users\\anbaigashi\\Anaconda3\\lib\\site-packages\\ipykernel_launcher.py:57: RuntimeWarning: overflow encountered in multiply\n"
     ]
    },
    {
     "name": "stdout",
     "output_type": "stream",
     "text": [
      "Wall time: 6min 1s\n"
     ]
    }
   ],
   "source": [
    "%%time\n",
    "\n",
    "mcs = 12800\n",
    "\n",
    "d0, d1, ka, kd, s, e, pick, update, exchange_count = exchange_monte_calro(mcs, beta, [0, 1], D0[:, -1], D1[:, -1],\n",
    "                                                                                  Ka[:, -1], Kd[:, -1], Sigma[:, -1])"
   ]
  },
  {
   "cell_type": "code",
   "execution_count": 43,
   "metadata": {},
   "outputs": [
    {
     "name": "stdout",
     "output_type": "stream",
     "text": [
      "(4, 25600)\n"
     ]
    }
   ],
   "source": [
    "D0 = np.concatenate([D0, d0], axis=1)\n",
    "D1 = np.concatenate([D1, d1], axis=1)\n",
    "Ka = np.concatenate([Ka, ka], axis=1)\n",
    "Kd = np.concatenate([Kd, kd], axis=1)\n",
    "Sigma = np.concatenate([Sigma, s], axis=1)\n",
    "Energy = np.concatenate([Energy, e], axis=1)\n",
    "\n",
    "print(Energy.shape)"
   ]
  },
  {
   "cell_type": "code",
   "execution_count": 44,
   "metadata": {},
   "outputs": [
    {
     "name": "stdout",
     "output_type": "stream",
     "text": [
      "200 400\n",
      "400 800\n",
      "800 1600\n",
      "1600 3200\n",
      "3200 6400\n",
      "6400 12800\n",
      "12800 25600\n",
      "25600 51200\n"
     ]
    }
   ],
   "source": [
    "energy_ave = np.zeros(8)\n",
    "energy_std = np.zeros(8)\n",
    "\n",
    "t0 = 100\n",
    "start = t0\n",
    "end = 2*t0\n",
    "\n",
    "for i in range(energy_ave.shape[0]):\n",
    "    energy_ave[i] = Energy[:, start:end].mean(axis=0)[0]\n",
    "    energy_std[i] = Energy[:, start:end].std(axis=0)[0]/np.sqrt(start)\n",
    "    start = end\n",
    "    end = 2*end\n",
    "    print(start, end)"
   ]
  },
  {
   "cell_type": "code",
   "execution_count": 45,
   "metadata": {},
   "outputs": [
    {
     "data": {
      "image/png": "[encoded data removed]",
      "text/plain": [
       "<matplotlib.figure.Figure at 0x1f08dc74630>"
      ]
     },
     "metadata": {},
     "output_type": "display_data"
    }
   ],
   "source": [
    "fig = plt.figure(figsize=(7, 6))\n",
    "ax = fig.add_subplot(111)\n",
    "\n",
    "ax.errorbar(np.array([100, 200, 400, 800, 1600, 3200, 6400, 12800]), energy_ave, yerr=energy_std, fmt='o')\n",
    "\n",
    "ax.set_xlabel('Time')\n",
    "ax.set_ylabel('$<E>$')\n",
    "\n",
    "ax.set_xscale('log')\n",
    "\n",
    "plt.legend(loc='upper left')\n",
    "\n",
    "plt.show()"
   ]
  },
  {
   "cell_type": "code",
   "execution_count": 46,
   "metadata": {},
   "outputs": [
    {
     "data": {
      "image/png": "[encoded data removed]",
      "text/plain": [
       "<matplotlib.figure.Figure at 0x1f08dbb19b0>"
      ]
     },
     "metadata": {},
     "output_type": "display_data"
    }
   ],
   "source": [
    "fig = plt.figure(figsize=(7, 6))\n",
    "ax = fig.add_subplot(111)\n",
    "\n",
    "ax.errorbar(np.array([1600, 3200, 6400, 12800]), energy_ave[4:], yerr=energy_std[4:], fmt='o')\n",
    "\n",
    "ax.set_xlabel('Time')\n",
    "ax.set_ylabel('$<E>$')\n",
    "\n",
    "ax.set_xscale('log')\n",
    "\n",
    "plt.legend(loc='upper left')\n",
    "\n",
    "plt.show()"
   ]
  },
  {
   "cell_type": "code",
   "execution_count": 47,
   "metadata": {},
   "outputs": [
    {
     "name": "stderr",
     "output_type": "stream",
     "text": [
      "C:\\Users\\anbaigashi\\Anaconda3\\lib\\site-packages\\ipykernel_launcher.py:57: RuntimeWarning: overflow encountered in exp\n",
      "C:\\Users\\anbaigashi\\Anaconda3\\lib\\site-packages\\ipykernel_launcher.py:57: RuntimeWarning: invalid value encountered in add\n",
      "C:\\Users\\anbaigashi\\Anaconda3\\lib\\site-packages\\ipykernel_launcher.py:57: RuntimeWarning: overflow encountered in multiply\n"
     ]
    },
    {
     "name": "stdout",
     "output_type": "stream",
     "text": [
      "Wall time: 14min 20s\n"
     ]
    }
   ],
   "source": [
    "%%time\n",
    "\n",
    "mcs = 25600\n",
    "\n",
    "d0, d1, ka, kd, s, e, pick, update, exchange_count = exchange_monte_calro(mcs, beta, [0, 1], D0[:, -1], D1[:, -1],\n",
    "                                                                                  Ka[:, -1], Kd[:, -1], Sigma[:, -1])"
   ]
  },
  {
   "cell_type": "code",
   "execution_count": 48,
   "metadata": {},
   "outputs": [
    {
     "name": "stdout",
     "output_type": "stream",
     "text": [
      "(4, 51200)\n"
     ]
    }
   ],
   "source": [
    "D0 = np.concatenate([D0, d0], axis=1)\n",
    "D1 = np.concatenate([D1, d1], axis=1)\n",
    "Ka = np.concatenate([Ka, ka], axis=1)\n",
    "Kd = np.concatenate([Kd, kd], axis=1)\n",
    "Sigma = np.concatenate([Sigma, s], axis=1)\n",
    "Energy = np.concatenate([Energy, e], axis=1)\n",
    "\n",
    "print(Energy.shape)"
   ]
  },
  {
   "cell_type": "code",
   "execution_count": 49,
   "metadata": {},
   "outputs": [
    {
     "name": "stdout",
     "output_type": "stream",
     "text": [
      "4\n",
      "9\n"
     ]
    }
   ],
   "source": [
    "energy_ave = np.zeros([4, 9])\n",
    "energy_std = np.zeros([4, 9])\n",
    "\n",
    "print(energy_ave.shape[0])\n",
    "print(energy_ave.shape[1])\n",
    "\n",
    "for i in range(energy_ave.shape[0]):\n",
    "    t0 = 100\n",
    "    start = t0\n",
    "    end = 2*t0\n",
    "    for j in range(energy_ave.shape[1]):\n",
    "        energy_ave[i][j] = Energy[i, start:end].mean()\n",
    "        energy_std[i][j] = Energy[i, start:end].std()/np.sqrt(start)\n",
    "        start = end\n",
    "        end = 2*end\n",
    "#         print(start, end)"
   ]
  },
  {
   "cell_type": "code",
   "execution_count": 50,
   "metadata": {},
   "outputs": [
    {
     "data": {
      "image/png": "[encoded data removed]",
      "text/plain": [
       "<matplotlib.figure.Figure at 0x1f08c5fb5f8>"
      ]
     },
     "metadata": {},
     "output_type": "display_data"
    }
   ],
   "source": [
    "fig = plt.figure(figsize=(7, 6))\n",
    "ax = fig.add_subplot(111)\n",
    "\n",
    "ax.errorbar(np.array([100, 200, 400, 800, 1600, 3200, 6400, 12800, 25600]), energy_ave[3, ], yerr=energy_std[3, ], fmt='o')\n",
    "\n",
    "ax.set_xlabel('Time')\n",
    "ax.set_ylabel('$<E>$')\n",
    "\n",
    "ax.set_xscale('log')\n",
    "\n",
    "plt.legend(loc='upper left')\n",
    "\n",
    "plt.show()"
   ]
  },
  {
   "cell_type": "code",
   "execution_count": 54,
   "metadata": {},
   "outputs": [
    {
     "data": {
      "image/png": "[encoded data removed]",
      "text/plain": [
       "<matplotlib.figure.Figure at 0x1f08da267f0>"
      ]
     },
     "metadata": {},
     "output_type": "display_data"
    }
   ],
   "source": [
    "fig = plt.figure(figsize=(7, 6))\n",
    "ax = fig.add_subplot(111)\n",
    "\n",
    "ax.errorbar(np.array([800, 1600, 3200, 6400, 12800, 25600]), energy_ave[3, 3:], yerr=energy_std[3, 3:], fmt='o')\n",
    "\n",
    "ax.set_xlabel('Time')\n",
    "ax.set_ylabel('$<E>$')\n",
    "\n",
    "ax.set_xscale('log')\n",
    "\n",
    "plt.legend(loc='upper left')\n",
    "\n",
    "plt.show()"
   ]
  },
  {
   "cell_type": "code",
   "execution_count": null,
   "metadata": {
    "collapsed": true
   },
   "outputs": [],
   "source": []
  },
  {
   "cell_type": "code",
   "execution_count": null,
   "metadata": {
    "collapsed": true
   },
   "outputs": [],
   "source": []
  },
  {
   "cell_type": "code",
   "execution_count": 56,
   "metadata": {},
   "outputs": [
    {
     "name": "stderr",
     "output_type": "stream",
     "text": [
      "C:\\Users\\anbaigashi\\Anaconda3\\lib\\site-packages\\ipykernel_launcher.py:26: RuntimeWarning: overflow encountered in exp\n",
      "C:\\Users\\anbaigashi\\Anaconda3\\lib\\site-packages\\ipykernel_launcher.py:31: RuntimeWarning: overflow encountered in exp\n",
      "C:\\Users\\anbaigashi\\Anaconda3\\lib\\site-packages\\ipykernel_launcher.py:57: RuntimeWarning: overflow encountered in exp\n",
      "C:\\Users\\anbaigashi\\Anaconda3\\lib\\site-packages\\ipykernel_launcher.py:57: RuntimeWarning: invalid value encountered in add\n",
      "C:\\Users\\anbaigashi\\Anaconda3\\lib\\site-packages\\ipykernel_launcher.py:57: RuntimeWarning: overflow encountered in multiply\n",
      "C:\\Users\\anbaigashi\\Anaconda3\\lib\\site-packages\\ipykernel_launcher.py:12: RuntimeWarning: invalid value encountered in multiply\n",
      "  if sys.path[0] == '':\n",
      "C:\\Users\\anbaigashi\\Anaconda3\\lib\\site-packages\\ipykernel_launcher.py:16: RuntimeWarning: invalid value encountered in multiply\n",
      "  app.launch_new_instance()\n",
      "C:\\Users\\anbaigashi\\Anaconda3\\lib\\site-packages\\ipykernel_launcher.py:16: RuntimeWarning: overflow encountered in square\n",
      "  app.launch_new_instance()\n"
     ]
    },
    {
     "name": "stdout",
     "output_type": "stream",
     "text": [
      "Wall time: 57min 28s\n"
     ]
    }
   ],
   "source": [
    "%%time\n",
    "\n",
    "temp = np.array([1, 2])\n",
    "beta = 1./temp\n",
    "#print(beta)\n",
    "\n",
    "mcs = 51200\n",
    "id0 = np.full(2*beta.shape[0], 5, dtype=float)\n",
    "id1 = np.full(2*beta.shape[0], 5, dtype=float)\n",
    "ika = np.full(2*beta.shape[0], 10, dtype=float)\n",
    "ikd = np.full(2*beta.shape[0], 10, dtype=float)\n",
    "isig = np.full(2*beta.shape[0], 2e-6, dtype=float)\n",
    "\n",
    "D0e, D1e, Kae, Kde, Sigmae, Energye, picke, updatee, exchange_counte = exchange_monte_calro(mcs, beta, [0, 1], id0, id1, ika, ikd, isig)"
   ]
  },
  {
   "cell_type": "code",
   "execution_count": 57,
   "metadata": {},
   "outputs": [
    {
     "name": "stdout",
     "output_type": "stream",
     "text": [
      "4\n",
      "9\n"
     ]
    }
   ],
   "source": [
    "energy_ave_e = np.zeros([4, 9])\n",
    "energy_std_e = np.zeros([4, 9])\n",
    "\n",
    "print(energy_ave_e.shape[0])\n",
    "print(energy_ave_e.shape[1])\n",
    "\n",
    "for i in range(energy_ave.shape[0]):\n",
    "    t0 = 100\n",
    "    start = t0\n",
    "    end = 2*t0\n",
    "    for j in range(energy_ave_e.shape[1]):\n",
    "        energy_ave_e[i][j] = Energye[i, start:end].mean()\n",
    "        energy_std_e[i][j] = Energye[i, start:end].std()/np.sqrt(start)\n",
    "        start = end\n",
    "        end = 2*end\n",
    "#         print(start, end)"
   ]
  },
  {
   "cell_type": "code",
   "execution_count": 90,
   "metadata": {},
   "outputs": [
    {
     "name": "stdout",
     "output_type": "stream",
     "text": [
      "[[  639.65378747   191.29796334     8.49701914   -49.3318454    -66.30424942\n",
      "    -74.05271274   -86.84267195   -89.5666961    -95.90802572]\n",
      " [ 1846.46675722   450.59701407    57.6006437    -36.2859642    -59.73242456\n",
      "    -70.55411239   -80.17509034   -79.82555629   -92.03990191]\n",
      " [ 1464.1158647    219.99506718   -25.16107499   -79.31291332\n",
      "    -87.43160229   -85.14255998   -76.16269163   -79.07724967\n",
      "    -80.02539538]\n",
      " [  569.88168692     4.72374797   -71.65936453   -96.42432004\n",
      "   -100.95266914  -106.26022604  -106.01508654  -105.57453091\n",
      "   -105.52711441]]\n",
      "[[  3.41418735e+01   3.88555673e+00   1.30816077e+00   3.69030095e-01\n",
      "    4.98303256e-02   9.98345604e-02   1.99438083e-02   3.04209966e-02\n",
      "    8.86126681e-03]\n",
      " [  4.82297747e+01   1.84781957e+01   2.71844721e+00   3.65944991e-01\n",
      "    1.03783477e-01   4.05863300e-02   7.36433788e-02   4.83714516e-02\n",
      "    3.13299847e-02]\n",
      " [  7.49039456e+01   7.90836705e+00   1.95440458e+00   1.93625889e-01\n",
      "    7.58132805e-02   1.12699641e-01   6.88188730e-02   4.18636612e-02\n",
      "    1.56415719e-02]\n",
      " [  3.07097636e+01   4.46917089e+00   4.47515916e-01   6.33845208e-02\n",
      "    1.07656954e-01   1.46690038e-02   1.09447280e-02   9.74638141e-03\n",
      "    8.22270290e-03]]\n"
     ]
    }
   ],
   "source": [
    "print(energy_ave)\n",
    "print(energy_std)"
   ]
  },
  {
   "cell_type": "code",
   "execution_count": 94,
   "metadata": {},
   "outputs": [
    {
     "data": {
      "image/png": "[encoded data removed]",
      "text/plain": [
       "<matplotlib.figure.Figure at 0x1f0905ba390>"
      ]
     },
     "metadata": {},
     "output_type": "display_data"
    }
   ],
   "source": [
    "fig = plt.figure(figsize=(7, 6))\n",
    "ax = fig.add_subplot(111)\n",
    "\n",
    "ax.errorbar(np.array([100, 200, 400, 800, 1600, 3200, 6400, 12800, 25600]), energy_ave[3, ], yerr=energy_std[3, ], fmt='o', label='koukannashi, M=1, beta=1')\n",
    "ax.errorbar(np.array([100, 200, 400, 800, 1600, 3200, 6400, 12800, 25600]), energy_ave_e[3, ], yerr=energy_std_e[3, ], fmt='o', label='koukanari, M=1, beta=1')\n",
    "\n",
    "\n",
    "ax.set_xlabel('Time')\n",
    "ax.set_ylabel('$<E>$')\n",
    "\n",
    "ax.set_xscale('log')\n",
    "\n",
    "plt.legend(loc='upper right')\n",
    "\n",
    "plt.savefig('teireikai20190130fig1.png')\n",
    "\n",
    "plt.show()"
   ]
  },
  {
   "cell_type": "code",
   "execution_count": 69,
   "metadata": {},
   "outputs": [
    {
     "data": {
      "image/png": "[encoded data removed]",
      "text/plain": [
       "<matplotlib.figure.Figure at 0x1f08da77ef0>"
      ]
     },
     "metadata": {},
     "output_type": "display_data"
    }
   ],
   "source": [
    "fig = plt.figure(figsize=(7, 6))\n",
    "ax = fig.add_subplot(111)\n",
    "\n",
    "ax.errorbar(np.array([1600, 3200, 6400, 12800, 25600]), energy_ave[2, 4:], yerr=energy_std[2, 4:], fmt='o', label='koukannashi,  M=1, beta=2')\n",
    "ax.errorbar(np.array([1600, 3200, 6400, 12800, 25600]), energy_ave_e[2, 4:], yerr=energy_std_e[2, 4:], fmt='o', label='koukanari,  M=1, beta=2')\n",
    "\n",
    "ax.set_xlabel('Time')\n",
    "ax.set_ylabel('$<E>$')\n",
    "\n",
    "ax.set_xscale('log')\n",
    "\n",
    "plt.legend(loc='upper left')\n",
    "\n",
    "#plt.savefig('teireikai20190130fig4.png')\n",
    "\n",
    "plt.show()"
   ]
  },
  {
   "cell_type": "code",
   "execution_count": 93,
   "metadata": {},
   "outputs": [
    {
     "data": {
      "image/png": "[encoded data removed]",
      "text/plain": [
       "<matplotlib.figure.Figure at 0x1f08f79e860>"
      ]
     },
     "metadata": {},
     "output_type": "display_data"
    }
   ],
   "source": [
    "fig = plt.figure(figsize=(7, 6))\n",
    "ax = fig.add_subplot(111)\n",
    "\n",
    "# ax.errorbar(np.array([1600, 3200, 6400, 12800, 25600]), energy_ave[2, 4:], yerr=energy_std[2, 4:], fmt='o', label='koukannashi,  M=1, beta=2')\n",
    "# ax.errorbar(np.array([1600, 3200, 6400, 12800, 25600]), energy_ave_e[2, 4:], yerr=energy_std_e[2, 4:], fmt='o', label='koukanari,  M=1, beta=2')\n",
    "\n",
    "colorlist = ['r', 'b']\n",
    "markerlist = ['o', 's', 'p', '*', 'D', 'v', '^', '8', '+']\n",
    "monteCarlo = np.array([100, 200, 400, 800, 1600, 3200, 6400, 12800, 25600, 51200])\n",
    "\n",
    "for i in range(energy_ave.shape[1]):\n",
    "    ax.errorbar(np.array([1]), energy_ave_e[3, i], yerr=energy_std_e[3, i], fmt='o', \n",
    "               marker=markerlist[i], color=colorlist[0], label='{}'.format(monteCarlo[i]))\n",
    "    ax.errorbar(np.array([2]), energy_ave_e[2, i], yerr=energy_std_e[2, i], fmt='o', \n",
    "               marker=markerlist[i], color=colorlist[1])\n",
    "\n",
    "ax.set_xlabel('$Temperature$')\n",
    "ax.set_ylabel('$<E>$')\n",
    "ax.set_title('koukannari')\n",
    "ax.set_ylim(-110, -50)\n",
    "\n",
    "#ax.set_xscale('log')\n",
    "\n",
    "plt.legend(loc='upper center')\n",
    "\n",
    "#plt.savefig('teireikai20190130fig8.png')\n",
    "\n",
    "plt.show()"
   ]
  },
  {
   "cell_type": "code",
   "execution_count": 94,
   "metadata": {},
   "outputs": [
    {
     "data": {
      "image/png": "[encoded data removed]",
      "text/plain": [
       "<matplotlib.figure.Figure at 0x2096eedaef0>"
      ]
     },
     "metadata": {},
     "output_type": "display_data"
    }
   ],
   "source": [
    "fig = plt.figure(figsize=(7, 6))\n",
    "ax = fig.add_subplot(111)\n",
    "\n",
    "ax.errorbar(np.array([12800, 25600]), energy_ave[3, 7:], yerr=energy_std[3, 7:], fmt='o')\n",
    "\n",
    "ax.set_xlabel('Time')\n",
    "ax.set_ylabel('$<E>$')\n",
    "\n",
    "ax.set_xscale('log')\n",
    "\n",
    "plt.legend(loc='upper left')\n",
    "\n",
    "plt.show()"
   ]
  },
  {
   "cell_type": "code",
   "execution_count": 80,
   "metadata": {},
   "outputs": [
    {
     "name": "stdout",
     "output_type": "stream",
     "text": [
      "[ 2064.51952692   588.83547831    70.34902772   -48.44366161   -73.26806219\n",
      "   -82.80110879   -84.67372331   -89.26846386   -91.1076872 ]\n",
      "[  7.92375083e+01   3.17024891e+01   4.06964431e+00   1.05933225e+00\n",
      "   4.36218713e-01   2.97586739e-01   1.79242324e-01   1.00859526e-01\n",
      "   7.42759369e-02]\n"
     ]
    }
   ],
   "source": [
    "print(energy_ave)\n",
    "print(energy_std)"
   ]
  },
  {
   "cell_type": "code",
   "execution_count": 96,
   "metadata": {},
   "outputs": [
    {
     "name": "stdout",
     "output_type": "stream",
     "text": [
      "[  0.21298616   0.25066954   2.8858777   12.07852848]\n",
      "[ 3.3433355   4.49449171  0.60424649  0.88696682]\n",
      "[ 16.19676942  11.24003015  14.71964574  13.34072091]\n",
      "[ 17.20768972  -0.44813407   4.93694825   6.86244803]\n",
      "[  2.71179119e-05   4.31171411e-05   1.33730940e-04   5.39438921e-06]\n",
      "[ -93.24412872  -90.75814652  -79.07215316 -107.15969536]\n"
     ]
    }
   ],
   "source": [
    "print(D0[:, -1])\n",
    "print(D1[:, -1])\n",
    "print(Ka[:, -1])\n",
    "print(Kd[:, -1])\n",
    "print(Sigma[:, -1])\n",
    "print(Energy[:, -1])"
   ]
  },
  {
   "cell_type": "code",
   "execution_count": 95,
   "metadata": {},
   "outputs": [
    {
     "name": "stdout",
     "output_type": "stream",
     "text": [
      "-106.988904209\n"
     ]
    }
   ],
   "source": [
    "print(energy(1, 1.5, 1.5, 20, 5, 5e-6))"
   ]
  },
  {
   "cell_type": "code",
   "execution_count": 53,
   "metadata": {
    "collapsed": true
   },
   "outputs": [],
   "source": [
    "def file_write(w_file, beta, model, diffusivity_0, diffusivity_1, k_a, k_d, sigma, E, dlogp, pick, update, exchange):\n",
    "    \n",
    "    with open(w_file, \"w\") as fileobj:\n",
    "                \n",
    "        fileobj.write(str('#model parametes M, temperature \\n'))\n",
    "        for i in range(model.shape[0]):\n",
    "            for j in range(beta.shape[0]):\n",
    "                if i==0 and j==0:\n",
    "                    fileobj.write('#(M, Temp)=({}, {})'.format(model[i], temp[j])); fileobj.write(str('\\t'))\n",
    "                elif i==0:\n",
    "                    fileobj.write('({}, {})'.format(model[i], temp[j])); fileobj.write(str('\\t'))\n",
    "                elif i==1:\n",
    "                    fileobj.write('({}, {})'.format(model[i], temp[beta.shape[0]-1-j])); fileobj.write(str('\\t'))\n",
    "        fileobj.write(str('\\n \\n'))\n",
    "\n",
    "        fileobj.write(str(\"#acceptance rate\\n\"))\n",
    "        for m in range(2*beta.shape[0]):\n",
    "            for i in range(5):\n",
    "                fileobj.write(str(pick[m, i])); fileobj.write(str(\"\\t\"))\n",
    "            fileobj.write(str(\"\\n\"))\n",
    "        fileobj.write(str(\"\\n\"))\n",
    "        fileobj.write(str('#update \\n'))\n",
    "        for m in range(2*beta.shape[0]):\n",
    "            for i in range(5):\n",
    "                fileobj.write(str(update[m, i])); fileobj.write(str(\"\\t\"))\n",
    "            fileobj.write(str(\"\\n\"))\n",
    "        fileobj.write(str(\"\\n\"))\n",
    "\n",
    "        fileobj.write(str(\"#exchange rate\\n\"))\n",
    "        for m in range(2*beta.shape[0]-1):\n",
    "            fileobj.write(str(exchange[m])); fileobj.write(str(\"\\t\"))\n",
    "        fileobj.write(str(\"\\n\")); fileobj.write(str(\"\\n\"))\n",
    "\n",
    "        fileobj.write(str('De^M=0, De^M=1, ka, kd, sigma, energy, log bayes f\\n'))\n",
    "        for b in range(2*beta.shape[0]):\n",
    "            if b < beta.shape[0]:\n",
    "                fileobj.write(str(\"#M={}, beta={}\\n\".format(0, beta[b])))\n",
    "            else:\n",
    "                fileobj.write(str(\"#M={}, beta={}\\n\".format(1, beta[2*beta.shape[0]-1-b])))\n",
    "            for i in range(T):\n",
    "                fileobj.write(str(diffusivity_0[b, i])); fileobj.write(str(\"\\t\"))\n",
    "                fileobj.write(str(diffusivity_1[b, i])); fileobj.write(str(\"\\t\"))\n",
    "                fileobj.write(str(k_a[b, i])); fileobj.write(str(\"\\t\"))\n",
    "                fileobj.write(str(k_d[b, i])); fileobj.write(str(\"\\t\"))\n",
    "                fileobj.write(str(sigma[b, i])); fileobj.write(str(\"\\t\"))\n",
    "                fileobj.write(str(E[b, i])); fileobj.write(str(\"\\t\"))\n",
    "                fileobj.write(str(dlogp[b, i])); fileobj.write(str(\"\\t\"))\n",
    "                fileobj.write(str(\"\\n\"))\n",
    "            fileobj.write(str(\"\\n\"))\n",
    "            \n",
    "    return"
   ]
  },
  {
   "cell_type": "code",
   "execution_count": 54,
   "metadata": {
    "collapsed": true
   },
   "outputs": [],
   "source": [
    "dlogp = np.zeros([2*beta.shape[0], T])#######################\n",
    "\n",
    "for i in range(sample):\n",
    "#    w_file = 'EM_TAP_test_M11_sigma_{}.dat'.format(i)\n",
    "#    diffusivity_0, diffusivity_1, k_a, k_d, sigma, E, pick, update, exchange\\\n",
    "#    = exchange_monte_calro(T, beta, [0, 1])\n",
    "    \n",
    "#    file_write(w_file, beta, np.array([0, 1]), diffusivity_0, diffusivity_1, k_a, k_d, sigma, E, dlogp, pick, update, exchange)"
   ]
  },
  {
   "cell_type": "code",
   "execution_count": null,
   "metadata": {
    "collapsed": true
   },
   "outputs": [],
   "source": []
  }
 ],
 "metadata": {
  "kernelspec": {
   "display_name": "Python 3",
   "language": "python",
   "name": "python3"
  },
  "language_info": {
   "codemirror_mode": {
    "name": "ipython",
    "version": 3
   },
   "file_extension": ".py",
   "mimetype": "text/x-python",
   "name": "python",
   "nbconvert_exporter": "python",
   "pygments_lexer": "ipython3",
   "version": "3.6.3"
  }
 },
 "nbformat": 4,
 "nbformat_minor": 2
}

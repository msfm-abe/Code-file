{
 "cells": [
  {
   "cell_type": "code",
   "execution_count": 1,
   "metadata": {
    "collapsed": true
   },
   "outputs": [],
   "source": [
    "import numpy as np\n",
    "import scipy.stats as stats\n",
    "import matplotlib.pyplot as plt\n",
    "from IPython.core.pylabtools import figsize\n",
    "import math\n",
    "\n",
    "plt.style.use('ggplot')"
   ]
  },
  {
   "cell_type": "markdown",
   "metadata": {},
   "source": [
    "読み込みファイル，計算に使用するデータ数，モンテカルロステップ数`T`，モンテカルロサンプル数`sample`を指定．\n",
    "\n",
    "`epsilon` と `length` は今後の計算に必要．"
   ]
  },
  {
   "cell_type": "code",
   "execution_count": 45,
   "metadata": {},
   "outputs": [],
   "source": [
    "data_file = 'TAP_artificial_data_De=1.5_ka=20_kd=5_sigma=5e-6_1-10^4ms.dat'\n",
    "data_points = 10\n",
    "T = 5\n",
    "sample = 1\n",
    "model = np.array([0, 0.5, 1.])\n",
    "#model = 0.1*np.arange(0, 11, dtype=float)\n",
    "\n",
    "true_diffusivity = 1.5\n",
    "true_k_a = 20.0\n",
    "true_k_d = 5.0\n",
    "true_standard_deviation = 5e-6\n",
    "epsilon = 1.0\n",
    "length = 35.0"
   ]
  },
  {
   "cell_type": "markdown",
   "metadata": {},
   "source": [
    "## 2つのモデル\n",
    "\n",
    "$M=0$ : 拡散のみ\n",
    "\n",
    "* Dimensionless form\n",
    "\n",
    "\\begin{align}\n",
    "    &\\frac{\\partial \\bar{C}_{A}}{\\partial \\tau} = \\frac{\\partial^{2} \\bar{C}_{A}}{\\partial \\xi^{2}} \\\\\n",
    "    \\Longrightarrow\\, &\\bar{F}_{A} = \\sum_{n=0}^{\\infty}\\left(-1\\right)^{n}\\left(2n+1\\right)\\exp \\left(-\\left(n+\\frac{1}{2}\\right)^{2}\\pi^{2}\\tau\\right)\n",
    "\\end{align}\n",
    "\n",
    "$M=1$ : 拡散+吸着+脱離\n",
    "\n",
    "* Dimensionless form\n",
    "\n",
    "\\begin{align}\n",
    "    &\\frac{\\partial \\bar{C}_{A}}{\\partial \\tau} = \\frac{\\partial^{2} \\bar{C}_{A}}{\\partial \\xi^{2}}-\\bar{k}_{a}\\bar{C}_{A}+\\bar{k}_{d}\\bar{\\theta}_{A}, \\\\\n",
    "    &\\frac{\\partial \\bar{\\theta}_{A}}{\\partial \\tau} = \\bar{k}_{a}\\bar{C}_{A}-\\bar{k}_{d}\\bar{\\theta}_{A}\n",
    "\\end{align}\n",
    "\n",
    "\\begin{align}\n",
    "    \\Longrightarrow\\,&\\bar{F}_{A} = \\pi\\sum_{n=0}^{\\infty}\\left(-1\\right)^{n}\\left(2n+1\\right)\\left[A_{n}\\exp \\left(r_{-}\\tau\\right)+\\left(1-A_{n}\\right)\\exp \\left(r_{+}\\tau\\right)\\right]\n",
    "\\end{align}\n",
    "\n",
    "ただし\n",
    "\n",
    "\\begin{align}\n",
    "    &r_{\\pm} = \\frac{-\\left(p_{n}^{2}+\\bar{k}_{a}+\\bar{k}_{d}\\right)\\pm\\sqrt{\\left(p_{n}^{2}+\\bar{k}_{a}+\\bar{k}_{d}\\right)^{2}-4p_{n}^{2}\\bar{k}_{d}}}{2}, \\\\\n",
    "    &p_{n} = \\left(n+\\frac{1}{2}\\right)\\pi, \\\\\n",
    "    &A_{n} = \\frac{r_{+}+p_{n}^{2}+\\bar{k}_{a}}{r_{+}-r_{-}}\n",
    "\\end{align}\n",
    "\n",
    "dimensional form と dimensionless form の関係は\n",
    "\n",
    "\\begin{align}\n",
    "    &\\tau = \\frac{D_{eA}}{\\epsilon_{b}L^{2}}t, \\\\\n",
    "    &\\bar{F}_{A}\\left(\\xi, \\tau \\right) = \\frac{\\epsilon_{b}L^{2}}{D_{eA}}\\frac{F_{A}\\left(x, t\\right)}{N_{pA}}\n",
    "\\end{align}"
   ]
  },
  {
   "cell_type": "markdown",
   "metadata": {},
   "source": [
    "## 関数\n",
    "```python:title\n",
    "Flow(diffusivity, k_a, k_d, epsilon, length, time)\n",
    "```\n",
    "高速版\n",
    "* 入力 : $D_{e}, k_{a}, k_{d}, \\epsilon_{b}, L$ (スカラー), $t$ (numpy配列)\n",
    "* 出力 : $t$と同じ次元のDimensional flow\n",
    "\n",
    "`k_a=0, k_d=0`で $M=0$,それ以外で $M=1$ になる．"
   ]
  },
  {
   "cell_type": "code",
   "execution_count": 3,
   "metadata": {
    "collapsed": true
   },
   "outputs": [],
   "source": [
    "def p_n(n):\n",
    "    return (n+0.5)*np.pi\n",
    "\n",
    "def r_plus(p_n, k_a, k_d):\n",
    "    return ( -(p_n**2 + k_a + k_d)+np.sqrt((p_n**2 + k_a + k_d)**2 - 4*(p_n**2)*k_d) )/2.0\n",
    "\n",
    "def r_minus(p_n, k_a, k_d):\n",
    "    return ( -(p_n**2 + k_a + k_d)-np.sqrt((p_n**2 + k_a + k_d)**2 - 4*(p_n**2)*k_d) )/2.0\n",
    "\n",
    "def A_n(p_n, r_plus, r_minus, k_a):\n",
    "    return (r_plus + (p_n**2) + k_a)/(r_plus - r_minus)\n",
    "\n",
    "# def Flow(diffusivity, k_a, k_d, epsilon, length, time):\n",
    "#     dimensionless_time = time * diffusivity/(epsilon*length**2)\n",
    "    \n",
    "#     f_flow = np.zeros(time.shape[0])\n",
    "#     pn = p_n(0); r_p = r_plus(p_n=pn, k_a=k_a, k_d=k_d); r_m = r_minus(p_n=pn, k_a=k_a, k_d=k_d)\n",
    "#     A = A_n(p_n=pn, r_plus=r_p, r_minus=r_m, k_a=k_a)\n",
    "#     f_flow += np.power(-1.0, 0)*(2.0*0+1.0)*( A*np.exp(r_m*dimensionless_time)+(1.0-A)*np.exp(r_p*dimensionless_time) )\n",
    "    \n",
    "#     l_flow = np.zeros(time.shape[0])\n",
    "#     pn = p_n(1); r_p = r_plus(p_n=pn, k_a=k_a, k_d=k_d); r_m = r_minus(p_n=pn, k_a=k_a, k_d=k_d)\n",
    "#     A = A_n(p_n=pn, r_plus=r_p, r_minus=r_m, k_a=k_a)\n",
    "#     l_flow = f_flow + np.power(-1.0, 1)*(2.0*1+1.0)*( A*np.exp(r_m*dimensionless_time)+(1.0-A)*np.exp(r_p*dimensionless_time) )\n",
    "    \n",
    "#     N = np.ones(time.shape[0], dtype=int)\n",
    "\n",
    "#     for i in range(time.shape[0]):\n",
    "#         while np.abs((l_flow[i]-f_flow[i])/f_flow[i]) > 10**-5:\n",
    "#             N[i] += 1\n",
    "#             f_flow[i] = l_flow[i]\n",
    "#             pn = p_n(N[i]); r_p = r_plus(p_n=pn, k_a=k_a, k_d=k_d); r_m = r_minus(p_n=pn, k_a=k_a, k_d=k_d)\n",
    "#             A = A_n(p_n=pn, r_plus=r_p, r_minus=r_m, k_a=k_a)\n",
    "#             l_flow[i] += np.power(-1.0, N[i])*(2.0*N[i]+1.0)*( A*np.exp(r_m*dimensionless_time[i])+(1.0-A)*np.exp(r_p*dimensionless_time[i]) )\n",
    "    \n",
    "##     while np.abs((l_flow[0]-f_flow[0])/f_flow[0]) > 10**-5:\n",
    "##         for i in range(time.shape[0]):\n",
    "##             if np.abs((l_flow[i]-f_flow[i])/f_flow[i]) > 1.*10**-5:\n",
    "##                 N[i] += 1\n",
    "##                 f_flow[i] = l_flow[i]\n",
    "##                 pn = p_n(N[i]); r_p = r_plus(p_n=pn, k_a=k_a, k_d=k_d); r_m = r_minus(p_n=pn, k_a=k_a, k_d=k_d)\n",
    "##                 A = A_n(p_n=pn, r_plus=r_p, r_minus=r_m, k_a=k_a)\n",
    "##                 l_flow[i] += np.power(-1.0, N[i])*(2.0*N[i]+1.0)*( A*np.exp(r_m*dimensionless_time[i])+(1.0-A)*np.exp(r_p*dimensionless_time[i]) )\n",
    "    \n",
    "# #    print(N)\n",
    "#     l_flow *= np.pi\n",
    "#     l_flow *= diffusivity/(epsilon*np.power(length, 2))\n",
    "\n",
    "#     return l_flow\n",
    "\n",
    "def Flow(diffusivity, k_a, k_d, epsilon, length, time):\n",
    "    dimensionless_time = time * diffusivity/(epsilon*length**2)\n",
    "    r_flow = np.zeros(len(time))\n",
    "    for n in range(100):\n",
    "        pn = p_n(n); r_p = r_plus(p_n=pn, k_a=k_a, k_d=k_d); r_m = r_minus(p_n=pn, k_a=k_a, k_d=k_d)\n",
    "        A = A_n(p_n=pn, r_plus=r_p, r_minus=r_m, k_a=k_a)\n",
    "        r_flow += np.power(-1.0,n)*(2.0*n+1.0)*( A*np.exp(r_m*dimensionless_time)+(1.0-A)*np.exp(r_p*dimensionless_time) )\n",
    "    r_flow *= np.pi\n",
    "    r_flow *= diffusivity/(epsilon*np.power(length, 2))\n",
    "\n",
    "    return r_flow"
   ]
  },
  {
   "cell_type": "markdown",
   "metadata": {},
   "source": [
    "以下の `cell` でファイルからデータを読み込む．"
   ]
  },
  {
   "cell_type": "code",
   "execution_count": 4,
   "metadata": {},
   "outputs": [
    {
     "name": "stdout",
     "output_type": "stream",
     "text": [
      "10 \t 10\n"
     ]
    },
    {
     "data": {
      "image/png": "[encoded data removed]",
      "text/plain": [
       "<matplotlib.figure.Figure at 0x1b81b766be0>"
      ]
     },
     "metadata": {},
     "output_type": "display_data"
    }
   ],
   "source": [
    "dimensional_time = np.zeros(data_points)\n",
    "dimensional_exit_flow = np.zeros(data_points)\n",
    "i = 0\n",
    "j = 0\n",
    "for line in open(data_file, \"r\"):\n",
    "    if i%(10000/data_points)==0:\n",
    "        data = line.split(\"\\t\")\n",
    "        dimensional_time[j] = data[0]\n",
    "        dimensional_exit_flow[j] = data[1]\n",
    "        j += 1\n",
    "    else:\n",
    "        pass\n",
    "    i += 1\n",
    "\n",
    "\n",
    "print(len(dimensional_time), \"\\t\", len(dimensional_exit_flow))\n",
    "# print(dimensional_time, dimensional_exit_flow)\n",
    "\n",
    "fig = plt.figure()\n",
    "ax = fig.add_subplot(111)\n",
    "ax.plot(dimensional_time, dimensional_exit_flow)\n",
    "\n",
    "ax.set_xlabel('Dimensional Time[ms]')\n",
    "ax.set_ylabel('Dimensional Exit Flow[1/ms]')\n",
    "\n",
    "plt.show()"
   ]
  },
  {
   "cell_type": "markdown",
   "metadata": {},
   "source": [
    "## モデル依存のサンプリング\n",
    "\n",
    "\\begin{align}\n",
    "    P\\left(I_{\\mu}\\right) &= \\prod_{\\mu=1}^{T}\\left(\\sqrt{\\frac{\\alpha+\\beta}{\\pi}}\\exp\\left(-\\left(\\alpha + \\beta\\right)\\left\\{I_{\\mu}-\\frac{\\alpha I_{\\mu}^{M=0}+\\beta I_{\\mu}^{M=1}}{\\alpha + \\beta}\\right\\}^2\\right)\\right) \\\\\n",
    "    &= \\prod_{\\mu=1}^{T}\\left(\\frac{1}{\\sqrt{2\\pi\\sigma^2}}\\exp\\left(-\\frac{1}{2\\sigma^2}\\left\\{I_{\\mu}-\\left(1-M\\right)I_{\\mu}^{M=0}-MI_{\\mu}^{M=1}\\right\\}^{2} \\right) \\right) \\\\\n",
    "    &= \\left(\\frac{1}{\\sqrt{2\\pi\\sigma^2}}\\right)^{T}\\exp\\left(-E\\right) \\\\\n",
    "    &= \\exp\\left(-E^{\\prime}\\right)\n",
    "\\end{align}\n",
    "\n",
    "ただし\n",
    "\\begin{align}\n",
    "    &\\alpha = \\frac{1-M}{2\\sigma^{2}},\\, \n",
    "    \\beta = \\frac{M}{2\\sigma^{2}} \\\\\n",
    "    E &= \\frac{1}{2\\sigma^{2}}\\sum_{\\mu=1}^{T}\\left\\{I_{\\mu}-\\left(1-M \\right)I_{\\mu}^{M=0}-MI_{\\mu}^{M=1} \\right\\}^{2} \\\\\n",
    "    E^{\\prime} &= \\frac{1}{2\\sigma^{2}}\\sum_{\\mu=1}^{T}\\left\\{I_{\\mu}-\\left(1-M \\right)I_{\\mu}^{M=0}-MI_{\\mu}^{M=1} \\right\\}^{2} + \\frac{T}{2}\\ln\\left(2\\pi\\sigma^{2}\\right)\n",
    "\\end{align}\n",
    "\n",
    "$I_{\\mu}$ は $F_{A}$"
   ]
  },
  {
   "cell_type": "markdown",
   "metadata": {},
   "source": [
    "## 関数\n",
    "```python:title\n",
    "energy()\n",
    "```\n",
    "* 入力 : $M, D_{e}^{M=0}, D_{e}^{M=1}, k_{a}, k_{d}, \\sigma$ ($\\epsilon_{b}, L, t, F$ はあらかじめ指定)\n",
    "* 出力 : 上記の $E^{\\prime}$"
   ]
  },
  {
   "cell_type": "code",
   "execution_count": 5,
   "metadata": {},
   "outputs": [
    {
     "name": "stdout",
     "output_type": "stream",
     "text": [
      "-106.988904209\n"
     ]
    }
   ],
   "source": [
    "def energy(model, diffusivity_0, diffusivity_1, k_a, k_d, std,\n",
    "           epsilon=epsilon, length=length, \n",
    "           time=dimensional_time, artificial_flow=dimensional_exit_flow):\n",
    "\n",
    "    \n",
    "#    alpha = (1. - model)/(2.*std**2)\n",
    "#    beta = model/(2.*std**2)\n",
    "    \n",
    "    Energy = np.square(artificial_flow - ((1.-model)*Flow(diffusivity=diffusivity_0,\n",
    "                                                     k_a=0., k_d=0.,\n",
    "                                                     epsilon=epsilon, length=length, \n",
    "                                                     time=time) + \\\n",
    "                                          model*Flow(diffusivity=diffusivity_1,\n",
    "                                                     k_a=k_a, k_d=k_d, \n",
    "                                                     epsilon=epsilon, length=length, \n",
    "                                                     time=time))\n",
    "                      ).sum()\n",
    "    \n",
    "    Energy *= 1./(2.*std**2)\n",
    "    Energy += (time.shape[0]/2.) * np.log(2.*np.pi*std**2) \n",
    "    \n",
    "    return Energy\n",
    "        \n",
    "#    return Energy, alpha, beta\n",
    "\n",
    "#print(delta_energy(0, 1.5, 1.5, 20, 5, 5e-6, 5e-6))\n",
    "#print(delta_energy(0.5, 1.5, 1.5, 20, 5, 5e-6, 5e-6))\n",
    "print(energy(1, 1.5, 1.5, 20, 5, 5e-6))"
   ]
  },
  {
   "cell_type": "markdown",
   "metadata": {},
   "source": [
    "## 遷移確率\n",
    "\n",
    "\\begin{align}\n",
    "    r &= \\frac{\\hat{e}}{e^{\\left(t\\right)}} \\\\\n",
    "    &= \\left(\\sqrt{\\frac{\\hat{\\alpha}+\\hat{\\beta}}{\\alpha^{\\left(t\\right)}+\\beta^{\\left(t\\right)}}}\\right)^{T}\\exp\\left(-\\hat{E}+E^{\\left(t\\right)}\\right)\\\\\n",
    "    &= \\left(\\sqrt{\\frac{\\left(\\sigma^{(t)}\\right)^2}{\\hat{\\sigma^2}}} \\right)^{T}\\exp\\left(-\\hat{E}+E^{\\left(t\\right)}\\right) \\\\\n",
    "    &= \\exp\\left(-\\hat{E^{\\prime}}+{E^{\\prime}}^{(t)} \\right)\n",
    "\\end{align}"
   ]
  },
  {
   "cell_type": "markdown",
   "metadata": {},
   "source": [
    "## 関数\n",
    "```python:title\n",
    "r()\n",
    "```\n",
    "* 入力 : $\\hat{M}, M^{\\left(t\\right)}, \\hat{D_{e}^{M=0}}, \\hat{D_{e}^{M=1}}, \\hat{k_{a}}, \\hat{k_{d}}, \\hat{\\sigma}, D_{e}^{M=0, \\left(t\\right)}, D_{e}^{M=1, \\left(t\\right)}, k_{a}^{\\left(t\\right)}, k_{d}^{\\left(t\\right)}, \\sigma^{\\left(t\\right)}$ ($\\epsilon_{b}, L, t, F_{A}$ はあらかじめ指定)\n",
    "* 出力 : 遷移確率 $r$, $\\hat{E^{\\prime}}, E^{\\prime(t)}$"
   ]
  },
  {
   "cell_type": "code",
   "execution_count": 8,
   "metadata": {},
   "outputs": [
    {
     "name": "stdout",
     "output_type": "stream",
     "text": [
      "(3.9319555353508031, 44.107517171884922, 45.476654065700714)\n"
     ]
    }
   ],
   "source": [
    "def r(model_cand, model_current,\n",
    "       diffusivity_0_cand, diffusivity_1_cand, k_a_cand, k_d_cand, std_cand,\n",
    "       diffusivity_0_current, diffusivity_1_current, k_a_current, k_d_current, std_current, \n",
    "       epsilon=epsilon, length=length, \n",
    "       time=dimensional_time, artificial_flow=dimensional_exit_flow):\n",
    "    \n",
    "    E_cand = energy(model=model_cand,\n",
    "                    diffusivity_0=diffusivity_0_cand,\n",
    "                    diffusivity_1=diffusivity_1_cand,\n",
    "                    k_a=k_a_cand, k_d=k_d_cand,\n",
    "                    std=std_cand, \n",
    "                    epsilon=epsilon, length=length, \n",
    "                    time=time, artificial_flow=artificial_flow)\n",
    "    \n",
    "    E_current = energy(model=model_current, \n",
    "                       diffusivity_0=diffusivity_0_current,\n",
    "                       diffusivity_1=diffusivity_1_current,\n",
    "                       k_a=k_a_current, k_d=k_d_current,\n",
    "                       std=std_current,\n",
    "                       epsilon=epsilon, length=length, \n",
    "                       time=time, artificial_flow=artificial_flow)\n",
    "    \n",
    "    \n",
    "    exponent = -E_cand + E_current\n",
    "    \n",
    "    return np.exp(exponent), E_cand, E_current\n",
    "\n",
    "print(r(0.7, 0.7, 1.48, 1.49, 19.5, 5., 4.99e-6, 1.5001, 1.499, 20.02, 5.03, 5e-6))"
   ]
  },
  {
   "cell_type": "markdown",
   "metadata": {},
   "source": [
    "## 交換法\n",
    "\n",
    "確率\n",
    "\n",
    "\\begin{align}\n",
    "    r^{\\prime} &= \\frac{p_{M_{l}}\\left(\\hat{\\theta}_{l+1}\\right)p_{M_{l+1}}\\left(\\hat{\\theta}_{l}\\right)}{p_{M_{l}}\\left(\\hat{\\theta}_{l}\\right)p_{M_{l+1}}\\left(\\hat{\\theta}_{l+1}\\right)} \\\\\n",
    "    &= \\exp\\left(-E^{\\prime}_{M_{l}}\\left(\\hat{\\theta}_{l+1}\\right)-E^{\\prime}_{M_{l+1}}\\left(\\hat{\\theta}_{l}\\right)+E^{\\prime}_{M_{l}}\\left(\\hat{\\theta}_{l}\\right)+E^{\\prime}_{M_{l+1}}\\left(\\hat{\\theta}_{l+1}\\right)\\right)\n",
    "\\end{align}\n",
    "\n",
    "でパラメータを交換"
   ]
  },
  {
   "cell_type": "markdown",
   "metadata": {},
   "source": [
    "## 関数\n",
    "```python;title\n",
    "r_prime()\n",
    "```\n",
    "* 入力 : $M_{l=1}, D_{e, l=1}^{M=0}, D_{e, l=1}^{M=1}, k_{a, l=1}, k_{d, l=1}, \\sigma_{l=1}, M_{l=2}, D_{e, l=2}^{M=0}, D_{e, l=2}^{M=1}, k_{a, l=2}, k_{d, l=2}, \\sigma_{l=2}$ ($\\epsilon_{b}, L, t, F$ はあらかじめ指定)\n",
    "* 出力 : $r^{\\prime}$"
   ]
  },
  {
   "cell_type": "code",
   "execution_count": 9,
   "metadata": {},
   "outputs": [
    {
     "name": "stdout",
     "output_type": "stream",
     "text": [
      "0.766404937781\n"
     ]
    }
   ],
   "source": [
    "def r_prime(model1, diffusivity1_0, diffusivity1_1, k_a1, k_d1, std1, \n",
    "            model2, diffusivity2_0, diffusivity2_1, k_a2, k_d2, std2, \n",
    "            epsilon=epsilon, length=length, time=dimensional_time, artificial_flow=dimensional_exit_flow):\n",
    "    \n",
    "    E1 = energy(model=model1, diffusivity_0=diffusivity2_0, diffusivity_1=diffusivity2_1,\n",
    "                k_a=k_a2, k_d=k_d2, std=std2,\n",
    "                epsilon=epsilon, length=length,\n",
    "                time=dimensional_time, artificial_flow=dimensional_exit_flow)\n",
    "    \n",
    "    E2 = energy(model=model2, diffusivity_0=diffusivity1_0, diffusivity_1=diffusivity1_1,\n",
    "                k_a=k_a1, k_d=k_d1, std=std1,\n",
    "                epsilon=epsilon, length=length, \n",
    "                time=dimensional_time, artificial_flow=dimensional_exit_flow)\n",
    "        \n",
    "    E3 = energy(model=model1, diffusivity_0=diffusivity1_0, diffusivity_1=diffusivity1_1,\n",
    "                k_a=k_a1, k_d=k_d1, std=std1,\n",
    "                epsilon=epsilon, length=length, \n",
    "                time=dimensional_time, artificial_flow=dimensional_exit_flow)\n",
    "        \n",
    "    E4 = energy(model=model2, diffusivity_0=diffusivity2_0, diffusivity_1=diffusivity2_1,\n",
    "                k_a=k_a2, k_d=k_d2, std=std2,\n",
    "                epsilon=epsilon, length=length,\n",
    "                time=dimensional_time, artificial_flow=dimensional_exit_flow)\n",
    "    \n",
    "    E = -E1-E2+E3+E4\n",
    "    \n",
    "    return np.exp(E)\n",
    "\n",
    "print(r_prime(0.9, 1.5, 1.5, 20, 5, 5e-6, 1.0, 1.5, 1.49, 20, 5, 5e-6))"
   ]
  },
  {
   "cell_type": "markdown",
   "metadata": {},
   "source": [
    "## 対数ベイズ因子の計算によるモデル選択\n",
    "\n",
    "対数ベイズ因子は\n",
    "\\begin{align}\n",
    "    \\ln\\frac{P\\left(M=1\\,|\\,{\\bf{F}}^{data}\\right)}{P\\left(M=0\\,|\\,{\\bf{F}}^{data}\\right)} = \\\n",
    "    \\int_{0}^{1}dM\\left\\langle\\frac{d\\ln P\\left({\\bf{F}}^{data}\\,|\\,\\theta, M\\right)}{dM} \\right\\rangle_{M}\n",
    "\\end{align}\n",
    "\n",
    "ただし被積分関数は\n",
    "\n",
    "\\begin{align}\n",
    "    \\left\\langle\\frac{d\\ln P\\left({\\bf{F}}^{data}\\,|\\,\\theta, M\\right)}{dM} \\right\\rangle_{M} &= -\\frac{d}{dM}E^{\\prime} \\\\\n",
    "    &= -\\frac{1}{\\sigma^{2}}\\sum_{\\mu=1}^{T}\\left(I_{\\mu}^{M=0}-I_{\\mu}^{M=1}\\right)\\left\\{I_{\\mu}^{data}-\\left(1-M\\right)I_{\\mu}^{M=0}-MI_{\\mu}^{M=1}\\right\\}\n",
    "\\end{align}\n",
    "\n",
    "と書ける。パラメータのサンプリング結果から被積分関数を数値的に求め，対数ベイズ因子を計算することによりモデル選択を行う。"
   ]
  },
  {
   "cell_type": "markdown",
   "metadata": {},
   "source": [
    "## 対数ベイズ因子の被積分関数の計算\n",
    "```python;title\n",
    "dlog_p\n",
    "```\n",
    "* input : $M, D_e^{(M=0)}, D_e^{(M=1}, k_a, k_d, \\sigma$ (全てスカラー)　\n",
    "* output : 被積分関数 dlog (スカラー)"
   ]
  },
  {
   "cell_type": "code",
   "execution_count": 10,
   "metadata": {},
   "outputs": [
    {
     "name": "stdout",
     "output_type": "stream",
     "text": [
      "-10.6694943267\n"
     ]
    }
   ],
   "source": [
    "def dlog_p(model, diffusivity_0, diffusivity_1, k_a, k_d, \n",
    "           std, time=dimensional_time, artificial_flow=dimensional_exit_flow, \n",
    "           epsilon=epsilon, length=length):\n",
    "    \n",
    "    dlogp = -1./(std**2) \\\n",
    "            *(\n",
    "                 (Flow(diffusivity=diffusivity_0, k_a=0, k_d=0, time=time, epsilon=epsilon, length=length) \\\n",
    "                  - Flow(diffusivity=diffusivity_1, k_a=k_a, k_d=k_d, time=time, epsilon=epsilon, length=length)) \\\n",
    "                 *(artificial_flow - (1-model)*Flow(diffusivity=diffusivity_0,\n",
    "                                                    k_a=0, k_d=0,\n",
    "                                                    time=time, epsilon=epsilon, length=length) \\\n",
    "                   - model*Flow(diffusivity=diffusivity_1, \n",
    "                                k_a=k_a, k_d=k_d, \n",
    "                                time=time, epsilon=epsilon, length=length)\\\n",
    "                   )\n",
    "              ).sum()\n",
    "           \n",
    "    return dlogp\n",
    "\n",
    "print(dlog_p(1, 1, 1.5, 20, 5, 5*10**-6))"
   ]
  },
  {
   "cell_type": "markdown",
   "metadata": {},
   "source": [
    "## 交換法のアルゴリズム\n",
    "\n",
    "```python;title\n",
    "exchange_monte_calro()\n",
    "```\n",
    "* 入力 : モンテカルロステップ数，モデルパラメータ(交換モンテカルロ法の温度に相当)\n",
    "* 出力 : $D_e^{(M=0)}, D_e^{(M=1)}, k_a, k_d, \\sigma, E^{\\prime}, dlogp$　((`model.shape[0]`, $T$)の2次元配列), pick, update, exchange_rate"
   ]
  },
  {
   "cell_type": "code",
   "execution_count": 52,
   "metadata": {
    "collapsed": true
   },
   "outputs": [],
   "source": [
    "def exchange_monte_calro(monte_calro_step, model, epsilon=epsilon, length=length, \n",
    "                         time=dimensional_time, artificial_flow=dimensional_exit_flow):\n",
    "\n",
    "    diffusivity_0 = np.zeros([model.shape[0], monte_calro_step])\n",
    "    diffusivity_1 = np.zeros([model.shape[0], monte_calro_step])\n",
    "    k_a = np.zeros([model.shape[0], monte_calro_step])\n",
    "    k_d = np.zeros([model.shape[0], monte_calro_step])\n",
    "    sigma = np.zeros([model.shape[0], monte_calro_step])\n",
    "\n",
    "    E = np.zeros([model.shape[0], monte_calro_step])\n",
    "    dlogp = np.zeros([model.shape[0], monte_calro_step])\n",
    "    \n",
    "    pick = np.zeros([model.shape[0], 5])\n",
    "    update = np.zeros([model.shape[0], 5])\n",
    "    \n",
    "    exchange_rate = np.zeros(model.shape[0] - 1)\n",
    "    \n",
    "    \"\"\"initialize parameters\"\"\"\n",
    "    \n",
    "    for i in range(model.shape[0]):\n",
    "        diffusivity_0[i, 0] = 5.0#np.random.uniform(0, 50)\n",
    "        diffusivity_1[i, 0] = 5.0#np.random.uniform(0, 50)\n",
    "        k_a[i, 0] = 10.0#np.random.uniform(0, 50)\n",
    "        k_d[i, 0] = 10.0#np.random.uniform(0, 50)\n",
    "        sigma[i, 0] = 2e-6#np.random.uniform(1e-6, 5e-5)\n",
    "        E[i, 0] = energy(model[i], diffusivity_0[i, 0], diffusivity_1[i, 0],\n",
    "                         k_a[i, 0], k_d[i, 0], sigma[i, 0])\n",
    "        dlogp[i, 0] = dlog_p(model[i], diffusivity_0[i, 0], diffusivity_1[i, 0], k_a[i, 0], k_d[i, 0],\n",
    "                             sigma[i, 0])\n",
    "        \n",
    "#    print(diffusivity_0[10, 0], diffusivity_1[10, 0], k_a[10, 0], k_d[10, 0], sigma[10, 0])\n",
    "    \n",
    "    t = 1\n",
    "\n",
    "    while t < monte_calro_step:\n",
    "        \n",
    "        \"\"\"update parameters\"\"\"\n",
    "        \n",
    "        for m in range(model.shape[0]):\n",
    "            diffusivity_0[m, t] = diffusivity_0[m, t-1]; diffusivity_1[m, t] = diffusivity_1[m, t-1]; \n",
    "            k_a[m, t] = k_a[m, t-1]; k_d[m, t] = k_d[m, t-1]; sigma[m, t] = sigma[m, t-1]\n",
    "            \n",
    "            choice = np.random.randint(0, 5)\n",
    "            if choice == 0:\n",
    "                diffusivity_0[m, t] += stats.uniform.rvs(loc=-1e-1, scale=2e-1)\n",
    "                if diffusivity_0[m, t] < 0:\n",
    "                    diffusivity_0[m, t] = diffusivity_0[m, t-1]\n",
    "            elif choice == 1:\n",
    "                diffusivity_1[m, t] += stats.uniform.rvs(loc=-1e-1, scale=2e-1)\n",
    "                if diffusivity_1[m, t] < 0:\n",
    "                    diffusivity_1[m, t] = diffusivity_1[m, t-1]\n",
    "            elif choice == 2:\n",
    "                k_a[m, t] += stats.uniform.rvs(loc=-1e-1, scale=2e-1)\n",
    "                if k_a[m, t] < 0:\n",
    "                    k_a[m, t] = k_a[m, t-1]\n",
    "            elif choice == 3:\n",
    "                k_d[m, t] += stats.uniform.rvs(loc=-1e-1, scale=2e-1)\n",
    "                if k_d[m, t] < 0:\n",
    "                    k_d[m, t] = k_d[m, t-1]\n",
    "            elif choice == 4:\n",
    "                sigma[m, t] += stats.uniform.rvs(loc=-1e-6, scale=2e-6)\n",
    "                if sigma[m, t] < 0:\n",
    "                    sigma[m, t] = sigma[m, t-1]\n",
    "\n",
    "            pick[m, choice] += 1\n",
    "\n",
    "            transition_prob, e_cand, e_current = r(model_cand=model[m], model_current=model[m],\n",
    "                                                   diffusivity_0_cand=diffusivity_0[m, t], \n",
    "                                                   diffusivity_1_cand=diffusivity_1[m, t],\n",
    "                                                   k_a_cand=k_a[m, t], k_d_cand=k_d[m, t],\n",
    "                                                   std_cand=sigma[m, t],\n",
    "                                                   diffusivity_0_current=diffusivity_0[m, t-1],\n",
    "                                                   diffusivity_1_current=diffusivity_1[m, t-1],\n",
    "                                                   k_a_current=k_a[m, t-1], k_d_current=k_d[m, t-1],\n",
    "                                                   std_current=sigma[m, t-1]) \n",
    "            \n",
    "            \n",
    "            if np.array([1.0, transition_prob]).min() > stats.uniform.rvs():\n",
    "                update[m, choice] += 1\n",
    "                E[m, t] = e_cand\n",
    "                if model[m] == 0:\n",
    "                    diff_1 = stats.uniform.rvs(loc=0., scale=50.)\n",
    "                    adr = stats.uniform.rvs(loc=0., scale=50.); disr = stats.uniform.rvs(loc=0., scale=50.)\n",
    "                    dlogp[m, t] = dlog_p(model[m], diffusivity_0[m, t], diff_1, adr, disr, sigma[m, t])\n",
    "                    diffusivity_1[m, t] = diff_1; k_a[m, t] = adr; k_d[m, t] = disr\n",
    "                elif model[m] == 1:\n",
    "                    diff_0 = stats.uniform.rvs(loc=0., scale=50.)\n",
    "                    dlogp[m, t] = dlog_p(model[m], diff_0, diffusivity_1[m, t], k_a[m, t], k_d[m, t], sigma[m, t])\n",
    "                    diffusivity_0[m, t] = diff_0\n",
    "                else:\n",
    "                    dlogp[m, t] = dlog_p(model[m], diffusivity_0[m, t], diffusivity_1[m, t], k_a[m, t], k_d[m, t],\n",
    "                                     sigma[m, t])\n",
    "            else:\n",
    "                diffusivity_0[m, t] = diffusivity_0[m, t-1]\n",
    "                diffusivity_1[m, t] = diffusivity_1[m, t-1]\n",
    "                k_a[m, t] = k_a[m, t-1]\n",
    "                k_d[m, t] = k_d[m, t-1]\n",
    "                sigma[m, t] = sigma[m, t-1]\n",
    "                E[m, t] = E[m, t-1]\n",
    "                dlogp[m, t] = dlogp[m, t-1]\n",
    "                \n",
    "        \"\"\"exchange monte calro\"\"\"\n",
    "        \n",
    "        x = np.arange(1, model.shape[0])\n",
    "        y = np.random.permutation(x) \n",
    "        \n",
    "        for m in y:\n",
    "            exchange_prob = r_prime(model1=model[m-1], diffusivity1_0=diffusivity_0[m-1, t], \n",
    "                                    diffusivity1_1=diffusivity_1[m-1, t],\n",
    "                                    k_a1=k_a[m-1, t], k_d1=k_d[m-1, t],\n",
    "                                    std1=sigma[m-1, t], \n",
    "                                    model2=model[m], diffusivity2_0=diffusivity_0[m, t],\n",
    "                                    diffusivity2_1=diffusivity_1[m, t],\n",
    "                                    k_a2=k_a[m, t], k_d2=k_d[m, t],\n",
    "                                    std2=sigma[m, t])\n",
    "            \n",
    "            if np.array([1.0, exchange_prob]).min() > stats.uniform.rvs():\n",
    "                diffusivity_0[m-1, t], diffusivity_0[m, t] = diffusivity_0[m, t], diffusivity_0[m-1, t]\n",
    "                diffusivity_1[m-1, t], diffusivity_1[m, t] = diffusivity_1[m, t], diffusivity_1[m-1, t]\n",
    "                k_a[m-1, t], k_a[m, t] = k_a[m, t], k_a[m-1, t]\n",
    "                k_d[m-1, t], k_d[m, t] = k_d[m, t], k_d[m-1, t]\n",
    "                sigma[m-1, t], sigma[m, t] = sigma[m, t], sigma[m-1, t]\n",
    "                E[m-1, t], E[m, t] = E[m, t], E[m-1, t]\n",
    "                dlogp[m-1, t], dlogp[m, t] = dlogp[m, t], dlogp[m-1, t]\n",
    "\n",
    "                exchange_rate[m-1] += 1\n",
    "\n",
    "        t += 1\n",
    "                \n",
    "    return diffusivity_0, diffusivity_1, k_a, k_d, sigma, E, dlogp, pick, update, exchange_rate"
   ]
  },
  {
   "cell_type": "code",
   "execution_count": 14,
   "metadata": {},
   "outputs": [],
   "source": [
    "def file_write(w_file, model, diffusivity_0, diffusivity_1, k_a, k_d, sigma, E, dlogp, pick, update, exchange):\n",
    "    \n",
    "    with open(w_file, \"w\") as fileobj:\n",
    "        \n",
    "        fileobj.write(str('#model parametes M\\n'))\n",
    "        for i in range(model.shape[0]):\n",
    "            fileobj.write('#M={}'.format((model[i]))); fileobj.write(str('\\t'))\n",
    "        fileobj.write(str('\\n'))\n",
    "        fileobj.write(str(\"#acceptance rate\\n\"))\n",
    "        for m in range(model.shape[0]):\n",
    "            for i in range(5):\n",
    "                fileobj.write(str(pick[m, i])); fileobj.write(str(\"\\t\"))\n",
    "            fileobj.write(str(\"\\n\"))\n",
    "        fileobj.write(str(\"\\n\"))\n",
    "        fileobj.write(str('#update \\n'))\n",
    "        for m in range(model.shape[0]):\n",
    "            for i in range(5):\n",
    "                fileobj.write(str(update[m, i])); fileobj.write(str(\"\\t\"))\n",
    "            fileobj.write(str(\"\\n\"))\n",
    "        fileobj.write(str(\"\\n\"))\n",
    "\n",
    "        fileobj.write(str(\"#exchange rate\\n\"))\n",
    "        for m in range(model.shape[0]-1):\n",
    "            fileobj.write(str(exchange[m])); fileobj.write(str(\"\\t\"))\n",
    "        fileobj.write(str(\"\\n\")); fileobj.write(str(\"\\n\"))\n",
    "\n",
    "        fileobj.write(str('#De^M=0, De^M=1, ka, kd, sigma, energy, log bayes f\\n'))\n",
    "        for m in range(model.shape[0]):\n",
    "            fileobj.write(str(\"#m={}\\n\".format(model[m])))\n",
    "            for i in range(T):\n",
    "                fileobj.write(str(diffusivity_0[m, i])); fileobj.write(str(\"\\t\"))\n",
    "                fileobj.write(str(diffusivity_1[m, i])); fileobj.write(str(\"\\t\"))\n",
    "                fileobj.write(str(k_a[m, i])); fileobj.write(str(\"\\t\"))\n",
    "                fileobj.write(str(k_d[m, i])); fileobj.write(str(\"\\t\"))\n",
    "                fileobj.write(str(sigma[m, i])); fileobj.write(str(\"\\t\"))\n",
    "                fileobj.write(str(E[m, i])); fileobj.write(str(\"\\t\"))\n",
    "                fileobj.write(str(dlogp[m, i])); fileobj.write(str(\"\\t\"))\n",
    "                fileobj.write(str(\"\\n\"))\n",
    "            fileobj.write(str(\"\\n\"))\n",
    "            \n",
    "    return "
   ]
  },
  {
   "cell_type": "code",
   "execution_count": 51,
   "metadata": {},
   "outputs": [
    {
     "name": "stderr",
     "output_type": "stream",
     "text": [
      "C:\\Users\\anbaigashi\\Anaconda3\\lib\\site-packages\\ipykernel_launcher.py:26: RuntimeWarning: overflow encountered in exp\n"
     ]
    }
   ],
   "source": [
    "for i in range(sample):\n",
    "    w_file = 'EM_TAP-sigmatest.dat'.format(i)\n",
    "    \n",
    "    diffusivity_0, diffusivity_1, k_a, k_d, sigma, E, dlogp, pick, update, exchange\\\n",
    "    = exchange_monte_calro(monte_calro_step=T, model=model)\n",
    "    \n",
    "    file_write(w_file, model, diffusivity_0, diffusivity_1, k_a, k_d, sigma, E, dlogp, pick, update, exchange)"
   ]
  },
  {
   "cell_type": "code",
   "execution_count": 44,
   "metadata": {},
   "outputs": [
    {
     "name": "stdout",
     "output_type": "stream",
     "text": [
      "[[  1.79646885e+01   3.32199719e+05  -3.31618768e+05   1.92130735e+05\n",
      "    1.99676657e+05]\n",
      " [  1.50267507e+01  -3.31618768e+05   5.23150148e+05   1.50388201e+01\n",
      "    1.50388201e+01]\n",
      " [  1.20888129e+01   1.71191320e+05   1.71191320e+05  -2.80024931e+03\n",
      "   -2.80024931e+03]]\n"
     ]
    }
   ],
   "source": []
  },
  {
   "cell_type": "code",
   "execution_count": null,
   "metadata": {},
   "outputs": [],
   "source": []
  }
 ],
 "metadata": {
  "kernelspec": {
   "display_name": "Python 3",
   "language": "python",
   "name": "python3"
  },
  "language_info": {
   "codemirror_mode": {
    "name": "ipython",
    "version": 3
   },
   "file_extension": ".py",
   "mimetype": "text/x-python",
   "name": "python",
   "nbconvert_exporter": "python",
   "pygments_lexer": "ipython3",
   "version": "3.6.3"
  }
 },
 "nbformat": 4,
 "nbformat_minor": 2
}

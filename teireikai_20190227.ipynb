{
 "cells": [
  {
   "cell_type": "code",
   "execution_count": 1,
   "metadata": {},
   "outputs": [],
   "source": [
    "import numpy as np\n",
    "import scipy.stats as stats\n",
    "import matplotlib.pyplot as plt\n",
    "import matplotlib.ticker as ptick\n",
    "from IPython.core.pylabtools import figsize\n",
    "import math\n",
    "\n",
    "plt.style.use('ggplot')"
   ]
  },
  {
   "cell_type": "code",
   "execution_count": 2,
   "metadata": {},
   "outputs": [
    {
     "name": "stdout",
     "output_type": "stream",
     "text": [
      "10 \t 10\n"
     ]
    },
    {
     "data": {
      "image/png": "[encoded data removed]",
      "text/plain": [
       "<matplotlib.figure.Figure at 0x226ccc80550>"
      ]
     },
     "metadata": {},
     "output_type": "display_data"
    }
   ],
   "source": [
    "data_file = 'TAP_artificial_data_De=1.5_ka=20_kd=5_sigma=5e-6_1-10^4ms.dat'\n",
    "data_points = 10\n",
    "epsilon = 1.0\n",
    "length = 35.0\n",
    "\n",
    "def p_n(n):\n",
    "    return (n+0.5)*np.pi\n",
    "\n",
    "def r_plus(p_n, k_a, k_d):\n",
    "    return ( -(p_n**2 + k_a + k_d)+np.sqrt((p_n**2 + k_a + k_d)**2 - 4*(p_n**2)*k_d) )/2.0\n",
    "\n",
    "def r_minus(p_n, k_a, k_d):\n",
    "    return ( -(p_n**2 + k_a + k_d)-np.sqrt((p_n**2 + k_a + k_d)**2 - 4*(p_n**2)*k_d) )/2.0\n",
    "\n",
    "def A_n(p_n, r_plus, r_minus, k_a):\n",
    "    return (r_plus + (p_n**2) + k_a)/(r_plus - r_minus)\n",
    "\n",
    "def Flow(diffusivity, k_a, k_d, epsilon, length, time):\n",
    "    dimensionless_time = time * diffusivity/(epsilon*length**2)\n",
    "    r_flow = np.zeros(len(time))\n",
    "    for n in range(100):\n",
    "        pn = p_n(n); r_p = r_plus(p_n=pn, k_a=k_a, k_d=k_d); r_m = r_minus(p_n=pn, k_a=k_a, k_d=k_d)\n",
    "        A = A_n(p_n=pn, r_plus=r_p, r_minus=r_m, k_a=k_a)\n",
    "        r_flow += np.power(-1.0,n)*(2.0*n+1.0)*( A*np.exp(r_m*dimensionless_time)+(1.0-A)*np.exp(r_p*dimensionless_time) )\n",
    "    r_flow *= np.pi\n",
    "    r_flow *= diffusivity/(epsilon*np.power(length, 2))\n",
    "\n",
    "    return r_flow\n",
    "\n",
    "dimensional_time = np.zeros(data_points)\n",
    "dimensional_exit_flow = np.zeros(data_points)\n",
    "i = 0\n",
    "j = 0\n",
    "for line in open(data_file, \"r\"):\n",
    "    if i%(10000/data_points)==0:\n",
    "        data = line.split(\"\\t\")\n",
    "        dimensional_time[j] = data[0]\n",
    "        dimensional_exit_flow[j] = data[1]\n",
    "        j += 1\n",
    "    else:\n",
    "        pass\n",
    "    i += 1\n",
    "\n",
    "print(len(dimensional_time), \"\\t\", len(dimensional_exit_flow))\n",
    "\n",
    "fig = plt.figure()\n",
    "ax = fig.add_subplot(111)\n",
    "ax.plot(dimensional_time, dimensional_exit_flow)\n",
    "\n",
    "ax.set_xlabel('Dimensional Time[ms]')\n",
    "ax.set_ylabel('Dimensional Exit Flow[1/ms]')\n",
    "\n",
    "plt.show()"
   ]
  },
  {
   "cell_type": "markdown",
   "metadata": {},
   "source": [
    "## ファイルからの読み込み\n",
    "```python;title\n",
    "file_output()\n",
    "```\n",
    "* 入力 : file_name, T[mcs], $M$(モデルパラメータ)\n",
    "* 出力 : $D_e^{(M=0)}, D_e^{(M=1)}, k_a, k_d, \\sigma, E, dlogp$, pick, update, exchange rate ($\\theta$.shape=(M, T))"
   ]
  },
  {
   "cell_type": "code",
   "execution_count": 3,
   "metadata": {},
   "outputs": [],
   "source": [
    "def file_output_one(file, T, model):\n",
    "    \n",
    "    diffusivity_0 = np.zeros([model.shape[0], T])\n",
    "    diffusivity_1 = np.zeros([model.shape[0], T])\n",
    "    k_a = np.zeros([model.shape[0], T])\n",
    "    k_d = np.zeros([model.shape[0], T])\n",
    "    sigma_0 = np.zeros([model.shape[0], T])\n",
    "    E = np.zeros([model.shape[0], T])\n",
    "\n",
    "    dlogp = np.zeros([model.shape[0], T])\n",
    "    \n",
    "    pick = np.zeros([model.shape[0], 5])\n",
    "    update = np.zeros([model.shape[0], 5])\n",
    "    exchange_rate = np.zeros(model.shape[0]-1)\n",
    "    \n",
    "    l = 0; m = 0; t = 0; m_ = 0\n",
    "    for line in open(file, \"r\"):\n",
    "        data = line.split(\"\\t\")\n",
    "        try :\n",
    "            tmp = float(data[0])\n",
    "            if 3<=l<=model.shape[0]+2:\n",
    "                for i in range(5):\n",
    "                    pick[m_, i] = float(data[i])\n",
    "                m_ += 1\n",
    "            elif (model.shape[0]+5)<=l<=(2*model.shape[0]+4):\n",
    "                for i in range(5):\n",
    "                    update[m_, i] = float(data[i])\n",
    "                m_ += 1\n",
    "            elif l==(2*model.shape[0]+7):\n",
    "                for i in range(model.shape[0]-1):\n",
    "                    exchange_rate[i] = float(data[i])\n",
    "            else:\n",
    "                diffusivity_0[m, t] = data[0]\n",
    "                diffusivity_1[m, t] = data[1]\n",
    "                k_a[m, t] = data[2]\n",
    "                k_d[m, t] = data[3]\n",
    "                sigma_0[m, t] = data[4]\n",
    "                E[m, t] = data[5]\n",
    "                dlogp[m, t] = data[6]\n",
    "                t += 1\n",
    "        except :\n",
    "            pass\n",
    "        else :\n",
    "            if t==T:\n",
    "                m += 1\n",
    "                t = 0\n",
    "            if m_==model.shape[0]:\n",
    "                m_ = 0\n",
    "        finally :\n",
    "            l += 1\n",
    "            \n",
    "    return diffusivity_0, diffusivity_1, k_a, k_d, sigma_0, E, dlogp, pick, update, exchange_rate"
   ]
  },
  {
   "cell_type": "code",
   "execution_count": 4,
   "metadata": {},
   "outputs": [],
   "source": [
    "def file_output_two(file, T, model):\n",
    "    \n",
    "    diffusivity_0 = np.zeros([model.shape[0], T])\n",
    "    diffusivity_1 = np.zeros([model.shape[0], T])\n",
    "    k_a = np.zeros([model.shape[0], T])\n",
    "    k_d = np.zeros([model.shape[0], T])\n",
    "    sigma_0 = np.zeros([model.shape[0], T])\n",
    "    E = np.zeros([model.shape[0], T])\n",
    "\n",
    "    dlogp = np.zeros([model.shape[0], T])\n",
    "    \n",
    "    pick = np.zeros([model.shape[0], 5])\n",
    "    update = np.zeros([model.shape[0], 5])\n",
    "    exchange_rate = np.zeros(model.shape[0]-1)\n",
    "    \n",
    "    l = 0; m = 0; t = 0; m_ = 0\n",
    "    for line in open(file, \"r\"):\n",
    "        data = line.split(\"\\t\")\n",
    "        try :\n",
    "            tmp = float(data[0])\n",
    "            if 4<=l<=model.shape[0]+3:\n",
    "                for i in range(5):\n",
    "                    pick[m_, i] = float(data[i])\n",
    "                m_ += 1\n",
    "            elif (model.shape[0]+6)<=l<=(2*model.shape[0]+5):\n",
    "                for i in range(5):\n",
    "                    update[m_, i] = float(data[i])\n",
    "                m_ += 1\n",
    "            elif l==(2*model.shape[0]+8):\n",
    "                for i in range(model.shape[0]-1):\n",
    "                    exchange_rate[i] = float(data[i])\n",
    "            else:\n",
    "                diffusivity_0[m, t] = data[0]\n",
    "                diffusivity_1[m, t] = data[1]\n",
    "                k_a[m, t] = data[2]\n",
    "                k_d[m, t] = data[3]\n",
    "                sigma_0[m, t] = data[4]\n",
    "                E[m, t] = data[5]\n",
    "                dlogp[m, t] = data[6]\n",
    "                t += 1\n",
    "        except :\n",
    "            pass\n",
    "        else :\n",
    "            if t==T:\n",
    "                m += 1\n",
    "                t = 0\n",
    "            if m_==model.shape[0]:\n",
    "                m_ = 0\n",
    "        finally :\n",
    "            l += 1\n",
    "            \n",
    "    return diffusivity_0, diffusivity_1, k_a, k_d, sigma_0, E, dlogp, pick, update, exchange_rate"
   ]
  },
  {
   "cell_type": "code",
   "execution_count": 5,
   "metadata": {},
   "outputs": [
    {
     "name": "stdout",
     "output_type": "stream",
     "text": [
      "[ 1.          0.5         0.33333333  0.25        0.2       ]\n",
      "[ 0.   0.1  0.2  0.3  0.4  0.5  0.6  0.7  0.8  0.9  1. ]\n"
     ]
    }
   ],
   "source": [
    "read_file_pass = '\\\\Users\\\\anbaigashi\\\\Desktop\\\\ABC\\\\2019\\\\February\\\\'\n",
    "\n",
    "time = 51200\n",
    "Temp = np.array([1, 2, 3, 4, 5], dtype=float)\n",
    "beta = 1/Temp\n",
    "print(beta)\n",
    "model = 0.1*np.arange(0, 11, dtype=float)\n",
    "print(model)"
   ]
  },
  {
   "cell_type": "code",
   "execution_count": 6,
   "metadata": {},
   "outputs": [],
   "source": [
    "de0_one = ['zero', 'one', 'two', 'three', 'four']\n",
    "de1_one = ['zero', 'one', 'two', 'three', 'four']\n",
    "ka_one = ['zero', 'one', 'two', 'three', 'four']\n",
    "kd_one = ['zero', 'one', 'two', 'three', 'four']\n",
    "sigma_one = ['zero', 'one', 'two', 'three', 'four']\n",
    "energy_one = ['zero', 'one', 'two', 'three', 'four']\n",
    "dlogp_one = ['zero', 'one', 'two', 'three', 'four']\n",
    "pick_one = ['zero', 'one', 'two', 'three', 'four']\n",
    "update_one = ['zero', 'one', 'two', 'three', 'four']\n",
    "exchange_one = ['zero', 'one', 'two', 'three', 'four']"
   ]
  },
  {
   "cell_type": "code",
   "execution_count": 7,
   "metadata": {},
   "outputs": [],
   "source": [
    "for i in range(5):\n",
    "    r_file = read_file_pass + 'debug_EM_TAP-sigma_datapoints=10_T=25600_model=0.0-1.0_replica=11_koushinhaba-m01p01m1e-6p1e-6_TAP_artificial_data_De=1.5_ka=20_kd=5_sigma=5e-6_1-10^4ms.dat_{}.dat'.format(i)\n",
    "    de0_one[i], de1_one[i], ka_one[i], kd_one[i], sigma_one[i], energy_one[i], dlogp_one[i], pick_one[i], \\\n",
    "    update_one[i], exchange_one[i] = file_output_one(r_file, time, model)"
   ]
  },
  {
   "cell_type": "code",
   "execution_count": 8,
   "metadata": {},
   "outputs": [
    {
     "name": "stdout",
     "output_type": "stream",
     "text": [
      "[array([  7797.,   9704.,  12161.,  13699.,  13311.,  13075.,   7929.,\n",
      "         8915.,   2655.,    896.]), array([ 15146.,  12234.,  12805.,  13600.,  12975.,  13685.,  10845.,\n",
      "         6144.,    816.,    982.]), array([  4648.,   2453.,  11997.,  15205.,  11375.,  13222.,  10661.,\n",
      "         7240.,   1864.,    523.]), array([  4435.,   5266.,   8778.,   7601.,   8148.,   9761.,  10523.,\n",
      "         9576.,   2019.,    794.]), array([  6233.,   4325.,   8567.,   8174.,  11226.,  11824.,   7376.,\n",
      "         7321.,   4212.,   2336.])]\n"
     ]
    }
   ],
   "source": [
    "print(exchange_one)"
   ]
  },
  {
   "cell_type": "code",
   "execution_count": 9,
   "metadata": {},
   "outputs": [
    {
     "name": "stdout",
     "output_type": "stream",
     "text": [
      "(11, 25600)\n"
     ]
    }
   ],
   "source": [
    "print(energy_one[1].shape)"
   ]
  },
  {
   "cell_type": "code",
   "execution_count": 10,
   "metadata": {},
   "outputs": [
    {
     "name": "stdout",
     "output_type": "stream",
     "text": [
      "[[ 23080.57851245  22659.12720247  23080.57851245 ...,    -96.11584948\n",
      "     -96.11584948    -96.11584948]\n",
      " [ 22659.12720247  21834.29594797  14283.83712907 ...,   -104.16568808\n",
      "    -104.16568808   -104.49959675]\n",
      " [ 22243.69968097  23080.57851245  19985.49778922 ...,   -101.58775816\n",
      "    -101.60376597   -101.62181273]\n",
      " ..., \n",
      " [ 19877.63411034  20642.96349344  20502.39552305 ...,    -86.39011048\n",
      "     -87.02165855    -87.08500989]\n",
      " [ 19504.37310829  19876.29750231  20642.96349344 ...,    -99.47417891\n",
      "     -99.47417891    -97.39896451]\n",
      " [ 19137.13589473  19504.37310829  19504.01354606 ...,   -104.44387919\n",
      "    -104.44387919   -104.38279407]]\n"
     ]
    }
   ],
   "source": [
    "print(energy_one[3])"
   ]
  },
  {
   "cell_type": "code",
   "execution_count": 11,
   "metadata": {},
   "outputs": [
    {
     "name": "stderr",
     "output_type": "stream",
     "text": [
      "C:\\Users\\anbaigashi\\Anaconda3\\lib\\site-packages\\matplotlib\\axes\\_base.py:2918: UserWarning: Attempting to set identical left==right results\n",
      "in singular transformations; automatically expanding.\n",
      "left=100.0, right=100.0\n",
      "  'left=%s, right=%s') % (left, right))\n"
     ]
    },
    {
     "data": {
      "image/png": "[encoded data removed]",
      "text/plain": [
       "<matplotlib.figure.Figure at 0x214e9e0a208>"
      ]
     },
     "metadata": {},
     "output_type": "display_data"
    }
   ],
   "source": [
    "fig = plt.figure(figsize=(8, 6))\n",
    "ax = fig.add_subplot(111)\n",
    "ax.set_xscale('log')\n",
    "\n",
    "ondo = 10\n",
    "\n",
    "t_0 = 100\n",
    "start = t_0\n",
    "end = 2*start\n",
    "while start<25600:\n",
    "    bar_A_i = np.zeros(5, dtype=float)\n",
    "    for i in range(5):\n",
    "        bar_A_i[i] = energy_one[i][ondo][start:end].mean()\n",
    "    bar_A = bar_A_i.mean()\n",
    "#    ax.scatter(start, bar_A, color='red')\n",
    "#    print(bar_A)\n",
    "    \n",
    "    sig = 0.\n",
    "    for i in range(5):\n",
    "        sig += (bar_A_i[i]-bar_A)**2\n",
    "    sig /= (bar_A_i.shape[0]-1)\n",
    "    sig = np.sqrt(sig)\n",
    "    sig /= np.sqrt(bar_A_i.shape[0])\n",
    "    \n",
    "#    print(sig)\n",
    "    \n",
    "    ax.errorbar(start, bar_A, yerr=sig, fmt='o', color='red')\n",
    "    \n",
    "    start = end\n",
    "    end *= 2\n",
    "\n",
    "    \n",
    "ax.set_ylim(-106, -104)\n",
    "plt.show()"
   ]
  },
  {
   "cell_type": "code",
   "execution_count": 12,
   "metadata": {},
   "outputs": [
    {
     "name": "stdout",
     "output_type": "stream",
     "text": [
      "9.50048154614\n",
      "9.50048154614\n",
      "9.80368448881\n",
      "9.80371159782\n",
      "9.8036138775\n",
      "9.50760927335\n",
      "9.50772892191\n",
      "9.50765942891\n",
      "9.50782314678\n",
      "9.50751152219\n",
      "9.50768502556\n",
      "9.50768502556\n",
      "9.50767417876\n",
      "9.5078619762\n",
      "9.50840725396\n",
      "9.18956071645\n"
     ]
    }
   ],
   "source": [
    "for i in range(15945, 15961):\n",
    "    print(dlogp_one[3][0][i])\n",
    "#     if dlogp_one[3][0][i] > 100:\n",
    "#         print(i)"
   ]
  },
  {
   "cell_type": "code",
   "execution_count": 13,
   "metadata": {},
   "outputs": [
    {
     "data": {
      "image/png": "[encoded data removed]",
      "text/plain": [
       "<matplotlib.figure.Figure at 0x214f02542e8>"
      ]
     },
     "metadata": {},
     "output_type": "display_data"
    }
   ],
   "source": [
    "fig = plt.figure(figsize=(8, 6))\n",
    "ax = fig.add_subplot(111)\n",
    "\n",
    "start = 12800\n",
    "end = 2*start\n",
    "\n",
    "dlogp_m = np.zeros(11, dtype=float)\n",
    "dlogp_s = np.zeros(11, dtype=float)\n",
    "\n",
    "for i in range(11):\n",
    "    bar_A_i = np.zeros(5, dtype=float)\n",
    "    for j in range(5):\n",
    "        bar_A_i[j] = dlogp_one[j][i][start:end].mean()\n",
    "    dlogp_m[i] = bar_A_i.mean()\n",
    "    \n",
    "    sig = 0.\n",
    "    for j in range(5):\n",
    "        sig += (bar_A_i[j]-dlogp_m[i])**2\n",
    "    sig /= (bar_A_i.shape[0]-1)\n",
    "    sig = np.sqrt(sig)\n",
    "    sig /= np.sqrt(bar_A_i.shape[0])\n",
    "    dlogp_s[i] = sig\n",
    "\n",
    "# sig = 0.\n",
    "# for i in range(5):\n",
    "#     sig += (bar_A_i[i]-bar_A)**2\n",
    "# sig /= (bar_A_i.shape[0]-1)\n",
    "# sig = np.sqrt(sig)\n",
    "# sig /= np.sqrt(bar_A_i.shape[0])\n",
    "\n",
    "# #    print(sig)\n",
    "\n",
    "ax.errorbar(0.1*np.arange(11, dtype=float), dlogp_m, yerr=dlogp_s, fmt='o', color='red')\n",
    "ax.set_xlabel('$M$')\n",
    "ax.set_ylabel('$<-dE/dM>$')\n",
    "\n",
    "#plt.savefig('teireikai_20190220_BayesFactorPath1.png')\n",
    "\n",
    "plt.show()"
   ]
  },
  {
   "cell_type": "code",
   "execution_count": 14,
   "metadata": {},
   "outputs": [
    {
     "name": "stdout",
     "output_type": "stream",
     "text": [
      "26.3740098276\n",
      "18.1915283344\n"
     ]
    }
   ],
   "source": [
    "from scipy import integrate\n",
    "\n",
    "bayes_factor_upper_one = integrate.simps(dlogp_m+dlogp_s, 0.1*np.arange(11, dtype=float))\n",
    "bayes_factor_lower_one = integrate.simps(dlogp_m-dlogp_s, 0.1*np.arange(11, dtype=float))\n",
    "\n",
    "print(bayes_factor_upper_one)\n",
    "print(bayes_factor_lower_one)"
   ]
  },
  {
   "cell_type": "code",
   "execution_count": 15,
   "metadata": {},
   "outputs": [
    {
     "data": {
      "image/png": "[encoded data removed]",
      "text/plain": [
       "<matplotlib.figure.Figure at 0x214f0230cc0>"
      ]
     },
     "metadata": {},
     "output_type": "display_data"
    }
   ],
   "source": [
    "fig = plt.figure(figsize=(8, 6))\n",
    "ax = fig.add_subplot(111)\n",
    "\n",
    "dE = np.zeros([5, 11])\n",
    "\n",
    "for i in range(11):\n",
    "    dE[0, i] = dlogp_one[0][i, start:end].mean()\n",
    "    \n",
    "ax.scatter(model, dE[0], color='red')\n",
    "    \n",
    "plt.show()"
   ]
  },
  {
   "cell_type": "code",
   "execution_count": 16,
   "metadata": {},
   "outputs": [
    {
     "data": {
      "image/png": "[encoded data removed]",
      "text/plain": [
       "<matplotlib.figure.Figure at 0x214f0230470>"
      ]
     },
     "metadata": {},
     "output_type": "display_data"
    }
   ],
   "source": [
    "fig = plt.figure(figsize=(8, 6))\n",
    "ax = fig.add_subplot(111)\n",
    "cycle = plt.rcParams['axes.prop_cycle'].by_key()['color']\n",
    "dE = np.zeros([5, 11])\n",
    "\n",
    "for i in range(5):\n",
    "    for j in range(11):\n",
    "        dE[i, j] = dlogp_one[i][j, start:end].mean()\n",
    "    \n",
    "    ax.scatter(model, dE[i], color=cycle[i], label='Sample:{}'.format(i+1))\n",
    "\n",
    "ax.set_xlabel('$M$')\n",
    "ax.set_ylabel('$<-dE/dM>$')\n",
    "plt.legend()\n",
    "\n",
    "#plt.savefig('teireikai_20190220_BayesFactorPath1_fig2.png')\n",
    "plt.show()"
   ]
  },
  {
   "cell_type": "code",
   "execution_count": 17,
   "metadata": {},
   "outputs": [],
   "source": [
    "x = np.random.randint(0, 5, 11)"
   ]
  },
  {
   "cell_type": "code",
   "execution_count": 18,
   "metadata": {},
   "outputs": [
    {
     "data": {
      "image/png": "[encoded data removed]",
      "text/plain": [
       "<matplotlib.figure.Figure at 0x214f0350358>"
      ]
     },
     "metadata": {},
     "output_type": "display_data"
    }
   ],
   "source": [
    "fig = plt.figure(figsize=(8, 6))\n",
    "ax = fig.add_subplot(111)\n",
    "cycle = plt.rcParams['axes.prop_cycle'].by_key()['color']\n",
    "\n",
    "for i in range(11):\n",
    "    ax.scatter(model[i], dE[x[i], i], color=cycle[x[i]], label='Sample:{}'.format(x[i]))\n",
    "\n",
    "ax.set_xlabel('$M$')\n",
    "ax.set_ylabel('$<-dE/dM>$')\n",
    "#plt.legend()\n",
    "\n",
    "plt.savefig('teireikai_20190220_BayesFactorPath1_fig3.png')\n",
    "plt.show()"
   ]
  },
  {
   "cell_type": "code",
   "execution_count": 19,
   "metadata": {},
   "outputs": [
    {
     "name": "stdout",
     "output_type": "stream",
     "text": [
      "[  4.2841069   28.0342221   -4.51429112   4.02216166  12.61816769\n",
      "   6.3020757   10.51396665  17.08437513  41.75532488  88.09835298\n",
      "  -8.12029762]\n",
      "23.0358298602\n"
     ]
    }
   ],
   "source": [
    "y = np.zeros(11)\n",
    "for i in range(11):\n",
    "    y[i] = dE[x[i], i]\n",
    "print(y)\n",
    "moment = integrate.simps(y, model)\n",
    "print(moment)"
   ]
  },
  {
   "cell_type": "code",
   "execution_count": 20,
   "metadata": {},
   "outputs": [],
   "source": [
    "N = 10\n",
    "y = np.zeros([N, 11])\n",
    "S = np.zeros(N)\n",
    "for i in range(N):\n",
    "    x = np.random.randint(0, 5, 11)\n",
    "    for j in range(11):\n",
    "        y[i, j] = dE[x[j], j]\n",
    "    S[i] = integrate.simps(y[i], model)\n",
    "        \n",
    "#print(y);print(S)"
   ]
  },
  {
   "cell_type": "code",
   "execution_count": 21,
   "metadata": {},
   "outputs": [
    {
     "name": "stdout",
     "output_type": "stream",
     "text": [
      "[ 20.09257698  19.73370937  25.48360951  22.64461236  21.72423117\n",
      "  21.24975167  21.55055946  25.71058075  19.36861449  21.97772988]\n",
      "10\n",
      "21.9535975638 0.689910438655\n",
      "21.2636871251 22.6435080024\n"
     ]
    }
   ],
   "source": [
    "print(S)\n",
    "print(S.shape[0])\n",
    "bar_S = S.mean()\n",
    "sig_S = 0.\n",
    "for i in range(N):\n",
    "    sig_S += (S[i]-bar_S)**2\n",
    "sig_S /= (S.shape[0]-1)\n",
    "sig_S = np.sqrt(sig_S)\n",
    "sig_S /= np.sqrt(S.shape[0])\n",
    "print(bar_S, sig_S)\n",
    "print(bar_S-sig_S, bar_S+sig_S)"
   ]
  },
  {
   "cell_type": "code",
   "execution_count": 29,
   "metadata": {},
   "outputs": [
    {
     "data": {
      "image/png": "[encoded data removed]",
      "text/plain": [
       "<matplotlib.figure.Figure at 0x214f040c048>"
      ]
     },
     "metadata": {},
     "output_type": "display_data"
    }
   ],
   "source": [
    "fig = plt.figure(figsize=(8, 6))\n",
    "ax = fig.add_subplot(111)\n",
    "\n",
    "dE = np.zeros([5, 11])\n",
    "\n",
    "for i in range(11):\n",
    "    dE[0, i] = dlogp_one[0][i, start:end].mean()\n",
    "    \n",
    "ax.scatter(model, dE[0], color='red')\n",
    "\n",
    "ax.set_xlim(0.59, 0.71)\n",
    "ax.set_xlabel('$M$')\n",
    "ax.set_ylabel('$<-dE(M, theta)/dM>$')\n",
    "    \n",
    "plt.show()"
   ]
  },
  {
   "cell_type": "code",
   "execution_count": 30,
   "metadata": {},
   "outputs": [],
   "source": [
    "def energy(model, diffusivity_0, diffusivity_1, k_a, k_d, std,\n",
    "           epsilon=epsilon, length=length, \n",
    "           time=dimensional_time, artificial_flow=dimensional_exit_flow):\n",
    "    \n",
    "    Energy = np.square(artificial_flow - ((1.-model)*Flow(diffusivity=diffusivity_0,\n",
    "                                                     k_a=0., k_d=0.,\n",
    "                                                     epsilon=epsilon, length=length, \n",
    "                                                     time=time) + \\\n",
    "                                          model*Flow(diffusivity=diffusivity_1,\n",
    "                                                     k_a=k_a, k_d=k_d, \n",
    "                                                     epsilon=epsilon, length=length, \n",
    "                                                     time=time))\n",
    "                      ).sum()\n",
    "    \n",
    "    Energy *= 1./(2.*std**2)\n",
    "    Energy += (time.shape[0]/2.) * np.log(2.*np.pi*std**2) \n",
    "    \n",
    "    return Energy\n",
    "\n",
    "\n",
    "def dlog_p(model, diffusivity_0, diffusivity_1, k_a, k_d, \n",
    "           std, time=dimensional_time, artificial_flow=dimensional_exit_flow, \n",
    "           epsilon=epsilon, length=length):\n",
    "    \n",
    "    dlogp = -1./(std**2) \\\n",
    "            *(\n",
    "                 (Flow(diffusivity=diffusivity_0, k_a=0, k_d=0, time=time, epsilon=epsilon, length=length) \\\n",
    "                  - Flow(diffusivity=diffusivity_1, k_a=k_a, k_d=k_d, time=time, epsilon=epsilon, length=length)) \\\n",
    "                 *(artificial_flow - (1-model)*Flow(diffusivity=diffusivity_0,\n",
    "                                                    k_a=0, k_d=0,\n",
    "                                                    time=time, epsilon=epsilon, length=length) \\\n",
    "                   - model*Flow(diffusivity=diffusivity_1, \n",
    "                                k_a=k_a, k_d=k_d, \n",
    "                                time=time, epsilon=epsilon, length=length)\\\n",
    "                   )\n",
    "              ).sum()\n",
    "           \n",
    "    return dlogp"
   ]
  },
  {
   "cell_type": "code",
   "execution_count": 54,
   "metadata": {},
   "outputs": [
    {
     "name": "stdout",
     "output_type": "stream",
     "text": [
      "Wall time: 20min 33s\n"
     ]
    }
   ],
   "source": [
    "%%time\n",
    "\n",
    "asign = 6\n",
    "suitei = np.array([0.61, 0.62, 0.63, 0.64, 0.65])\n",
    "energy_one_mprime = np.zeros([suitei.shape[0], 25600])\n",
    "dEnergy_one_mprime = np.zeros([suitei.shape[0], 25600])\n",
    "for i in range(suitei.shape[0]):\n",
    "    for j in range(25600):\n",
    "        energy_one_mprime[i, j] = energy(suitei[i], de0_one[0][asign, j], de1_one[0][asign, j], ka_one[0][asign, j], \n",
    "                                      kd_one[0][asign, j], sigma_one[0][asign, j])\n",
    "        dEnergy_one_mprime[i, j] = dlog_p(suitei[i], de0_one[0][asign, j], de1_one[0][asign, j], ka_one[0][asign, j], \n",
    "                                      kd_one[0][asign, j], sigma_one[0][asign, j])"
   ]
  },
  {
   "cell_type": "code",
   "execution_count": 102,
   "metadata": {},
   "outputs": [
    {
     "name": "stdout",
     "output_type": "stream",
     "text": [
      "[[  1.26645496e-147   4.88401945e+029   5.41282861e+022 ...,\n",
      "    4.80245926e+006   2.96320280e+009   4.24779012e+009]\n",
      " [  8.45701083e-131   4.47094918e+046   5.37040775e+039 ...,\n",
      "    4.37973069e+006   2.71808181e+009   3.87690660e+009]\n",
      " [  5.31718770e-114   3.84937614e+063   5.00994695e+056 ...,\n",
      "    3.88518709e+006   2.42927536e+009   3.44385183e+009]\n",
      " [  3.14764003e-097   3.11708920e+080   4.39442313e+073 ...,\n",
      "    3.32514511e+006   2.10028782e+009   2.95403383e+009]\n",
      " [  1.75438978e-080   2.37397626e+097   3.62421114e+090 ...,\n",
      "    2.70775431e+006   1.73572642e+009   2.41441368e+009]]\n"
     ]
    },
    {
     "name": "stderr",
     "output_type": "stream",
     "text": [
      "C:\\Users\\anbaigashi\\Anaconda3\\lib\\site-packages\\ipykernel_launcher.py:8: RuntimeWarning: overflow encountered in exp\n",
      "  \n",
      "C:\\Users\\anbaigashi\\Anaconda3\\lib\\site-packages\\ipykernel_launcher.py:8: RuntimeWarning: overflow encountered in multiply\n",
      "  \n",
      "C:\\Users\\anbaigashi\\Anaconda3\\lib\\site-packages\\ipykernel_launcher.py:9: RuntimeWarning: overflow encountered in exp\n",
      "  if __name__ == '__main__':\n"
     ]
    }
   ],
   "source": [
    "# dEnergy_Mp = np.exp(-energy_one_mprime+energy_one[0][asign, ])*dEnergy_one_mprime\n",
    "\n",
    "# print(dEnergy_Mp)\n",
    "suitei = np.array([0.61, 0.62, 0.63, 0.64, 0.65])\n",
    "dEnergy_Mp = np.zeros([suitei.shape[0], 25600])\n",
    "denominator_one = np.zeros([suitei.shape[0], 25600])\n",
    "for i in range(suitei.shape[0]):\n",
    "    dEnergy_Mp[i] = np.exp(-energy_one_mprime[i]+energy_one[0][asign, ])*dEnergy_one_mprime[i]\n",
    "    denominator_one[i] = np.exp(-energy_one_mprime[i]+energy_one[0][asign, ])\n",
    "    \n",
    "print(dEnergy_Mp)\n",
    "#print(denominator_one)"
   ]
  },
  {
   "cell_type": "code",
   "execution_count": 101,
   "metadata": {},
   "outputs": [
    {
     "name": "stdout",
     "output_type": "stream",
     "text": [
      "[[  1.26645496e-147   4.88401945e+029   5.41282861e+022   6.76281915e-294\n",
      "    2.94526518e+050]\n",
      " [  8.45701083e-131   4.47094918e+046   5.37040775e+039   7.90089637e-277\n",
      "    1.80318539e+068]\n",
      " [  5.31718770e-114   3.84937614e+063   5.00994695e+056   8.67382546e-260\n",
      "    1.03130589e+086]\n",
      " [  3.14764003e-097   3.11708920e+080   4.39442313e+073   8.94809756e-243\n",
      "    5.51017955e+103]\n",
      " [  1.75438978e-080   2.37397626e+097   3.62421114e+090   8.67434032e-226\n",
      "    2.75026876e+121]]\n"
     ]
    }
   ],
   "source": [
    "hoge = np.zeros([suitei.shape[0], 5])\n",
    "for i in range(suitei.shape[0]):\n",
    "    for j in np.arange(5):\n",
    "        hoge[i, j] = np.exp(-energy_one_mprime[i, j]+energy_one[0][asign, j])*dEnergy_one_mprime[i, j]\n",
    "        \n",
    "print(hoge)"
   ]
  },
  {
   "cell_type": "code",
   "execution_count": 103,
   "metadata": {},
   "outputs": [
    {
     "data": {
      "image/png": "[encoded data removed]",
      "text/plain": [
       "<matplotlib.figure.Figure at 0x214ef2399e8>"
      ]
     },
     "metadata": {},
     "output_type": "display_data"
    }
   ],
   "source": [
    "fig = plt.figure(figsize=(8, 6))\n",
    "ax = fig.add_subplot(111)\n",
    "\n",
    "dE = np.zeros([5, 11])\n",
    "\n",
    "for i in range(11):\n",
    "    dE[0, i] = dlogp_one[0][i, start:end].mean()\n",
    "    \n",
    "ax.scatter(model, dE[0], color='red')\n",
    "for i in range(suitei.shape[0]):\n",
    "    ax.scatter(suitei[i], dEnergy_Mp[i, start:end].mean()/denominator_one[i, start:end].mean(), color='blue')\n",
    "\n",
    "ax.set_xlim(0.59, 0.71)\n",
    "ax.set_xlabel('$M$')\n",
    "ax.set_ylabel('$<-dE(M, theta)/dM>$')\n",
    "    \n",
    "plt.show()"
   ]
  },
  {
   "cell_type": "code",
   "execution_count": 75,
   "metadata": {},
   "outputs": [
    {
     "name": "stdout",
     "output_type": "stream",
     "text": [
      "Wall time: 20min 49s\n"
     ]
    }
   ],
   "source": [
    "%%time\n",
    "\n",
    "asign = 7\n",
    "suitei_two = np.array([0.65, 0.66, 0.67, 0.68, 0.69])\n",
    "energy_one_mprime2 = np.zeros([suitei.shape[0], 25600])\n",
    "dEnergy_one_mprime2 = np.zeros([suitei.shape[0], 25600])\n",
    "for i in range(suitei.shape[0]):\n",
    "    for j in range(25600):\n",
    "        energy_one_mprime2[i, j] = energy(suitei[i], de0_one[0][asign, j], de1_one[0][asign, j], ka_one[0][asign, j], \n",
    "                                      kd_one[0][asign, j], sigma_one[0][asign, j])\n",
    "        dEnergy_one_mprime2[i, j] = dlog_p(suitei[i], de0_one[0][asign, j], de1_one[0][asign, j], ka_one[0][asign, j], \n",
    "                                      kd_one[0][asign, j], sigma_one[0][asign, j])"
   ]
  },
  {
   "cell_type": "code",
   "execution_count": 106,
   "metadata": {},
   "outputs": [
    {
     "name": "stdout",
     "output_type": "stream",
     "text": [
      "[[  1.75438978e-080   3.81518669e+087   1.26304856e+088 ...,\n",
      "    9.92632438e-002   3.33266362e+000   6.02363127e+000]\n",
      " [  9.20672298e-064   2.00214156e+104   8.38940193e+104 ...,\n",
      "    1.64233490e-001   3.51724959e+000   6.35726607e+000]\n",
      " [  4.54906369e-047   9.89262899e+120   5.24214375e+121 ...,\n",
      "    2.67092426e-001   3.69520464e+000   6.67891606e+000]\n",
      " [  2.11629843e-030   4.60221193e+137   3.08144071e+138 ...,\n",
      "    4.26934355e-001   3.86413835e+000   6.98426060e+000]\n",
      " [  9.26978686e-014   2.01585576e+154   1.70398461e+155 ...,\n",
      "    6.70703685e-001   4.02156948e+000   7.26881493e+000]]\n"
     ]
    },
    {
     "name": "stderr",
     "output_type": "stream",
     "text": [
      "C:\\Users\\anbaigashi\\Anaconda3\\lib\\site-packages\\ipykernel_launcher.py:9: RuntimeWarning: overflow encountered in exp\n",
      "  if __name__ == '__main__':\n",
      "C:\\Users\\anbaigashi\\Anaconda3\\lib\\site-packages\\ipykernel_launcher.py:10: RuntimeWarning: overflow encountered in exp\n",
      "  # Remove the CWD from sys.path while we load stuff.\n",
      "C:\\Users\\anbaigashi\\Anaconda3\\lib\\site-packages\\ipykernel_launcher.py:9: RuntimeWarning: overflow encountered in multiply\n",
      "  if __name__ == '__main__':\n"
     ]
    }
   ],
   "source": [
    "# dEnergy_Mp = np.exp(-energy_one_mprime+energy_one[0][asign, ])*dEnergy_one_mprime\n",
    "\n",
    "# print(dEnergy_Mp)\n",
    "asign = 7\n",
    "suitei_two = np.array([0.65, 0.66, 0.67, 0.68, 0.69])\n",
    "dEnergy_Mp2 = np.zeros([suitei_two.shape[0], 25600])\n",
    "denominator_two = np.zeros([suitei_two.shape[0], 25600])\n",
    "for i in range(suitei_two.shape[0]):\n",
    "    dEnergy_Mp2[i] = np.exp(-energy_one_mprime2[i]+energy_one[0][asign, ])*dEnergy_one_mprime2[i]\n",
    "    denominator_two[i] = np.exp(-energy_one_mprime2[i]+energy_one[0][asign, ])\n",
    "    \n",
    "print(dEnergy_Mp2)"
   ]
  },
  {
   "cell_type": "code",
   "execution_count": 107,
   "metadata": {},
   "outputs": [
    {
     "name": "stdout",
     "output_type": "stream",
     "text": [
      "[[  1.75438978e-080   3.81518669e+087   1.26304856e+088   4.51662677e-245\n",
      "    9.21637558e+089]\n",
      " [  9.20672298e-064   2.00214156e+104   8.38940193e+104   2.32183377e-228\n",
      "    1.42465389e+107]\n",
      " [  4.54906369e-047   9.89262899e+120   5.24214375e+121   1.12384690e-211\n",
      "    2.06550768e+124]\n",
      " [  2.11629843e-030   4.60221193e+137   3.08144071e+138   5.12203196e-195\n",
      "    2.80874622e+141]\n",
      " [  9.26978686e-014   2.01585576e+154   1.70398461e+155   2.19804469e-178\n",
      "    3.58233687e+158]]\n"
     ]
    }
   ],
   "source": [
    "hoge = np.zeros([suitei_two.shape[0], 5])\n",
    "for i in range(suitei_two.shape[0]):\n",
    "    for j in np.arange(5):\n",
    "        hoge[i, j] = np.exp(-energy_one_mprime2[i, j]+energy_one[0][asign, j])*dEnergy_one_mprime2[i, j]\n",
    "        \n",
    "print(hoge)"
   ]
  },
  {
   "cell_type": "code",
   "execution_count": 108,
   "metadata": {},
   "outputs": [
    {
     "data": {
      "image/png": "[encoded data removed]",
      "text/plain": [
       "<matplotlib.figure.Figure at 0x214f03413c8>"
      ]
     },
     "metadata": {},
     "output_type": "display_data"
    }
   ],
   "source": [
    "fig = plt.figure(figsize=(8, 6))\n",
    "ax = fig.add_subplot(111)\n",
    "\n",
    "dE = np.zeros([5, 11])\n",
    "suitei1 = np.array([0.61, 0.62, 0.63, 0.64, 0.65])\n",
    "for i in range(11):\n",
    "    dE[0, i] = dlogp_one[0][i, start:end].mean()\n",
    "    \n",
    "ax.scatter(model, dE[0], color='red')\n",
    "for i in range(suitei.shape[0]):\n",
    "    ax.scatter(suitei[i], dEnergy_Mp[i, start:end].mean()/denominator_one[i, start:end].mean(), color='blue')\n",
    "    ax.scatter(suitei_two[i], dEnergy_Mp2[i, start:end].mean()/denominator_two[i, start:end].mean(), color='blue')\n",
    "\n",
    "ax.set_xlim(0.59, 0.71)\n",
    "ax.set_xlabel('$M$')\n",
    "ax.set_ylabel('$<-dE(M, theta)/dM>$')\n",
    "    \n",
    "plt.show()"
   ]
  },
  {
   "cell_type": "code",
   "execution_count": null,
   "metadata": {},
   "outputs": [],
   "source": []
  },
  {
   "cell_type": "code",
   "execution_count": null,
   "metadata": {},
   "outputs": [],
   "source": []
  },
  {
   "cell_type": "code",
   "execution_count": null,
   "metadata": {},
   "outputs": [],
   "source": []
  },
  {
   "cell_type": "code",
   "execution_count": 6,
   "metadata": {},
   "outputs": [
    {
     "name": "stdout",
     "output_type": "stream",
     "text": [
      "[ 1.          0.5         0.33333333  0.25        0.2       ]\n"
     ]
    }
   ],
   "source": [
    "read_file_pass = '\\\\Users\\\\anbaigashi\\\\Desktop\\\\ABC\\\\2019\\\\February\\\\'\n",
    "\n",
    "time = 51200\n",
    "Temp = np.array([1, 2, 3, 4, 5], dtype=float)\n",
    "beta = 1/Temp\n",
    "print(beta)"
   ]
  },
  {
   "cell_type": "code",
   "execution_count": 7,
   "metadata": {},
   "outputs": [],
   "source": [
    "de0_two = ['zero', 'one', 'two', 'three', 'four']\n",
    "de1_two = ['zero', 'one', 'two', 'three', 'four']\n",
    "ka_two = ['zero', 'one', 'two', 'three', 'four']\n",
    "kd_two = ['zero', 'one', 'two', 'three', 'four']\n",
    "sigma_two = ['zero', 'one', 'two', 'three', 'four']\n",
    "energy_two = ['zero', 'one', 'two', 'three', 'four']\n",
    "dlogp_two = ['zero', 'one', 'two', 'three', 'four']\n",
    "pick_two = ['zero', 'one', 'two', 'three', 'four']\n",
    "update_two = ['zero', 'one', 'two', 'three', 'four']\n",
    "exchange_two = ['zero', 'one', 'two', 'three', 'four']"
   ]
  },
  {
   "cell_type": "code",
   "execution_count": 14,
   "metadata": {},
   "outputs": [],
   "source": [
    "for i in range(5):\n",
    "    r_file = read_file_pass + 'EMbeta_TAP-sigma_datapoints=10_T=51200mcs_Temp=1-5_replica=5_koushinhaba-m01p01m1e-6p1e-6_TAP_artificial_data_De=1.5_ka=20_kd=5_sigma=5e-6_1-10^4ms.dat_{}.dat'.format(i)\n",
    "    de0_two[i], de1_two[i], ka_two[i], kd_two[i], sigma_two[i], energy_two[i], dlogp_two[i], pick_two[i], \\\n",
    "    update_two[i], exchange_two[i] = file_output_two(r_file, time, np.hstack((Temp, Temp)))"
   ]
  },
  {
   "cell_type": "code",
   "execution_count": 9,
   "metadata": {},
   "outputs": [
    {
     "name": "stdout",
     "output_type": "stream",
     "text": [
      "(10, 51200)\n"
     ]
    }
   ],
   "source": [
    "print(energy_two[1].shape)"
   ]
  },
  {
   "cell_type": "code",
   "execution_count": 10,
   "metadata": {},
   "outputs": [
    {
     "name": "stdout",
     "output_type": "stream",
     "text": [
      "[array([ 20818.,  25236.,  28818.,  41999.,   7706.,  41052.,  28633.,\n",
      "        24517.,  18985.]), array([  8906.,  18980.,  38592.,  45192.,  12877.,  36978.,  26226.,\n",
      "        26854.,  23325.]), array([ 17973.,  22471.,  30502.,  39733.,   7916.,  38648.,  33857.,\n",
      "        21702.,  19574.]), array([ 13311.,  24465.,  34745.,  40234.,    247.,  42570.,  37805.,\n",
      "        29157.,  21139.]), array([ 16210.,  30906.,  31134.,  38566.,  14111.,  41338.,  34779.,\n",
      "         9831.,  21524.])]\n"
     ]
    }
   ],
   "source": [
    "print(exchange_two)"
   ]
  },
  {
   "cell_type": "code",
   "execution_count": 12,
   "metadata": {},
   "outputs": [
    {
     "name": "stdout",
     "output_type": "stream",
     "text": [
      "[[ 23080.57851245  23080.57851245  23076.19970938 ...,    -96.75506748\n",
      "     -96.64163385    -96.75506748]\n",
      " [ 23080.57851245  23076.19970938  23076.69993704 ...,    -96.64163385\n",
      "     -96.75506748    -96.64163385]\n",
      " [ 23080.57851245  23080.57851245  23080.57851245 ...,    -77.390945\n",
      "     -74.26625345    -93.92619153]\n",
      " ..., \n",
      " [ 19137.13589473  19137.13589473  23080.57851245 ...,    -97.54501816\n",
      "     -97.86939332    -85.8577081 ]\n",
      " [ 19137.13589473  19137.13589473  19137.13589473 ...,   -104.92277579\n",
      "    -105.29364287   -104.58812357]\n",
      " [ 19137.13589473  19137.13589473  19137.13589473 ...,   -105.55386284\n",
      "    -104.8960293    -105.29364287]]\n"
     ]
    }
   ],
   "source": [
    "print(energy_two[4])"
   ]
  },
  {
   "cell_type": "code",
   "execution_count": 16,
   "metadata": {},
   "outputs": [
    {
     "name": "stdout",
     "output_type": "stream",
     "text": [
      "[[  4.24463204e+03   4.24463204e+03   3.67002102e+03 ...,   6.33484210e+01\n",
      "    9.64308135e+01   7.76329223e+01]\n",
      " [  4.24463204e+03  -5.82837076e+01  -1.72091085e+02 ...,   9.63103209e+01\n",
      "    7.76329223e+01   6.34774355e+01]\n",
      " [  4.24463204e+03  -4.02702719e+02   2.26716609e+03 ...,   2.83029330e+00\n",
      "    6.21186419e+01   9.61637790e+01]\n",
      " ..., \n",
      " [  3.64225319e+03   3.64225319e+03   5.01333214e+03 ...,  -1.25700523e+00\n",
      "    7.00873576e+00  -1.90869836e+00]\n",
      " [  3.64225319e+03   3.64225319e+03   3.85698823e+03 ...,   1.22579718e+02\n",
      "   -1.51990930e+00  -4.47798298e+01]\n",
      " [  3.64225319e+03   4.60822115e+03   4.08049311e+03 ...,   3.03244295e+02\n",
      "    4.67211451e+01   2.93950626e+01]]\n"
     ]
    }
   ],
   "source": [
    "print(dlogp_two[0])"
   ]
  },
  {
   "cell_type": "code",
   "execution_count": 30,
   "metadata": {},
   "outputs": [
    {
     "name": "stderr",
     "output_type": "stream",
     "text": [
      "C:\\Users\\anbaigashi\\Anaconda3\\lib\\site-packages\\matplotlib\\axes\\_base.py:2918: UserWarning: Attempting to set identical left==right results\n",
      "in singular transformations; automatically expanding.\n",
      "left=100.0, right=100.0\n",
      "  'left=%s, right=%s') % (left, right))\n"
     ]
    },
    {
     "data": {
      "image/png": "[encoded data removed]",
      "text/plain": [
       "<matplotlib.figure.Figure at 0x226ccff27b8>"
      ]
     },
     "metadata": {},
     "output_type": "display_data"
    }
   ],
   "source": [
    "fig = plt.figure(figsize=(8, 6))\n",
    "ax = fig.add_subplot(111)\n",
    "ax.set_xscale('log')\n",
    "\n",
    "ondo = 9\n",
    "\n",
    "t_0 = 100\n",
    "start = t_0\n",
    "end = 2*start\n",
    "while start<time:\n",
    "    bar_A_i = np.zeros(5, dtype=float)\n",
    "    for i in range(5):\n",
    "        bar_A_i[i] = energy_two[i][ondo][start:end].mean()\n",
    "    bar_A = bar_A_i.mean()\n",
    "#    ax.scatter(start, bar_A, color='red')\n",
    "#    print(bar_A)\n",
    "    \n",
    "    sig = 0.\n",
    "    for i in range(5):\n",
    "        sig += (bar_A_i[i]-bar_A)**2\n",
    "    sig /= (bar_A_i.shape[0]-1)\n",
    "    sig = np.sqrt(sig)\n",
    "    sig /= np.sqrt(bar_A_i.shape[0])\n",
    "    \n",
    "#    print(sig)\n",
    "    \n",
    "    ax.errorbar(start, bar_A, yerr=sig, fmt='o', color='red')\n",
    "    \n",
    "    start = end\n",
    "    end *= 2\n",
    "\n",
    "    \n",
    "ax.set_ylim(-106, -104)\n",
    "plt.show()"
   ]
  },
  {
   "cell_type": "code",
   "execution_count": 32,
   "metadata": {},
   "outputs": [
    {
     "data": {
      "image/png": "[encoded data removed]",
      "text/plain": [
       "<matplotlib.figure.Figure at 0x226cec83048>"
      ]
     },
     "metadata": {},
     "output_type": "display_data"
    }
   ],
   "source": [
    "fig = plt.figure(figsize=(8, 6))\n",
    "ax = fig.add_subplot(111)\n",
    "\n",
    "start = 25600\n",
    "end = 2*start\n",
    "\n",
    "energy_m1_m = np.zeros(5)\n",
    "energy_m1_s = np.zeros(5)\n",
    "\n",
    "for i in range(5):\n",
    "    bar_A_i = np.zeros(5, dtype=float)\n",
    "    for j in range(5):\n",
    "        bar_A_i[j] = energy_two[j][9-i][start:end].mean()\n",
    "    energy_m1_m[i] = bar_A_i.mean()\n",
    "    \n",
    "    sig = 0.\n",
    "    for j in range(5):\n",
    "        sig += (bar_A_i[j]-energy_m1_m[i])**2\n",
    "    sig /= (bar_A_i.shape[0]-1)\n",
    "    sig = np.sqrt(sig)\n",
    "    sig /= np.sqrt(bar_A_i.shape[0])\n",
    "    energy_m1_s[i] = sig\n",
    "\n",
    "ax.set_xlabel('Temperature')\n",
    "ax.set_ylabel('$<E>$')\n",
    "ax.set_title('$M=1$')\n",
    "ax.errorbar(np.arange(1, 6), energy_m1_m, yerr=energy_m1_s, fmt='o', color='red')\n",
    "\n",
    "#plt.savefig('teireikai_20190227_BayesFactorPath2_FirstTerm.png')\n",
    "\n",
    "plt.show()"
   ]
  },
  {
   "cell_type": "code",
   "execution_count": 33,
   "metadata": {},
   "outputs": [
    {
     "data": {
      "image/png": "[encoded data removed]",
      "text/plain": [
       "<matplotlib.figure.Figure at 0x226ceb9d828>"
      ]
     },
     "metadata": {},
     "output_type": "display_data"
    }
   ],
   "source": [
    "fig = plt.figure(figsize=(8, 6))\n",
    "ax = fig.add_subplot(111)\n",
    "\n",
    "start = 26500\n",
    "end = 2*start\n",
    "\n",
    "energy_m0_m = np.zeros(5)\n",
    "energy_m0_s = np.zeros(5)\n",
    "\n",
    "for i in range(5):\n",
    "    bar_A_i = np.zeros(5, dtype=float)\n",
    "    for j in range(5):\n",
    "        bar_A_i[j] = energy_two[j][i][start:end].mean()\n",
    "    energy_m0_m[i] = bar_A_i.mean()\n",
    "    \n",
    "    sig = 0.\n",
    "    for j in range(5):\n",
    "        sig += (bar_A_i[j]-energy_m0_m[i])**2\n",
    "    sig /= (bar_A_i.shape[0]-1)\n",
    "    sig = np.sqrt(sig)\n",
    "    sig /= np.sqrt(bar_A_i.shape[0])\n",
    "    energy_m0_s[i] = sig\n",
    "\n",
    "ax.set_xlabel('Temperature')\n",
    "ax.set_ylabel('$<E>$')\n",
    "ax.set_title('$M=0$')\n",
    "ax.errorbar(np.arange(1, 6), energy_m0_m, yerr=energy_m0_s, fmt='o', color='red')\n",
    "\n",
    "plt.savefig('teireikai_20190227_BayesFactorPath2_SecondTerm.png')\n",
    "\n",
    "plt.show()"
   ]
  },
  {
   "cell_type": "code",
   "execution_count": 40,
   "metadata": {},
   "outputs": [
    {
     "data": {
      "image/png": "[encoded data removed]",
      "text/plain": [
       "<matplotlib.figure.Figure at 0x226ceadea58>"
      ]
     },
     "metadata": {},
     "output_type": "display_data"
    }
   ],
   "source": [
    "fig = plt.figure(figsize=(8, 6))\n",
    "ax = fig.add_subplot(111)\n",
    "\n",
    "start = 26500\n",
    "end = 2*start\n",
    "\n",
    "dlogp_m0_m = np.zeros(5)\n",
    "dlogp_m0_s = np.zeros(5)\n",
    "dlogp_m1_m = np.zeros(5)\n",
    "dlogp_m1_s = np.zeros(5)\n",
    "\n",
    "\n",
    "for i in range(5):\n",
    "    bar_A_i = np.zeros(5, dtype=float)\n",
    "    for j in range(5):\n",
    "        bar_A_i[j] = dlogp_two[j][i][start:end].mean()\n",
    "    dlogp_m0_m[i] = bar_A_i.mean()\n",
    "    \n",
    "    sig = 0.\n",
    "    for j in range(5):\n",
    "        sig += (bar_A_i[j]-dlogp_m0_m[i])**2\n",
    "    sig /= (bar_A_i.shape[0]-1)\n",
    "    sig = np.sqrt(sig)\n",
    "    sig /= np.sqrt(bar_A_i.shape[0])\n",
    "    dlogp_m0_s[i] = sig\n",
    "    \n",
    "for i in range(5):\n",
    "    bar_A_i = np.zeros(5, dtype=float)\n",
    "    for j in range(5):\n",
    "        bar_A_i[j] = dlogp_two[j][9-i][start:end].mean()\n",
    "    dlogp_m1_m[i] = bar_A_i.mean()\n",
    "    \n",
    "    sig = 0.\n",
    "    for j in range(5):\n",
    "        sig += (bar_A_i[j]-dlogp_m1_m[i])**2\n",
    "    sig /= (bar_A_i.shape[0]-1)\n",
    "    sig = np.sqrt(sig)\n",
    "    sig /= np.sqrt(bar_A_i.shape[0])\n",
    "    dlogp_m1_s[i] = sig\n",
    "\n",
    "ax.set_xlabel('$M$')\n",
    "ax.set_ylabel('$<-dE/dM>$')\n",
    "ax.set_title('$Temp=5$')\n",
    "ax.errorbar(np.array([0, 1]), np.array([dlogp_m0_m[4], dlogp_m1_m[4]]),\n",
    "            yerr=np.array([dlogp_m0_s[4], dlogp_m1_s[4]]), fmt='o', color='red')\n",
    "\n",
    "plt.savefig('teireikai_20190227_BayesFactorPath2_ThirdTerm.png')\n",
    "\n",
    "plt.show()"
   ]
  },
  {
   "cell_type": "code",
   "execution_count": 18,
   "metadata": {},
   "outputs": [
    {
     "data": {
      "image/png": "[encoded data removed]",
      "text/plain": [
       "<matplotlib.figure.Figure at 0x20fc4519470>"
      ]
     },
     "metadata": {},
     "output_type": "display_data"
    }
   ],
   "source": [
    "# fig = plt.figure(figsize=(8, 6))\n",
    "# ax = fig.add_subplot(111)\n",
    "\n",
    "# dlogp_m0_m = 0. \n",
    "# dlogp_m0_s = 0.\n",
    "# dlogp_m1_m = 0.\n",
    "# dlogp_m1_s = 0.\n",
    "\n",
    "# start = 25600\n",
    "# end = 2*start\n",
    "\n",
    "# bar_A_i = np.zeros(5, dtype=float)\n",
    "# for i in range(5):\n",
    "#     bar_A_i[i] = dlogp_two[i][start:end].mean()\n",
    "# dlogp_m0_m = bar_A_i.mean()\n",
    "\n",
    "# sig = 0.\n",
    "# for i in range(5):\n",
    "#     sig += (bar_A_i[i]-dlogp_m0_m)**2\n",
    "# sig /= (bar_A_i.shape[0]-1)\n",
    "# sig = np.sqrt(sig)\n",
    "# sig /= np.sqrt(bar_A_i.shape[0])\n",
    "# dlogp_m0_s = sig\n",
    "\n",
    "\n",
    "# bar_A_i = np.zeros(5, dtype=float)\n",
    "# for i in range(5):\n",
    "#     bar_A_i[i] = dlogp_two_m1[i][start:end].mean()\n",
    "# dlogp_m1_m = bar_A_i.mean()\n",
    "\n",
    "# sig = 0.\n",
    "# for i in range(5):\n",
    "#     sig += (bar_A_i[i]-dlogp_m1_m)**2\n",
    "# sig /= (bar_A_i.shape[0]-1)\n",
    "# sig = np.sqrt(sig)\n",
    "# sig /= np.sqrt(bar_A_i.shape[0])\n",
    "# dlogp_m1_s = sig\n",
    "\n",
    "# ax.set_xlabel('$M$')\n",
    "# ax.set_ylabel('$<-dE/dM>$')\n",
    "# ax.set_title('$Temp=5$')\n",
    "# ax.errorbar(np.array([0, 1]), np.array([dlogp_m0_m, dlogp_m1_m]),\n",
    "#             yerr=np.array([dlogp_m0_s, dlogp_m1_s]), fmt='o', color='red')\n",
    "\n",
    "\n",
    "# #plt.savefig('teireikai_20190220_BayesFactorPath2_ThirdTerm.png')\n",
    "# plt.show()"
   ]
  },
  {
   "cell_type": "code",
   "execution_count": 41,
   "metadata": {},
   "outputs": [
    {
     "name": "stdout",
     "output_type": "stream",
     "text": [
      "4.32796761276 1.41186361965\n",
      "0.88134989672 1.7508614818\n"
     ]
    }
   ],
   "source": [
    "print(dlogp_m0_m[4], dlogp_m1_m[4])\n",
    "print(dlogp_m0_s[4], dlogp_m1_s[4])"
   ]
  },
  {
   "cell_type": "code",
   "execution_count": null,
   "metadata": {},
   "outputs": [],
   "source": [
    "dlogp_m0_m = 64.7380658835\n",
    "dlogp_m1_m = -62.7548612679\n",
    "dlogp_m0_s = 21.364298456\n",
    "dlogp_m0_s = 26.4974012929"
   ]
  },
  {
   "cell_type": "code",
   "execution_count": 33,
   "metadata": {},
   "outputs": [],
   "source": [
    "from scipy import integrate\n",
    "\n",
    "first_term_upper_two = integrate.simps((energy_m1_m+energy_m1_s), 1/np.arange(1, 6))\n",
    "first_term_lower_two = integrate.simps((energy_m1_m-energy_m1_s), 1/np.arange(1, 6))\n",
    "\n",
    "second_term_upper_two = integrate.simps((energy_m0_m+energy_m0_s), 1/np.arange(1, 6))\n",
    "second_term_lower_two = integrate.simps((energy_m0_m-energy_m0_s), 1/np.arange(1, 6))\n",
    "\n",
    "third_term_upper_two = integrate.simps((np.array([dlogp_m0_m, dlogp_m1_m])\n",
    "                                                 +np.array([dlogp_m0_s, dlogp_m0_s])), np.array([0, 1]))\n",
    "\n",
    "third_term_lower_two = integrate.simps((np.array([dlogp_m0_m, dlogp_m1_m])\n",
    "                                                 -np.array([dlogp_m0_s, dlogp_m0_s])), np.array([0, 1]))\n",
    "# print(first_term_upper_two)"
   ]
  },
  {
   "cell_type": "code",
   "execution_count": 34,
   "metadata": {},
   "outputs": [
    {
     "name": "stdout",
     "output_type": "stream",
     "text": [
      "-1.01235767337e+61\n",
      "-1.01235767425e+61\n"
     ]
    }
   ],
   "source": [
    "bayes_factor_two_up = first_term_upper_two - second_term_upper_two + (1./5.) * third_term_upper_two\n",
    "bayes_factor_two_lower = first_term_lower_two - second_term_lower_two + (1./5.) * third_term_lower_two\n",
    "\n",
    "print(bayes_factor_two_up)\n",
    "print(bayes_factor_two_lower)"
   ]
  },
  {
   "cell_type": "code",
   "execution_count": 35,
   "metadata": {},
   "outputs": [
    {
     "name": "stdout",
     "output_type": "stream",
     "text": [
      "first_term_upper_two= 81.2740352589\n",
      "first_term_upper_two= 81.8466616699\n",
      "second_term_upper_two= 70.7140974389\n",
      "second_term_lower_two= 73.8094184754\n",
      "third_term_upper_two= -5.06178836686e+61\n",
      "third_term_lower_two= -5.06178837124e+61\n"
     ]
    }
   ],
   "source": [
    "print('first_term_upper_two=',first_term_upper_two)\n",
    "print('first_term_upper_two=',first_term_lower_two)\n",
    "\n",
    "print('second_term_upper_two=',second_term_upper_two)\n",
    "print('second_term_lower_two=',second_term_lower_two)\n",
    "\n",
    "print('third_term_upper_two=',third_term_upper_two)\n",
    "print('third_term_lower_two=',third_term_lower_two)"
   ]
  },
  {
   "cell_type": "code",
   "execution_count": 36,
   "metadata": {},
   "outputs": [
    {
     "data": {
      "image/png": "[encoded data removed]",
      "text/plain": [
       "<matplotlib.figure.Figure at 0x20fbf0da5c0>"
      ]
     },
     "metadata": {},
     "output_type": "display_data"
    }
   ],
   "source": [
    "fig = plt.figure(figsize=(8, 6))\n",
    "ax = fig.add_subplot(111)\n",
    "\n",
    "E_m0 = np.zeros([5, 5])\n",
    "\n",
    "for i in range(5):\n",
    "    E_m0[0, i] = energy_two[0][i, start:end].mean()\n",
    "    \n",
    "ax.scatter(np.arange(1, 6), E_m0[0], color='red')\n",
    "    \n",
    "plt.show()"
   ]
  },
  {
   "cell_type": "code",
   "execution_count": 37,
   "metadata": {},
   "outputs": [
    {
     "data": {
      "image/png": "[encoded data removed]",
      "text/plain": [
       "<matplotlib.figure.Figure at 0x20fc450add8>"
      ]
     },
     "metadata": {},
     "output_type": "display_data"
    }
   ],
   "source": [
    "fig = plt.figure(figsize=(8, 6))\n",
    "ax = fig.add_subplot(111)\n",
    "cycle = plt.rcParams['axes.prop_cycle'].by_key()['color']\n",
    "E_m0 = np.zeros([5, 5])\n",
    "\n",
    "for i in range(5):\n",
    "    for j in range(5):\n",
    "        E_m0[i, j] = energy_two[i][j, start:end].mean()\n",
    "    \n",
    "    ax.scatter(np.arange(1, 6), E_m0[i], color=cycle[i], label='Sample:{}'.format(i+1))\n",
    "\n",
    "ax.set_xlabel('$Temperature$')\n",
    "ax.set_ylabel('$<E>$')\n",
    "plt.legend()\n",
    "\n",
    "#plt.savefig('teireikai_20190220_BayesFactorPath1_fig2.png')\n",
    "plt.show()"
   ]
  },
  {
   "cell_type": "code",
   "execution_count": 38,
   "metadata": {},
   "outputs": [
    {
     "data": {
      "image/png": "[encoded data removed]",
      "text/plain": [
       "<matplotlib.figure.Figure at 0x20fc4631ac8>"
      ]
     },
     "metadata": {},
     "output_type": "display_data"
    }
   ],
   "source": [
    "fig = plt.figure(figsize=(8, 6))\n",
    "ax = fig.add_subplot(111)\n",
    "cycle = plt.rcParams['axes.prop_cycle'].by_key()['color']\n",
    "E_m1 = np.zeros([5, 5])\n",
    "\n",
    "for i in range(5):\n",
    "    for j in range(5):\n",
    "        E_m1[i, j] = energy_two[i][9-j, start:end].mean()\n",
    "    \n",
    "    ax.scatter(np.arange(1, 6), E_m1[i], color=cycle[i], label='Sample:{}'.format(i+1))\n",
    "\n",
    "ax.set_xlabel('$Temperature$')\n",
    "ax.set_ylabel('$<E>$')\n",
    "plt.legend()\n",
    "\n",
    "#plt.savefig('teireikai_20190220_BayesFactorPath1_fig2.png')\n",
    "plt.show()"
   ]
  },
  {
   "cell_type": "code",
   "execution_count": 41,
   "metadata": {},
   "outputs": [
    {
     "data": {
      "image/png": "[encoded data removed]",
      "text/plain": [
       "<matplotlib.figure.Figure at 0x20fbef358d0>"
      ]
     },
     "metadata": {},
     "output_type": "display_data"
    }
   ],
   "source": [
    "fig = plt.figure(figsize=(8, 6))\n",
    "ax = fig.add_subplot(111)\n",
    "cycle = plt.rcParams['axes.prop_cycle'].by_key()['color']\n",
    "dE_two = np.zeros([2, 5])\n",
    "\n",
    "for j in range(5):\n",
    "    dE_two[0, j] = dlogp_two_m0[j][start:end].mean()\n",
    "    dE_two[1, j] = dlogp_two_m1[j][start:end].mean()\n",
    "    \n",
    "for i in range(1):\n",
    "    ax.scatter(np.array([0]), dE_two[0, i], color=cycle[i], label='Sample:{}'.format(i+1))\n",
    "    ax.scatter(np.array([1]), dE_two[1, i], color=cycle[i])\n",
    "\n",
    "ax.set_xlabel('$M$')\n",
    "ax.set_ylabel('$<-dE/dM>$')\n",
    "plt.legend()\n",
    "\n",
    "#plt.savefig('teireikai_20190220_BayesFactorPath1_fig2.png')\n",
    "plt.show()"
   ]
  },
  {
   "cell_type": "code",
   "execution_count": null,
   "metadata": {},
   "outputs": [],
   "source": []
  }
 ],
 "metadata": {
  "kernelspec": {
   "display_name": "Python 3",
   "language": "python",
   "name": "python3"
  },
  "language_info": {
   "codemirror_mode": {
    "name": "ipython",
    "version": 3
   },
   "file_extension": ".py",
   "mimetype": "text/x-python",
   "name": "python",
   "nbconvert_exporter": "python",
   "pygments_lexer": "ipython3",
   "version": "3.6.3"
  }
 },
 "nbformat": 4,
 "nbformat_minor": 2
}

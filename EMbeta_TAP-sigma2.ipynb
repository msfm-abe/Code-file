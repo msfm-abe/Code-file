{
 "cells": [
  {
   "cell_type": "markdown",
   "metadata": {},
   "source": [
    "EMbeta_TAP-sigma.ipynb との違い\n",
    "\n",
    "ファイルを読み込むことでモンテカルロサンプリングの初期値を途中から行える\n",
    "\n",
    "i.e. T=1000step　の値を初期値にして計算可能"
   ]
  },
  {
   "cell_type": "code",
   "execution_count": 48,
   "metadata": {
    "collapsed": true
   },
   "outputs": [],
   "source": [
    "import numpy as np\n",
    "import scipy.stats as stats\n",
    "import matplotlib.pyplot as plt\n",
    "from IPython.core.pylabtools import figsize\n",
    "import math\n",
    "\n",
    "plt.style.use('ggplot')"
   ]
  },
  {
   "cell_type": "markdown",
   "metadata": {},
   "source": [
    "読み込みファイル，計算に使用するデータ数，モンテカルロステップ数`T`，逆温度$\\beta$(配列),モンテカルロサンプル数`sample`を指定．\n",
    "\n",
    "`epsilon` と `length` は今後の計算に必要．"
   ]
  },
  {
   "cell_type": "code",
   "execution_count": 49,
   "metadata": {},
   "outputs": [],
   "source": [
    "data_file = 'TAP_artificial_data_De=1.5_ka=20_kd=5_sigma=5e-6_1-10^4ms.dat'\n",
    "read_file = 'EM_TAP_test_M11_sigma_0.dat'\n",
    "data_points = 100\n",
    "T = 10\n",
    "sample = 1\n",
    "#model = 0.1*np.arange(0, 11, 2, dtype=float)\n",
    "#model = 0.1*np.arange(0, 11, dtype=float)\n",
    "#model = 0.01*np.arange(0, 101, 5, dtype=float)\n",
    "#print(model)\n",
    "\n",
    "beta = np.array([1, 0.5, 0.1])\n",
    "temp = 1/beta\n",
    "\n",
    "# true_diffusivity = 1.5\n",
    "# true_k_a = 20.0\n",
    "# true_k_d = 5.0\n",
    "# true_standard_deviation = 5e-6\n",
    "epsilon = 1.0\n",
    "length = 35.0"
   ]
  },
  {
   "cell_type": "markdown",
   "metadata": {},
   "source": [
    "## 2つのモデル\n",
    "\n",
    "$M=0$ : 拡散のみ\n",
    "\n",
    "* Dimensionless form\n",
    "\n",
    "\\begin{align}\n",
    "    &\\frac{\\partial \\bar{C}_{A}}{\\partial \\tau} = \\frac{\\partial^{2} \\bar{C}_{A}}{\\partial \\xi^{2}} \\\\\n",
    "    \\Longrightarrow\\, &\\bar{F}_{A} = \\sum_{n=0}^{\\infty}\\left(-1\\right)^{n}\\left(2n+1\\right)\\exp \\left(-\\left(n+\\frac{1}{2}\\right)^{2}\\pi^{2}\\tau\\right)\n",
    "\\end{align}\n",
    "\n",
    "$M=1$ : 拡散+吸着+脱離\n",
    "\n",
    "* Dimensionless form\n",
    "\n",
    "\\begin{align}\n",
    "    &\\frac{\\partial \\bar{C}_{A}}{\\partial \\tau} = \\frac{\\partial^{2} \\bar{C}_{A}}{\\partial \\xi^{2}}-\\bar{k}_{a}\\bar{C}_{A}+\\bar{k}_{d}\\bar{\\theta}_{A}, \\\\\n",
    "    &\\frac{\\partial \\bar{\\theta}_{A}}{\\partial \\tau} = \\bar{k}_{a}\\bar{C}_{A}-\\bar{k}_{d}\\bar{\\theta}_{A}\n",
    "\\end{align}\n",
    "\n",
    "\\begin{align}\n",
    "    \\Longrightarrow\\,&\\bar{F}_{A} = \\pi\\sum_{n=0}^{\\infty}\\left(-1\\right)^{n}\\left(2n+1\\right)\\left[A_{n}\\exp \\left(r_{-}\\tau\\right)+\\left(1-A_{n}\\right)\\exp \\left(r_{+}\\tau\\right)\\right]\n",
    "\\end{align}\n",
    "\n",
    "ただし\n",
    "\n",
    "\\begin{align}\n",
    "    &r_{\\pm} = \\frac{-\\left(p_{n}^{2}+\\bar{k}_{a}+\\bar{k}_{d}\\right)\\pm\\sqrt{\\left(p_{n}^{2}+\\bar{k}_{a}+\\bar{k}_{d}\\right)^{2}-4p_{n}^{2}\\bar{k}_{d}}}{2}, \\\\\n",
    "    &p_{n} = \\left(n+\\frac{1}{2}\\right)\\pi, \\\\\n",
    "    &A_{n} = \\frac{r_{+}+p_{n}^{2}+\\bar{k}_{a}}{r_{+}-r_{-}}\n",
    "\\end{align}\n",
    "\n",
    "dimensional form と dimensionless form の関係は\n",
    "\n",
    "\\begin{align}\n",
    "    &\\tau = \\frac{D_{eA}}{\\epsilon_{b}L^{2}}t, \\\\\n",
    "    &\\bar{F}_{A}\\left(\\xi, \\tau \\right) = \\frac{\\epsilon_{b}L^{2}}{D_{eA}}\\frac{F_{A}\\left(x, t\\right)}{N_{pA}}\n",
    "\\end{align}"
   ]
  },
  {
   "cell_type": "markdown",
   "metadata": {},
   "source": [
    "## 関数\n",
    "```python:title\n",
    "Flow(diffusivity, k_a, k_d, epsilon, length, time)\n",
    "```\n",
    "高速版\n",
    "* 入力 : $D_{e}, k_{a}, k_{d}, \\epsilon_{b}, L$ (スカラー), $t$ (numpy配列)\n",
    "* 出力 : $t$と同じ次元のDimensional flow\n",
    "\n",
    "`k_a=0, k_d=0`で $M=0$,それ以外で $M=1$ になる．"
   ]
  },
  {
   "cell_type": "code",
   "execution_count": 50,
   "metadata": {
    "collapsed": true
   },
   "outputs": [],
   "source": [
    "def p_n(n):\n",
    "    return (n+0.5)*np.pi\n",
    "\n",
    "def r_plus(p_n, k_a, k_d):\n",
    "    return ( -(p_n**2 + k_a + k_d)+np.sqrt((p_n**2 + k_a + k_d)**2 - 4*(p_n**2)*k_d) )/2.0\n",
    "\n",
    "def r_minus(p_n, k_a, k_d):\n",
    "    return ( -(p_n**2 + k_a + k_d)-np.sqrt((p_n**2 + k_a + k_d)**2 - 4*(p_n**2)*k_d) )/2.0\n",
    "\n",
    "def A_n(p_n, r_plus, r_minus, k_a):\n",
    "    return (r_plus + (p_n**2) + k_a)/(r_plus - r_minus)\n",
    "\n",
    "# def Flow(diffusivity, k_a, k_d, epsilon, length, time):\n",
    "#     dimensionless_time = time * diffusivity/(epsilon*length**2)\n",
    "    \n",
    "#     f_flow = np.zeros(time.shape[0])\n",
    "#     pn = p_n(0); r_p = r_plus(p_n=pn, k_a=k_a, k_d=k_d); r_m = r_minus(p_n=pn, k_a=k_a, k_d=k_d)\n",
    "#     A = A_n(p_n=pn, r_plus=r_p, r_minus=r_m, k_a=k_a)\n",
    "#     f_flow += np.power(-1.0, 0)*(2.0*0+1.0)*( A*np.exp(r_m*dimensionless_time)+(1.0-A)*np.exp(r_p*dimensionless_time) )\n",
    "    \n",
    "#     l_flow = np.zeros(time.shape[0])\n",
    "#     pn = p_n(1); r_p = r_plus(p_n=pn, k_a=k_a, k_d=k_d); r_m = r_minus(p_n=pn, k_a=k_a, k_d=k_d)\n",
    "#     A = A_n(p_n=pn, r_plus=r_p, r_minus=r_m, k_a=k_a)\n",
    "#     l_flow = f_flow + np.power(-1.0, 1)*(2.0*1+1.0)*( A*np.exp(r_m*dimensionless_time)+(1.0-A)*np.exp(r_p*dimensionless_time) )\n",
    "    \n",
    "#     N = np.ones(time.shape[0], dtype=int)\n",
    "\n",
    "#     for i in range(time.shape[0]):\n",
    "#         while np.abs((l_flow[i]-f_flow[i])/f_flow[i]) > 10**-5:\n",
    "#             N[i] += 1\n",
    "#             f_flow[i] = l_flow[i]\n",
    "#             pn = p_n(N[i]); r_p = r_plus(p_n=pn, k_a=k_a, k_d=k_d); r_m = r_minus(p_n=pn, k_a=k_a, k_d=k_d)\n",
    "#             A = A_n(p_n=pn, r_plus=r_p, r_minus=r_m, k_a=k_a)\n",
    "#             l_flow[i] += np.power(-1.0, N[i])*(2.0*N[i]+1.0)*( A*np.exp(r_m*dimensionless_time[i])+(1.0-A)*np.exp(r_p*dimensionless_time[i]) )\n",
    "    \n",
    "##     while np.abs((l_flow[0]-f_flow[0])/f_flow[0]) > 10**-5:\n",
    "##         for i in range(time.shape[0]):\n",
    "##             if np.abs((l_flow[i]-f_flow[i])/f_flow[i]) > 1.*10**-5:\n",
    "##                 N[i] += 1\n",
    "##                 f_flow[i] = l_flow[i]\n",
    "##                 pn = p_n(N[i]); r_p = r_plus(p_n=pn, k_a=k_a, k_d=k_d); r_m = r_minus(p_n=pn, k_a=k_a, k_d=k_d)\n",
    "##                 A = A_n(p_n=pn, r_plus=r_p, r_minus=r_m, k_a=k_a)\n",
    "##                 l_flow[i] += np.power(-1.0, N[i])*(2.0*N[i]+1.0)*( A*np.exp(r_m*dimensionless_time[i])+(1.0-A)*np.exp(r_p*dimensionless_time[i]) )\n",
    "    \n",
    "# #    print(N)\n",
    "#     l_flow *= np.pi\n",
    "#     l_flow *= diffusivity/(epsilon*np.power(length, 2))\n",
    "\n",
    "#     return l_flow\n",
    "\n",
    "def Flow(diffusivity, k_a, k_d, epsilon, length, time):\n",
    "    dimensionless_time = time * diffusivity/(epsilon*length**2)\n",
    "    r_flow = np.zeros(len(time))\n",
    "    for n in range(100):\n",
    "        pn = p_n(n); r_p = r_plus(p_n=pn, k_a=k_a, k_d=k_d); r_m = r_minus(p_n=pn, k_a=k_a, k_d=k_d)\n",
    "        A = A_n(p_n=pn, r_plus=r_p, r_minus=r_m, k_a=k_a)\n",
    "        r_flow += np.power(-1.0,n)*(2.0*n+1.0)*( A*np.exp(r_m*dimensionless_time)+(1.0-A)*np.exp(r_p*dimensionless_time) )\n",
    "    r_flow *= np.pi\n",
    "    r_flow *= diffusivity/(epsilon*np.power(length, 2))\n",
    "\n",
    "    return r_flow"
   ]
  },
  {
   "cell_type": "markdown",
   "metadata": {},
   "source": [
    "以下の `cell` でファイルからデータを読み込む．"
   ]
  },
  {
   "cell_type": "code",
   "execution_count": 51,
   "metadata": {},
   "outputs": [
    {
     "name": "stdout",
     "output_type": "stream",
     "text": [
      "100 \t 100\n"
     ]
    },
    {
     "data": {
      "image/png": "[encoded data removed]",
      "text/plain": [
       "<matplotlib.figure.Figure at 0x22f923105c0>"
      ]
     },
     "metadata": {},
     "output_type": "display_data"
    }
   ],
   "source": [
    "dimensional_time = np.zeros(data_points)\n",
    "dimensional_exit_flow = np.zeros(data_points)\n",
    "i = 0\n",
    "j = 0\n",
    "for line in open(data_file, \"r\"):\n",
    "    if i%(10000/data_points)==0:\n",
    "        data = line.split(\"\\t\")\n",
    "        dimensional_time[j] = data[0]\n",
    "        dimensional_exit_flow[j] = data[1]\n",
    "        j += 1\n",
    "    else:\n",
    "        pass\n",
    "    i += 1\n",
    "\n",
    "\n",
    "print(len(dimensional_time), \"\\t\", len(dimensional_exit_flow))\n",
    "# print(dimensional_time, dimensional_exit_flow)\n",
    "\n",
    "fig = plt.figure()\n",
    "ax = fig.add_subplot(111)\n",
    "ax.plot(dimensional_time, dimensional_exit_flow)\n",
    "\n",
    "ax.set_xlabel('Dimensional Time[ms]')\n",
    "ax.set_ylabel('Dimensional Exit Flow[1/ms]')\n",
    "\n",
    "plt.show()"
   ]
  },
  {
   "cell_type": "markdown",
   "metadata": {},
   "source": [
    "## モデル依存のサンプリング\n",
    "\n",
    "\\begin{align}\n",
    "    P\\left(I_{\\mu}\\right) &= \\prod_{\\mu=1}^{T}\\left(\\sqrt{\\frac{\\alpha+\\beta}{\\pi}}\\exp\\left(-\\left(\\alpha + \\beta\\right)\\left\\{I_{\\mu}-\\frac{\\alpha I_{\\mu}^{M=0}+\\beta I_{\\mu}^{M=1}}{\\alpha + \\beta}\\right\\}^2\\right)\\right) \\\\\n",
    "    &= \\prod_{\\mu=1}^{T}\\left(\\frac{1}{\\sqrt{2\\pi\\sigma^2}}\\exp\\left(-\\frac{1}{2\\sigma^2}\\left\\{I_{\\mu}-\\left(1-M\\right)I_{\\mu}^{M=0}-MI_{\\mu}^{M=1}\\right\\}^{2} \\right) \\right) \\\\\n",
    "    &= \\left(\\frac{1}{\\sqrt{2\\pi\\sigma^2}}\\right)^{T}\\exp\\left(-E\\right) \\\\\n",
    "    &= \\exp\\left(-E^{\\prime}\\right)\n",
    "\\end{align}\n",
    "\n",
    "ただし\n",
    "\\begin{align}\n",
    "    &\\alpha = \\frac{1-M}{2\\sigma^{2}},\\, \n",
    "    \\beta = \\frac{M}{2\\sigma^{2}} \\\\\n",
    "    E &= \\frac{1}{2\\sigma^{2}}\\sum_{\\mu=1}^{T}\\left\\{I_{\\mu}-\\left(1-M \\right)I_{\\mu}^{M=0}-MI_{\\mu}^{M=1} \\right\\}^{2} \\\\\n",
    "    E^{\\prime} &= \\frac{1}{2\\sigma^{2}}\\sum_{\\mu=1}^{T}\\left\\{I_{\\mu}-\\left(1-M \\right)I_{\\mu}^{M=0}-MI_{\\mu}^{M=1} \\right\\}^{2} + \\frac{T}{2}\\ln\\left(2\\pi\\sigma^{2}\\right)\n",
    "\\end{align}\n",
    "\n",
    "$I_{\\mu}$ は $F_{A}$"
   ]
  },
  {
   "cell_type": "markdown",
   "metadata": {},
   "source": [
    "## 関数\n",
    "```python:title\n",
    "energy()\n",
    "```\n",
    "* 入力 : $M, D_{e}^{M=0}, D_{e}^{M=1}, k_{a}, k_{d}, \\sigma$ ($\\epsilon_{b}, L, t, F$ はあらかじめ指定)\n",
    "* 出力 : 上記の $E^{\\prime}$"
   ]
  },
  {
   "cell_type": "code",
   "execution_count": 52,
   "metadata": {},
   "outputs": [
    {
     "name": "stdout",
     "output_type": "stream",
     "text": [
      "-1080.82244507\n"
     ]
    }
   ],
   "source": [
    "def energy(model, diffusivity_0, diffusivity_1, k_a, k_d, std,\n",
    "           epsilon=epsilon, length=length, \n",
    "           time=dimensional_time, artificial_flow=dimensional_exit_flow):\n",
    "\n",
    "    \n",
    "#    alpha = (1. - model)/(2.*std**2)\n",
    "#    beta = model/(2.*std**2)\n",
    "    \n",
    "    Energy = np.square(artificial_flow - ((1.-model)*Flow(diffusivity=diffusivity_0,\n",
    "                                                     k_a=0., k_d=0.,\n",
    "                                                     epsilon=epsilon, length=length, \n",
    "                                                     time=time) + \\\n",
    "                                          model*Flow(diffusivity=diffusivity_1,\n",
    "                                                     k_a=k_a, k_d=k_d, \n",
    "                                                     epsilon=epsilon, length=length, \n",
    "                                                     time=time))\n",
    "                      ).sum()\n",
    "    \n",
    "    Energy *= 1./(2.*std**2)\n",
    "    Energy += (time.shape[0]/2.) * np.log(2.*np.pi*std**2) \n",
    "    \n",
    "    return Energy\n",
    "        \n",
    "#    return Energy, alpha, beta\n",
    "\n",
    "#print(delta_energy(0, 1.5, 1.5, 20, 5, 5e-6, 5e-6))\n",
    "#print(delta_energy(0.5, 1.5, 1.5, 20, 5, 5e-6, 5e-6))\n",
    "print(energy(1, 1.5, 1.5, 20, 5, 5e-6))"
   ]
  },
  {
   "cell_type": "markdown",
   "metadata": {},
   "source": [
    "## 遷移確率\n",
    "\n",
    "\\begin{align}\n",
    "    r &= \\frac{\\hat{e}_{\\beta}}{e^{\\left(t\\right)}_{\\beta}} \\\\\n",
    "    &= \\frac{\\exp \\left(-\\beta {\\hat{E^{\\prime}}}\\right)}{\\exp\\left(-\\beta E^{\\prime (t)}\\right)}\\\\\n",
    "    &= \\exp\\left(-\\beta\\left({\\hat{E^{\\prime}}}-E^{\\prime (t)}\\right)\\right)\n",
    "\\end{align}"
   ]
  },
  {
   "cell_type": "markdown",
   "metadata": {},
   "source": [
    "## 関数\n",
    "```python:title\n",
    "r()\n",
    "```\n",
    "* 入力 : $\\beta, \\hat{M}, M^{\\left(t\\right)}, \\hat{D_{e}^{M=0}}, \\hat{D_{e}^{M=1}}, \\hat{k_{a}}, \\hat{k_{d}}, \\hat{\\sigma}, D_{e}^{M=0, \\left(t\\right)}, D_{e}^{M=1, \\left(t\\right)}, k_{a}^{\\left(t\\right)}, k_{d}^{\\left(t\\right)}, \\sigma^{\\left(t\\right)}$ ($\\epsilon_{b}, L, t, F_{A}$ はあらかじめ指定)\n",
    "* 出力 : 遷移確率 $r$, $\\hat{E^{\\prime}}, E^{\\prime(t)}$"
   ]
  },
  {
   "cell_type": "code",
   "execution_count": 53,
   "metadata": {},
   "outputs": [
    {
     "name": "stdout",
     "output_type": "stream",
     "text": [
      "(1.0319700405173489, -1080.822445074808, -1080.7909754386765)\n"
     ]
    }
   ],
   "source": [
    "def r(beta, model_cand, model_current,\n",
    "       diffusivity_0_cand, diffusivity_1_cand, k_a_cand, k_d_cand, std_cand,\n",
    "       diffusivity_0_current, diffusivity_1_current, k_a_current, k_d_current, std_current, \n",
    "       epsilon=epsilon, length=length, \n",
    "       time=dimensional_time, artificial_flow=dimensional_exit_flow):\n",
    "    \n",
    "    E_cand = energy(model=model_cand,\n",
    "                    diffusivity_0=diffusivity_0_cand,\n",
    "                    diffusivity_1=diffusivity_1_cand,\n",
    "                    k_a=k_a_cand, k_d=k_d_cand,\n",
    "                    std=std_cand, \n",
    "                    epsilon=epsilon, length=length, \n",
    "                    time=time, artificial_flow=artificial_flow)\n",
    "    \n",
    "    E_current = energy(model=model_current, \n",
    "                       diffusivity_0=diffusivity_0_current,\n",
    "                       diffusivity_1=diffusivity_1_current,\n",
    "                       k_a=k_a_current, k_d=k_d_current,\n",
    "                       std=std_current,\n",
    "                       epsilon=epsilon, length=length, \n",
    "                       time=time, artificial_flow=artificial_flow)\n",
    "    \n",
    "    \n",
    "    exponent = -E_cand + E_current\n",
    "    \n",
    "    return np.exp(beta*exponent), E_cand, E_current\n",
    "\n",
    "print(r(1, 1, 1, 1.5, 1.5, 20., 5., 5e-6, 1.5, 1.499, 20, 5, 5e-6))"
   ]
  },
  {
   "cell_type": "markdown",
   "metadata": {},
   "source": [
    "## 交換法\n",
    "\n",
    "確率\n",
    "\n",
    "\\begin{align}\n",
    "    r^{\\prime} &= \\frac{p^{M_{l}}_{\\beta_{l}}\\left(\\hat{\\theta}_{l+1}\\right)p^{M_{l+1}}_{\\beta_{l+1}}\\left(\\hat{\\theta}_{l}\\right)}{p^{M_{l}}_{\\beta_{l}}\\left(\\hat{\\theta}_{l}\\right)p^{M_{l+1}}_{\\beta_{l+1}}\\left(\\hat{\\theta}_{l+1}\\right)} \\\\\n",
    "    &= \\exp\\left(-\\beta_{l}E^{\\prime}_{M_{l}}\\left(\\hat{\\theta}_{l+1}\\right)-\\beta_{l+1}E^{\\prime}_{M_{l+1}}\\left(\\hat{\\theta}_{l}\\right)+\\beta_{l}E^{\\prime}_{M_{l}}\\left(\\hat{\\theta}_{l}\\right)+\\beta_{l+1}E^{\\prime}_{M_{l+1}}\\left(\\hat{\\theta}_{l+1}\\right)\\right)\n",
    "\\end{align}\n",
    "\n",
    "でパラメータを交換"
   ]
  },
  {
   "cell_type": "markdown",
   "metadata": {},
   "source": [
    "## 関数\n",
    "```python;title\n",
    "r_prime()\n",
    "```\n",
    "* 入力 : $\\beta_l, \\beta_{l+1}, M_{l}, D_{e, l}^{M=0}, D_{e, l}^{M=1}, k_{a, l}, k_{d, l}, \\sigma_{l}, M_{l+1}, D_{e, l+1}^{M=0}, D_{e, l+1}^{M=1}, k_{a, l+1}, k_{d, l+1}, \\sigma_{l+1}$ ($\\epsilon_{b}, L, t, F$ はあらかじめ指定)\n",
    "* 出力 : $r^{\\prime}$"
   ]
  },
  {
   "cell_type": "code",
   "execution_count": 54,
   "metadata": {},
   "outputs": [
    {
     "name": "stdout",
     "output_type": "stream",
     "text": [
      "3.05527036143e+23\n"
     ]
    }
   ],
   "source": [
    "def r_prime(beta_l, beta_lplus1, model_l, diffusivity0_l, diffusivity1_l, k_a_l, k_d_l, std_l, \n",
    "            model_lplus1, diffusivity0_lplus1, diffusivity1_lplus1, k_a_lplus1, k_d_lplus1, std_lplus1, \n",
    "            epsilon=epsilon, length=length, time=dimensional_time, artificial_flow=dimensional_exit_flow):\n",
    "    \n",
    "    E1 = energy(model=model_l, diffusivity_0=diffusivity0_lplus1, diffusivity_1=diffusivity1_lplus1,\n",
    "                k_a=k_a_lplus1, k_d=k_d_lplus1, std=std_lplus1,\n",
    "                epsilon=epsilon, length=length,\n",
    "                time=dimensional_time, artificial_flow=dimensional_exit_flow)\n",
    "    \n",
    "    E2 = energy(model=model_lplus1, diffusivity_0=diffusivity0_l, diffusivity_1=diffusivity1_l,\n",
    "                k_a=k_a_l, k_d=k_d_l, std=std_l,\n",
    "                epsilon=epsilon, length=length, \n",
    "                time=dimensional_time, artificial_flow=dimensional_exit_flow)\n",
    "        \n",
    "    E3 = energy(model=model_l, diffusivity_0=diffusivity0_l, diffusivity_1=diffusivity1_l,\n",
    "                k_a=k_a_l, k_d=k_d_l, std=std_l,\n",
    "                epsilon=epsilon, length=length, \n",
    "                time=dimensional_time, artificial_flow=dimensional_exit_flow)\n",
    "        \n",
    "    E4 = energy(model=model_lplus1, diffusivity_0=diffusivity0_lplus1, diffusivity_1=diffusivity1_lplus1,\n",
    "                k_a=k_a_lplus1, k_d=k_d_lplus1, std=std_lplus1,\n",
    "                epsilon=epsilon, length=length,\n",
    "                time=dimensional_time, artificial_flow=dimensional_exit_flow)\n",
    "    \n",
    "    E = -beta_l*E1-beta_lplus1*E2+beta_l*E3+beta_lplus1*E4\n",
    "    \n",
    "    return np.exp(E)\n",
    "\n",
    "print(r_prime(1, 1, 0.9, 1.5, 1.5, 20, 5, 5e-6, 1.0, 1.5, 1.49, 20, 5, 5e-6))"
   ]
  },
  {
   "cell_type": "markdown",
   "metadata": {},
   "source": [
    "## 対数ベイズ因子の計算によるモデル選択\n",
    "\n",
    "対数ベイズ因子は\n",
    "\\begin{align}\n",
    "    \\ln\\frac{P\\left(M=1\\,|\\,{\\bf{F}}^{data}\\right)}{P\\left(M=0\\,|\\,{\\bf{F}}^{data}\\right)} = \\\n",
    "    \\int_{0}^{1}dM\\left\\langle\\frac{d\\ln P\\left({\\bf{F}}^{data}\\,|\\,\\theta, M\\right)}{dM} \\right\\rangle_{M}\n",
    "\\end{align}\n",
    "\n",
    "ただし被積分関数は\n",
    "\n",
    "\\begin{align}\n",
    "    \\left\\langle\\frac{d\\ln P\\left({\\bf{F}}^{data}\\,|\\,\\theta, M\\right)}{dM} \\right\\rangle_{M} &= -\\frac{d}{dM}E^{\\prime} \\\\\n",
    "    &= -\\frac{1}{\\sigma^{2}}\\sum_{\\mu=1}^{T}\\left(I_{\\mu}^{M=0}-I_{\\mu}^{M=1}\\right)\\left\\{I_{\\mu}^{data}-\\left(1-M\\right)I_{\\mu}^{M=0}-MI_{\\mu}^{M=1}\\right\\}\n",
    "\\end{align}\n",
    "\n",
    "と書ける。パラメータのサンプリング結果から被積分関数を数値的に求め，対数ベイズ因子を計算することによりモデル選択を行う。"
   ]
  },
  {
   "cell_type": "markdown",
   "metadata": {},
   "source": [
    "## 対数ベイズ因子の被積分関数の計算\n",
    "```python;title\n",
    "dlog_p\n",
    "```\n",
    "* input : $M, D_e^{(M=0)}, D_e^{(M=1}, k_a, k_d, \\sigma$ (全てスカラー)　\n",
    "* output : 被積分関数 dlog (スカラー)"
   ]
  },
  {
   "cell_type": "code",
   "execution_count": 55,
   "metadata": {},
   "outputs": [
    {
     "name": "stdout",
     "output_type": "stream",
     "text": [
      "-799.412150232\n"
     ]
    }
   ],
   "source": [
    "def dlog_p(model, diffusivity_0, diffusivity_1, k_a, k_d, \n",
    "           std, time=dimensional_time, artificial_flow=dimensional_exit_flow, \n",
    "           epsilon=epsilon, length=length):\n",
    "    \n",
    "    dlogp = -1./(std**2) \\\n",
    "            *(\n",
    "                 (Flow(diffusivity=diffusivity_0, k_a=0, k_d=0, time=time, epsilon=epsilon, length=length) \\\n",
    "                  - Flow(diffusivity=diffusivity_1, k_a=k_a, k_d=k_d, time=time, epsilon=epsilon, length=length)) \\\n",
    "                 *(artificial_flow - (1-model)*Flow(diffusivity=diffusivity_0,\n",
    "                                                    k_a=0, k_d=0,\n",
    "                                                    time=time, epsilon=epsilon, length=length) \\\n",
    "                   - model*Flow(diffusivity=diffusivity_1, \n",
    "                                k_a=k_a, k_d=k_d, \n",
    "                                time=time, epsilon=epsilon, length=length)\\\n",
    "                   )\n",
    "              ).sum()\n",
    "           \n",
    "    return dlogp\n",
    "\n",
    "print(dlog_p(1, 1.49, 1.5, 20, 5, 5*10**-6))"
   ]
  },
  {
   "cell_type": "markdown",
   "metadata": {},
   "source": [
    "## ファイルからの読み込み\n",
    "```python;title\n",
    "file_output()\n",
    "```\n",
    "* 入力 : file_name, T[mcs], $M$(モデルパラメータ)\n",
    "* 出力 : $D_e^{(M=0)}, D_e^{(M=1)}, k_a, k_d, \\sigma, E, dlogp$, pick, update, exchange rate ($\\theta$.shape=(M, T))"
   ]
  },
  {
   "cell_type": "code",
   "execution_count": 56,
   "metadata": {},
   "outputs": [],
   "source": [
    "def file_output(file, T, model):\n",
    "    \n",
    "    diffusivity_0 = np.zeros([model.shape[0], T])\n",
    "    diffusivity_1 = np.zeros([model.shape[0], T])\n",
    "    k_a = np.zeros([model.shape[0], T])\n",
    "    k_d = np.zeros([model.shape[0], T])\n",
    "    sigma_0 = np.zeros([model.shape[0], T])\n",
    "    E = np.zeros([model.shape[0], T])\n",
    "\n",
    "    dlogp = np.zeros([model.shape[0], T])\n",
    "    \n",
    "    pick = np.zeros([model.shape[0], 5])\n",
    "    update = np.zeros([model.shape[0], 5])\n",
    "    exchange_rate = np.zeros(model.shape[0]-1)\n",
    "    \n",
    "    l = 0; m = 0; t = 0; m_ = 0\n",
    "    for line in open(file, \"r\"):\n",
    "        data = line.split(\"\\t\")\n",
    "        try :\n",
    "            tmp = float(data[0])\n",
    "            if 1<=l<=model.shape[0]:\n",
    "                for i in range(5):\n",
    "                    pick[m_, i] = float(data[i])\n",
    "                m_ += 1\n",
    "            elif (model.shape[0]+2)<=l<=(2*model.shape[0]+1):\n",
    "                for i in range(5):\n",
    "                    update[m_, i] = float(data[i])\n",
    "                m_ += 1\n",
    "            elif l==(2*model.shape[0]+4):\n",
    "                for i in range(model.shape[0]-1):\n",
    "                    exchange_rate[i] = float(data[i])\n",
    "            else:\n",
    "                diffusivity_0[m, t] = data[0]\n",
    "                diffusivity_1[m, t] = data[1]\n",
    "                k_a[m, t] = data[2]\n",
    "                k_d[m, t] = data[3]\n",
    "                sigma_0[m, t] = data[4]\n",
    "                E[m, t] = data[5]\n",
    "                dlogp[m, t] = data[6]\n",
    "                t += 1\n",
    "        except :\n",
    "            pass\n",
    "        else :\n",
    "            if t==T:\n",
    "                m += 1\n",
    "                t = 0\n",
    "            if m_==model.shape[0]:\n",
    "                m_ = 0\n",
    "        finally :\n",
    "            l += 1\n",
    "            \n",
    "    return diffusivity_0, diffusivity_1, k_a, k_d, sigma_0, E, dlogp, pick, update, exchange_rate"
   ]
  },
  {
   "cell_type": "code",
   "execution_count": 69,
   "metadata": {},
   "outputs": [],
   "source": [
    "d0, d1, ka, kd, sigma, e, dp, pick, up, ex = file_output(read_file, T, np.hstack((beta, beta)))"
   ]
  },
  {
   "cell_type": "code",
   "execution_count": 58,
   "metadata": {},
   "outputs": [],
   "source": [
    "# for i in range(np.hstack((beta, beta)).shape[0]):\n",
    "#     print(e[i][T-1])"
   ]
  },
  {
   "cell_type": "markdown",
   "metadata": {},
   "source": [
    "## 交換法のアルゴリズム\n",
    "\n",
    "```python;title\n",
    "exchange_monte_calro()\n",
    "```\n",
    "* 入力 : モンテカルロステップ数，逆温度$\\beta$，モデルパラメータ$M$($\\beta, M$は配列)\n",
    "* 出力 : $D_e^{(M=0)}, D_e^{(M=1)}, k_a, k_d, \\sigma, E^{\\prime}, dlogp$　((`model.shape[0]`, $T$)の2次元配列), pick, update, exchange_rate"
   ]
  },
  {
   "cell_type": "code",
   "execution_count": 70,
   "metadata": {
    "collapsed": true
   },
   "outputs": [],
   "source": [
    "def exchange_monte_calro(monte_calro_step, beta, model,\n",
    "                         d0, d1, ka, kd, std, e,\n",
    "                         epsilon=epsilon, length=length, \n",
    "                         time=dimensional_time, artificial_flow=dimensional_exit_flow):\n",
    "    \n",
    "    diffusivity_0 = np.zeros([2*beta.shape[0], monte_calro_step])\n",
    "    diffusivity_1 = np.zeros([2*beta.shape[0], monte_calro_step])\n",
    "    k_a = np.zeros([2*beta.shape[0], monte_calro_step])\n",
    "    k_d = np.zeros([2*beta.shape[0], monte_calro_step])\n",
    "    sigma = np.zeros([2*beta.shape[0], monte_calro_step])\n",
    "    Energy = np.zeros([2*beta.shape[0], monte_calro_step])\n",
    "    pick = np.zeros([2*beta.shape[0], 5]); update = np.zeros([2*beta.shape[0], 5])\n",
    "    exchange_count = np.zeros(2*beta.shape[0]-1)\n",
    "    \n",
    "    \"\"\"initialize parameters\"\"\"\n",
    "    \n",
    "    for i in range(2*beta.shape[0]):\n",
    "        diffusivity_0[i, 0] = d0[i][monte_calro_step-1]\n",
    "        diffusivity_1[i, 0] = d1[i][monte_calro_step-1]\n",
    "        k_a[i, 0] = ka[i][monte_calro_step-1]\n",
    "        k_d[i, 0] = kd[i][monte_calro_step-1]\n",
    "        sigma[i, 0] = std[i][monte_calro_step-1]\n",
    "        Energy[i, 0] = e[i][monte_calro_step-1]\n",
    "#        Energy[i, 0] = energy(0, diffusivity_0[i, 0], diffusivity_1[i, 0], k_a[i, 0], k_d[i, 0], sigma[i, 0])\n",
    "\n",
    "#        print(Energy[i, 0])\n",
    "    \n",
    "    t = 1\n",
    "\n",
    "    while t < monte_calro_step:\n",
    "        \"\"\"update parameters\"\"\"\n",
    "        for b in range(2*beta.shape[0]):\n",
    "            diffusivity_0[b, t] = diffusivity_0[b, t-1]; diffusivity_1[b, t] = diffusivity_1[b, t-1]\n",
    "            k_a[b, t] = k_a[b, t-1]; k_d[b, t] = k_d[b, t-1]; sigma[b, t] = sigma[b, t-1]\n",
    "            Energy[b, t] = Energy[b, t-1]\n",
    "            \n",
    "            choice = np.random.randint(0, 5); pick[b, choice] += 1\n",
    "            if choice == 0:\n",
    "                diffusivity_0[b, t] += stats.uniform.rvs(loc=-1e-1, scale=2e-1)\n",
    "            elif choice == 1:\n",
    "                diffusivity_1[b, t] += stats.uniform.rvs(loc=-1e-1, scale=2e-1)\n",
    "            elif choice == 2:\n",
    "                k_a[b, t] += stats.uniform.rvs(loc=-1e-1, scale=2e-1)\n",
    "            elif choice == 3:\n",
    "                k_d[b, t] += stats.uniform.rvs(loc=-1e-1, scale=2e-1)\n",
    "            elif choice == 4:\n",
    "                sigma[b, t] += stats.uniform.rvs(loc=-1e-6, scale=2e-6)\n",
    "            \n",
    "            if b+1 <= beta.shape[0]:\n",
    "                model = 0\n",
    "                inv_temp = beta[b]\n",
    "            else:\n",
    "                model = 1\n",
    "                inv_temp = beta[2*beta.shape[0]-1-b]\n",
    "            \n",
    "            \n",
    "#            print('model=',model, 'beta=', inv_temp)\n",
    "            transition_prob, e_cand, e_current = r(inv_temp, model, model,\n",
    "                                                   diffusivity_0[b, t], diffusivity_1[b, t],\n",
    "                                                   k_a[b, t], k_d[b, t], sigma[b, t],\n",
    "                                                   diffusivity_0[b, t-1], diffusivity_1[b, t-1],\n",
    "                                                   k_a[b, t-1], k_d[b, t-1], sigma[b, t-1])\n",
    "                    \n",
    "            if np.array([1.0, transition_prob]).min() > stats.uniform.rvs():\n",
    "                Energy[b, t] = e_cand\n",
    "                update[b, choice] += 1\n",
    "            else:\n",
    "                diffusivity_0[b, t] = diffusivity_0[b, t-1]; diffusivity_1[b, t] = diffusivity_1[b, t-1]\n",
    "                k_a[b, t] = k_a[b, t-1]; k_d[b, t] = k_d[b, t-1]; sigma[b, t] = sigma[b, t-1]\n",
    "        \n",
    "        \"\"\"exchange parameters\"\"\"\n",
    "        for b in range(2*beta.shape[0]-1):\n",
    "            if b < beta.shape[0]-1:\n",
    "                beta_l, beta_lplus1 = beta[b], beta[b+1]\n",
    "                model_l, model_lplus1 = 0., 0.\n",
    "            elif b == beta.shape[0]-1:\n",
    "                beta_l, beta_lplus1 = beta[b], beta[b]\n",
    "                model_l, model_lplus1 = 0., 1.0\n",
    "            elif b > beta.shape[0]-1:\n",
    "                beta_l, beta_lplus1 = beta[2*beta.shape[0]-1-b], beta[2*beta.shape[0]-1-b-1]\n",
    "                model_l, model_lplus1 = 1.0, 1.0\n",
    "            \n",
    "            exchange_prob = r_prime(beta_l, beta_lplus1,\n",
    "                                    model_l, diffusivity_0[b, t], diffusivity_1[b, t],\n",
    "                                    k_a[b, t], k_d[b, t], sigma[b, t], \n",
    "                                    model_lplus1, diffusivity_0[b+1, t], diffusivity_1[b+1, t],\n",
    "                                    k_a[b+1, t], k_d[b+1, t], sigma[b+1, t])\n",
    "            \n",
    "            if np.array([1.0, exchange_prob]).min() > stats.uniform.rvs():\n",
    "                diffusivity_0[b, t], diffusivity_0[b+1, t] = diffusivity_0[b+1, t], diffusivity_0[b, t]\n",
    "                diffusivity_1[b, t], diffusivity_1[b+1, t] = diffusivity_1[b+1, t], diffusivity_1[b, t]\n",
    "                k_a[b, t], k_a[b+1, t] = k_a[b+1, t], k_a[b, t]; k_d[b, t], k_d[b+1, t] = k_d[b+1, t], k_d[b, t]\n",
    "                sigma[b, t], sigma[b+1, t] = sigma[b+1, t], sigma[b, t]\n",
    "                Energy[b, t], Energy[b+1, t] = Energy[b+1, t], Energy[b, t]\n",
    "                exchange_count[b] += 1\n",
    " \n",
    "        t += 1\n",
    "                \n",
    "    return diffusivity_0, diffusivity_1, k_a, k_d, sigma, Energy, pick, update, exchange_count"
   ]
  },
  {
   "cell_type": "code",
   "execution_count": 71,
   "metadata": {},
   "outputs": [],
   "source": [
    "# d0, d1, ka, kd, s, e, pick, update, exchange_count = exchange_monte_calro(2, beta, [0, 1], d0, d1, ka, kd, sigma, e)\n",
    "# # print(e)\n",
    "# print(pick)\n",
    "# print(update)\n",
    "# print(update.sum(axis=1)/100)\n",
    "# print(exchange_count)"
   ]
  },
  {
   "cell_type": "code",
   "execution_count": 74,
   "metadata": {},
   "outputs": [],
   "source": [
    "def file_write(w_file, beta, model, diffusivity_0, diffusivity_1, k_a, k_d, sigma, E, dlogp, pick, update, exchange):\n",
    "    \n",
    "    with open(w_file, \"w\") as fileobj:\n",
    "                \n",
    "        fileobj.write(str('#model parametes M, temperature \\n'))\n",
    "        for i in range(model.shape[0]):\n",
    "            for j in range(beta.shape[0]):\n",
    "                if i==0 and j==0:\n",
    "                    fileobj.write('#(M, Temp)=({}, {})'.format(model[i], temp[j])); fileobj.write(str('\\t'))\n",
    "                elif i==0:\n",
    "                    fileobj.write('({}, {})'.format(model[i], temp[j])); fileobj.write(str('\\t'))\n",
    "                elif i==1:\n",
    "                    fileobj.write('({}, {})'.format(model[i], temp[beta.shape[0]-1-j])); fileobj.write(str('\\t'))\n",
    "        fileobj.write(str('\\n \\n'))\n",
    "\n",
    "        fileobj.write(str(\"#acceptance rate\\n\"))\n",
    "        for m in range(2*beta.shape[0]):\n",
    "            for i in range(5):\n",
    "                fileobj.write(str(pick[m, i])); fileobj.write(str(\"\\t\"))\n",
    "            fileobj.write(str(\"\\n\"))\n",
    "        fileobj.write(str(\"\\n\"))\n",
    "        fileobj.write(str('#update \\n'))\n",
    "        for m in range(2*beta.shape[0]):\n",
    "            for i in range(5):\n",
    "                fileobj.write(str(update[m, i])); fileobj.write(str(\"\\t\"))\n",
    "            fileobj.write(str(\"\\n\"))\n",
    "        fileobj.write(str(\"\\n\"))\n",
    "\n",
    "        fileobj.write(str(\"#exchange rate\\n\"))\n",
    "        for m in range(2*beta.shape[0]-1):\n",
    "            fileobj.write(str(exchange[m])); fileobj.write(str(\"\\t\"))\n",
    "        fileobj.write(str(\"\\n\")); fileobj.write(str(\"\\n\"))\n",
    "\n",
    "        fileobj.write(str('De^M=0, De^M=1, ka, kd, sigma, energy, log bayes f\\n'))\n",
    "        for b in range(2*beta.shape[0]):\n",
    "            if b < beta.shape[0]:\n",
    "                fileobj.write(str(\"#M={}, beta={}\\n\".format(0, beta[b])))\n",
    "            else:\n",
    "                fileobj.write(str(\"#M={}, beta={}\\n\".format(1, beta[2*beta.shape[0]-1-b])))\n",
    "            for i in range(T):\n",
    "                fileobj.write(str(diffusivity_0[b, i])); fileobj.write(str(\"\\t\"))\n",
    "                fileobj.write(str(diffusivity_1[b, i])); fileobj.write(str(\"\\t\"))\n",
    "                fileobj.write(str(k_a[b, i])); fileobj.write(str(\"\\t\"))\n",
    "                fileobj.write(str(k_d[b, i])); fileobj.write(str(\"\\t\"))\n",
    "                fileobj.write(str(sigma[b, i])); fileobj.write(str(\"\\t\"))\n",
    "                fileobj.write(str(E[b, i])); fileobj.write(str(\"\\t\"))\n",
    "                fileobj.write(str(dlogp[b, i])); fileobj.write(str(\"\\t\"))\n",
    "                fileobj.write(str(\"\\n\"))\n",
    "            fileobj.write(str(\"\\n\"))\n",
    "            \n",
    "    return"
   ]
  },
  {
   "cell_type": "code",
   "execution_count": 73,
   "metadata": {},
   "outputs": [
    {
     "name": "stderr",
     "output_type": "stream",
     "text": [
      "C:\\Users\\anbaigashi\\Anaconda3\\lib\\site-packages\\ipykernel_launcher.py:19: RuntimeWarning: divide by zero encountered in double_scalars\n",
      "C:\\Users\\anbaigashi\\Anaconda3\\lib\\site-packages\\ipykernel_launcher.py:20: RuntimeWarning: divide by zero encountered in log\n",
      "C:\\Users\\anbaigashi\\Anaconda3\\lib\\site-packages\\ipykernel_launcher.py:20: RuntimeWarning: invalid value encountered in double_scalars\n",
      "C:\\Users\\anbaigashi\\Anaconda3\\lib\\site-packages\\ipykernel_launcher.py:57: RuntimeWarning: overflow encountered in exp\n",
      "C:\\Users\\anbaigashi\\Anaconda3\\lib\\site-packages\\ipykernel_launcher.py:57: RuntimeWarning: overflow encountered in multiply\n",
      "C:\\Users\\anbaigashi\\Anaconda3\\lib\\site-packages\\ipykernel_launcher.py:57: RuntimeWarning: invalid value encountered in add\n",
      "C:\\Users\\anbaigashi\\Anaconda3\\lib\\site-packages\\ipykernel_launcher.py:16: RuntimeWarning: overflow encountered in square\n",
      "  app.launch_new_instance()\n"
     ]
    }
   ],
   "source": [
    "dlogp = np.zeros([2*beta.shape[0], T])#######################\n",
    "\n",
    "for i in range(sample):\n",
    "    w_file = 'EM_TAP_test_M11_sigma_{}.dat'.format(i)\n",
    "    \n",
    "    diffusivity_0, diffusivity_1, k_a, k_d, sigma, E, pick, update, exchange\\\n",
    "    = exchange_monte_calro(T, beta, np.array([0, 1]), d0, d1, ka, kd, sigma, e)\n",
    "    \n",
    "    file_write(w_file, beta, np.array([0, 1]), diffusivity_0, diffusivity_1, k_a, k_d, sigma, E, dlogp, pick, update, exchange)"
   ]
  },
  {
   "cell_type": "code",
   "execution_count": null,
   "metadata": {},
   "outputs": [],
   "source": []
  }
 ],
 "metadata": {
  "kernelspec": {
   "display_name": "Python 3",
   "language": "python",
   "name": "python3"
  },
  "language_info": {
   "codemirror_mode": {
    "name": "ipython",
    "version": 3
   },
   "file_extension": ".py",
   "mimetype": "text/x-python",
   "name": "python",
   "nbconvert_exporter": "python",
   "pygments_lexer": "ipython3",
   "version": "3.6.3"
  }
 },
 "nbformat": 4,
 "nbformat_minor": 2
}

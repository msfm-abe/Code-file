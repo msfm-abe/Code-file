{
 "cells": [
  {
   "cell_type": "markdown",
   "metadata": {},
   "source": [
    "# 論文ノート"
   ]
  },
  {
   "cell_type": "markdown",
   "metadata": {},
   "source": [
    "# 1. TAP実験とは"
   ]
  },
  {
   "cell_type": "markdown",
   "metadata": {},
   "source": []
  },
  {
   "cell_type": "markdown",
   "metadata": {},
   "source": [
    "# 2. 従来のTAPデータの解析方法と問題点"
   ]
  },
  {
   "cell_type": "markdown",
   "metadata": {},
   "source": [
    "## 2つのモデル\n",
    "\n",
    "$M=0$ : 拡散のみ\n",
    "\n",
    "* Dimensionless form\n",
    "\n",
    "\\begin{align}\n",
    "    &\\frac{\\partial \\bar{C}_{A}}{\\partial \\tau} = \\frac{\\partial^{2} \\bar{C}_{A}}{\\partial \\xi^{2}} \\\\\n",
    "    \\Longrightarrow\\, &\\bar{F}_{A} = \\sum_{n=0}^{\\infty}\\left(-1\\right)^{n}\\left(2n+1\\right)\\exp \\left(-\\left(n+\\frac{1}{2}\\right)^{2}\\pi^{2}\\tau\\right)\n",
    "\\end{align}\n",
    "\n",
    "$M=1$ : 拡散+吸着+脱離\n",
    "\n",
    "* Dimensionless form\n",
    "\n",
    "\\begin{align}\n",
    "    &\\frac{\\partial \\bar{C}_{A}}{\\partial \\tau} = \\frac{\\partial^{2} \\bar{C}_{A}}{\\partial \\xi^{2}}-\\bar{k}_{a}\\bar{C}_{A}+\\bar{k}_{d}\\bar{\\theta}_{A}, \\\\\n",
    "    &\\frac{\\partial \\bar{\\theta}_{A}}{\\partial \\tau} = \\bar{k}_{a}\\bar{C}_{A}-\\bar{k}_{d}\\bar{\\theta}_{A}\n",
    "\\end{align}\n",
    "\n",
    "\\begin{align}\n",
    "    \\Longrightarrow\\,&\\bar{F}_{A} = \\pi\\sum_{n=0}^{\\infty}\\left(-1\\right)^{n}\\left(2n+1\\right)\\left[A_{n}\\exp \\left(r_{-}\\tau\\right)+\\left(1-A_{n}\\right)\\exp \\left(r_{+}\\tau\\right)\\right]\n",
    "\\end{align}\n",
    "\n",
    "ただし\n",
    "\n",
    "\\begin{align}\n",
    "    &r_{\\pm} = \\frac{-\\left(p_{n}^{2}+\\bar{k}_{a}+\\bar{k}_{d}\\right)\\pm\\sqrt{\\left(p_{n}^{2}+\\bar{k}_{a}+\\bar{k}_{d}\\right)^{2}-4p_{n}^{2}\\bar{k}_{d}}}{2}, \\\\\n",
    "    &p_{n} = \\left(n+\\frac{1}{2}\\right)\\pi, \\\\\n",
    "    &A_{n} = \\frac{r_{+}+p_{n}^{2}+\\bar{k}_{a}}{r_{+}-r_{-}}\n",
    "\\end{align}\n",
    "\n",
    "dimensional form と dimensionless form の関係は\n",
    "\n",
    "\\begin{align}\n",
    "    &\\tau = \\frac{D_{eA}}{\\epsilon_{b}L^{2}}t, \\\\\n",
    "    &\\bar{F}_{A}\\left(\\xi, \\tau \\right) = \\frac{\\epsilon_{b}L^{2}}{D_{eA}}\\frac{F_{A}\\left(x, t\\right)}{N_{pA}}\n",
    "\\end{align}"
   ]
  },
  {
   "cell_type": "markdown",
   "metadata": {},
   "source": [
    "# 3. ベイズ推論"
   ]
  },
  {
   "cell_type": "markdown",
   "metadata": {},
   "source": [
    "### モデル依存のサンプリング\n",
    "\n",
    "\n",
    "エネルギー$E$を以下の式で定義する。\n",
    "\n",
    "\\begin{align}\n",
    "    E &= \\frac{1}{2\\sigma^{2}}\\sum_{\\mu=1}^{D}\\left\\{I\\left(\\mu\\right)-\\left(1-M \\right)I^{M=0}\\left(\\mu\\right)-MI^{M=1}\\left(\\mu\\right) \\right\\}^{2} + \\frac{D}{2}\\ln\\left(2\\pi\\sigma^{2}\\right)\n",
    "\\end{align}\n",
    "\n",
    "$I_{\\mu}$ は TAPデータ，$I^{M=0}\\left(\\mu\\right)$は$M=0$のときの$\\bar{F}_{A}$，$I^{M=1}\\left(\\mu\\right)$は$M=1$での$\\bar{F}_{A}$を表わす。また$\\mu, D, M$はそれぞれ時刻，データ数，モデルパラメータである。"
   ]
  },
  {
   "cell_type": "markdown",
   "metadata": {},
   "source": [
    "エネルギー関数を定義すると，"
   ]
  },
  {
   "cell_type": "markdown",
   "metadata": {},
   "source": [
    "# 4. ベイズ推論によるTAPパラメータ推定"
   ]
  },
  {
   "cell_type": "markdown",
   "metadata": {},
   "source": [
    "　TAPデータ $I^{data}\\left(\\mu\\right)$ が与えられたとき，反応拡散方程式のパラメータ ${\\bf{\\theta}}=\\left\\{D_{e}^\\left(M=0\\right), D_{e}^\\left(M=1\\right), k_{a}, k_{d}\\right\\}$ およびノイズの大きさ $\\sigma$ の事後確率分布 $p\\left({\\bf{\\theta}, \\sigma}\\,|\\,I^{data}\\left(\\mu\\right)\\right)$をベイズ推論により求める。ここでは従来の解析方法との比較およびベイズ推論によるパラメータの推定精度を確認するために，TAPデータには人工データを用いる(図)。"
   ]
  },
  {
   "cell_type": "markdown",
   "metadata": {},
   "source": [
    "　ベイズの定理に基づくパラメータ事後確率分布の推定は，以下のアルゴリズムで実行される。\n",
    " \n",
    "  1. 推定するパラメータ ${\\bf{\\theta}}$ に適当な初期値を設定し，${\\bf{\\theta}}^{\\left(t=0\\right)}$ とする。\n",
    "  2. 現在のパラメータ ${\\bf{\\theta}}^{\\left(t\\right)}$ の中から1つパラメータを選択し，それに $\\epsilon$ を加えることにより次のステップ $t+1$ での候補点 ${\\bf{\\hat{\\theta}}}$ を生成する。ここで，$\\epsilon$ は平均0の一様分布からの乱数とする。\n",
    "  3. 現在のパラメータ ${\\bf{\\theta}}^{\\left(t\\right)}$ とパラメータの候補点 ${\\bf{\\hat{\\theta}}}$ から遷移確率 $r$ を計算し，確率 $r$ で ${\\bf{\\theta}}^{\\left(t+1\\right)}={\\bf{\\hat{\\theta}}}$，確率 $1-r$ で ${\\bf{\\theta}}^{\\left(t+1\\right)}={\\bf{\\theta}}^{\\left(t\\right)}$ とする。\n",
    "  4. ${\\bf{\\theta}}$ が収束するまで2~3を繰り返す。"
   ]
  },
  {
   "cell_type": "markdown",
   "metadata": {},
   "source": [
    "# 5. レプリカ交換モンテカルロ法による事後分布サンプリング"
   ]
  },
  {
   "cell_type": "markdown",
   "metadata": {},
   "source": [
    "　レプリカ交換モンテカルロ法を用いたパラメータ事後確率分布の推定は，以下のアルゴリズムで実行される。ここでは反応拡散方程式のパラメータとガウスノイズの大きさをひとまとめにして${\\bf{\\theta}}=\\left\\{D_{e}^\\left(M=0\\right), D_{e}^\\left(M=1\\right), k_{a}, k_{d}, \\sigma\\right\\}$と表わす。\n",
    " \n",
    "  1. 推定するパラメータ ${\\bf{\\theta}}$ に適当な初期値を設定し，${\\bf{\\theta}}^{\\left(t=0\\right)}$ とする。また，逆温度$\\beta=1/T$について$\\{\\beta_{1}, ..., \\beta_{i}, ..., \\beta_{N}\\}=\\{1/T_{1}, ..., 1/T_{i}, ..., 1/T_{N}\\}$，$T_{1}=1$である。\n",
    "  2. 現在のパラメータ ${\\bf{\\theta}}^{\\left(t\\right)}$の中から1つパラメータを選択し，それに $\\epsilon$ を加えることにより次のステップ $t+1$ での候補点 ${\\bf{\\hat{\\theta}}}$ を生成する。ここで，$\\epsilon$ は平均0の一様分布からの乱数とする（実際の数値計算では，$\\sigma$以外の更新のとき$\\epsilon\\in[-0.1, 0.1]$，$\\sigma$の更新のとき$\\epsilon\\in[-1*10^{-6}, 1*10^{-6}]$としている）。\n",
    "  3. 現在のパラメータ ${\\bf{\\theta}}^{\\left(t\\right)}$ とパラメータの候補点 ${\\bf{\\hat{\\theta}}}$ から遷移確率 $r$ を計算し，確率 $r$ で ${\\bf{\\theta}}^{\\left(t+1\\right)}={\\bf{\\hat{\\theta}}}$，確率 $1-r$ で ${\\bf{\\theta}}^{\\left(t+1\\right)}={\\bf{\\theta}}^{\\left(t\\right)}$ とする。ただし，遷移確率$r$はエネルギー$E$と逆温度$\\beta$を用いて\n",
    "    \\begin{align}\n",
    "        r &= \\frac{\\hat{e}_{\\beta_{i}}}{e^{\\left(t\\right)}_{\\beta_{i}}} \\\\\n",
    "        &= \\frac{\\exp \\left(-\\beta_{i} {\\hat{E}}\\right)}{\\exp\\left(-\\beta_{i} E^{(t)}\\right)}\\\\\n",
    "        &= \\exp\\left(-\\beta_{i}\\left({\\hat{E}}-E^{(t)}\\right)\\right)\n",
    "    \\end{align}\n",
    "    と書ける。この更新を$M=0, 1$それぞれに対するすべての温度について行う。\n",
    "  4. すべてのレプリカについてパラメータの更新を終えたら，隣り合った温度間で，パラメータの状態の交換を行う。すなわち，$T_{i}<T_{N}$のとき，$\\left(M=n, T_{l}\\right)$と$\\left(M=n, T_{l+1}\\right)$ $\\left(n\\in\\{0, 1\\}\\right)$ の間のパラメータの交換を，以下の確率$u$で，$\\{\\theta_{l}, \\theta_{l+1}\\}\\rightarrow \\{\\theta_{l+1}, \\theta_{l}\\}$ とする。\n",
    "  \\begin{align}\n",
    "      u &= \\text{min}(1, r^{\\prime})\\\\\n",
    "      r^{\\prime} &= \\frac{p^{M}_{\\beta_{l}}\\left(\\hat{\\theta}_{l+1}\\right)p^{M}_{\\beta_{l+1}}\\left(\\hat{\\theta}_{l}\\right)}{p^{M}_{\\beta_{l}}\\left(\\hat{\\theta}_{l}\\right)p^{M}_{\\beta_{l+1}}\\left(\\hat{\\theta}_{l+1}\\right)} \\\\\n",
    "    &= \\exp\\left(-\\beta_{l}E_{M}\\left(\\hat{\\theta}_{l+1}\\right)-\\beta_{l+1}E_{M}\\left(\\hat{\\theta}_{l}\\right)+\\beta_{l}E_{M}\\left(\\hat{\\theta}_{l}\\right)+\\beta_{l+1}E_{M}\\left(\\hat{\\theta}_{l+1}\\right)\\right)\n",
    "  \\end{align}\n",
    "  ただし，最も高い温度$T_{N}=1/\\beta_{N}$でのパラメータ状態の交換は，$\\left(M=0, T_{N}\\right)$と$\\left(M=1, T_{N}\\right)$の間で行う。\n",
    "  5. ${\\bf{\\theta}}$ が収束するまで2~4を繰り返す。"
   ]
  },
  {
   "cell_type": "code",
   "execution_count": null,
   "metadata": {},
   "outputs": [],
   "source": []
  }
 ],
 "metadata": {
  "kernelspec": {
   "display_name": "Python 3",
   "language": "python",
   "name": "python3"
  },
  "language_info": {
   "codemirror_mode": {
    "name": "ipython",
    "version": 3
   },
   "file_extension": ".py",
   "mimetype": "text/x-python",
   "name": "python",
   "nbconvert_exporter": "python",
   "pygments_lexer": "ipython3",
   "version": "3.6.3"
  }
 },
 "nbformat": 4,
 "nbformat_minor": 2
}

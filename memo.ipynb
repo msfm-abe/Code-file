{
 "cells": [
  {
   "cell_type": "markdown",
   "metadata": {},
   "source": [
    "# 2つのモデル\n",
    "\n",
    "以下，$D_{e}$: 拡散係数，$k_{a}$: 触媒表面への吸着率，$k_{d}$: 触媒表面からの脱離率，$\\sigma$: データが含むガウスノイズの大きさ，$M$: モデルを指定するパラメータ，とする．\n",
    "\n",
    "$M=0$ : 拡散のみ\n",
    "\n",
    "* Dimensional form\n",
    "\n",
    "\\begin{align}\n",
    "    &\\epsilon_{b}\\frac{\\partial C}{\\partial t} = D_{e}\\frac{\\partial^2 C}{\\partial x^{2}} \\\\\n",
    "    \\Longrightarrow\\, &\\frac{F_{A}}{N_{pA}} = \\frac{D_{eA}\\pi}{\\epsilon_{b}L^{2}}\\sum_{n=0}^{\\infty}\\left(-1\\right)^{n}\\left(2n+1\\right)\\exp \\left(-\\left(n+\\frac{1}{2}\\right)^{2}\\pi^{2}\\frac{tD_{eA}}{\\epsilon_{b}L^{2}}\\right)\n",
    "\\end{align}\n",
    "\n",
    "* Dimansionless form\n",
    "\n",
    "\\begin{align}\n",
    "    &\\frac{\\partial \\bar{C}_{A}}{\\partial \\tau} = \\frac{\\partial^{2} \\bar{C}_{A}}{\\partial \\xi^{2}} \\\\\n",
    "    \\Longrightarrow\\, &\\bar{F}_{A} = \\sum_{n=0}^{\\infty}\\left(-1\\right)^{n}\\left(2n+1\\right)\\exp \\left(-\\left(n+\\frac{1}{2}\\right)^{2}\\pi^{2}\\tau\\right)\n",
    "\\end{align}\n",
    "\n",
    "$M=1$ : 拡散+吸着+脱離\n",
    "\n",
    "* Dimensional form\n",
    "\n",
    "\\begin{align}\n",
    "    \\epsilon\\frac{\\partial C}{\\partial t} &= D_{e}\\frac{\\partial^{2} C}{\\partial x^{2}}-a_{v}S_{v}\\left(1 - \\epsilon_{b}\\right)\\left( k_{a}C-k_{d}\\theta\\right) \\\\\n",
    "    \\frac{\\partial \\theta}{\\partial t} &= k_{a}C-k_{d}\\theta\n",
    "\\end{align}\n",
    "\n",
    "* Dimensionless form\n",
    "\n",
    "\\begin{align}\n",
    "    &\\frac{\\partial \\bar{C}_{A}}{\\partial \\tau} = \\frac{\\partial^{2} \\bar{C}_{A}}{\\partial \\xi^{2}}-\\bar{k}_{a}\\bar{C}_{A}+\\bar{k}_{d}\\bar{\\theta}_{A}, \\\\\n",
    "    &\\frac{\\partial \\bar{\\theta}_{A}}{\\partial \\tau} = \\bar{k}_{a}\\bar{C}_{A}-\\bar{k}_{d}\\bar{\\theta}_{A}\n",
    "\\end{align}\n",
    "\n",
    "\\begin{align}\n",
    "    &\\bar{F}_{A} = \\pi\\sum_{n=0}^{\\infty}\\left(-1\\right)^{n}\\left(2n+1\\right)\\left[A_{n}\\exp \\left(r_{-}\\tau\\right)+\\left(1-A_{n}\\right)\\exp \\left(r_{+}\\tau\\right)\\right], \\\\\n",
    "    &\\bar{\\theta}_{A}\\left(\\xi, \\tau\\right) = 2\\sum_{n=0}^{\\infty}\\cos \\left(\\left(n+\\frac{1}{2}\\right)\\pi\\xi\\right)\\left[\\frac{r_{-}+p_{n}^{2}+\\bar{k}_{a}}{\\bar{k}_{d}}A_{n}\\exp \\left(r_{-}\\tau\\right)+\\frac{r_{+}+p_{n}^{2}+\\bar{k}_{a}}{\\bar{k}_{d}}\\left(1-A_{n}\\right)\\exp\\left(r_{+}\\tau\\right)\\right]\n",
    "\\end{align}\n",
    "\n",
    "ただし\n",
    "\n",
    "\\begin{align}\n",
    "    &r_{\\pm} = \\frac{-\\left(p_{n}^{2}+\\bar{k}_{a}+\\bar{k}_{d}\\right)\\pm\\sqrt{\\left(p_{n}^{2}+\\bar{k}_{a}+\\bar{k}_{d}\\right)^{2}-4p_{n}^{2}\\bar{k}_{d}}}{2}, \\\\\n",
    "    &p_{n} = \\left(n+\\frac{1}{2}\\right)\\pi, \\\\\n",
    "    &A_{n} = \\frac{r_{+}+p_{n}^{2}+\\bar{k}_{a}}{r_{+}-r_{-}}\n",
    "\\end{align}\n",
    "\n",
    "dimensional form と dimensionless form の関係は\n",
    "\n",
    "\\begin{align}\n",
    "    &\\tau = \\frac{D_{eA}}{\\epsilon_{b}L^{2}}t, \\\\\n",
    "    &\\bar{F}_{A}\\left(\\xi, \\tau \\right) = \\frac{\\epsilon_{b}L^{2}}{D_{eA}}\\frac{F_{A}\\left(x, t\\right)}{N_{pA}}\n",
    "\\end{align}"
   ]
  },
  {
   "cell_type": "markdown",
   "metadata": {},
   "source": [
    "測定データが与えられたとき，$M=0$ と $M=1$ のどちらを選択するかをベイズ推論の枠組みで決定する．"
   ]
  },
  {
   "cell_type": "markdown",
   "metadata": {},
   "source": [
    "# ベイズの定理\n",
    "\n",
    "まず，データが与えられたときのパラメータ ${\\bf\\theta}$ の確率分布(事後分布)を求めたい．\n",
    "\n",
    "\\begin{align}\n",
    "    p\\left({\\bf{\\theta}}\\,|\\,F^{data}\\right) &= \\frac{p\\left(F^{data}\\,|\\,{\\bf{\\theta}}\\right)p\\left({\\bf{\\theta}}\\right)}{p\\left(F^{data}\\right)} \\\\\n",
    "    &= \\frac{p\\left(F^{data}\\,|\\,{\\bf{\\theta}}\\right)p\\left({\\bf{\\theta}}\\right)}{\\int d{\\bf{\\theta}}p\\left(F^{data}\\,|\\,{\\bf{\\theta}}\\right)p\\left({\\bf{\\theta}}\\right)}\n",
    "\\end{align}\n",
    "\n",
    "を使う．解析的に事後分布を求めることはできないので，MH法に依るサンプリングを行う．"
   ]
  },
  {
   "cell_type": "markdown",
   "metadata": {},
   "source": [
    "# モデル依存のサンプリング\n",
    "## モデル依存のサンプリング\n",
    "\n",
    "パラメータの事前分布は一様分布を仮定．\n",
    "\n",
    "\\begin{align}\n",
    "    \\alpha &= -\\frac{1-M}{2\\sigma^{2}_{0}},\\, \n",
    "    \\beta = -\\frac{M}{2\\sigma^{2}_{1}} \\\\\n",
    "    P\\left(I_{\\mu}\\right) &= \\prod_{\\mu=1}^{T}\\left(\\sqrt{\\frac{-\\alpha-\\beta}{\\pi}}\\exp\\left(\\left(\\alpha + \\beta\\right)\\left\\{I_{\\mu}-\\frac{\\alpha I_{\\mu}^{M=0}+\\beta I_{\\mu}^{M=1}}{\\alpha + \\beta}\\right\\}^2\\right)\\right)\n",
    "\\end{align}"
   ]
  },
  {
   "cell_type": "markdown",
   "metadata": {},
   "source": [
    "## メトロポリスヘイスティングス(MH)法によるパラメータの事後分布のサンプリング\n",
    "\n",
    "パラメータ ${\\bf{\\theta}}=\\left\\{D_{e}, k_{a}, k_{d}, \\sigma\\right\\}$ の事前分布は一様分布とする．上記の $P\\left(I_{\\mu}\\right)$ よりパラメータの遷移確率 $r$ は\n",
    "\n",
    "\\begin{align}\n",
    "    r = \\frac{P\\left(I_{\\mu}\\,|\\,\\hat{\\bf{\\theta}}\\right)}{P\\left(I_{\\mu}\\,|\\,{\\bf{\\theta}}^{\\left(t\\right)}\\right)} .\n",
    "\\end{align}\n",
    "\n",
    "ただし，$\\hat{\\bf{\\theta}}$ はモンテカルロステップ(MCS) $T = t+1$ でのパラメータの候補点を表し，\n",
    "\n",
    "\\begin{align}\n",
    "    \\hat{\\bf{\\theta}} = {\\bf{\\theta}}^{\\left(t\\right)} + \\epsilon,  \\\\\n",
    "    \\epsilon \\in \\left[-\\delta, \\delta\\right] \n",
    "\\end{align}\n",
    "\n",
    "である．\n",
    "MCS $T=t+1$ でのパラメータ ${\\bf{\\theta}}^{\\left(t+1\\right)}$ は\n",
    "\n",
    "\\begin{align}\n",
    "    {\\text{確率 $r$ で候補点を受容:}}\\,\\,{\\bf{\\theta}}^{\\left(t+1\\right)} &= \\hat{\\bf{\\theta}}, \\\\\n",
    "    {\\text{確率 $1-r$ で候補点を棄却:}}\\,\\,{\\bf{\\theta}}^{\\left(t+1\\right)} &= {\\bf{\\theta}}^{\\left(t\\right)} .\n",
    "\\end{align}"
   ]
  },
  {
   "cell_type": "markdown",
   "metadata": {},
   "source": [
    "# 対数ベイズ因子の計算によるモデル選択\n",
    "\n",
    "\\begin{align}\n",
    "    \\ln\\frac{P\\left(M=1\\,|\\,{\\bf{F}}^{data}\\right)}{P\\left(M=0\\,|\\,{\\bf{F}}^{data}\\right)} = \\\n",
    "    \\int_{0}^{1}dM\\left\\langle\\frac{d\\ln P\\left({\\bf{F}}^{data}\\,|\\,\\theta, M\\right)}{dM} \\right\\rangle_{M}\n",
    "\\end{align}\n",
    "\n",
    "ただし\n",
    "\n",
    "\\begin{align}\n",
    "    \\left\\langle \\frac{\\partial}{\\partial M}\\ln P\\left({\\bf{F}}^{data}\\,|\\,\\theta, M \\right) \\right\\rangle_{M} = \\\n",
    "    \\frac{T}{2}\\frac{\\frac{1}{\\sigma_{0}^{2}}-\\frac{1}{\\sigma_{1}^{2}}}{2\\left(\\alpha+\\beta\\right)} + \\\n",
    "    \\frac{1}{2}\\left(\\frac{1}{\\sigma_{0}^{2}}-\\frac{1}{\\sigma_{1}^{2}} \\right)\\sum_{\\mu}^{T}\\left\\{I_{\\mu}-\\frac{\\alpha I_{\\mu}^{M=0}+\\beta I_{\\mu}^{M=1}}{\\alpha+\\beta} \\right\\}^{2} \\\\ + \n",
    "    \\frac{1}{2\\sigma_{0}^{2}\\sigma_{1}^{2}\\left(\\alpha + \\beta\\right)}\\sum_{\\mu=0}^{T}\\left(I_{\\mu}^{M=0}-I_{\\mu}^{M=1} \\right)\\left\\{I_{\\mu}-\\frac{\\alpha I_{\\mu}^{M=0}+\\beta I_{\\mu}^{M=1}}{\\alpha+\\beta} \\right\\} .\n",
    "\\end{align}"
   ]
  },
  {
   "cell_type": "markdown",
   "metadata": {},
   "source": [
    "### モデル選択のアルゴリズムは以下の通り．\n",
    "1. ある$\\left\\{M\\in{\\bf{R}}\\,|\\,0\\leqq M \\leqq 1\\right\\}$について$P\\left(I_{\\mu}\\right)$からパラメータ${\\hat{\\bf{\\theta}}}$をサンプリング\n",
    "2. $\\left\\langle\\partial\\log P/\\partial M \\right\\rangle_{M}$を計算\n",
    "3. 積分値を計算"
   ]
  },
  {
   "cell_type": "markdown",
   "metadata": {},
   "source": []
  },
  {
   "cell_type": "markdown",
   "metadata": {},
   "source": [
    "\\begin{align}\n",
    "    \\left\\langle \\frac{\\partial}{\\partial M}\\ln P\\left({\\bf{F}}^{data}\\,|\\,\\theta, M \\right) \\right\\rangle_{M} =& \\\n",
    "    \\frac{T}{2}\\frac{\\frac{1}{\\sigma_{0}^{2}}-\\frac{1}{\\sigma_{1}^{2}}}{2\\left(\\alpha+\\beta\\right)} + \\\n",
    "    \\frac{1}{2}\\left(\\frac{1}{\\sigma_{0}^{2}}-\\frac{1}{\\sigma_{1}^{2}} \\right)\\sum_{\\mu}^{T}\\left\\{I_{\\mu}-\\frac{\\alpha I_{\\mu}^{M=0}+\\beta I_{\\mu}^{M=1}}{\\alpha+\\beta} \\right\\}^{2} \\\\ &+ \n",
    "    \\frac{1}{2\\sigma_{0}^{2}\\sigma_{1}^{2}\\left(\\alpha + \\beta\\right)}\\sum_{\\mu=0}^{T}\\left(I_{\\mu}^{M=0}-I_{\\mu}^{M=1} \\right)\\left\\{I_{\\mu}-\\frac{\\alpha I_{\\mu}^{M=0}+\\beta I_{\\mu}^{M=1}}{\\alpha+\\beta} \\right\\} \\\\\n",
    "    =& \\frac{T}{2}\\frac{\\sigma^{2}_{1}-\\sigma^{2}_{0}}{2\\sigma_{0}^{2}\\sigma_{1}^{2}\\left(\\alpha+\\beta\\right)} +\\\n",
    "    \\frac{1}{2}\\left(\\frac{1}{\\sigma_{0}^{2}}-\\frac{1}{\\sigma_{1}^{2}} \\right)\\sum_{\\mu}^{T}\\left\\{I_{\\mu}-\\frac{\\alpha I_{\\mu}^{M=0}+\\beta I_{\\mu}^{M=1}}{\\alpha+\\beta} \\right\\}^{2} \\\\ &+ \n",
    "    \\frac{1}{2\\sigma_{0}^{2}\\sigma_{1}^{2}\\left(\\alpha + \\beta\\right)}\\sum_{\\mu=0}^{T}\\left(I_{\\mu}^{M=0}-I_{\\mu}^{M=1} \\right)\\left\\{I_{\\mu}-\\frac{\\alpha I_{\\mu}^{M=0}+\\beta I_{\\mu}^{M=1}}{\\alpha+\\beta} \\right\\}\n",
    "\\end{align}"
   ]
  },
  {
   "cell_type": "code",
   "execution_count": null,
   "metadata": {},
   "outputs": [],
   "source": []
  }
 ],
 "metadata": {
  "kernelspec": {
   "display_name": "Python 3",
   "language": "python",
   "name": "python3"
  },
  "language_info": {
   "codemirror_mode": {
    "name": "ipython",
    "version": 3
   },
   "file_extension": ".py",
   "mimetype": "text/x-python",
   "name": "python",
   "nbconvert_exporter": "python",
   "pygments_lexer": "ipython3",
   "version": "3.6.3"
  }
 },
 "nbformat": 4,
 "nbformat_minor": 2
}

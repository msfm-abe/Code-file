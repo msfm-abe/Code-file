{
 "cells": [
  {
   "cell_type": "code",
   "execution_count": 1,
   "metadata": {},
   "outputs": [],
   "source": [
    "import numpy as np\n",
    "import scipy.stats as stats\n",
    "import matplotlib.pyplot as plt\n",
    "import matplotlib.ticker as ptick\n",
    "from IPython.core.pylabtools import figsize\n",
    "import math\n",
    "\n",
    "plt.style.use('ggplot')"
   ]
  },
  {
   "cell_type": "code",
   "execution_count": 2,
   "metadata": {},
   "outputs": [
    {
     "name": "stdout",
     "output_type": "stream",
     "text": [
      "10 \t 10\n"
     ]
    },
    {
     "data": {
      "image/png": "[encoded data removed]",
      "text/plain": [
       "<matplotlib.figure.Figure at 0x1e045bac780>"
      ]
     },
     "metadata": {},
     "output_type": "display_data"
    }
   ],
   "source": [
    "data_file = 'TAP_artificial_data_De=1.5_ka=20_kd=5_sigma=5e-6_1-10^4ms.dat'\n",
    "data_points = 10\n",
    "epsilon = 1.0\n",
    "length = 35.0\n",
    "\n",
    "def p_n(n):\n",
    "    return (n+0.5)*np.pi\n",
    "\n",
    "def r_plus(p_n, k_a, k_d):\n",
    "    return ( -(p_n**2 + k_a + k_d)+np.sqrt((p_n**2 + k_a + k_d)**2 - 4*(p_n**2)*k_d) )/2.0\n",
    "\n",
    "def r_minus(p_n, k_a, k_d):\n",
    "    return ( -(p_n**2 + k_a + k_d)-np.sqrt((p_n**2 + k_a + k_d)**2 - 4*(p_n**2)*k_d) )/2.0\n",
    "\n",
    "def A_n(p_n, r_plus, r_minus, k_a):\n",
    "    return (r_plus + (p_n**2) + k_a)/(r_plus - r_minus)\n",
    "\n",
    "def Flow(diffusivity, k_a, k_d, epsilon, length, time):\n",
    "    dimensionless_time = time * diffusivity/(epsilon*length**2)\n",
    "    r_flow = np.zeros(len(time))\n",
    "    for n in range(100):\n",
    "        pn = p_n(n); r_p = r_plus(p_n=pn, k_a=k_a, k_d=k_d); r_m = r_minus(p_n=pn, k_a=k_a, k_d=k_d)\n",
    "        A = A_n(p_n=pn, r_plus=r_p, r_minus=r_m, k_a=k_a)\n",
    "        r_flow += np.power(-1.0,n)*(2.0*n+1.0)*( A*np.exp(r_m*dimensionless_time)+(1.0-A)*np.exp(r_p*dimensionless_time) )\n",
    "    r_flow *= np.pi\n",
    "    r_flow *= diffusivity/(epsilon*np.power(length, 2))\n",
    "\n",
    "    return r_flow\n",
    "\n",
    "dimensional_time = np.zeros(data_points)\n",
    "dimensional_exit_flow = np.zeros(data_points)\n",
    "i = 0\n",
    "j = 0\n",
    "for line in open(data_file, \"r\"):\n",
    "    if i%(10000/data_points)==0:\n",
    "        data = line.split(\"\\t\")\n",
    "        dimensional_time[j] = data[0]\n",
    "        dimensional_exit_flow[j] = data[1]\n",
    "        j += 1\n",
    "    else:\n",
    "        pass\n",
    "    i += 1\n",
    "\n",
    "print(len(dimensional_time), \"\\t\", len(dimensional_exit_flow))\n",
    "\n",
    "fig = plt.figure()\n",
    "ax = fig.add_subplot(111)\n",
    "ax.plot(dimensional_time, dimensional_exit_flow)\n",
    "\n",
    "ax.set_xlabel('Dimensional Time[ms]')\n",
    "ax.set_ylabel('Dimensional Exit Flow[1/ms]')\n",
    "\n",
    "plt.show()"
   ]
  },
  {
   "cell_type": "markdown",
   "metadata": {},
   "source": [
    "## ファイルからの読み込み\n",
    "```python;title\n",
    "file_output()\n",
    "```\n",
    "* 入力 : file_name, T[mcs], $M$(モデルパラメータ)\n",
    "* 出力 : $D_e^{(M=0)}, D_e^{(M=1)}, k_a, k_d, \\sigma, E, dlogp$, pick, update, exchange rate ($\\theta$.shape=(M, T))"
   ]
  },
  {
   "cell_type": "code",
   "execution_count": 3,
   "metadata": {},
   "outputs": [],
   "source": [
    "def file_output_one(file, T, model):\n",
    "    \n",
    "    diffusivity_0 = np.zeros([model.shape[0], T])\n",
    "    diffusivity_1 = np.zeros([model.shape[0], T])\n",
    "    k_a = np.zeros([model.shape[0], T])\n",
    "    k_d = np.zeros([model.shape[0], T])\n",
    "    sigma_0 = np.zeros([model.shape[0], T])\n",
    "    E = np.zeros([model.shape[0], T])\n",
    "\n",
    "    dlogp = np.zeros([model.shape[0], T])\n",
    "    \n",
    "    pick = np.zeros([model.shape[0], 5])\n",
    "    update = np.zeros([model.shape[0], 5])\n",
    "    exchange_rate = np.zeros(model.shape[0]-1)\n",
    "    \n",
    "    l = 0; m = 0; t = 0; m_ = 0\n",
    "    for line in open(file, \"r\"):\n",
    "        data = line.split(\"\\t\")\n",
    "        try :\n",
    "            tmp = float(data[0])\n",
    "            if 3<=l<=model.shape[0]+2:\n",
    "                for i in range(5):\n",
    "                    pick[m_, i] = float(data[i])\n",
    "                m_ += 1\n",
    "            elif (model.shape[0]+5)<=l<=(2*model.shape[0]+4):\n",
    "                for i in range(5):\n",
    "                    update[m_, i] = float(data[i])\n",
    "                m_ += 1\n",
    "            elif l==(2*model.shape[0]+7):\n",
    "                for i in range(model.shape[0]-1):\n",
    "                    exchange_rate[i] = float(data[i])\n",
    "            else:\n",
    "                diffusivity_0[m, t] = data[0]\n",
    "                diffusivity_1[m, t] = data[1]\n",
    "                k_a[m, t] = data[2]\n",
    "                k_d[m, t] = data[3]\n",
    "                sigma_0[m, t] = data[4]\n",
    "                E[m, t] = data[5]\n",
    "                dlogp[m, t] = data[6]\n",
    "                t += 1\n",
    "        except :\n",
    "            pass\n",
    "        else :\n",
    "            if t==T:\n",
    "                m += 1\n",
    "                t = 0\n",
    "            if m_==model.shape[0]:\n",
    "                m_ = 0\n",
    "        finally :\n",
    "            l += 1\n",
    "            \n",
    "    return diffusivity_0, diffusivity_1, k_a, k_d, sigma_0, E, dlogp, pick, update, exchange_rate"
   ]
  },
  {
   "cell_type": "code",
   "execution_count": 4,
   "metadata": {},
   "outputs": [],
   "source": [
    "def file_output_two(file, T, model):\n",
    "    \n",
    "    diffusivity_0 = np.zeros([model.shape[0], T])\n",
    "    diffusivity_1 = np.zeros([model.shape[0], T])\n",
    "    k_a = np.zeros([model.shape[0], T])\n",
    "    k_d = np.zeros([model.shape[0], T])\n",
    "    sigma_0 = np.zeros([model.shape[0], T])\n",
    "    E = np.zeros([model.shape[0], T])\n",
    "\n",
    "    dlogp = np.zeros([model.shape[0], T])\n",
    "    \n",
    "    pick = np.zeros([model.shape[0], 5])\n",
    "    update = np.zeros([model.shape[0], 5])\n",
    "    exchange_rate = np.zeros(model.shape[0]-1)\n",
    "    \n",
    "    l = 0; m = 0; t = 0; m_ = 0\n",
    "    for line in open(file, \"r\"):\n",
    "        data = line.split(\"\\t\")\n",
    "        try :\n",
    "            tmp = float(data[0])\n",
    "            if 4<=l<=model.shape[0]+3:\n",
    "                for i in range(5):\n",
    "                    pick[m_, i] = float(data[i])\n",
    "                m_ += 1\n",
    "            elif (model.shape[0]+6)<=l<=(2*model.shape[0]+5):\n",
    "                for i in range(5):\n",
    "                    update[m_, i] = float(data[i])\n",
    "                m_ += 1\n",
    "            elif l==(2*model.shape[0]+8):\n",
    "                for i in range(model.shape[0]-1):\n",
    "                    exchange_rate[i] = float(data[i])\n",
    "            else:\n",
    "                diffusivity_0[m, t] = data[0]\n",
    "                diffusivity_1[m, t] = data[1]\n",
    "                k_a[m, t] = data[2]\n",
    "                k_d[m, t] = data[3]\n",
    "                sigma_0[m, t] = data[4]\n",
    "                E[m, t] = data[5]\n",
    "                dlogp[m, t] = data[6]\n",
    "                t += 1\n",
    "        except :\n",
    "            pass\n",
    "        else :\n",
    "            if t==T:\n",
    "                m += 1\n",
    "                t = 0\n",
    "            if m_==model.shape[0]:\n",
    "                m_ = 0\n",
    "        finally :\n",
    "            l += 1\n",
    "            \n",
    "    return diffusivity_0, diffusivity_1, k_a, k_d, sigma_0, E, dlogp, pick, update, exchange_rate"
   ]
  },
  {
   "cell_type": "code",
   "execution_count": 5,
   "metadata": {},
   "outputs": [
    {
     "name": "stdout",
     "output_type": "stream",
     "text": [
      "[ 1.          0.5         0.33333333  0.25        0.2       ]\n",
      "[ 0.   0.1  0.2  0.3  0.4  0.5  0.6  0.7  0.8  0.9  1. ]\n",
      "[ 0.6   0.61  0.62  0.63  0.64  0.65  0.66  0.67  0.68  0.69  0.7 ]\n"
     ]
    }
   ],
   "source": [
    "read_file_pass = '\\\\Users\\\\anbaigashi\\\\Desktop\\\\ABC\\\\2019\\\\February\\\\'\n",
    "\n",
    "time = 51200\n",
    "Temp = np.array([1, 2, 3, 4, 5], dtype=float)\n",
    "beta = 1/Temp\n",
    "print(beta)\n",
    "model = 0.1*np.arange(0, 11, dtype=float)\n",
    "model_aida = 0.01*np.arange(60, 71, dtype=float)\n",
    "print(model)\n",
    "print(model_aida)"
   ]
  },
  {
   "cell_type": "code",
   "execution_count": 6,
   "metadata": {},
   "outputs": [],
   "source": [
    "de0_one = ['zero', 'one', 'two', 'three', 'four']\n",
    "de1_one = ['zero', 'one', 'two', 'three', 'four']\n",
    "ka_one = ['zero', 'one', 'two', 'three', 'four']\n",
    "kd_one = ['zero', 'one', 'two', 'three', 'four']\n",
    "sigma_one = ['zero', 'one', 'two', 'three', 'four']\n",
    "energy_one = ['zero', 'one', 'two', 'three', 'four']\n",
    "dlogp_one = ['zero', 'one', 'two', 'three', 'four']\n",
    "pick_one = ['zero', 'one', 'two', 'three', 'four']\n",
    "update_one = ['zero', 'one', 'two', 'three', 'four']\n",
    "exchange_one = ['zero', 'one', 'two', 'three', 'four']"
   ]
  },
  {
   "cell_type": "code",
   "execution_count": 7,
   "metadata": {},
   "outputs": [],
   "source": [
    "de0_aida = ['zero', 'one', 'two', 'three', 'four']\n",
    "de1_aida = ['zero', 'one', 'two', 'three', 'four']\n",
    "ka_aida = ['zero', 'one', 'two', 'three', 'four']\n",
    "kd_aida = ['zero', 'one', 'two', 'three', 'four']\n",
    "sigma_aida = ['zero', 'one', 'two', 'three', 'four']\n",
    "energy_aida = ['zero', 'one', 'two', 'three', 'four']\n",
    "dlogp_aida = ['zero', 'one', 'two', 'three', 'four']\n",
    "pick_aida = ['zero', 'one', 'two', 'three', 'four']\n",
    "update_aida = ['zero', 'one', 'two', 'three', 'four']\n",
    "exchange_aida = ['zero', 'one', 'two', 'three', 'four']"
   ]
  },
  {
   "cell_type": "code",
   "execution_count": 8,
   "metadata": {},
   "outputs": [],
   "source": [
    "for i in range(5):\n",
    "    r_file = read_file_pass + 'EM_TAP-sigma_datapoints=10_T=51200mcs_model=0.0-1.0_replica=11_koushinhaba-m01p01m1e-6p1e-6_TAP_artificial_data_De=1.5_ka=20_kd=5_sigma=5e-6_1-10^4ms.dat_{}.dat'.format(i)\n",
    "    de0_one[i], de1_one[i], ka_one[i], kd_one[i], sigma_one[i], energy_one[i], dlogp_one[i], pick_one[i], \\\n",
    "    update_one[i], exchange_one[i] = file_output_one(r_file, time, model)"
   ]
  },
  {
   "cell_type": "code",
   "execution_count": 9,
   "metadata": {},
   "outputs": [
    {
     "name": "stdout",
     "output_type": "stream",
     "text": [
      "[array([  4646.,   4094.,   5219.,  12992.,  13208.,  14338.,  18695.,\n",
      "        11635.,   3455.,   1441.]), array([  5839.,   6442.,   8819.,  10804.,  28787.,  26846.,  19018.,\n",
      "        18447.,   4222.,   1532.]), array([  3927.,   6309.,   4548.,  11165.,  13635.,  13658.,  13994.,\n",
      "        11230.,   4449.,   1664.]), array([  8057.,   7125.,  10463.,  11574.,  15216.,  15734.,  13683.,\n",
      "        11586.,   6774.,   3322.]), array([  4148.,   4733.,  11271.,  14815.,  14350.,  16651.,  14131.,\n",
      "         7505.,   2875.,   1597.])]\n"
     ]
    }
   ],
   "source": [
    "print(exchange_one)"
   ]
  },
  {
   "cell_type": "code",
   "execution_count": 10,
   "metadata": {},
   "outputs": [
    {
     "name": "stdout",
     "output_type": "stream",
     "text": [
      "(11, 51200)\n"
     ]
    }
   ],
   "source": [
    "print(energy_one[1].shape)"
   ]
  },
  {
   "cell_type": "code",
   "execution_count": 11,
   "metadata": {},
   "outputs": [
    {
     "name": "stdout",
     "output_type": "stream",
     "text": [
      "[[ 23080.57851245  13969.09287846  13969.09287846 ...,    -97.09372525\n",
      "     -97.09372525    -97.09372525]\n",
      " [ 22659.12720247  21834.29594797  22654.66760338 ...,   -106.68273213\n",
      "    -106.68273136   -106.68273136]\n",
      " [ 22243.69968097  22652.43282678  22195.65325119 ...,    -98.79092016\n",
      "     -98.79092016    -98.65106015]\n",
      " ..., \n",
      " [ 19877.63411034  20642.22747992  20997.58165688 ...,    -85.78916636\n",
      "     -85.6684824     -85.77878207]\n",
      " [ 19504.37310829  12932.86596178  19876.15961792 ...,    -95.09299934\n",
      "     -94.99825688    -94.81573361]\n",
      " [ 19137.13589473  19347.38242984  19347.38242984 ...,   -106.4467244\n",
      "    -106.4467244    -106.36835347]]\n"
     ]
    }
   ],
   "source": [
    "print(energy_one[0])"
   ]
  },
  {
   "cell_type": "code",
   "execution_count": 36,
   "metadata": {},
   "outputs": [
    {
     "name": "stderr",
     "output_type": "stream",
     "text": [
      "C:\\Users\\anbaigashi\\Anaconda3\\lib\\site-packages\\matplotlib\\axes\\_base.py:2918: UserWarning: Attempting to set identical left==right results\n",
      "in singular transformations; automatically expanding.\n",
      "left=100.0, right=100.0\n",
      "  'left=%s, right=%s') % (left, right))\n"
     ]
    },
    {
     "data": {
      "image/png": "[encoded data removed]",
      "text/plain": [
       "<matplotlib.figure.Figure at 0x26e3d274278>"
      ]
     },
     "metadata": {},
     "output_type": "display_data"
    }
   ],
   "source": [
    "fig = plt.figure(figsize=(8, 6))\n",
    "ax = fig.add_subplot(111)\n",
    "ax.set_xscale('log')\n",
    "\n",
    "ondo = 2\n",
    "\n",
    "t_0 = 100\n",
    "start = t_0\n",
    "end = 2*start\n",
    "while start<time:\n",
    "    bar_A_i = np.zeros(5, dtype=float)\n",
    "    for i in range(5):\n",
    "        bar_A_i[i] = energy_one[i][ondo][start:end].mean()\n",
    "    bar_A = bar_A_i.mean()\n",
    "#    ax.scatter(start, bar_A, color='red')\n",
    "#    print(bar_A)\n",
    "    \n",
    "    sig = 0.\n",
    "    for i in range(5):\n",
    "        sig += (bar_A_i[i]-bar_A)**2\n",
    "    sig /= (bar_A_i.shape[0]-1)\n",
    "    sig = np.sqrt(sig)\n",
    "    sig /= np.sqrt(bar_A_i.shape[0])\n",
    "    \n",
    "#    print(sig)\n",
    "    \n",
    "    ax.errorbar(start, bar_A, yerr=sig, fmt='o', color='red')\n",
    "    \n",
    "    start = end\n",
    "    end *= 2\n",
    "\n",
    "    \n",
    "ax.set_ylim(-106, -94)\n",
    "plt.show()"
   ]
  },
  {
   "cell_type": "code",
   "execution_count": 12,
   "metadata": {},
   "outputs": [
    {
     "name": "stdout",
     "output_type": "stream",
     "text": [
      "9.50048154614\n",
      "9.50048154614\n",
      "9.80368448881\n",
      "9.80371159782\n",
      "9.8036138775\n",
      "9.50760927335\n",
      "9.50772892191\n",
      "9.50765942891\n",
      "9.50782314678\n",
      "9.50751152219\n",
      "9.50768502556\n",
      "9.50768502556\n",
      "9.50767417876\n",
      "9.5078619762\n",
      "9.50840725396\n",
      "9.18956071645\n"
     ]
    }
   ],
   "source": [
    "for i in range(15945, 15961):\n",
    "    print(dlogp_one[3][0][i])\n",
    "#     if dlogp_one[3][0][i] > 100:\n",
    "#         print(i)"
   ]
  },
  {
   "cell_type": "code",
   "execution_count": 84,
   "metadata": {},
   "outputs": [
    {
     "data": {
      "image/png": "[encoded data removed]",
      "text/plain": [
       "<matplotlib.figure.Figure at 0x26e3e61fa58>"
      ]
     },
     "metadata": {},
     "output_type": "display_data"
    }
   ],
   "source": [
    "fig = plt.figure(figsize=(8, 6))\n",
    "ax = fig.add_subplot(111)\n",
    "\n",
    "start = 25600\n",
    "end = 2*start\n",
    "\n",
    "dlogp_m = np.zeros(11, dtype=float)\n",
    "dlogp_s = np.zeros(11, dtype=float)\n",
    "\n",
    "for i in range(11):\n",
    "    bar_A_i = np.zeros(5, dtype=float)\n",
    "    for j in range(5):\n",
    "        bar_A_i[j] = dlogp_one[j][i][start:end].mean()\n",
    "    dlogp_m[i] = bar_A_i.mean()\n",
    "    \n",
    "    sig = 0.\n",
    "    for j in range(5):\n",
    "        sig += (bar_A_i[j]-dlogp_m[i])**2\n",
    "    sig /= (bar_A_i.shape[0]-1)\n",
    "    sig = np.sqrt(sig)\n",
    "    sig /= np.sqrt(bar_A_i.shape[0])\n",
    "    dlogp_s[i] = sig\n",
    "\n",
    "# sig = 0.\n",
    "# for i in range(5):\n",
    "#     sig += (bar_A_i[i]-bar_A)**2\n",
    "# sig /= (bar_A_i.shape[0]-1)\n",
    "# sig = np.sqrt(sig)\n",
    "# sig /= np.sqrt(bar_A_i.shape[0])\n",
    "\n",
    "# #    print(sig)\n",
    "\n",
    "ax.errorbar(0.1*np.arange(11, dtype=float), dlogp_m, yerr=dlogp_s, fmt='o', color='red')\n",
    "ax.set_xlabel('$M$')\n",
    "ax.set_ylabel('$<-dE/dM>$')\n",
    "\n",
    "#plt.savefig('teireikai_20190227_BayesFactorPath1.png')\n",
    "\n",
    "plt.show()"
   ]
  },
  {
   "cell_type": "code",
   "execution_count": 33,
   "metadata": {},
   "outputs": [
    {
     "name": "stdout",
     "output_type": "stream",
     "text": [
      "22.6891476521\n",
      "13.1521944346\n"
     ]
    }
   ],
   "source": [
    "from scipy import integrate\n",
    "\n",
    "bayes_factor_upper_one = integrate.simps(dlogp_m+dlogp_s, 0.1*np.arange(11, dtype=float))\n",
    "bayes_factor_lower_one = integrate.simps(dlogp_m-dlogp_s, 0.1*np.arange(11, dtype=float))\n",
    "\n",
    "print(bayes_factor_upper_one)\n",
    "print(bayes_factor_lower_one)"
   ]
  },
  {
   "cell_type": "code",
   "execution_count": 49,
   "metadata": {},
   "outputs": [
    {
     "data": {
      "image/png": "[encoded data removed]",
      "text/plain": [
       "<matplotlib.figure.Figure at 0x26e3cd860b8>"
      ]
     },
     "metadata": {},
     "output_type": "display_data"
    }
   ],
   "source": [
    "fig = plt.figure(figsize=(8, 6))\n",
    "ax = fig.add_subplot(111)\n",
    "start = 25600\n",
    "end *= start\n",
    "\n",
    "dE = np.zeros([5, 11])\n",
    "\n",
    "for i in range(11):\n",
    "    dE[0, i] = dlogp_one[0][i, start:end].mean()\n",
    "    \n",
    "#print(dE)\n",
    "ax.scatter(model, dE[0], color='red')\n",
    "    \n",
    "plt.show()"
   ]
  },
  {
   "cell_type": "code",
   "execution_count": 85,
   "metadata": {},
   "outputs": [
    {
     "data": {
      "image/png": "[encoded data removed]",
      "text/plain": [
       "<matplotlib.figure.Figure at 0x26e3e791a20>"
      ]
     },
     "metadata": {},
     "output_type": "display_data"
    }
   ],
   "source": [
    "fig = plt.figure(figsize=(8, 6))\n",
    "ax = fig.add_subplot(111)\n",
    "cycle = plt.rcParams['axes.prop_cycle'].by_key()['color']\n",
    "dE = np.zeros([5, 11])\n",
    "\n",
    "for i in range(5):\n",
    "    for j in range(11):\n",
    "        dE[i, j] = dlogp_one[i][j, start:end].mean()\n",
    "    \n",
    "    ax.scatter(model, dE[i], color=cycle[i], label='Sample:{}'.format(i+1))\n",
    "\n",
    "ax.set_xlabel('$M$')\n",
    "ax.set_ylabel('$<-dE/dM>$')\n",
    "plt.legend()\n",
    "\n",
    "#plt.savefig('teireikai_20190227_BayesFactorPath1_fig2.png')\n",
    "plt.show()"
   ]
  },
  {
   "cell_type": "code",
   "execution_count": 51,
   "metadata": {},
   "outputs": [],
   "source": [
    "x = np.random.randint(0, 5, 11)"
   ]
  },
  {
   "cell_type": "code",
   "execution_count": 52,
   "metadata": {},
   "outputs": [
    {
     "data": {
      "image/png": "[encoded data removed]",
      "text/plain": [
       "<matplotlib.figure.Figure at 0x26e3cd69dd8>"
      ]
     },
     "metadata": {},
     "output_type": "display_data"
    }
   ],
   "source": [
    "fig = plt.figure(figsize=(8, 6))\n",
    "ax = fig.add_subplot(111)\n",
    "cycle = plt.rcParams['axes.prop_cycle'].by_key()['color']\n",
    "\n",
    "for i in range(11):\n",
    "    ax.scatter(model[i], dE[x[i], i], color=cycle[x[i]], label='Sample:{}'.format(x[i]))\n",
    "\n",
    "ax.set_xlabel('$M$')\n",
    "ax.set_ylabel('$<-dE/dM>$')\n",
    "#plt.legend()\n",
    "\n",
    "#plt.savefig('teireikai_20190220_BayesFactorPath1_fig3.png')\n",
    "plt.show()"
   ]
  },
  {
   "cell_type": "code",
   "execution_count": 53,
   "metadata": {},
   "outputs": [
    {
     "name": "stdout",
     "output_type": "stream",
     "text": [
      "[ 55.41077475   7.07526454 -20.19926318   0.87105461   5.8316971\n",
      "   6.20165688   4.23750981  18.43086638  52.88683152  59.37212901\n",
      "  38.5212648 ]\n",
      "18.2416491897\n"
     ]
    }
   ],
   "source": [
    "y = np.zeros(11)\n",
    "for i in range(11):\n",
    "    y[i] = dE[x[i], i]\n",
    "print(y)\n",
    "moment = integrate.simps(y, model)\n",
    "print(moment)"
   ]
  },
  {
   "cell_type": "code",
   "execution_count": 54,
   "metadata": {},
   "outputs": [],
   "source": [
    "N = 10\n",
    "y = np.zeros([N, 11])\n",
    "S = np.zeros(N)\n",
    "for i in range(N):\n",
    "    x = np.random.randint(0, 5, 11)\n",
    "    for j in range(11):\n",
    "        y[i, j] = dE[x[j], j]\n",
    "    S[i] = integrate.simps(y[i], model)\n",
    "        \n",
    "#print(y);print(S)"
   ]
  },
  {
   "cell_type": "code",
   "execution_count": 55,
   "metadata": {},
   "outputs": [
    {
     "name": "stdout",
     "output_type": "stream",
     "text": [
      "[ 16.26167005  16.22175415  13.3997473   22.47039151  17.31985171\n",
      "  14.62159441  12.32022433  15.54480287  17.36483311  22.49680058]\n",
      "10\n",
      "16.8021670001 1.07378540529\n",
      "15.7283815948 17.8759524054\n"
     ]
    }
   ],
   "source": [
    "print(S)\n",
    "print(S.shape[0])\n",
    "bar_S = S.mean()\n",
    "sig_S = 0.\n",
    "for i in range(N):\n",
    "    sig_S += (S[i]-bar_S)**2\n",
    "sig_S /= (S.shape[0]-1)\n",
    "sig_S = np.sqrt(sig_S)\n",
    "sig_S /= np.sqrt(S.shape[0])\n",
    "print(bar_S, sig_S)\n",
    "print(bar_S-sig_S, bar_S+sig_S)"
   ]
  },
  {
   "cell_type": "code",
   "execution_count": 59,
   "metadata": {},
   "outputs": [],
   "source": [
    "for i in range(5):\n",
    "    r_file = read_file_pass + 'EM_TAP-sigma_datapoints=10_T=51200mcs_model=0.61-0.6900000000000001_replica=9_koushinhaba-m01p01m1e-6p1e-6_TAP_artificial_data_De=1.5_ka=20_kd=5_sigma=5e-6_1-10^4ms.dat_{}.dat'.format(i)\n",
    "    de0_aida[i], de1_aida[i], ka_aida[i], kd_aida[i], sigma_aida[i], energy_aida[i], dlogp_aida[i], pick_aida[i], \\\n",
    "    update_aida[i], exchange_aida[i] = file_output_one(r_file, time, model_aida)"
   ]
  },
  {
   "cell_type": "code",
   "execution_count": 60,
   "metadata": {},
   "outputs": [
    {
     "name": "stdout",
     "output_type": "stream",
     "text": [
      "(9, 51200)\n",
      "[[ 20603.42555153  11242.64267775  11244.24550853 ...,    -84.32022891\n",
      "     -84.94160814    -84.65417957]\n",
      " [ 20564.68386103  20527.4997566   20446.11374047 ...,    -81.22092123\n",
      "     -84.06222281   -104.09971836]\n",
      " [ 20526.00240841  20446.11374047  20603.42555153 ...,    -85.0777453\n",
      "     -84.2594696     -84.34652004]\n",
      " ..., \n",
      " [ 20371.8789768   20452.56324354  20383.32067898 ...,    -86.06097609\n",
      "    -102.34457143    -86.90332028]\n",
      " [ 20333.49871361  20371.8789768   18419.46787058 ...,    -85.61690569\n",
      "    -103.22385088   -102.34457143]\n",
      " [ 20295.1786883   20258.53936706  20249.21277648 ...,   -103.17585361\n",
      "     -86.45485611   -103.15357366]]\n"
     ]
    }
   ],
   "source": [
    "print(energy_aida[0].shape)\n",
    "print(energy_aida[0])"
   ]
  },
  {
   "cell_type": "code",
   "execution_count": 69,
   "metadata": {},
   "outputs": [
    {
     "name": "stdout",
     "output_type": "stream",
     "text": [
      "[ 13.88160477   4.22318412   7.26974378   8.85646844   9.99760884\n",
      "  11.0421804   12.0155061   13.45323169  15.37506846  18.6359146\n",
      "  21.42595982]\n"
     ]
    },
    {
     "data": {
      "image/png": "[encoded data removed]",
      "text/plain": [
       "<matplotlib.figure.Figure at 0x26e3e68e160>"
      ]
     },
     "metadata": {},
     "output_type": "display_data"
    }
   ],
   "source": [
    "fig = plt.figure(figsize=(8, 6))\n",
    "ax = fig.add_subplot(111)\n",
    "\n",
    "dE = np.zeros([5, 11])\n",
    "\n",
    "for i in range(11):\n",
    "    if i==0:\n",
    "        dE[0, i] = dlogp_one[1][6, start:end].mean()\n",
    "        dE[0, 10] = dlogp_one[1][7, start:end].mean()\n",
    "    elif i==10:\n",
    "        pass\n",
    "    else:\n",
    "        dE[0, i] = dlogp_aida[4][i-1, start:end].mean()\n",
    "    \n",
    "ax.scatter(0.01*np.arange(60, 71, dtype=float), dE[0], color='red')\n",
    "print(dE[0])\n",
    "\n",
    "ax.set_xlim(0.59, 0.71)\n",
    "ax.set_xlabel('$M$')\n",
    "ax.set_ylabel('$<-dE(M, theta)/dM>$')\n",
    "    \n",
    "plt.show()"
   ]
  },
  {
   "cell_type": "code",
   "execution_count": 12,
   "metadata": {},
   "outputs": [],
   "source": [
    "def energy(model, diffusivity_0, diffusivity_1, k_a, k_d, std,\n",
    "           epsilon=epsilon, length=length, \n",
    "           time=dimensional_time, artificial_flow=dimensional_exit_flow):\n",
    "    \n",
    "    Energy = np.square(artificial_flow - ((1.-model)*Flow(diffusivity=diffusivity_0,\n",
    "                                                     k_a=0., k_d=0.,\n",
    "                                                     epsilon=epsilon, length=length, \n",
    "                                                     time=time) + \\\n",
    "                                          model*Flow(diffusivity=diffusivity_1,\n",
    "                                                     k_a=k_a, k_d=k_d, \n",
    "                                                     epsilon=epsilon, length=length, \n",
    "                                                     time=time))\n",
    "                      ).sum()\n",
    "    \n",
    "    Energy *= 1./(2.*std**2)\n",
    "    Energy += (time.shape[0]/2.) * np.log(2.*np.pi*std**2) \n",
    "    \n",
    "    return Energy\n",
    "\n",
    "\n",
    "def dlog_p(model, diffusivity_0, diffusivity_1, k_a, k_d, \n",
    "           std, time=dimensional_time, artificial_flow=dimensional_exit_flow, \n",
    "           epsilon=epsilon, length=length):\n",
    "    \n",
    "    dlogp = -1./(std**2) \\\n",
    "            *(\n",
    "                 (Flow(diffusivity=diffusivity_0, k_a=0, k_d=0, time=time, epsilon=epsilon, length=length) \\\n",
    "                  - Flow(diffusivity=diffusivity_1, k_a=k_a, k_d=k_d, time=time, epsilon=epsilon, length=length)) \\\n",
    "                 *(artificial_flow - (1-model)*Flow(diffusivity=diffusivity_0,\n",
    "                                                    k_a=0, k_d=0,\n",
    "                                                    time=time, epsilon=epsilon, length=length) \\\n",
    "                   - model*Flow(diffusivity=diffusivity_1, \n",
    "                                k_a=k_a, k_d=k_d, \n",
    "                                time=time, epsilon=epsilon, length=length)\\\n",
    "                   )\n",
    "              ).sum()\n",
    "           \n",
    "    return dlogp"
   ]
  },
  {
   "cell_type": "code",
   "execution_count": 13,
   "metadata": {},
   "outputs": [
    {
     "name": "stdout",
     "output_type": "stream",
     "text": [
      "0.55\n",
      "0.56\n",
      "0.57\n",
      "0.58\n",
      "0.59\n",
      "0.6\n",
      "0.61\n",
      "0.62\n",
      "0.63\n",
      "0.64\n",
      "0.65\n",
      "Wall time: 48min 33s\n"
     ]
    }
   ],
   "source": [
    "%%time\n",
    "\n",
    "asign = 6\n",
    "suitei = np.array([0.55, 0.56, 0.57, 0.58, 0.59, 0.6, 0.61, 0.62, 0.63, 0.64, 0.65])\n",
    "energy_one_mprime = np.zeros([suitei.shape[0], 25600])\n",
    "dEnergy_one_mprime = np.zeros([suitei.shape[0], 25600])\n",
    "for i in range(suitei.shape[0]):\n",
    "    print(suitei[i])\n",
    "    for j in range(25600, 51200):\n",
    "        energy_one_mprime[i, j-25600] = energy(suitei[i], de0_one[0][asign, j], de1_one[0][asign, j], ka_one[0][asign, j], \n",
    "                                      kd_one[0][asign, j], sigma_one[0][asign, j])\n",
    "        dEnergy_one_mprime[i, j-25600] = dlog_p(suitei[i], de0_one[0][asign, j], de1_one[0][asign, j], ka_one[0][asign, j], \n",
    "                                      kd_one[0][asign, j], sigma_one[0][asign, j])"
   ]
  },
  {
   "cell_type": "code",
   "execution_count": 15,
   "metadata": {},
   "outputs": [
    {
     "name": "stdout",
     "output_type": "stream",
     "text": [
      "(11, 25600)\n"
     ]
    }
   ],
   "source": [
    "print(energy_one_mprime.shape)"
   ]
  },
  {
   "cell_type": "code",
   "execution_count": 16,
   "metadata": {},
   "outputs": [
    {
     "name": "stdout",
     "output_type": "stream",
     "text": [
      "[[  8.22010737e+07   4.94384963e+07   1.08936514e+08 ...,   1.61715737e+08\n",
      "    3.21083921e+08   1.41202610e+08]\n",
      " [  8.21015818e+07   4.84255163e+07   1.10071242e+08 ...,   1.96219033e+08\n",
      "    3.76188438e+08   1.87317765e+08]\n",
      " [  8.07278724e+07   4.67751397e+07   1.10031248e+08 ...,   2.04495463e+08\n",
      "    3.81474621e+08   2.09318548e+08]\n",
      " ..., \n",
      " [  4.43878815e+07   2.39486218e+07   8.18317517e+07 ...,  -2.02456230e+08\n",
      "   -3.76297382e+08  -2.09164152e+08]\n",
      " [  3.42729539e+07   1.83811905e+07   7.25086033e+07 ...,  -1.99690110e+08\n",
      "   -3.80988299e+08  -1.93005857e+08]\n",
      " [  2.34151479e+07   1.25042853e+07   6.20602906e+07 ...,  -1.68280633e+08\n",
      "   -3.32096175e+08  -1.49226069e+08]]\n"
     ]
    }
   ],
   "source": [
    "# dEnergy_Mp = np.exp(-energy_one_mprime+energy_one[0][asign, ])*dEnergy_one_mprime\n",
    "\n",
    "# print(dEnergy_Mp)\n",
    "dEnergy_Mp = np.zeros([suitei.shape[0], 25600])\n",
    "denominator_one = np.zeros([suitei.shape[0], 25600])\n",
    "for i in range(suitei.shape[0]):\n",
    "    dEnergy_Mp[i] = np.exp(-energy_one_mprime[i]+energy_one[0][asign, 25600:])*dEnergy_one_mprime[i]\n",
    "    denominator_one[i] = np.exp(-energy_one_mprime[i]+energy_one[0][asign, 25600:])\n",
    "    \n",
    "print(dEnergy_Mp)\n",
    "#print(denominator_one)"
   ]
  },
  {
   "cell_type": "code",
   "execution_count": 17,
   "metadata": {},
   "outputs": [
    {
     "name": "stdout",
     "output_type": "stream",
     "text": [
      "[[  8.22010737e+07   4.94384963e+07   1.08936514e+08   1.35376568e+08\n",
      "    8.23577591e+07   4.06383828e+07   5.33138462e-03   5.98008899e-03\n",
      "    6.23309891e+06   3.56710394e+07   4.76526882e+07]\n",
      " [  8.21015818e+07   4.84255163e+07   1.10071242e+08   1.37767525e+08\n",
      "    8.27426720e+07   4.32656232e+07   5.62048015e-03   6.30671517e-03\n",
      "    6.63653931e+06   3.79563010e+07   4.99189998e+07]\n",
      " [  8.07278724e+07   4.67751397e+07   1.10031248e+08   1.38781022e+08\n",
      "    8.23573782e+07   4.57076945e+07   5.90702375e-03   6.63064329e-03\n",
      "    7.01101795e+06   4.00819539e+07   5.18849594e+07]\n",
      " [  7.80082094e+07   4.44769116e+07   1.08726740e+08   1.38288037e+08\n",
      "    8.11549235e+07   4.79030980e+07   6.18877879e-03   6.94934741e-03\n",
      "    7.34696541e+06   4.19954110e+07   5.34902777e+07]\n",
      " [  7.39065664e+07   4.15349741e+07   1.06090219e+08   1.36183839e+08\n",
      "    7.91009590e+07   4.97891941e+07   6.46337375e-03   7.26014677e-03\n",
      "    7.63464372e+06   4.36431038e+07   5.46765542e+07]\n",
      " [  6.84266123e+07   3.79687622e+07   1.02079995e+08   1.32392792e+08\n",
      "    7.61753601e+07   5.13038259e+07   6.72831941e-03   7.56022514e-03\n",
      "    7.86440238e+06   4.49718451e+07   5.53889829e+07]\n",
      " [  6.16141585e+07   3.38132006e+07   9.66830478e+07   1.26872510e+08\n",
      "    7.23735353e+07   5.23870909e+07   6.98102909e-03   7.84665369e-03\n",
      "    8.02695746e+06   4.59303164e+07   5.55780961e+07]\n",
      " [  5.35578383e+07   2.91183683e+07   8.99170994e+07   1.19617160e+08\n",
      "    6.77073641e+07   5.29832089e+07   7.21884179e-03   8.11641711e-03\n",
      "    8.11368547e+06   4.64706370e+07   5.52014858e+07]\n",
      " [  4.43878815e+07   2.39486218e+07   8.18317517e+07   1.10659728e+08\n",
      "    6.22057118e+07   5.30424227e+07   7.43904806e-03   8.36644296e-03\n",
      "    8.11692166e+06   4.65499618e+07   5.42254405e+07]\n",
      " [  3.42729539e+07   1.83811905e+07   7.25086033e+07   1.00073093e+08\n",
      "    5.59144841e+07   5.25228596e+07   7.63891841e-03   8.59363382e-03\n",
      "    8.03025162e+06   4.61320501e+07   5.26264277e+07]\n",
      " [  2.34151479e+07   1.25042853e+07   6.20602906e+07   8.79698187e+07\n",
      "    4.88962002e+07   5.13922813e+07   7.81573385e-03   8.79490209e-03\n",
      "    7.84878428e+06   4.51887435e+07   5.03923606e+07]]\n"
     ]
    }
   ],
   "source": [
    "hoge = np.zeros([suitei.shape[0], 11])\n",
    "for i in range(suitei.shape[0]):\n",
    "    for j in np.arange(11):\n",
    "        hoge[i, j] = np.exp(-energy_one_mprime[i, j]+energy_one[0][asign, 25600+j])*dEnergy_one_mprime[i, j]\n",
    "        \n",
    "print(hoge)"
   ]
  },
  {
   "cell_type": "code",
   "execution_count": 21,
   "metadata": {},
   "outputs": [
    {
     "data": {
      "image/png": "[encoded data removed]",
      "text/plain": [
       "<matplotlib.figure.Figure at 0x1e051878668>"
      ]
     },
     "metadata": {},
     "output_type": "display_data"
    }
   ],
   "source": [
    "fig = plt.figure(figsize=(8, 6))\n",
    "ax = fig.add_subplot(111)\n",
    "\n",
    "dE = np.zeros([5, 11])\n",
    "start = 25600\n",
    "end = 2*start\n",
    "\n",
    "for i in range(11):\n",
    "    dE[0, i] = dlogp_one[0][i, start:end].mean()\n",
    "    \n",
    "ax.scatter(model, dE[0], color='red')\n",
    "for i in range(suitei.shape[0]):\n",
    "    ax.scatter(suitei[i], dEnergy_Mp[i, ].mean()/denominator_one[i, ].mean(), color='blue')\n",
    "\n",
    "ax.set_xlim(0.54, 0.71)\n",
    "ax.set_xlabel('$M$')\n",
    "ax.set_ylabel('$<-dE(M, theta)/dM>$')\n",
    "    \n",
    "plt.show()"
   ]
  },
  {
   "cell_type": "code",
   "execution_count": 14,
   "metadata": {},
   "outputs": [
    {
     "name": "stdout",
     "output_type": "stream",
     "text": [
      "0.65\n",
      "0.66\n",
      "0.67\n",
      "0.68\n",
      "0.69\n",
      "0.7\n",
      "0.71\n",
      "0.72\n",
      "0.73\n",
      "0.74\n",
      "0.75\n",
      "Wall time: 48min 18s\n"
     ]
    }
   ],
   "source": [
    "%%time\n",
    "\n",
    "asign = 7\n",
    "suitei_two = np.array([0.65, 0.66, 0.67, 0.68, 0.69, 0.7, 0.71, 0.72, 0.73, 0.74, 0.75])\n",
    "energy_one_mprime2 = np.zeros([suitei.shape[0], 25600])\n",
    "dEnergy_one_mprime2 = np.zeros([suitei.shape[0], 25600])\n",
    "for i in range(suitei.shape[0]):\n",
    "    print(suitei_two[i])\n",
    "    for j in range(25600, 51200):\n",
    "        energy_one_mprime2[i, j-25600] = energy(suitei[i], de0_one[0][asign, j], de1_one[0][asign, j], ka_one[0][asign, j], \n",
    "                                      kd_one[0][asign, j], sigma_one[0][asign, j])\n",
    "        dEnergy_one_mprime2[i, j-25600] = dlog_p(suitei[i], de0_one[0][asign, j], de1_one[0][asign, j], ka_one[0][asign, j], \n",
    "                                      kd_one[0][asign, j], sigma_one[0][asign, j])"
   ]
  },
  {
   "cell_type": "code",
   "execution_count": 22,
   "metadata": {},
   "outputs": [
    {
     "name": "stdout",
     "output_type": "stream",
     "text": [
      "[[ 0.0306902   0.03098511  0.02970985 ...,  0.06707686  0.41926177\n",
      "   0.06530983]\n",
      " [ 0.05544918  0.05595565  0.0537643  ...,  0.09124658  0.51131057\n",
      "   0.08886693]\n",
      " [ 0.09857195  0.09942091  0.09574516 ...,  0.12324943  0.61996108\n",
      "   0.12007968]\n",
      " ..., \n",
      " [ 2.20893614  2.21889059  2.17551679 ...,  0.64437108  1.74088544\n",
      "   0.63054377]\n",
      " [ 3.50170382  3.5145023   3.45864769 ...,  0.82780294  2.02492532\n",
      "   0.81092486]\n",
      " [ 5.45976776  5.47480471  5.40905407 ...,  1.05575574  2.3409799\n",
      "   1.03547178]]\n"
     ]
    }
   ],
   "source": [
    "# dEnergy_Mp = np.exp(-energy_one_mprime+energy_one[0][asign, ])*dEnergy_one_mprime\n",
    "\n",
    "# print(dEnergy_Mp)\n",
    "asign = 7\n",
    "\n",
    "dEnergy_Mp2 = np.zeros([suitei_two.shape[0], 25600])\n",
    "denominator_two = np.zeros([suitei_two.shape[0], 25600])\n",
    "for i in range(suitei_two.shape[0]):\n",
    "    dEnergy_Mp2[i] = np.exp(-energy_one_mprime2[i]+energy_one[0][asign, 25600:])*dEnergy_one_mprime2[i]\n",
    "    denominator_two[i] = np.exp(-energy_one_mprime2[i]+energy_one[0][asign, 25600:])\n",
    "    \n",
    "print(dEnergy_Mp2)"
   ]
  },
  {
   "cell_type": "code",
   "execution_count": 23,
   "metadata": {},
   "outputs": [
    {
     "name": "stdout",
     "output_type": "stream",
     "text": [
      "[[  3.06902002e-02   3.09851140e-02   2.97098455e-02   2.95928016e-02\n",
      "    2.81411649e-02   2.28234370e-02   2.40381167e-02   2.20208509e-02\n",
      "    4.96555275e-06   2.19952036e-02   2.17073571e-02]\n",
      " [  5.54491829e-02   5.59556490e-02   5.37643021e-02   5.35624607e-02\n",
      "    5.11711182e-02   4.23138155e-02   4.43527894e-02   4.09578527e-02\n",
      "    1.20669621e-05   4.09145487e-02   4.04038465e-02]\n",
      " [  9.85719488e-02   9.94209142e-02   9.57451619e-02   9.54053848e-02\n",
      "    9.15584166e-02   7.71550405e-02   8.04959825e-02   7.49188083e-02\n",
      "    2.87280074e-05   7.48474449e-02   7.39634159e-02]\n",
      " [  1.72408728e-01   1.73795825e-01   1.67785460e-01   1.67227888e-01\n",
      "    1.61193567e-01   1.38360756e-01   1.43696362e-01   1.34766112e-01\n",
      "    6.70008517e-05   1.34651498e-01   1.33160512e-01]\n",
      " [  2.96685680e-01   2.98890595e-01   2.89328191e-01   2.88437896e-01\n",
      "    2.79227103e-01   2.44012698e-01   2.52301604e-01   2.38391678e-01\n",
      "    1.53077643e-04   2.38212634e-01   2.35766893e-01]\n",
      " [  5.02282099e-01   5.05683332e-01   4.90918154e-01   4.89538424e-01\n",
      "    4.75894778e-01   4.23200207e-01   4.35692405e-01   4.14672408e-01\n",
      "    3.42600834e-04   4.14401089e-01   4.10508736e-01]\n",
      " [  8.36552912e-01   8.41625952e-01   8.19579079e-01   8.17511192e-01\n",
      "    7.97975280e-01   7.21763454e-01   7.39958448e-01   7.09258426e-01\n",
      "    7.51100431e-04   7.08861094e-01   7.02871845e-01]\n",
      " [  1.37060666e+00   1.37788369e+00   1.34621975e+00   1.34323832e+00\n",
      "    1.31635515e+00   1.21042947e+00   1.23589636e+00   1.19280442e+00\n",
      "    1.61297396e-03   1.19224525e+00   1.18338051e+00]\n",
      " [  2.20893614e+00   2.21889059e+00   2.17551679e+00   2.17141614e+00\n",
      "    2.13619093e+00   1.99598779e+00   2.02993606e+00   1.97232097e+00\n",
      "    3.39283093e-03   1.97157144e+00   1.95905125e+00]\n",
      " [  3.50170382e+00   3.51450230e+00   3.45864769e+00   3.45334377e+00\n",
      "    3.41009573e+00   3.23613203e+00   3.27856966e+00   3.20631204e+00\n",
      "    6.99016187e-03   3.20536960e+00   3.18872389e+00]\n",
      " [  5.45976776e+00   5.47480471e+00   5.40905407e+00   5.40277862e+00\n",
      "    5.35459307e+00   5.15844044e+00   5.20669460e+00   5.12421985e+00\n",
      "    1.41054114e-02   5.12314115e+00   5.10284228e+00]]\n"
     ]
    }
   ],
   "source": [
    "hoge = np.zeros([suitei_two.shape[0], 11])\n",
    "for i in range(suitei_two.shape[0]):\n",
    "    for j in np.arange(11):\n",
    "        hoge[i, j] = np.exp(-energy_one_mprime2[i, j]+energy_one[0][asign, 25600+j])*dEnergy_one_mprime2[i, j]\n",
    "        \n",
    "print(hoge)"
   ]
  },
  {
   "cell_type": "code",
   "execution_count": 53,
   "metadata": {},
   "outputs": [
    {
     "data": {
      "image/png": "[encoded data removed]",
      "text/plain": [
       "<matplotlib.figure.Figure at 0x1e051f5bf98>"
      ]
     },
     "metadata": {},
     "output_type": "display_data"
    }
   ],
   "source": [
    "fig = plt.figure(figsize=(8, 6))\n",
    "ax = fig.add_subplot(111)\n",
    "\n",
    "dE = np.zeros([5, 11])\n",
    "\n",
    "for i in range(11):\n",
    "    dE[0, i] = dlogp_one[0][i, start:end].mean()\n",
    "    \n",
    "ax.scatter(model, dE[0], color='red', label='MCMC sampling')\n",
    "for i in range(suitei.shape[0]):\n",
    "    ax.scatter(suitei[i], dEnergy_Mp[i, ].mean()/denominator_one[i, ].mean(), color='blue')\n",
    "    ax.scatter(suitei_two[i], dEnergy_Mp2[i, ].mean()/denominator_two[i, ].mean(), color='blue')\n",
    "\n",
    "ax.set_xlim(0.54, 0.76)\n",
    "ax.set_xlabel('$M$')\n",
    "ax.set_ylabel('$<-dE(M, theta)/dM>$')\n",
    "plt.legend()\n",
    "    \n",
    "#plt.savefig('teireikai_20190227_BayesFactorPath1_suitei_fig2.png')\n",
    "plt.show()"
   ]
  },
  {
   "cell_type": "code",
   "execution_count": 66,
   "metadata": {},
   "outputs": [
    {
     "data": {
      "image/png": "[encoded data removed]",
      "text/plain": [
       "<matplotlib.figure.Figure at 0x1e0531929b0>"
      ]
     },
     "metadata": {},
     "output_type": "display_data"
    }
   ],
   "source": [
    "fig = plt.figure(figsize=(8, 6))\n",
    "ax = fig.add_subplot(111)\n",
    "\n",
    "dE = np.zeros([5, 11])\n",
    "\n",
    "for i in range(11):\n",
    "    dE[0, i] = dlogp_one[0][i, start:end].mean()\n",
    "    \n",
    "ax.scatter(model, dE[0], color='red', s=100, label='MCMC sampling')\n",
    "for i in range(suitei.shape[0]):\n",
    "    ax.scatter(suitei[i], dEnergy_Mp[i, ].mean(), color='blue')\n",
    "    ax.scatter(suitei_two[i], dEnergy_Mp2[i, ].mean(), color='blue')\n",
    "\n",
    "ax.set_xlim(0.54, 0.76)\n",
    "ax.set_ylim(-0.1, 30.5)\n",
    "ax.set_xlabel('$M$')\n",
    "ax.set_ylabel('$<bunshi>$')\n",
    "plt.legend()\n",
    "    \n",
    "#plt.savefig('teireikai_20190227_BayesFactorPath1_suitei_fig3-2.png')\n",
    "plt.show()"
   ]
  },
  {
   "cell_type": "code",
   "execution_count": 64,
   "metadata": {},
   "outputs": [
    {
     "data": {
      "image/png": "[encoded data removed]",
      "text/plain": [
       "<matplotlib.figure.Figure at 0x1e051f2a160>"
      ]
     },
     "metadata": {},
     "output_type": "display_data"
    }
   ],
   "source": [
    "fig = plt.figure(figsize=(8, 6))\n",
    "ax = fig.add_subplot(111)\n",
    "\n",
    "dE = np.zeros([5, 11])\n",
    "\n",
    "for i in range(11):\n",
    "    dE[0, i] = dlogp_one[0][i, start:end].mean()\n",
    "    \n",
    "ax.scatter(model, dE[0], color='red', s=100, label='MCMC sampling')\n",
    "for i in range(suitei.shape[0]):\n",
    "    ax.scatter(suitei[i], denominator_one[i, ].mean(), color='blue')\n",
    "    ax.scatter(suitei_two[i], denominator_two[i, ].mean(), color='blue')\n",
    "\n",
    "ax.set_xlim(0.54, 0.76)\n",
    "ax.set_ylim(-0.1, 30.5)\n",
    "ax.set_xlabel('$M$')\n",
    "ax.set_ylabel('$<bunbo>$')\n",
    "plt.legend()\n",
    "    \n",
    "#plt.savefig('teireikai_20190227_BayesFactorPath1_suitei_fig4-2.png')\n",
    "plt.show()"
   ]
  },
  {
   "cell_type": "code",
   "execution_count": 45,
   "metadata": {},
   "outputs": [
    {
     "data": {
      "image/png": "[encoded data removed]",
      "text/plain": [
       "<matplotlib.figure.Figure at 0x1e0521689b0>"
      ]
     },
     "metadata": {},
     "output_type": "display_data"
    }
   ],
   "source": [
    "fig = plt.figure(figsize=(8, 6))\n",
    "ax = fig.add_subplot(111)\n",
    "\n",
    "start = 25600\n",
    "end = 2*start\n",
    "\n",
    "energy_m = np.zeros(11, dtype=float)\n",
    "energy_s = np.zeros(11, dtype=float)\n",
    "\n",
    "for i in range(11):\n",
    "    bar_A_i = np.zeros(5, dtype=float)\n",
    "    for j in range(5):\n",
    "        bar_A_i[j] = energy_one[j][i][start:end].mean()\n",
    "    energy_m[i] = bar_A_i.mean()\n",
    "    \n",
    "    sig = 0.\n",
    "    for j in range(5):\n",
    "        sig += (bar_A_i[j]-energy_m[i])**2\n",
    "    sig /= (bar_A_i.shape[0]-1)\n",
    "    sig = np.sqrt(sig)\n",
    "    sig /= np.sqrt(bar_A_i.shape[0])\n",
    "    energy_s[i] = sig\n",
    "\n",
    "# sig = 0.\n",
    "# for i in range(5):\n",
    "#     sig += (bar_A_i[i]-bar_A)**2\n",
    "# sig /= (bar_A_i.shape[0]-1)\n",
    "# sig = np.sqrt(sig)\n",
    "# sig /= np.sqrt(bar_A_i.shape[0])\n",
    "\n",
    "# #    print(sig)\n",
    "\n",
    "ax.errorbar(0.1*np.arange(11, dtype=float), energy_m, yerr=energy_s, fmt='o', color='red')\n",
    "ax.set_xlabel('$M$')\n",
    "ax.set_ylabel('$<E>$')\n",
    "\n",
    "#plt.savefig('teireikai_20190227_EnergyPath1.png')\n",
    "\n",
    "plt.show()"
   ]
  },
  {
   "cell_type": "code",
   "execution_count": 44,
   "metadata": {},
   "outputs": [
    {
     "name": "stdout",
     "output_type": "stream",
     "text": [
      "[ -91.59473352 -105.32980789 -100.11880959 -100.60902854  -99.74505099\n",
      "  -99.76475704  -98.50869333  -94.49998953  -93.34722249 -100.37039882\n",
      " -104.85958689]\n"
     ]
    }
   ],
   "source": [
    "print(energy_m)"
   ]
  },
  {
   "cell_type": "code",
   "execution_count": 96,
   "metadata": {},
   "outputs": [
    {
     "name": "stdout",
     "output_type": "stream",
     "text": [
      "0.0 -96.3619978471\n",
      "0.1 -106.714486025\n",
      "0.2 -97.572888821\n",
      "0.3 -94.3658297874\n",
      "0.4 -72.7353993375\n",
      "0.5 4.69318289981\n",
      "0.6 -26.0822654822\n",
      "0.7 -87.0475876435\n",
      "0.8 -92.9331035039\n",
      "0.9 -102.909109397\n",
      "1.0 -105.031746701\n"
     ]
    }
   ],
   "source": [
    "model = 0.1*np.arange(0, 11, dtype=float)\n",
    "sitei = 4\n",
    "for i in range(11):\n",
    "    print(model[i], energy(model[i], de0_one[sitei][i][25600:].mean(), de1_one[sitei][i][25600:].mean(),\n",
    "                           ka_one[sitei][i][25600:].mean(), kd_one[sitei][i][25600:].mean(), sigma_one[sitei][i][25600:].mean()))"
   ]
  },
  {
   "cell_type": "code",
   "execution_count": 97,
   "metadata": {},
   "outputs": [
    {
     "name": "stdout",
     "output_type": "stream",
     "text": [
      "-95.5922704591\n",
      "-105.73354836\n",
      "-99.4173741109\n",
      "-100.631826643\n",
      "-102.32705164\n",
      "-103.191843212\n",
      "-100.895374439\n",
      "-89.3506197225\n",
      "-91.9694398627\n",
      "-103.194075779\n",
      "-104.180620835\n"
     ]
    }
   ],
   "source": [
    "for i in range(11):\n",
    "    print(energy_one[sitei][i][25600:].mean())"
   ]
  },
  {
   "cell_type": "code",
   "execution_count": 98,
   "metadata": {},
   "outputs": [
    {
     "name": "stdout",
     "output_type": "stream",
     "text": [
      "13459.6024597\n",
      "13459.6024597\n"
     ]
    }
   ],
   "source": [
    "print(energy(model[2], de0_one[0][2][10], de1_one[0][2][10], ka_one[0][2][10], kd_one[0][2][10], sigma_one[0][2][10]))\n",
    "print(energy_one[0][2][10])"
   ]
  },
  {
   "cell_type": "code",
   "execution_count": null,
   "metadata": {},
   "outputs": [],
   "source": []
  }
 ],
 "metadata": {
  "kernelspec": {
   "display_name": "Python 3",
   "language": "python",
   "name": "python3"
  },
  "language_info": {
   "codemirror_mode": {
    "name": "ipython",
    "version": 3
   },
   "file_extension": ".py",
   "mimetype": "text/x-python",
   "name": "python",
   "nbconvert_exporter": "python",
   "pygments_lexer": "ipython3",
   "version": "3.6.3"
  }
 },
 "nbformat": 4,
 "nbformat_minor": 2
}
